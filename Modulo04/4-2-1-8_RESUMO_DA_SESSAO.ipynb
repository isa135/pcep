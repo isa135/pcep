{
 "cells": [
  {
   "cell_type": "markdown",
   "metadata": {},
   "source": [
    "##### Key takeaways\n",
    "    \n",
    "    1. É possível passar informações para funções utilizando parâmetros. As suas funções podem ter todos os parâmetros que precisar.\n",
    "\n",
    "    \n",
    "    1. You can pass information to functions by using parameters. Your functions can have as many parameters as you need.\n",
    "\n",
    "Um exemplo de uma função de um parâmetro:\n",
    "\n",
    "    An example of a one-parameter function:"
   ]
  },
  {
   "cell_type": "code",
   "execution_count": 1,
   "metadata": {},
   "outputs": [
    {
     "name": "stdout",
     "output_type": "stream",
     "text": [
      "Hi, Greg\n"
     ]
    }
   ],
   "source": [
    "def hi(name):\n",
    "    print(\"Hi,\", name)\n",
    "\n",
    "hi(\"Greg\")"
   ]
  },
  {
   "cell_type": "markdown",
   "metadata": {},
   "source": [
    "Um exemplo de uma função de dois parâmetros:\n",
    "    \n",
    "    An example of a two-parameter function:"
   ]
  },
  {
   "cell_type": "code",
   "execution_count": 2,
   "metadata": {},
   "outputs": [
    {
     "name": "stdout",
     "output_type": "stream",
     "text": [
      "Hi, Konrad\n",
      "Hi, Sebastian\n"
     ]
    }
   ],
   "source": [
    "def hi_all(name_1, name_2):\n",
    "    print(\"Hi,\", name_2)\n",
    "    print(\"Hi,\", name_1)\n",
    "\n",
    "hi_all(\"Sebastian\", \"Konrad\")"
   ]
  },
  {
   "cell_type": "markdown",
   "metadata": {},
   "source": [
    "Um exemplo de uma função de três parâmetros:\n",
    "    \n",
    "    An example of a three-parameter function:"
   ]
  },
  {
   "cell_type": "code",
   "execution_count": 3,
   "metadata": {},
   "outputs": [
    {
     "name": "stdout",
     "output_type": "stream",
     "text": [
      "Street: Rua\n",
      "Postal Code: 12242431\n",
      "City: SJC\n",
      "Your address is: Rua St., SJC 12242431\n"
     ]
    }
   ],
   "source": [
    "def address(street, city, postal_code):\n",
    "    print(\"Your address is:\", street, \"St.,\", city, postal_code)\n",
    "\n",
    "s = input(\"Street: \")\n",
    "p_c = input(\"Postal Code: \")\n",
    "c = input(\"City: \")\n",
    "\n",
    "address(s, c, p_c)"
   ]
  },
  {
   "cell_type": "markdown",
   "metadata": {},
   "source": [
    "2. Pode passar argumentos a uma função utilizando as seguintes técnicas:\n",
    "\n",
    "    \n",
    "    2. You can pass arguments to a function using the following techniques:\n",
    "\n",
    "•\tpassagem de argumento posicional onde a ordem de passagem dos argumentos importa (Ex. 1),\n",
    "    \n",
    "    •\tpositional argument passing in which the order of arguments passed matters (Ex. 1),\n",
    "    \n",
    "•\tpassagem de argumento de keyword (nomeada) onde a ordem dos argumentos passados não importa (Ex. 2),\n",
    "\n",
    "    •\tkeyword (named) argument passing in which the order of arguments passed doesn't matter (Ex. 2),\n",
    "    \n",
    "•\tuma mistura de passagem de argumentos posicionais e de keyword (Ex. 3).\n",
    "\n",
    "    •\ta mix of positional and keyword argument passing (Ex. 3)."
   ]
  },
  {
   "cell_type": "code",
   "execution_count": 4,
   "metadata": {},
   "outputs": [
    {
     "name": "stdout",
     "output_type": "stream",
     "text": [
      "3\n",
      "-3\n"
     ]
    }
   ],
   "source": [
    "# Ex. 1\n",
    "def subtra(a, b):\n",
    "    print(a - b)\n",
    "\n",
    "subtra(5, 2)    # outputs: 3\n",
    "subtra(2, 5)    # outputs: -3"
   ]
  },
  {
   "cell_type": "code",
   "execution_count": 6,
   "metadata": {},
   "outputs": [
    {
     "name": "stdout",
     "output_type": "stream",
     "text": [
      "3\n",
      "3\n"
     ]
    }
   ],
   "source": [
    "# Ex. 2\n",
    "def subtra(a, b):\n",
    "    print(a - b)\n",
    "\n",
    "subtra(a=5, b=2)    # outputs: 3\n",
    "subtra(b=2, a=5)    # outputs: 3"
   ]
  },
  {
   "cell_type": "code",
   "execution_count": 7,
   "metadata": {},
   "outputs": [
    {
     "name": "stdout",
     "output_type": "stream",
     "text": [
      "3\n",
      "3\n"
     ]
    }
   ],
   "source": [
    "# Ex. 3\n",
    "def subtra(a, b):\n",
    "    print(a - b)\n",
    "\n",
    "subtra(5, b=2)    # outputs: 3\n",
    "subtra(5, 2)    # outputs: 3"
   ]
  },
  {
   "cell_type": "markdown",
   "metadata": {},
   "source": [
    "É importante lembrar que os argumentos posicionais não devem seguir os argumentos de keyword. É por isso que se tentar executar o seguinte snippet:\n",
    "    \n",
    "    It's important to remember that positional arguments mustn't follow keyword arguments. That's why if you try to run the following snippet:"
   ]
  },
  {
   "cell_type": "code",
   "execution_count": 8,
   "metadata": {},
   "outputs": [
    {
     "ename": "SyntaxError",
     "evalue": "positional argument follows keyword argument (<ipython-input-8-7cbbe8adfbc5>, line 5)",
     "output_type": "error",
     "traceback": [
      "\u001b[1;36m  File \u001b[1;32m\"<ipython-input-8-7cbbe8adfbc5>\"\u001b[1;36m, line \u001b[1;32m5\u001b[0m\n\u001b[1;33m    subtra(a=5, 2)    # Syntax Error\u001b[0m\n\u001b[1;37m               ^\u001b[0m\n\u001b[1;31mSyntaxError\u001b[0m\u001b[1;31m:\u001b[0m positional argument follows keyword argument\n"
     ]
    }
   ],
   "source": [
    "def subtra(a, b):\n",
    "    print(a - b)\n",
    "\n",
    "subtra(5, b=2)    # outputs: 3\n",
    "subtra(a=5, 2)    # Syntax Error"
   ]
  },
  {
   "cell_type": "markdown",
   "metadata": {},
   "source": [
    "O Python não o deixará fazê-lo através da sinalização de um SyntaxError.\n",
    "    \n",
    "    Python will not let you do it by signalling a SyntaxError.\n",
    "\n",
    "3. Pode usar a técnica de passagem de argumentos de keyword para pré-definir um valor para um determinado argumento:\n",
    "    \n",
    "    \n",
    "    3. You can use the keyword argument passing technique to pre-define a value for a given argument:"
   ]
  },
  {
   "cell_type": "code",
   "execution_count": 9,
   "metadata": {},
   "outputs": [
    {
     "name": "stdout",
     "output_type": "stream",
     "text": [
      "Andy Smith\n",
      "Betty Johnson\n"
     ]
    }
   ],
   "source": [
    "def name(first_name, last_name=\"Smith\"):\n",
    "    print(first_name, last_name)\n",
    "\n",
    "name(\"Andy\")    # outputs: Andy Smith\n",
    "name(\"Betty\", \"Johnson\")    # outputs: Betty Johnson (the keyword argument replaced by \"Johnson\")"
   ]
  },
  {
   "cell_type": "code",
   "execution_count": 10,
   "metadata": {},
   "outputs": [
    {
     "name": "stdout",
     "output_type": "stream",
     "text": [
      "My name is Bond. James Bond.\n"
     ]
    }
   ],
   "source": [
    "# Exercício 1\n",
    "# Qual é o output do seguinte snippet?\n",
    "# What is the output of the following snippet?\n",
    "def intro(a=\"James Bond\", b=\"Bond\"):\n",
    "    print(\"My name is\", b + \".\", a + \".\")\n",
    "\n",
    "intro()"
   ]
  },
  {
   "cell_type": "code",
   "execution_count": 11,
   "metadata": {},
   "outputs": [
    {
     "name": "stdout",
     "output_type": "stream",
     "text": [
      "My name is Sean Connery. James Bond.\n"
     ]
    }
   ],
   "source": [
    "# Exercício 2\n",
    "# Qual é o output do seguinte snippet?\n",
    "# What is the output of the following snippet?\n",
    "def intro(a=\"James Bond\", b=\"Bond\"):\n",
    "    print(\"My name is\", b + \".\", a + \".\")\n",
    "\n",
    "intro(b=\"Sean Connery\")"
   ]
  },
  {
   "cell_type": "code",
   "execution_count": 12,
   "metadata": {},
   "outputs": [
    {
     "name": "stdout",
     "output_type": "stream",
     "text": [
      "My name is Bond. Susan.\n"
     ]
    }
   ],
   "source": [
    "# Exercício 3\n",
    "# Qual é o output do seguinte snippet?\n",
    "# What is the output of the following snippet?\n",
    "def intro(a, b=\"Bond\"):\n",
    "    print(\"My name is\", b + \".\", a + \".\")\n",
    "\n",
    "intro(\"Susan\")"
   ]
  },
  {
   "cell_type": "code",
   "execution_count": 15,
   "metadata": {},
   "outputs": [
    {
     "ename": "SyntaxError",
     "evalue": "non-default argument follows default argument (<ipython-input-15-771b242b8232>, line 4)",
     "output_type": "error",
     "traceback": [
      "\u001b[1;36m  File \u001b[1;32m\"<ipython-input-15-771b242b8232>\"\u001b[1;36m, line \u001b[1;32m4\u001b[0m\n\u001b[1;33m    def add_numbers(a, b=2, c):\u001b[0m\n\u001b[1;37m                   ^\u001b[0m\n\u001b[1;31mSyntaxError\u001b[0m\u001b[1;31m:\u001b[0m non-default argument follows default argument\n"
     ]
    }
   ],
   "source": [
    "# Exercício 4\n",
    "# Qual é o output do seguinte snippet?\n",
    "# What is the output of the following snippet?\n",
    "def add_numbers(a, b=2, c):\n",
    "    print(a + b + c)\n",
    "\n",
    "add_numbers(a=1, c=3)"
   ]
  },
  {
   "attachments": {
    "image.png": {
     "image/png": "[encoded data removed]"
    }
   },
   "cell_type": "markdown",
   "metadata": {},
   "source": [
    "![image.png](attachment:image.png)"
   ]
  },
  {
   "cell_type": "code",
   "execution_count": null,
   "metadata": {},
   "outputs": [],
   "source": []
  }
 ],
 "metadata": {
  "kernelspec": {
   "display_name": "Python 3",
   "language": "python",
   "name": "python3"
  },
  "language_info": {
   "codemirror_mode": {
    "name": "ipython",
    "version": 3
   },
   "file_extension": ".py",
   "mimetype": "text/x-python",
   "name": "python",
   "nbconvert_exporter": "python",
   "pygments_lexer": "ipython3",
   "version": "3.7.6"
  }
 },
 "nbformat": 4,
 "nbformat_minor": 4
}
