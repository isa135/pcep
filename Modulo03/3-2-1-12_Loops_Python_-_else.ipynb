{
 "cells": [
  {
   "cell_type": "markdown",
   "metadata": {},
   "source": [
    "##### Os loops while e o ramo else .\n",
    "    \n",
    "    The while loop and the else branch\n",
    "\n",
    "Ambos os loops, while e for, têm uma característica interessante (e raramente usada).\n",
    "    \n",
    "    Both loops, while and for, have one interesting (and rarely used) feature.\n",
    "\n",
    "Vamos mostrar-lhe como funciona - tente julgar por si próprio se é utilizável e se pode viver sem ela ou não.\n",
    "    \n",
    "    We'll show you how it works - try to judge for yourself if it's usable and whether you can live without it or not.\n",
    "\n",
    "Por outras palavras, tente convencer-se se a característica é valiosa e útil, ou se é apenas açúcar sintático.\n",
    "    \n",
    "    In other words, try to convince yourself if the feature is valuable and useful, or is just syntactic sugar.\n",
    "    \n",
    "Veja o snippet no editor. Há algo estranho no final - a keyword else .\n",
    "    \n",
    "    Take a look at the snippet in the editor. There's something strange at the end - the else keyword.\n",
    "\n",
    "Como pode ter suspeitado, os loops podem ter o ramo else também, como if.\n",
    "    \n",
    "    As you may have suspected, loops may have the else branch too, like ifs.\n",
    "\n",
    "O ramo do loop else é sempre executado uma vez, independentemente de o loop ter entrado no seu corpo ou não.\n",
    "    \n",
    "    The loop's else branch is always executed once, regardless of whether the loop has entered its body or not.\n",
    "\n",
    "Consegue adivinhar o output? Execute o programa para verificar se estava certo.\n",
    "    \n",
    "    Can you guess the output? Run the program to check if you were right.\n",
    "\n",
    "Modifique um pouco o snippet para que o loop não tenha hipótese de executar o seu corpo nem mesmo uma vez:\n",
    "    \n",
    "    Modify the snippet a bit so that the loop has no chance to execute its body even once:"
   ]
  },
  {
   "cell_type": "code",
   "execution_count": 1,
   "metadata": {},
   "outputs": [
    {
     "name": "stdout",
     "output_type": "stream",
     "text": [
      "1\n",
      "2\n",
      "3\n",
      "4\n",
      "else: 5\n"
     ]
    }
   ],
   "source": [
    "i = 1\n",
    "while i < 5:\n",
    "    print(i)\n",
    "    i += 1\n",
    "else:\n",
    "    print(\"else:\", i)\n"
   ]
  },
  {
   "cell_type": "markdown",
   "metadata": {},
   "source": [
    "A condição while é False no início - consegue vê-la?\n",
    "    \n",
    "    The while's condition is False at the beginning - can you see it?\n",
    "\n",
    "Execute e teste o programa, e verifique se o ramo else foi executado ou não.\n",
    "    \n",
    "    Run and test the program, and check whether the else branch has been executed or not."
   ]
  },
  {
   "cell_type": "code",
   "execution_count": null,
   "metadata": {},
   "outputs": [],
   "source": []
  }
 ],
 "metadata": {
  "kernelspec": {
   "display_name": "Python 3",
   "language": "python",
   "name": "python3"
  },
  "language_info": {
   "codemirror_mode": {
    "name": "ipython",
    "version": 3
   },
   "file_extension": ".py",
   "mimetype": "text/x-python",
   "name": "python",
   "nbconvert_exporter": "python",
   "pygments_lexer": "ipython3",
   "version": "3.7.6"
  }
 },
 "nbformat": 4,
 "nbformat_minor": 4
}
