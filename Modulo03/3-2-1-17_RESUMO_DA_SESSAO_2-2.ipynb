{
 "cells": [
  {
   "cell_type": "markdown",
   "metadata": {},
   "source": [
    "##### Principais takeaways: continuação\n",
    "\n",
    "###### Exercício 1 / Exercise 1\n",
    "\n",
    "Crie um loop for que conta de 0 a 10, e imprime os números ímpares no ecrã. Use o esqueleto abaixo:\n",
    "    \n",
    "    Create a for loop that counts from 0 to 10, and prints odd numbers to the screen. Use the skeleton below:"
   ]
  },
  {
   "cell_type": "code",
   "execution_count": 4,
   "metadata": {},
   "outputs": [
    {
     "name": "stdout",
     "output_type": "stream",
     "text": [
      "1\n",
      "3\n",
      "5\n",
      "7\n",
      "9\n"
     ]
    }
   ],
   "source": [
    "for i in range(1, 11):\n",
    "    if i % 2 != 0:\n",
    "        print(i)\n",
    "    # Line of code.\n",
    "        # Line of code."
   ]
  },
  {
   "cell_type": "markdown",
   "metadata": {},
   "source": [
    "###### Exercício 2\n",
    "\n",
    "Crie um loop while que conta de 0 a 10, e imprime os números ímpares no ecrã. Use o esqueleto abaixo:"
   ]
  },
  {
   "cell_type": "markdown",
   "metadata": {},
   "source": [
    "x = 1\n",
    "while x < 11:\n",
    "    # Line of code.\n",
    "        # Line of code.\n",
    "    # Line of code."
   ]
  },
  {
   "cell_type": "code",
   "execution_count": 5,
   "metadata": {},
   "outputs": [
    {
     "name": "stdout",
     "output_type": "stream",
     "text": [
      "1\n",
      "3\n",
      "5\n",
      "7\n",
      "9\n"
     ]
    }
   ],
   "source": [
    "x = 1\n",
    "while x < 11:\n",
    "    if x % 2 != 0:\n",
    "        print(x)\n",
    "    x += 1"
   ]
  },
  {
   "cell_type": "markdown",
   "metadata": {},
   "source": [
    "###### Exercício 3\n",
    "\n",
    "Crie um programa com um loop for e uma declaração break . O programa deve iterar sobre os caracteres de um endereço de e-mail, sair do loop quando chegar ao símbolo @ , e imprimir a parte antes de @ numa linha. Use o esqueleto abaixo:\n"
   ]
  },
  {
   "cell_type": "code",
   "execution_count": 14,
   "metadata": {},
   "outputs": [
    {
     "name": "stdout",
     "output_type": "stream",
     "text": [
      "ch j\n",
      "ch o\n",
      "ch h\n",
      "ch n\n",
      "ch .\n",
      "ch s\n",
      "ch m\n",
      "ch i\n",
      "ch t\n",
      "ch h\n",
      "john.smith @\n",
      "@\n"
     ]
    }
   ],
   "source": [
    "user = \"\"\n",
    "for ch in \"john.smith@pythoninstitute.org\":\n",
    "    if ch == \"@\":\n",
    "        print(user, ch)\n",
    "        break\n",
    "    print(\"ch\", ch)\n",
    "    user = user + ch\n",
    "        # Line of code.\n",
    "    # Line of code.\n",
    "print(ch)"
   ]
  },
  {
   "cell_type": "code",
   "execution_count": 12,
   "metadata": {},
   "outputs": [
    {
     "name": "stdout",
     "output_type": "stream",
     "text": [
      "john.smith"
     ]
    }
   ],
   "source": [
    "for ch in \"john.smith@pythoninstitute.org\":\n",
    "    if ch == \"@\":\n",
    "        break\n",
    "    print(ch, end=\"\")"
   ]
  },
  {
   "cell_type": "markdown",
   "metadata": {},
   "source": [
    "###### Exercício 4\n",
    "\n",
    "Crie um programa com um loop for e uma declaração continue . O programa deve iterar sobre uma string de dígitos, substituir cada 0 com x e imprimir a string modificada no ecrã. Use o esqueleto abaixo:"
   ]
  },
  {
   "cell_type": "code",
   "execution_count": 17,
   "metadata": {},
   "outputs": [
    {
     "name": "stdout",
     "output_type": "stream",
     "text": [
      "x165x318x651x\n"
     ]
    }
   ],
   "source": [
    "novaString = \"\"\n",
    "for digit in \"0165031806510\":\n",
    "    if digit == \"0\":\n",
    "        novaString = novaString + \"x\"\n",
    "        continue\n",
    "    novaString = novaString + digit\n",
    "        # Line of code.\n",
    "        # Line of code.\n",
    "    # Line of code.\n",
    "print(novaString)"
   ]
  },
  {
   "cell_type": "code",
   "execution_count": 18,
   "metadata": {},
   "outputs": [
    {
     "name": "stdout",
     "output_type": "stream",
     "text": [
      "x165x318x651x"
     ]
    }
   ],
   "source": [
    "for digit in \"0165031806510\":\n",
    "    if digit == \"0\":\n",
    "        print(\"x\", end=\"\")\n",
    "        continue\n",
    "    print(digit, end=\"\")"
   ]
  },
  {
   "cell_type": "markdown",
   "metadata": {},
   "source": [
    "Exercício 5\n",
    "\n",
    "Qual é o output do seguinte código?"
   ]
  },
  {
   "cell_type": "code",
   "execution_count": 21,
   "metadata": {},
   "outputs": [
    {
     "name": "stdout",
     "output_type": "stream",
     "text": [
      "4\n",
      "3\n",
      "2\n",
      "else 0\n"
     ]
    }
   ],
   "source": [
    "n = 3\n",
    "\n",
    "while n > 0:\n",
    "    print(n + 1)\n",
    "    n -= 1\n",
    "else:\n",
    "    print(\"else\", n)"
   ]
  },
  {
   "cell_type": "markdown",
   "metadata": {},
   "source": [
    "Exercício 6\n",
    "    \n",
    "    Qual é o output do seguinte código?"
   ]
  },
  {
   "cell_type": "code",
   "execution_count": 23,
   "metadata": {},
   "outputs": [
    {
     "name": "stdout",
     "output_type": "stream",
     "text": [
      "-1\n",
      "0\n",
      "1\n",
      "2\n",
      "3\n"
     ]
    }
   ],
   "source": [
    "n = range(4)\n",
    "\n",
    "for num in n:\n",
    "    print(num - 1)\n",
    "else:\n",
    "    print(num)"
   ]
  },
  {
   "cell_type": "markdown",
   "metadata": {},
   "source": [
    "Exercício 7\n",
    "\n",
    "Qual é o output do seguinte código?"
   ]
  },
  {
   "cell_type": "code",
   "execution_count": 24,
   "metadata": {},
   "outputs": [
    {
     "name": "stdout",
     "output_type": "stream",
     "text": [
      "0\n",
      "3\n"
     ]
    }
   ],
   "source": [
    "for i in range(0, 6, 3):\n",
    "    print(i)"
   ]
  },
  {
   "cell_type": "code",
   "execution_count": null,
   "metadata": {},
   "outputs": [],
   "source": []
  },
  {
   "cell_type": "code",
   "execution_count": null,
   "metadata": {},
   "outputs": [],
   "source": []
  },
  {
   "cell_type": "code",
   "execution_count": null,
   "metadata": {},
   "outputs": [],
   "source": []
  },
  {
   "cell_type": "code",
   "execution_count": null,
   "metadata": {},
   "outputs": [],
   "source": [
    "\n",
    "\n",
    "\n",
    " \n",
    "\n",
    "Exercise 2\n",
    "Create a while loop that counts from 0 to 10, and prints odd numbers to the screen. Use the skeleton below:\n",
    "x = 1\n",
    "while x < 11:\n",
    "    # Line of code.\n",
    "        # Line of code.\n",
    "    # Line of code.\n",
    "\n",
    "Check\n",
    "\n",
    "Exercise 3\n",
    "Create a program with a for loop and a break statement. The program should iterate over characters in an email address, exit the loop when it reaches the @ symbol, and print the part before @ on one line. Use the skeleton below:\n",
    "for ch in \"john.smith@pythoninstitute.org\":\n",
    "    if ch == \"@\":\n",
    "        # Line of code.\n",
    "    # Line of code.\n",
    "\n",
    "\n",
    "Check\n",
    "\n",
    "Exercise 4\n",
    "Create a program with a for loop and a continue statement. The program should iterate over a string of digits, replace each 0 with x, and print the modified string to the screen. Use the skeleton below:\n",
    "for digit in \"0165031806510\":\n",
    "    if digit == \"0\":\n",
    "        # Line of code.\n",
    "        # Line of code.\n",
    "    # Line of code.\n",
    "\n",
    "\n",
    "Check\n",
    "\n",
    "\n",
    "\n",
    "Exercise 5\n",
    "What is the output of the following code?\n",
    "n = 3\n",
    "\n",
    "while n > 0:\n",
    "    print(n + 1)\n",
    "    n -= 1\n",
    "else:\n",
    "    print(n)\n",
    "\n",
    "\n",
    "Check\n",
    "\n",
    "Exercise 6\n",
    "What is the output of the following code?\n",
    "n = range(4)\n",
    "\n",
    "for num in n:\n",
    "    print(num - 1)\n",
    "else:\n",
    "    print(num)\n",
    "\n",
    "\n",
    "Check\n",
    "Exercise 7\n",
    "What is the output of the following code?\n",
    "for i in range(0, 6, 3):\n",
    "    print(i)\n",
    "\n",
    "\n",
    "Check\n"
   ]
  }
 ],
 "metadata": {
  "kernelspec": {
   "display_name": "Python 3",
   "language": "python",
   "name": "python3"
  },
  "language_info": {
   "codemirror_mode": {
    "name": "ipython",
    "version": 3
   },
   "file_extension": ".py",
   "mimetype": "text/x-python",
   "name": "python",
   "nbconvert_exporter": "python",
   "pygments_lexer": "ipython3",
   "version": "3.7.6"
  }
 },
 "nbformat": 4,
 "nbformat_minor": 4
}
