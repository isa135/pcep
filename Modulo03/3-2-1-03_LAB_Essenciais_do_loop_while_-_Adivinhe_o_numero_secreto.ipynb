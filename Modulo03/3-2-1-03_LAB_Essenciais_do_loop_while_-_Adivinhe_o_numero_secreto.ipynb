{
 "cells": [
  {
   "cell_type": "markdown",
   "metadata": {},
   "source": [
    "** LAB **\n",
    "\n",
    "Tempo estimado: 15 minutos\n",
    "\n",
    "Nível de dificuldade: Fácil\n",
    "\n",
    "Objetivos\n",
    "\n",
    "Familiarizar o aluno a:\n",
    "\n",
    "•\ta utilização do loop while ;\n",
    "\n",
    "•\trefletir situações da vida real em código informático.\n",
    "\n",
    "Cenário\n",
    "\n",
    "Um mágico júnior escolheu um número secreto. Ele escondeu-o numa variável chamada secret_number. Ele quer que todos os que executam o seu programa joguem o jogo do Adivinhe o número secreto, e adivinhe que número escolheu para eles. Aqueles que não adivinharem o número ficarão presos num loop infinito para sempre! Infelizmente, ele não sabe como completar o código.\n",
    "\n",
    "A sua tarefa é ajudar o mágico a completar o código no editor, de modo a que o código:\n",
    "\n",
    "•\tpeça ao utilizador para introduzir um número inteiro;\n",
    "\n",
    "•\tutilize um loop while ;\n",
    "\n",
    "•\tverifique se o número introduzido pelo utilizador é o mesmo que o número escolhido pelo mágico. Se o número escolhido pelo utilizador for diferente do número secreto do mágico, o utilizador deve ver a mensagem \"Ha ha! You're stuck in my loop!\" e ser solicitado a introduzir novamente um número. Se o número introduzido pelo utilizador corresponder ao número escolhido pelo mágico, o número deve ser impresso no ecrã, e o mágico deve dizer as seguintes palavras: \"Well done, muggle! You are free now.\"\n",
    "\n",
    "The magician is counting on you! Não o dececione.\n",
    "\n",
    "INFORMAÇÃO EXTRA\n",
    "\n",
    "A propósito, olha para a função print() . A forma como a utilizámos aqui chama-se impressão multi-linha. Pode usar aspas triplas para imprimir strings em várias linhas a fim de tornar o texto mais fácil de ler, ou criar um desenho especial baseado em texto. Experimente-o.\n"
   ]
  },
  {
   "cell_type": "markdown",
   "metadata": {},
   "source": [
    "LAB\n",
    "Estimated time\n",
    "15 minutes\n",
    "Level of difficulty\n",
    "Easy\n",
    "Objectives\n",
    "Familiarize the student with:\n",
    "•\tusing the while loop;\n",
    "•\treflecting real-life situations in computer code.\n",
    "Scenario\n",
    "A junior magician has picked a secret number. He has hidden it in a variable named secret_number. He wants everyone who run his program to play the Guess the secret number game, and guess what number he has picked for them. Those who don't guess the number will be stuck in an endless loop forever! Unfortunately, he does not know how to complete the code.\n",
    "Your task is to help the magician complete the code in the editor in such a way so that the code:\n",
    "•\twill ask the user to enter an integer number;\n",
    "•\twill use a while loop;\n",
    "•\twill check whether the number entered by the user is the same as the number picked by the magician. If the number chosen by the user is different than the magician's secret number, the user should see the message \"Ha ha! You're stuck in my loop!\" and be prompted to enter a number again. If the number entered by the user matches the number picked by the magician, the number should be printed to the screen, and the magician should say the following words: \"Well done, muggle! You are free now.\"\n",
    "The magician is counting on you! Don't disappoint him.\n",
    "EXTRA INFO\n",
    "By the way, look at the print() function. The way we've used it here is called multi-line printing. You can use triple quotes to print strings on multiple lines in order to make text easier to read, or create a special text-based design. Experiment with it.\n"
   ]
  },
  {
   "cell_type": "code",
   "execution_count": null,
   "metadata": {},
   "outputs": [],
   "source": [
    "secret_number = 777\n",
    "\n",
    "print(\n",
    "\"\"\"\n",
    "+================================+\n",
    "| Welcome to my game, muggle!    |\n",
    "| Enter an integer number        |\n",
    "| and guess what number I've     |\n",
    "| picked for you.                |\n",
    "| So, what is the secret number? |\n",
    "+================================+\n",
    "\"\"\")\n"
   ]
  }
 ],
 "metadata": {
  "kernelspec": {
   "display_name": "Python 3",
   "language": "python",
   "name": "python3"
  },
  "language_info": {
   "codemirror_mode": {
    "name": "ipython",
    "version": 3
   },
   "file_extension": ".py",
   "mimetype": "text/x-python",
   "name": "python",
   "nbconvert_exporter": "python",
   "pygments_lexer": "ipython3",
   "version": "3.7.6"
  }
 },
 "nbformat": 4,
 "nbformat_minor": 4
}
