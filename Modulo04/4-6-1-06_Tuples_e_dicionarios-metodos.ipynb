{
 "cells": [
  {
   "cell_type": "markdown",
   "metadata": {},
   "source": [
    "##### Como usar um dicionário: o keys()\n",
    "\n",
    "    How to use a dictionary: the keys()\n",
    "\n",
    "Os dicionários podem ser consultados usando o loop for , como listas ou tuples?\n",
    "    \n",
    "    Can dictionaries be browsed using the for loop, like lists or tuples?\n",
    "\n",
    "Não e sim.\n",
    "    \n",
    "    No and yes.\n",
    "\n",
    "Não, porque um dicionário não é um tipo de sequência - o loop for é inútil com ele.\n",
    "    \n",
    "    No, because a dictionary is not a sequence type - the for loop is useless with it.\n",
    "\n",
    "Sim, porque existem ferramentas simples e muito eficazes que podem adaptar qualquer dicionário aos for requisitos do loop (por outras palavras, construindo um link intermediário entre o dicionário e uma entidade de sequência temporária).\n",
    "    \n",
    "    Yes, because there are simple and very effective tools that can adapt any dictionary to the for loop requirements (in other words, building an intermediate link between the dictionary and a temporary sequence entity).\n",
    "\n",
    "O primeiro deles é um método chamado keys(), possuído por cada dicionário. O método devolve um objeto iterável que consiste em todas as chaves recolhidas dentro do dicionário. Ter um grupo de chaves permite-lhe aceder a todo o dicionário de uma forma fácil e prática.\n",
    "    \n",
    "    The first of them is a method named keys(), possessed by each dictionary. The method returns an iterable object consisting of all the keys gathered within the dictionary. Having a group of keys enables you to access the whole dictionary in an easy and handy way.\n",
    "\n",
    "Tal como aqui:\n",
    "    \n",
    "    Just like here:"
   ]
  },
  {
   "cell_type": "code",
   "execution_count": 1,
   "metadata": {},
   "outputs": [
    {
     "name": "stdout",
     "output_type": "stream",
     "text": [
      "cat -> chat\n",
      "dog -> chien\n",
      "horse -> cheval\n"
     ]
    }
   ],
   "source": [
    "dictionary = {\"cat\": \"chat\", \"dog\": \"chien\", \"horse\": \"cheval\"}\n",
    "\n",
    "for key in dictionary.keys():\n",
    "    print(key, \"->\", dictionary[key])\n"
   ]
  },
  {
   "cell_type": "markdown",
   "metadata": {},
   "source": [
    "##### O método sorted() .\n",
    "    \n",
    "    The sorted() function\n",
    "\n",
    "Quer que seja classificado? Apenas enriqueça o loop for , para obter tal forma:\n",
    "    \n",
    "    Do you want it sorted? Just enrich the for loop to get such a form:"
   ]
  },
  {
   "cell_type": "code",
   "execution_count": 5,
   "metadata": {},
   "outputs": [
    {
     "name": "stdout",
     "output_type": "stream",
     "text": [
      "cat -> chat\n",
      "dog -> chien\n",
      "horse -> cheval\n"
     ]
    }
   ],
   "source": [
    "for key in sorted(dictionary.keys()):\n",
    "    print(key, \"->\", dictionary[key])"
   ]
  },
  {
   "cell_type": "markdown",
   "metadata": {},
   "source": [
    "A função sorted() fará o seu melhor - o output irá ficar assim:\n",
    "    \n",
    "    The sorted() function will do its best - the output will look like this:"
   ]
  },
  {
   "cell_type": "code",
   "execution_count": null,
   "metadata": {},
   "outputs": [],
   "source": []
  }
 ],
 "metadata": {
  "kernelspec": {
   "display_name": "Python 3",
   "language": "python",
   "name": "python3"
  },
  "language_info": {
   "codemirror_mode": {
    "name": "ipython",
    "version": 3
   },
   "file_extension": ".py",
   "mimetype": "text/x-python",
   "name": "python",
   "nbconvert_exporter": "python",
   "pygments_lexer": "ipython3",
   "version": "3.7.6"
  }
 },
 "nbformat": 4,
 "nbformat_minor": 4
}
