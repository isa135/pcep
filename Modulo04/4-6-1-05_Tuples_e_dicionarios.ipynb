{
 "cells": [
  {
   "cell_type": "markdown",
   "metadata": {},
   "source": [
    "##### Como usar um dicionário?\n",
    "    \n",
    "    How to use a dictionary?\n",
    "\n",
    "Se quiser obter algum dos valores, tem de entregar um key-value válido:\n",
    "    \n",
    "    If you want to get any of the values, you have to deliver a valid key value:"
   ]
  },
  {
   "cell_type": "code",
   "execution_count": 2,
   "metadata": {},
   "outputs": [],
   "source": [
    "dictionary = {\"cat\": \"chat\", \"dog\": \"chien\", \"horse\": \"cheval\"}\n",
    "phone_numbers = {'boss' : 5551234567, 'Suzy' : 22657854310}\n",
    "empty_dictionary = {}\n",
    "\n",
    "# Print the values here.\n"
   ]
  },
  {
   "cell_type": "code",
   "execution_count": 5,
   "metadata": {},
   "outputs": [
    {
     "name": "stdout",
     "output_type": "stream",
     "text": [
      "chat\n",
      "22657854310\n"
     ]
    }
   ],
   "source": [
    "print(dictionary['cat'])\n",
    "print(phone_numbers['Suzy'])"
   ]
  },
  {
   "cell_type": "markdown",
   "metadata": {},
   "source": [
    "A obtenção do valor de um dicionário assemelha-se a uma indexação, especialmente graças aos parêntesis retos que rodeiam o valor da chave.\n",
    "    \n",
    "    Getting a dictionary's value resembles indexing, especially thanks to the brackets surrounding the key's value.\n",
    "\n",
    "Nota:\n",
    "•\tse a chave for uma string, é necessário especificá-la como uma string;\n",
    "    \n",
    "    •\tif the key is a string, you have to specify it as a string;\n",
    "    \n",
    "•\tas chaves são sensíveis a maiúsculas e minúsculas: 'Suzy' é algo diferente de 'suzy'.\n",
    "\n",
    "    •\tkeys are case-sensitive: 'Suzy' is something different from 'suzy'.\n",
    "    \n",
    "E agora a notícia mais importante: não se deve usar uma chave inexistente. Tentar algo assim:\n",
    "    \n",
    "    And now the most important news: you mustn't use a non-existent key. Trying something like this:"
   ]
  },
  {
   "cell_type": "code",
   "execution_count": 6,
   "metadata": {},
   "outputs": [
    {
     "ename": "KeyError",
     "evalue": "'president'",
     "output_type": "error",
     "traceback": [
      "\u001b[1;31m---------------------------------------------------------------------------\u001b[0m",
      "\u001b[1;31mKeyError\u001b[0m                                  Traceback (most recent call last)",
      "\u001b[1;32m<ipython-input-6-046559273220>\u001b[0m in \u001b[0;36m<module>\u001b[1;34m\u001b[0m\n\u001b[1;32m----> 1\u001b[1;33m \u001b[0mprint\u001b[0m\u001b[1;33m(\u001b[0m\u001b[0mphone_numbers\u001b[0m\u001b[1;33m[\u001b[0m\u001b[1;34m'president'\u001b[0m\u001b[1;33m]\u001b[0m\u001b[1;33m)\u001b[0m\u001b[1;33m\u001b[0m\u001b[1;33m\u001b[0m\u001b[0m\n\u001b[0m",
      "\u001b[1;31mKeyError\u001b[0m: 'president'"
     ]
    }
   ],
   "source": [
    "print(phone_numbers['president'])"
   ]
  },
  {
   "cell_type": "markdown",
   "metadata": {},
   "source": [
    "causará um erro de runtime. Tente fazê-lo.\n",
    "    \n",
    "    will cause a runtime error. Try to do it.\n",
    "\n",
    "Felizmente, há uma maneira simples de evitar tal situação. O operador in , juntamente com o seu companheiro, not in, podem salvar esta situação.\n",
    "    \n",
    "    Fortunately, there's a simple way to avoid such a situation. The in operator, together with its companion, not in, can salvage this situation.\n",
    "\n",
    "O seguinte código procura com segurança algumas palavras francesas:\n",
    "    \n",
    "    The following code safely searches for some French words:"
   ]
  },
  {
   "cell_type": "code",
   "execution_count": 7,
   "metadata": {},
   "outputs": [
    {
     "name": "stdout",
     "output_type": "stream",
     "text": [
      "cat -> chat\n",
      "lion is not in dictionary\n",
      "horse -> cheval\n"
     ]
    }
   ],
   "source": [
    "dictionary = {\"cat\": \"chat\", \"dog\": \"chien\", \"horse\": \"cheval\"}\n",
    "words = ['cat', 'lion', 'horse']\n",
    "\n",
    "for word in words:\n",
    "    if word in dictionary:\n",
    "        print(word, \"->\", dictionary[word])\n",
    "    else:\n",
    "        print(word, \"is not in dictionary\")"
   ]
  },
  {
   "cell_type": "markdown",
   "metadata": {},
   "source": [
    "NOTA\n",
    "\n",
    "Quando se escreve uma expressão grande ou longa, pode ser uma boa ideia mantê-la verticalmente alinhada. É assim que pode tornar o seu código mais legível e mais fácil de programar, por exemplo\n",
    "    \n",
    "    When you write a big or lengthy expression, it may be a good idea to keep it vertically aligned. This is how you can make your code more readable and more programmer-friendly, e.g.:"
   ]
  },
  {
   "cell_type": "code",
   "execution_count": 8,
   "metadata": {},
   "outputs": [],
   "source": [
    "# Example 1:\n",
    "dictionary = {\n",
    "              \"cat\": \"chat\",\n",
    "              \"dog\": \"chien\",\n",
    "              \"horse\": \"cheval\"\n",
    "              }"
   ]
  },
  {
   "cell_type": "code",
   "execution_count": 9,
   "metadata": {},
   "outputs": [],
   "source": [
    "# Example 2:\n",
    "phone_numbers = {'boss': 5551234567,\n",
    "                 'Suzy': 22657854310\n",
    "                 }"
   ]
  },
  {
   "cell_type": "markdown",
   "metadata": {},
   "source": [
    "Tais formas de formatação de código são chamadas hanging indents (indentações penduradas).\n",
    "    \n",
    "    Such ways of formatting code are called hanging indents."
   ]
  },
  {
   "cell_type": "code",
   "execution_count": null,
   "metadata": {},
   "outputs": [],
   "source": []
  }
 ],
 "metadata": {
  "kernelspec": {
   "display_name": "Python 3",
   "language": "python",
   "name": "python3"
  },
  "language_info": {
   "codemirror_mode": {
    "name": "ipython",
    "version": 3
   },
   "file_extension": ".py",
   "mimetype": "text/x-python",
   "name": "python",
   "nbconvert_exporter": "python",
   "pygments_lexer": "ipython3",
   "version": "3.7.6"
  }
 },
 "nbformat": 4,
 "nbformat_minor": 4
}
