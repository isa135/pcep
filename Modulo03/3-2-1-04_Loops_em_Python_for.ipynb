{
 "cells": [
  {
   "cell_type": "markdown",
   "metadata": {},
   "source": [
    "##### Fazer loop ao seu código com for\n",
    "\n",
    "    Looping your code with for\n",
    "\n",
    "Outro tipo de loop disponível em Python vem da observação de que por vezes é mais importante contar as \"voltas\" do loop do que verificar as condições.\n",
    "    \n",
    "    Another kind of loop available in Python comes from the observation that sometimes it's more important to count the \"turns\" of the loop than to check the conditions.\n",
    "\n",
    "Imagine que o corpo de um loop precisa de ser executado exatamente cem vezes. Se desejar utilizar o loop while para o fazer, pode ser assim:\n",
    "    \n",
    "    Imagine that a loop's body needs to be executed exactly one hundred times. If you would like to use the while loop to do it, it may look like this:"
   ]
  },
  {
   "cell_type": "code",
   "execution_count": 3,
   "metadata": {},
   "outputs": [],
   "source": [
    "i = 0\n",
    "while i < 100:\n",
    "    # do_something()\n",
    "    # print(i)\n",
    "    i += 1"
   ]
  },
  {
   "cell_type": "markdown",
   "metadata": {},
   "source": [
    "Seria bom se alguém pudesse fazer esta contagem aborrecida por si. Isso é possível?\n",
    "\n",
    "    It would be nice if somebody could do this boring counting for you. Is that possible?\n",
    "\n",
    "Claro que é - há um loop especial para estes tipos de tarefas, e é chamado for.\n",
    "    \n",
    "    Of course it is - there's a special loop for these kinds of tasks, and it is named for.\n",
    "\n",
    "Na verdade, o loop for foi concebido para realizar tarefas mais complicadas - pode \"navegar\" por grandes coleções de dados item por item. Mostraremos como fazê-lo em breve, mas neste momento vamos apresentar uma variante mais simples da sua aplicação.\n",
    "    \n",
    "    Actually, the for loop is designed to do more complicated tasks - it can \"browse\" large collections of data item by item. We'll show you how to do that soon, but right now we're going to present a simpler variant of its application.\n",
    "\n",
    "Dê uma vista de olhos no snippet:\n",
    "    \n",
    "    Take a look at the snippet:"
   ]
  },
  {
   "cell_type": "code",
   "execution_count": 6,
   "metadata": {},
   "outputs": [],
   "source": [
    "for i in range(100):\n",
    "    # do_something()\n",
    "    # print(i)\n",
    "    pass"
   ]
  },
  {
   "cell_type": "markdown",
   "metadata": {},
   "source": [
    "Existem alguns novos elementos. Deixe-nos falar sobre eles:\n",
    "\n",
    "    There are some new elements. Let us tell you about them:\n",
    "\n",
    "•\ta keyword for abre o loop for ; nota - não há nenhuma condição depois; não é preciso pensar nas condições, uma vez que são verificadas internamente, sem qualquer intervenção;\n",
    "\n",
    "    •\tthe for keyword opens the for loop; note - there's no condition after it; you don't have to think about conditions, as they're checked internally, without any intervention;\n",
    "\n",
    "•\tqualquer variável após a keyword for é a variável de controle do loop; conta as voltas do loop, e fá-lo automaticamente;\n",
    "\n",
    "    •\tany variable after the for keyword is the control variable of the loop; it counts the loop's turns, and does it automatically;\n",
    "\n",
    "•\ta keyword in introduz um elemento de sintaxe que descreve a gama de valores possíveis que estão a ser atribuídos à variável de controlo;\n",
    "\n",
    "    •\tthe in keyword introduces a syntax element describing the range of possible values being assigned to the control variable;\n",
    "\n",
    "•\ta função range() (esta é uma função muito especial) é responsável por gerar todos os valores desejados da variável de controle; no nosso exemplo, a função irá criar (podemos mesmo dizer que irá alimentar o loop com) valores subsequentes a partir do conjunto seguinte: 0, 1, 2 .. 97, 98, 99; nota: neste caso, a função range() começa o seu trabalho a partir do 0 e termina um passo (um número inteiro) antes do valor do seu argumento;\n",
    "\n",
    "    •\tthe range() function (this is a very special function) is responsible for generating all the desired values of the control variable; in our example, the function will create (we can even say that it will feed the loop with) subsequent values from the following set: 0, 1, 2 .. 97, 98, 99; note: in this case, the range() function starts its job from 0 and finishes it one step (one integer number) before the value of its argument;\n",
    "\n",
    "•\tnote a keyword pass dentro do corpo do loop - não faz nada; é uma instrução vazia - colocamo-la aqui porque a for sintaxe do laço exige pelo menos uma instrução dentro do corpo (a propósito - if, elif, else e while expressam a mesma coisa)\n",
    "    \n",
    "    •\tnote the pass keyword inside the loop body - it does nothing at all; it's an empty instruction - we put it here because the for loop's syntax demands at least one instruction inside the body (by the way - if, elif, else and while express the same thing)\n",
    "\n",
    "Os nossos próximos exemplos serão um pouco mais modestos no número de repetições do loop.\n",
    "    \n",
    "    Our next examples will be a bit more modest in the number of loop repetitions.\n",
    "    \n",
    "Veja o snippet abaixo. Consegue prever o seu output?\n",
    "    \n",
    "    Take a look at the snippet below. Can you predict its output?"
   ]
  },
  {
   "cell_type": "code",
   "execution_count": 7,
   "metadata": {},
   "outputs": [
    {
     "name": "stdout",
     "output_type": "stream",
     "text": [
      "The value of i is currently 0\n",
      "The value of i is currently 1\n",
      "The value of i is currently 2\n",
      "The value of i is currently 3\n",
      "The value of i is currently 4\n",
      "The value of i is currently 5\n",
      "The value of i is currently 6\n",
      "The value of i is currently 7\n",
      "The value of i is currently 8\n",
      "The value of i is currently 9\n"
     ]
    }
   ],
   "source": [
    "for i in range(10):\n",
    "    print(\"The value of i is currently\", i)"
   ]
  },
  {
   "cell_type": "markdown",
   "metadata": {},
   "source": [
    "Execute o código para verificar se estava certo.\n",
    "\n",
    "    Run the code to check if you were right.\n",
    "\n",
    "Nota:\n",
    "\n",
    "•\to loop foi executado dez vezes (é o argumento da função range() )\n",
    "\n",
    "    •\tthe loop has been executed ten times (it's the range() function's argument)\n",
    "\n",
    "•\to valor da última variável de controlo é 9 (não 10, visto começar a partir de 0, não a partir de 1)\n",
    "\n",
    "    •\tthe last control variable's value is 9 (not 10, as it starts from 0, not from 1)\n",
    "\n",
    "A função range() pode ser equipada com dois argumentos, e não apenas um:\n",
    "    \n",
    "    The range() function invocation may be equipped with two arguments, not just one:\n"
   ]
  },
  {
   "cell_type": "code",
   "execution_count": 7,
   "metadata": {},
   "outputs": [
    {
     "name": "stdout",
     "output_type": "stream",
     "text": [
      "The value of i is currently 2\n",
      "The value of i is currently 3\n",
      "The value of i is currently 4\n",
      "The value of i is currently 5\n",
      "The value of i is currently 6\n",
      "The value of i is currently 7\n"
     ]
    }
   ],
   "source": [
    "for i in range(2, 8):\n",
    "    print(\"The value of i is currently\", i)"
   ]
  },
  {
   "cell_type": "markdown",
   "metadata": {},
   "source": [
    "Neste caso, o primeiro argumento determina o (primeiro) valor inicial da variável de controlo.\n",
    "\n",
    "    In this case, the first argument determines the initial (first) value of the control variable.\n",
    "\n",
    "O último argumento mostra o primeiro valor que a variável de controle não será atribuída.\n",
    "    \n",
    "    The last argument shows the first value the control variable will not be assigned.\n",
    "\n",
    "Nota: a função range() aceita apenas inteiros como seus argumentos, e gera sequências de inteiros.\n",
    "    \n",
    "    Note: the range() function accepts only integers as its arguments, and generates sequences of integers.\n",
    "\n",
    "Consegue adivinhar o output do programa? Execute-o para verificar se também estava certo agora.\n",
    "    \n",
    "    Can you guess the output of the program? Run it to check if you were right now, too.\n",
    "\n",
    "O primeiro valor mostrado é 2 (retirado do primeiro argumento range().)\n",
    "    \n",
    "    The first value shown is 2 (taken from the range()'s first argument.)\n",
    "    \n",
    "O último é 7 (embora o range()segundo argumento seja 8).\n",
    "    \n",
    "    The last is 7 (although the range()'s second argument is 8)."
   ]
  },
  {
   "cell_type": "code",
   "execution_count": null,
   "metadata": {},
   "outputs": [],
   "source": []
  }
 ],
 "metadata": {
  "kernelspec": {
   "display_name": "Python 3",
   "language": "python",
   "name": "python3"
  },
  "language_info": {
   "codemirror_mode": {
    "name": "ipython",
    "version": 3
   },
   "file_extension": ".py",
   "mimetype": "text/x-python",
   "name": "python",
   "nbconvert_exporter": "python",
   "pygments_lexer": "ipython3",
   "version": "3.7.6"
  }
 },
 "nbformat": 4,
 "nbformat_minor": 4
}
