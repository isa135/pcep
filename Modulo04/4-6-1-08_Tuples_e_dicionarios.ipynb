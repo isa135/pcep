{
 "cells": [
  {
   "cell_type": "markdown",
   "metadata": {},
   "source": [
    "Como utilizar um dicionário: modificar e adicionar valores\n",
    "    \n",
    "    How to use a dictionary: modifying and adding values\n",
    "\n",
    "Atribuir um novo valor a uma chave existente é simples - visto os dicionários serem totalmente mutáveis, não há obstáculos para os modificar.\n",
    "    \n",
    "    Assigning a new value to an existing key is simple - as dictionaries are fully mutable, there are no obstacles to modifying them.\n",
    "\n",
    "Vamos substituir o valor \"chat\" com \"minou\", o que não é muito preciso, mas funcionará bem com o nosso exemplo.\n",
    "    \n",
    "    We're going to replace the value \"chat\" with \"minou\", which is not very accurate, but it will work well with our example.\n",
    "\n",
    "Veja:\n",
    "    \n",
    "    Look:"
   ]
  },
  {
   "cell_type": "code",
   "execution_count": 1,
   "metadata": {},
   "outputs": [
    {
     "name": "stdout",
     "output_type": "stream",
     "text": [
      "{'cat': 'minou', 'dog': 'chien', 'horse': 'cheval'}\n"
     ]
    }
   ],
   "source": [
    "dictionary = {\"cat\": \"chat\", \"dog\": \"chien\", \"horse\": \"cheval\"}\n",
    "\n",
    "dictionary['cat'] = 'minou'\n",
    "print(dictionary)\n"
   ]
  },
  {
   "cell_type": "markdown",
   "metadata": {},
   "source": [
    "##### Adicionar uma nova chave\n",
    "\n",
    "    Adding a new key\n",
    "\n",
    "Adicionar um novo par key-value a um dicionário é tão simples como alterar um valor - basta atribuir um valor a uma nova chave, previamente inexistente.\n",
    "    \n",
    "    Adding a new key-value pair to a dictionary is as simple as changing a value - you only have to assign a value to a new, previously non-existent key.\n",
    "\n",
    "Nota: este é um comportamento muito diferente em relação às listas, que não permitem atribuir valores a índices inexistentes.\n",
    "    \n",
    "    Note: this is very different behavior compared to lists, which don't allow you to assign values to non-existing indices.\n",
    "\n",
    "Vamos adicionar um novo par de palavras ao dicionário - um pouco estranho, mas ainda assim válido:\n",
    "    \n",
    "    Let's add a new pair of words to the dictionary - a bit weird, but still valid:"
   ]
  },
  {
   "cell_type": "code",
   "execution_count": 2,
   "metadata": {},
   "outputs": [
    {
     "name": "stdout",
     "output_type": "stream",
     "text": [
      "{'cat': 'chat', 'dog': 'chien', 'horse': 'cheval', 'swan': 'cygne'}\n"
     ]
    }
   ],
   "source": [
    "dictionary = {\"cat\": \"chat\", \"dog\": \"chien\", \"horse\": \"cheval\"}\n",
    "\n",
    "dictionary['swan'] = 'cygne'\n",
    "print(dictionary)"
   ]
  },
  {
   "cell_type": "markdown",
   "metadata": {},
   "source": [
    "###### EXTRA\n",
    "\n",
    "Também pode inserir um item num dicionário utilizando o método update() , por exemplo:\n",
    "    \n",
    "    You can also insert an item to a dictionary by using the update() method, e.g.:"
   ]
  },
  {
   "cell_type": "code",
   "execution_count": 5,
   "metadata": {},
   "outputs": [
    {
     "name": "stdout",
     "output_type": "stream",
     "text": [
      "{'cat': 'chat', 'dog': 'chien', 'horse': 'cheval', 'duck': 'canard'}\n"
     ]
    }
   ],
   "source": [
    "dictionary = {\"cat\": \"chat\", \"dog\": \"chien\", \"horse\": \"cheval\"}\n",
    "\n",
    "dictionary.update({\"duck\": \"canard\"})\n",
    "print(dictionary)"
   ]
  },
  {
   "cell_type": "markdown",
   "metadata": {},
   "source": [
    "##### Remover uma chave\n",
    "\n",
    "    Removing a key\n",
    "\n",
    "Consegue adivinhar como se remove uma chave de um dicionário?\n",
    "    \n",
    "    Can you guess how to remove a key from a dictionary?\n",
    "\n",
    "Nota: remover uma chave causará sempre a remoção do valor associado. Valores não podem existir sem as suas chaves.\n",
    "    \n",
    "    Note: removing a key will always cause the removal of the associated value. Values cannot exist without their keys.\n",
    "\n",
    "Isto é feito com a del instrução.\n",
    "    \n",
    "    This is done with the del instruction.\n",
    "\n",
    "Aqui está o exemplo:\n",
    "    \n",
    "    Here's the example:"
   ]
  },
  {
   "cell_type": "code",
   "execution_count": 6,
   "metadata": {},
   "outputs": [
    {
     "name": "stdout",
     "output_type": "stream",
     "text": [
      "{'cat': 'chat', 'horse': 'cheval'}\n"
     ]
    }
   ],
   "source": [
    "dictionary = {\"cat\": \"chat\", \"dog\": \"chien\", \"horse\": \"cheval\"}\n",
    "\n",
    "del dictionary['dog']\n",
    "print(dictionary)"
   ]
  },
  {
   "cell_type": "markdown",
   "metadata": {},
   "source": [
    "Nota: a remoção de uma chave não existente causa um erro.\n",
    "    \n",
    "    Note: removing a non-existing key causes an error.\n",
    "\n",
    "###### EXTRA\n",
    "\n",
    "Para remover o último item num dicionário, pode-se utilizar o método popitem() :\n",
    "    \n",
    "    To remove the last item in a dictionary, you can use the popitem() method:"
   ]
  },
  {
   "cell_type": "code",
   "execution_count": 7,
   "metadata": {},
   "outputs": [
    {
     "name": "stdout",
     "output_type": "stream",
     "text": [
      "{'cat': 'chat', 'dog': 'chien'}\n"
     ]
    }
   ],
   "source": [
    "dictionary = {\"cat\": \"chat\", \"dog\": \"chien\", \"horse\": \"cheval\"}\n",
    "\n",
    "dictionary.popitem()\n",
    "print(dictionary)    # outputs: {'cat': 'chat', 'dog': 'chien'}"
   ]
  },
  {
   "cell_type": "markdown",
   "metadata": {},
   "source": [
    "Nas versões mais antigas do Python, ou seja, antes do 3.6.7, o método popitem() remove um item aleatório de um dicionário.\n",
    "    \n",
    "    In the older versions of Python, i.e., before 3.6.7, the popitem() method removes a random item from a dictionary.\n"
   ]
  },
  {
   "cell_type": "code",
   "execution_count": null,
   "metadata": {},
   "outputs": [],
   "source": []
  }
 ],
 "metadata": {
  "kernelspec": {
   "display_name": "Python 3",
   "language": "python",
   "name": "python3"
  },
  "language_info": {
   "codemirror_mode": {
    "name": "ipython",
    "version": 3
   },
   "file_extension": ".py",
   "mimetype": "text/x-python",
   "name": "python",
   "nbconvert_exporter": "python",
   "pygments_lexer": "ipython3",
   "version": "3.7.6"
  }
 },
 "nbformat": 4,
 "nbformat_minor": 4
}
