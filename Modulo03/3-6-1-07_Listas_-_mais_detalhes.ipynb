{
 "cells": [
  {
   "cell_type": "markdown",
   "metadata": {},
   "source": [
    "##### Listas - alguns programas simples\n",
    "    \n",
    "    Lists - some simple programs\n",
    "\n",
    "Agora queremos mostrar-lhe alguns programas simples que utilizam listas.\n",
    "    \n",
    "    Now we want to show you some simple programs utilizing lists.\n",
    "\n",
    "O primeiro deles tenta encontrar o maior valor na lista. Veja o código no editor.\n",
    "    \n",
    "    The first of them tries to find the greater value in the list. Look at the code in the editor.\n",
    "\n",
    "O conceito é bastante simples - assumimos temporariamente que o primeiro elemento é o maior, e verificamos a hipótese contra todos os restantes elementos da lista.\n",
    "    \n",
    "    The concept is rather simple - we temporarily assume that the first element is the largest one, and check the hypothesis against all the remaining elements in the list.\n",
    "    \n",
    "O código fará o output 17 (como esperado).\n",
    "    \n",
    "    The code outputs 17 (as expected).\n",
    "\n",
    "O código pode ser reescrito para fazer uso da forma recentemente introduzida do for :\n",
    "    \n",
    "    The code may be rewritten to make use of the newly introduced form of the for loop:"
   ]
  },
  {
   "cell_type": "code",
   "execution_count": 3,
   "metadata": {},
   "outputs": [
    {
     "name": "stdout",
     "output_type": "stream",
     "text": [
      "17\n"
     ]
    }
   ],
   "source": [
    "my_list = [17, 3, 11, 5, 1, 9, 7, 15, 13]\n",
    "largest = my_list[0]\n",
    "\n",
    "for i in my_list:\n",
    "    if i > largest:\n",
    "        largest = i\n",
    "\n",
    "print(largest)"
   ]
  },
  {
   "cell_type": "markdown",
   "metadata": {},
   "source": [
    "O programa acima realiza uma comparação desnecessária, quando o primeiro elemento é comparado consigo mesmo, mas isto não é de todo um problema.\n",
    "    \n",
    "    The program above performs one unnecessary comparison, when the first element is compared with itself, but this isn't a problem at all.\n",
    "\n",
    "O código fará o output 17, também (nada invulgar).\n",
    "    \n",
    "    The code outputs 17, too (nothing unusual).\n",
    "\n",
    "Se precisar de poupar energia do computador, pode utilizar um slice:\n",
    "    \n",
    "    If you need to save computer power, you can use a slice:"
   ]
  },
  {
   "cell_type": "code",
   "execution_count": 4,
   "metadata": {},
   "outputs": [
    {
     "name": "stdout",
     "output_type": "stream",
     "text": [
      "17\n"
     ]
    }
   ],
   "source": [
    "my_list = [17, 3, 11, 5, 1, 9, 7, 15, 13]\n",
    "largest = my_list[0]\n",
    "\n",
    "for i in my_list[1:]:\n",
    "    if i > largest:\n",
    "        largest = i\n",
    "\n",
    "print(largest)"
   ]
  },
  {
   "cell_type": "markdown",
   "metadata": {},
   "source": [
    "A questão é: qual destas duas ações consome mais recursos informáticos - apenas uma comparação, ou slicing de quase todos os elementos de uma lista?\n",
    "    \n",
    "    The question is: which of these two actions consumes more computer resources - just one comparison, or slicing almost all of a list's elements?"
   ]
  },
  {
   "cell_type": "code",
   "execution_count": 5,
   "metadata": {},
   "outputs": [
    {
     "name": "stdout",
     "output_type": "stream",
     "text": [
      "17\n"
     ]
    }
   ],
   "source": [
    "my_list = [17, 3, 11, 5, 1, 9, 7, 15, 13]\n",
    "largest = my_list[0]\n",
    "\n",
    "for i in range(1, len(my_list)):\n",
    "    if my_list[i] > largest:\n",
    "        largest = my_list[i]\n",
    "\n",
    "print(largest)\n"
   ]
  },
  {
   "cell_type": "code",
   "execution_count": null,
   "metadata": {},
   "outputs": [],
   "source": []
  },
  {
   "cell_type": "code",
   "execution_count": null,
   "metadata": {},
   "outputs": [],
   "source": []
  }
 ],
 "metadata": {
  "kernelspec": {
   "display_name": "Python 3",
   "language": "python",
   "name": "python3"
  },
  "language_info": {
   "codemirror_mode": {
    "name": "ipython",
    "version": 3
   },
   "file_extension": ".py",
   "mimetype": "text/x-python",
   "name": "python",
   "nbconvert_exporter": "python",
   "pygments_lexer": "ipython3",
   "version": "3.7.6"
  }
 },
 "nbformat": 4,
 "nbformat_minor": 4
}
