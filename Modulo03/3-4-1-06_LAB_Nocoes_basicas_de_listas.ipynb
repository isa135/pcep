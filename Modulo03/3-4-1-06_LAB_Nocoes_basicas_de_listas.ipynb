{
 "cells": [
  {
   "cell_type": "markdown",
   "metadata": {},
   "source": [
    "LAB\n",
    "\n",
    "Tempo estimado: 5 minutos\n",
    "    \n",
    "Nível de dificuldade: Muito fácil\n",
    "\n",
    "Objetivos\n",
    "\n",
    "Familiarizar o aluno a:\n",
    "\n",
    "    Familiarize the student with:\n",
    "\n",
    "•\tutilizar instruções básicas relacionadas com listas;\n",
    "\n",
    "    •\tusing basic instructions related to lists;\n",
    "\n",
    "•\tcriar e modificar listas.\n",
    "\n",
    "    •\tcreating and modifying lists.\n",
    "\n",
    "Cenário\n",
    "\n",
    "Houve uma vez um chapéu. O chapéu não continha nenhum coelho, mas uma lista de cinco números: 1, 2, 3, 4, e 5.\n",
    "    \n",
    "    There once was a hat. The hat contained no rabbit, but a list of five numbers: 1, 2, 3, 4, and 5.\n",
    "    \n",
    "A sua tarefa é:\n",
    "\n",
    "    Your task is to:\n",
    "    \n",
    "•\tescrever uma linha de código que peça ao utilizador para substituir o número médio na lista por um número inteiro introduzido pelo utilizador (Passo 1)\n",
    "\n",
    "    •\twrite a line of code that prompts the user to replace the middle number in the list with an integer number entered by the user (Step 1)\n",
    "    \n",
    "•\tescrever uma linha de código que remova o último elemento da lista (Passo 2)\n",
    "\n",
    "    •\twrite a line of code that removes the last element from the list (Step 2)\n",
    "    \n",
    "•\tescrever uma linha de código que imprima o comprimento da lista existente (Passo 3).\n",
    " \n",
    "    •\twrite a line of code that prints the length of the existing list (Step 3).\n",
    "\n",
    "Pronto para este desafio?\n",
    "    \n",
    "    Ready for this challenge?"
   ]
  },
  {
   "cell_type": "code",
   "execution_count": 1,
   "metadata": {},
   "outputs": [
    {
     "name": "stdout",
     "output_type": "stream",
     "text": [
      "[1, 2, 3, 4, 5]\n"
     ]
    }
   ],
   "source": [
    "hat_list = [1, 2, 3, 4, 5]  # This is an existing list of numbers hidden in the hat.\n",
    "\n",
    "# Step 1: write a line of code that prompts the user\n",
    "# to replace the middle number with an integer number entered by the user.\n",
    "\n",
    "# Step 2: write a line of code that removes the last element from the list.\n",
    "\n",
    "# Step 3: write a line of code that prints the length of the existing list.\n",
    "\n",
    "print(hat_list)\n"
   ]
  },
  {
   "cell_type": "code",
   "execution_count": null,
   "metadata": {},
   "outputs": [],
   "source": []
  }
 ],
 "metadata": {
  "kernelspec": {
   "display_name": "Python 3",
   "language": "python",
   "name": "python3"
  },
  "language_info": {
   "codemirror_mode": {
    "name": "ipython",
    "version": 3
   },
   "file_extension": ".py",
   "mimetype": "text/x-python",
   "name": "python",
   "nbconvert_exporter": "python",
   "pygments_lexer": "ipython3",
   "version": "3.7.6"
  }
 },
 "nbformat": 4,
 "nbformat_minor": 4
}
