{
 "cells": [
  {
   "attachments": {
    "image.png": {
     "image/png": "[encoded data removed]"
    }
   },
   "cell_type": "markdown",
   "metadata": {},
   "source": [
    "##### Listas em listas\n",
    "    \n",
    "    Lists in lists\n",
    "\n",
    "As listas podem consistir em escalares (nomeadamente números) e elementos de uma estrutura muito mais complexa (já viu exemplos como strings, booleanos, ou mesmo outras listas nas lições do Resumo da Secção anterior). Vamos analisar mais de perto o caso em que os elementos de uma lista são apenas listas.\n",
    "    \n",
    "    Lists can consist of scalars (namely numbers) and elements of a much more complex structure (you've already seen such examples as strings, booleans, or even other lists in the previous Section Summary lessons). Let's have a closer look at the case where a list's elements are just lists.\n",
    "\n",
    "Encontramos frequentemente tais arrays (matrizes) nas nossas vidas. Provavelmente o melhor exemplo disto é um tabuleiro de xadrez.\n",
    "    \n",
    "    We often find such arrays in our lives. Probably the best example of this is a chessboard.\n",
    "    \n",
    "Um tabuleiro de xadrez é composto por linhas e colunas. Existem oito linhas (em inglês, rows) e oito colunas. Cada coluna é marcada com as letras de A a H. Cada linha é marcada com um número de um a oito.\n",
    "\n",
    "    A chessboard is composed of rows and columns. There are eight rows and eight columns. Each column is marked with the letters A through H. Each line is marked with a number from one to eight.\n",
    "    \n",
    "A localização de cada campo é identificada por pares de letras-dígitos. Assim, sabemos que o canto inferior esquerdo do tabuleiro (o que tem a torre branca) é A1, enquanto que o canto oposto é H8.\n",
    "\n",
    "    The location of each field is identified by letter-digit pairs. Thus, we know that the bottom left corner of the board (the one with the white rook) is A1, while the opposite corner is H8.\n",
    "\n",
    "Vamos assumir que somos capazes de utilizar os números selecionados para representar qualquer peça de xadrez. Podemos também assumir que cada linha do tabuleiro de xadrez é uma lista.\n",
    "    \n",
    "    Let's assume that we're able to use the selected numbers to represent any chess piece. We can also assume that every row on the chessboard is a list.\n",
    "\n",
    "Veja o código abaixo: \n",
    "\n",
    "    Look at the code below:\n",
    "\n",
    "![image.png](attachment:image.png)"
   ]
  },
  {
   "attachments": {
    "image.png": {
     "image/png": "[encoded data removed]"
    }
   },
   "cell_type": "markdown",
   "metadata": {},
   "source": [
    "Constrói uma lista contendo oito elementos que representam a segunda linha do tabuleiro de xadrez - a que está cheia de peões (suponha que WHITE_PAWN é um símbolo pré-definido que representa um peão branco).\n",
    "    \n",
    "    It builds a list containing eight elements representing the second row of the chessboard - the one filled with pawns (assume that WHITE_PAWN is a predefined symbol representing a white pawn).\n",
    "    \n",
    "O mesmo efeito pode ser alcançado através de uma compreensão de lista, a sintaxe especial utilizada por Python para preencher listas massivas.\n",
    "    \n",
    "    The same effect may be achieved by means of a list comprehension, the special syntax used by Python in order to fill massive lists.\n",
    "    \n",
    "Uma compreensão de lista é na realidade uma lista, mas criada durante a execução do programa, e não é descrita estaticamente.\n",
    "    \n",
    "    A list comprehension is actually a list, but created on-the-fly during program execution, and is not described statically.\n",
    "    \n",
    "Veja o snippet: \n",
    "    \n",
    "    Take a look at the snippet:\n",
    "    \n",
    "![image.png](attachment:image.png)"
   ]
  },
  {
   "cell_type": "markdown",
   "metadata": {},
   "source": [
    "A parte do código colocada dentro dos parêntesis retos especifica:\n",
    "\n",
    "•\tos dados a utilizar para preencher a lista (WHITE_PAWN)\n",
    "\n",
    "•\ta cláusula que especifica quantas vezes os dados ocorrem dentro da lista (for i in range(8))\n",
    "    \n",
    "    The part of the code placed inside the brackets specifies:\n",
    "    \n",
    "    •\tthe data to be used to fill the list (WHITE_PAWN)\n",
    "    \n",
    "    •\tthe clause specifying how many times the data occurs inside the list (for i in range(8))\n",
    "\n",
    "Deixe-nos mostrar alguns outros exemplos de compreensão de lista:\n",
    "    \n",
    "    Let us show you some other list comprehension examples:\n",
    "    \n",
    "Exemplo #1: / Example #1:"
   ]
  },
  {
   "cell_type": "code",
   "execution_count": 4,
   "metadata": {},
   "outputs": [
    {
     "name": "stdout",
     "output_type": "stream",
     "text": [
      "[0, 1, 4, 9, 16, 25, 36, 49, 64, 81]\n"
     ]
    }
   ],
   "source": [
    "squares = [x ** 2 for x in range(10)]\n",
    "print(squares)"
   ]
  },
  {
   "cell_type": "markdown",
   "metadata": {},
   "source": [
    "O snippet produz uma lista de dez elementos preenchida com quadrados de dez números inteiros começando do zero (0, 1, 4, 9, 16, 25, 36, 49, 64, 81)\n",
    "    \n",
    "    The snippet produces a ten-element list filled with squares of ten integer numbers starting from zero (0, 1, 4, 9, 16, 25, 36, 49, 64, 81)\n",
    "    \n",
    "Exemplo #2: / Example #2:"
   ]
  },
  {
   "cell_type": "code",
   "execution_count": 5,
   "metadata": {},
   "outputs": [
    {
     "name": "stdout",
     "output_type": "stream",
     "text": [
      "[1, 2, 4, 8, 16, 32, 64, 128]\n"
     ]
    }
   ],
   "source": [
    "twos = [2 ** i for i in range(8)]\n",
    "print(twos)"
   ]
  },
  {
   "cell_type": "markdown",
   "metadata": {},
   "source": [
    "O snippet cria um array de oito elementos contendo as primeiras oito potências de dois (1, 2, 4, 8, 16, 32, 64, 128)\n",
    "    \n",
    "    The snippet creates an eight-element array containing the first eight powers of two (1, 2, 4, 8, 16, 32, 64, 128)\n",
    "    \n",
    "Exemplo #3: / Example #3:"
   ]
  },
  {
   "cell_type": "code",
   "execution_count": 6,
   "metadata": {},
   "outputs": [
    {
     "name": "stdout",
     "output_type": "stream",
     "text": [
      "[1, 9, 25, 49, 81]\n"
     ]
    }
   ],
   "source": [
    "odds = [x for x in squares if x % 2 != 0 ]\n",
    "print(odds)"
   ]
  },
  {
   "cell_type": "markdown",
   "metadata": {},
   "source": [
    "O snippet faz uma lista apenas com os elementos ímpares da lista squares .\n",
    "    \n",
    "    The snippet makes a list with only the odd elements of the squares list."
   ]
  },
  {
   "cell_type": "code",
   "execution_count": null,
   "metadata": {},
   "outputs": [],
   "source": []
  }
 ],
 "metadata": {
  "kernelspec": {
   "display_name": "Python 3",
   "language": "python",
   "name": "python3"
  },
  "language_info": {
   "codemirror_mode": {
    "name": "ipython",
    "version": 3
   },
   "file_extension": ".py",
   "mimetype": "text/x-python",
   "name": "python",
   "nbconvert_exporter": "python",
   "pygments_lexer": "ipython3",
   "version": "3.7.6"
  }
 },
 "nbformat": 4,
 "nbformat_minor": 4
}
