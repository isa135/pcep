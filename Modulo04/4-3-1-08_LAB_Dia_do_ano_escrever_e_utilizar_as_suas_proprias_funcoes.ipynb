{
 "cells": [
  {
   "cell_type": "code",
   "execution_count": null,
   "metadata": {},
   "outputs": [],
   "source": [
    "LAB\n",
    "Tempo estimado\n",
    "20-30 minutos\n",
    "Nível de dificuldade\n",
    "Médio\n",
    "Pré-requisitos\n",
    "LAB 4.3.1.6\n",
    "LAB 4.3.1.7\n",
    "Objetivos\n",
    "Familiarizar o aluno a:\n",
    "•\tprojetar e escrever funções parametrizadas;\n",
    "•\tutilizar a return declaração;\n",
    "•\tconstruir um conjunto de funções de utilidade;\n",
    "•\tutilizar as próprias funções do aluno.\n",
    "Cenário\n",
    "A sua tarefa consiste em escrever e testar uma função que toma três argumentos (um ano, um mês e um dia do mês) e devolve o dia correspondente do ano, ou devolve None se algum dos argumentos for inválido.\n",
    "Use as funções previamente escritas e testadas. Adicione alguns casos de teste ao código. Este teste é apenas um começo.\n",
    "\n",
    "LAB\n",
    "Estimated time\n",
    "20-30 minutes\n",
    "Level of difficulty\n",
    "Medium\n",
    "Prerequisites\n",
    "LAB 4.3.1.6\n",
    "LAB 4.3.1.7\n",
    "Objectives\n",
    "Familiarize the student with:\n",
    "•\tprojecting and writing parameterized functions;\n",
    "•\tutilizing the return statement;\n",
    "•\tbuilding a set of utility functions;\n",
    "•\tutilizing the student's own functions.\n",
    "Scenario\n",
    "Your task is to write and test a function which takes three arguments (a year, a month, and a day of the month) and returns the corresponding day of the year, or returns None if any of the arguments is invalid.\n",
    "Use the previously written and tested functions. Add some test cases to the code. This test is only a beginning.\n"
   ]
  },
  {
   "cell_type": "code",
   "execution_count": 1,
   "metadata": {},
   "outputs": [
    {
     "ename": "IndentationError",
     "evalue": "expected an indented block (<ipython-input-1-af11089c6864>, line 6)",
     "output_type": "error",
     "traceback": [
      "\u001b[1;36m  File \u001b[1;32m\"<ipython-input-1-af11089c6864>\"\u001b[1;36m, line \u001b[1;32m6\u001b[0m\n\u001b[1;33m    def days_in_month(year, month):\u001b[0m\n\u001b[1;37m      ^\u001b[0m\n\u001b[1;31mIndentationError\u001b[0m\u001b[1;31m:\u001b[0m expected an indented block\n"
     ]
    }
   ],
   "source": [
    "def is_year_leap(year):\n",
    "#\n",
    "# Your code from LAB 4.3.1.6.\n",
    "#\n",
    "\n",
    "def days_in_month(year, month):\n",
    "#\n",
    "# Your code from LAB 4.3.1.7.\n",
    "#\n",
    "\n",
    "def day_of_year(year, month, day):\n",
    "#\n",
    "# Write your new code here.\n",
    "#\n",
    "\n",
    "print(day_of_year(2000, 12, 31))\n"
   ]
  },
  {
   "cell_type": "code",
   "execution_count": null,
   "metadata": {},
   "outputs": [],
   "source": []
  }
 ],
 "metadata": {
  "kernelspec": {
   "display_name": "Python 3",
   "language": "python",
   "name": "python3"
  },
  "language_info": {
   "codemirror_mode": {
    "name": "ipython",
    "version": 3
   },
   "file_extension": ".py",
   "mimetype": "text/x-python",
   "name": "python",
   "nbconvert_exporter": "python",
   "pygments_lexer": "ipython3",
   "version": "3.7.6"
  }
 },
 "nbformat": 4,
 "nbformat_minor": 4
}
