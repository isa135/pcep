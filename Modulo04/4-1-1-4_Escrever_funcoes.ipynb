{
 "cells": [
  {
   "attachments": {
    "image.png": {
     "image/png": "[encoded data removed]"
    }
   },
   "cell_type": "markdown",
   "metadata": {},
   "source": [
    "##### A sua primeira função\n",
    "    \n",
    "    Your first function\n",
    "\n",
    "Como se faz tal função?\n",
    "    \n",
    "    How do you make such a function?\n",
    "\n",
    "É preciso defini-la. A palavra definir é significativa aqui.\n",
    "    \n",
    "    You need to define it. The word define is significant here.\n",
    "\n",
    "Este é o aspeto da definição mais simples da função:\n",
    "    \n",
    "    This is what the simplest function definition looks like:\n",
    "\n",
    "![image.png](attachment:image.png)\n",
    "\n",
    "•\tComeça sempre com a keyword def ( para definir)\n",
    "\n",
    "    •\tIt always starts with the keyword def (for define)\n",
    "\n",
    "•\ta seguir a def vai o nome da função (as regras para nomear funções são exatamente as mesmas que para nomear variáveis)\n",
    "\n",
    "    •\tnext after def goes the name of the function (the rules for naming functions are exactly the same as for naming variables)\n",
    "\n",
    "•\tapós o nome da função, há um lugar para um par de parêntesis (não contêm nada aqui, mas isso irá mudar em breve)\n",
    "\n",
    "    •\tafter the function name, there's a place for a pair of parentheses (they contain nothing here, but that will change soon)\n",
    "\n",
    "•\ta linha tem de ser terminada com dois pontos;\n",
    "\n",
    "    •\tthe line has to be ended with a colon;\n",
    "    \n",
    "•\ta linha imediatamente a seguir a def começa o corpo da função - um par (pelo menos um) de instruções necessariamente nested, que serão executadas sempre que a função for invocada; nota: a função termina onde termina o nesting, por isso é preciso ter cuidado.\n",
    "\n",
    "    •\tthe line directly after def begins the function body - a couple (at least one) of necessarily nested instructions, which will be executed every time the function is invoked; note: the function ends where the nesting ends, so you have to be careful.\n",
    "\n",
    "Estamos prontos para definir a nossa função de prompting. Vamos nomeá-la message - aqui está:\n",
    "    \n",
    "    We're ready to define our prompting function. We'll name it message - here it is:"
   ]
  },
  {
   "cell_type": "code",
   "execution_count": 1,
   "metadata": {},
   "outputs": [],
   "source": [
    "def message():\n",
    "    print(\"Enter a value: \")"
   ]
  },
  {
   "cell_type": "markdown",
   "metadata": {},
   "source": [
    "A função é extremamente simples, mas totalmente utilizável. Demos-lhe o nome message, mas pode rotulá-la a seu gosto. Vamos usá-la.\n",
    "    \n",
    "    The function i extremely simple, but fully usable. We've named it message, but you can label it according to your taste. Let's use it.\n",
    "    \n",
    "O nosso código contém agora a definição da função:\n",
    "\n",
    "    Our code contains the function definition now:"
   ]
  },
  {
   "cell_type": "code",
   "execution_count": 2,
   "metadata": {},
   "outputs": [
    {
     "name": "stdout",
     "output_type": "stream",
     "text": [
      "We start here.\n",
      "We end here.\n"
     ]
    }
   ],
   "source": [
    "def message():\n",
    "    print(\"Enter a value: \")\n",
    "print(\"We start here.\")\n",
    "print(\"We end here.\")"
   ]
  },
  {
   "attachments": {
    "image.png": {
     "image/png": "[encoded data removed]"
    }
   },
   "cell_type": "markdown",
   "metadata": {},
   "source": [
    "Nota: não utilizamos de todo a função - não há nenhuma invocação dentro do código.\n",
    "    \n",
    "    Note: we don't use the function at all - there's no invocation of it inside the code.\n",
    "\n",
    "Quando a executa, vê o seguinte output:\n",
    "    \n",
    "    When you run it, you see the following output:\n",
    "\n",
    "![image.png](attachment:image.png)\n",
    "\n",
    "Isto significa que o Python lê as definições da função e lembra-se delas, mas não as lança sem a sua permissão.\n",
    "    \n",
    "    This means that Python reads the function's definitions and remembers them, but won't launch any of them without your permission.\n",
    "    \n",
    "Modificámos o código agora - inserimos a invocação da função entre as mensagens de início e fim:\n",
    "    \n",
    "    We've modified the code now - we've inserted the function's invocation between the start and end messages:"
   ]
  },
  {
   "cell_type": "code",
   "execution_count": 5,
   "metadata": {},
   "outputs": [
    {
     "name": "stdout",
     "output_type": "stream",
     "text": [
      "We start here.\n",
      "Enter a value: \n",
      "We end here.\n"
     ]
    }
   ],
   "source": [
    "def message():\n",
    "    print(\"Enter a value: \")\n",
    "    # input()\n",
    "print(\"We start here.\")\n",
    "message()\n",
    "print(\"We end here.\")"
   ]
  },
  {
   "attachments": {
    "image.png": {
     "image/png": "[encoded data removed]"
    }
   },
   "cell_type": "markdown",
   "metadata": {},
   "source": [
    "O output parece diferente agora:\n",
    "\n",
    "    The output looks different now:\n",
    "\n",
    "![image.png](attachment:image.png)\n",
    "\n",
    "Teste o código, modifique-o, experimente com ele.\n",
    "    \n",
    "    Test the code, modify it, experiment with it."
   ]
  },
  {
   "cell_type": "code",
   "execution_count": null,
   "metadata": {},
   "outputs": [],
   "source": []
  },
  {
   "cell_type": "code",
   "execution_count": null,
   "metadata": {},
   "outputs": [],
   "source": [
    "def my_function():\n",
    "    # function body\n"
   ]
  }
 ],
 "metadata": {
  "kernelspec": {
   "display_name": "Python 3",
   "language": "python",
   "name": "python3"
  },
  "language_info": {
   "codemirror_mode": {
    "name": "ipython",
    "version": 3
   },
   "file_extension": ".py",
   "mimetype": "text/x-python",
   "name": "python",
   "nbconvert_exporter": "python",
   "pygments_lexer": "ipython3",
   "version": "3.7.6"
  }
 },
 "nbformat": 4,
 "nbformat_minor": 4
}
