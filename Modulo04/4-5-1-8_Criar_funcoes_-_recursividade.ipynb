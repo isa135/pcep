{
 "cells": [
  {
   "attachments": {
    "image.png": {
     "image/png": "[encoded data removed]"
    }
   },
   "cell_type": "markdown",
   "metadata": {},
   "source": [
    "##### Algumas funções simples: recursividade\n",
    "    \n",
    "    Some simple functions: recursion\n",
    "\n",
    "Há mais uma coisa que queremos mostrar-lhe para tornar tudo completo - é a recursividade.\n",
    "    \n",
    "    There's one more thing we want to show you to make everything complete - it's recursion.\n",
    "\n",
    "Este termo pode descrever muitos conceitos diferentes, mas um deles é especialmente interessante - o que se refere à programação informática.\n",
    "    \n",
    "    This term may describe many different concepts, but one of them is especially interesting - the one referring to computer programming.\n",
    "\n",
    "Neste campo, a recursividade é uma técnica em que uma função se invoca a si própria.\n",
    "    \n",
    "    In this field, recursion is a technique where a function invokes itself.\n",
    "\n",
    "Estes dois casos parecem ser os melhores para ilustrar o fenómeno - os números fatorials e Fibonacci. Especialmente o último.\n",
    "    \n",
    "    These two cases seem to be the best to illustrate the phenomenon - factorials and Fibonacci numbers. Especially the latter.\n",
    "\n",
    "A definição dos números Fibonacci é um exemplo claro de recursividade. Já lhe dissemos isso:\n",
    "    \n",
    "    The Fibonacci numbers definition is a clear example of recursion. We already told you that:\n",
    "\n",
    "![image.png](attachment:image.png)\n",
    "\n",
    "A definição do número i-th refere-se ao número i-1, e assim por diante, até se chegar aos dois primeiros.\n",
    "    \n",
    "    The definition of the ith number refers to the i-1 number, and so on, till you reach the first two.\n",
    "\n",
    "Pode ser usado no código? Sim, pode. Pode também tornar o código mais curto e claro.\n",
    "    \n",
    "    Can it be used in the code? Yes, it can. It can also make the code shorter and clearer.\n",
    "\n",
    "A segunda versão da nossa função fib() faz uso direto desta definição:\n",
    "    \n",
    "    The second version of our fib() function makes direct use of this definition:"
   ]
  },
  {
   "cell_type": "code",
   "execution_count": 2,
   "metadata": {},
   "outputs": [],
   "source": [
    "def fib(n):\n",
    "    if n < 1:\n",
    "        return None\n",
    "    if n < 3:\n",
    "        return 1\n",
    "    return fib(n - 1) + fib(n - 2)"
   ]
  },
  {
   "cell_type": "markdown",
   "metadata": {},
   "source": [
    "O código é agora muito mais claro.\n",
    "    \n",
    "    The code is much clearer now.\n",
    "\n",
    "Mas é realmente seguro? Isto implica algum risco?\n",
    "    \n",
    "    But is it really safe? Does it entail any risk?\n",
    "\n",
    "Sim, há de facto um pequeno risco. Se se esquecer de considerar as condições que podem parar a cadeia de invocações recursivas, o programa pode entrar num loop infinito. É preciso ter cuidado.\n",
    "    \n",
    "    Yes, there is a little risk indeed. If you forget to consider the conditions which can stop the chain of recursive invocations, the program may enter an infinite loop. You have to be careful.\n",
    "\n",
    "O fatorial tem também um segundo lado recursivo. Veja:\n",
    "    \n",
    "    The factorial has a second, recursive side too. Look:\n",
    "\n",
    "n! = 1 × 2 × 3 ×... × n-1 × n\n",
    "\n",
    "É óbvio que:\n",
    "    \n",
    "    It's obvious that:\n",
    "\n",
    "1 × 2 × 3 ×... × n-1 = (n-1)!\n",
    "\n",
    "Então, finalmente, o resultado é:\n",
    "    \n",
    "    So, finally, the result is:\n",
    "\n",
    "n! = (n-1)! × n\n",
    "\n",
    "De fato, esta é uma receita pronta para a nossa nova solução.\n",
    "    \n",
    "    This is in fact a ready recipe for our new solution.\n",
    "\n",
    "Aqui está:\n",
    "    \n",
    "    Here it is:"
   ]
  },
  {
   "cell_type": "code",
   "execution_count": 5,
   "metadata": {},
   "outputs": [
    {
     "name": "stdout",
     "output_type": "stream",
     "text": [
      "3628800\n"
     ]
    }
   ],
   "source": [
    "def factorial_function(n):\n",
    "    if n < 0:\n",
    "        return None\n",
    "    if n < 2:\n",
    "        return 1\n",
    "    return n * factorial_function(n - 1)\n",
    "\n",
    "print(factorial_functiontorial_function(10))"
   ]
  },
  {
   "cell_type": "markdown",
   "metadata": {},
   "source": [
    "Funciona? Sim, funciona. Experimente você mesmo.\n",
    "    \n",
    "    Does it work? Yes, it does. Try it for yourself.\n",
    "\n",
    "A nossa curta viagem funcional está quase no fim. A secção seguinte tratará de dois curiosos tipos de dados Python: tuples e dicionários.\n",
    "    \n",
    "    Our short functional journey is almost over. The next section will take care of two curious Python data types: tuples and dictionaries."
   ]
  },
  {
   "cell_type": "code",
   "execution_count": 4,
   "metadata": {},
   "outputs": [
    {
     "name": "stdout",
     "output_type": "stream",
     "text": [
      "1 -> 1\n",
      "2 -> 1\n",
      "3 -> 2\n",
      "4 -> 3\n",
      "5 -> 5\n",
      "6 -> 8\n",
      "7 -> 13\n",
      "8 -> 21\n",
      "9 -> 34\n"
     ]
    }
   ],
   "source": [
    "def fib(n):\n",
    "    if n < 1:\n",
    "         return None\n",
    "    if n < 3:\n",
    "        return 1\n",
    "\n",
    "    elem_1 = elem_2 = 1\n",
    "    the_sum = 0\n",
    "    for i in range(3, n + 1):\n",
    "        the_sum = elem_1 + elem_2\n",
    "        elem_1, elem_2 = elem_2, the_sum\n",
    "    return the_sum\n",
    "\n",
    "\n",
    "for n in range(1, 10):\n",
    "    print(n, \"->\", fib(n))\n"
   ]
  },
  {
   "cell_type": "code",
   "execution_count": null,
   "metadata": {},
   "outputs": [],
   "source": []
  }
 ],
 "metadata": {
  "kernelspec": {
   "display_name": "Python 3",
   "language": "python",
   "name": "python3"
  },
  "language_info": {
   "codemirror_mode": {
    "name": "ipython",
    "version": 3
   },
   "file_extension": ".py",
   "mimetype": "text/x-python",
   "name": "python",
   "nbconvert_exporter": "python",
   "pygments_lexer": "ipython3",
   "version": "3.7.6"
  }
 },
 "nbformat": 4,
 "nbformat_minor": 4
}
