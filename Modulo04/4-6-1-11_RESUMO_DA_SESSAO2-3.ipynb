{
 "cells": [
  {
   "cell_type": "markdown",
   "metadata": {},
   "source": [
    "##### Key takeaways: dicionários\n",
    "    \n",
    "    Key takeaways: dictionaries\n",
    "\n",
    "1. Os dicionários são coleções de dados desordenados*, alteráveis (mutáveis), e indexados. (*Em Python 3.6x, os dicionários tornaram-se ordenados por defeito.\n",
    "    \n",
    "    \n",
    "    1. Dictionaries are unordered*, changeable (mutable), and indexed collections of data. (*In Python 3.6x dictionaries have become ordered by default.\n",
    "\n",
    "Cada dicionário é um conjunto de chaves: pares de valores. Pode criá-lo usando a seguinte sintaxe:\n",
    "    \n",
    "    Each dictionary is a set of key: value pairs. You can create it by using the following syntax:"
   ]
  },
  {
   "attachments": {
    "image.png": {
     "image/png": "[encoded data removed]"
    }
   },
   "cell_type": "markdown",
   "metadata": {},
   "source": [
    "![image.png](attachment:image.png)"
   ]
  },
  {
   "cell_type": "markdown",
   "metadata": {},
   "source": [
    "2. Se quiser aceder a um item de dicionário, pode fazê-lo fazendo referência à sua chave dentro de um par de parêntesis retos (ex. 1) ou usando o método get() (ex. 2):\n",
    "    \n",
    "    \n",
    "    2. If you want to access a dictionary item, you can do so by making a reference to its key inside a pair of square brackets (ex. 1) or by using the get() method (ex. 2):"
   ]
  },
  {
   "cell_type": "code",
   "execution_count": 4,
   "metadata": {},
   "outputs": [
    {
     "name": "stdout",
     "output_type": "stream",
     "text": [
      "soil\n",
      "water\n"
     ]
    }
   ],
   "source": [
    "pol_eng_dictionary = {\n",
    "    \"kwiat\": \"flower\",\n",
    "    \"woda\": \"water\",\n",
    "    \"gleba\": \"soil\"\n",
    "    }\n",
    "\n",
    "item_1 = pol_eng_dictionary[\"gleba\"]    # ex. 1\n",
    "print(item_1)    # outputs: soil\n",
    "\n",
    "item_2 = pol_eng_dictionary.get(\"woda\")\n",
    "print(item_2)    # outputs: water"
   ]
  },
  {
   "cell_type": "markdown",
   "metadata": {},
   "source": [
    "3. Se quiser alterar o valor associado a uma chave específica, pode fazê-lo referindo-se ao nome da chave do item da seguinte forma:\n",
    "\n",
    "\n",
    "    3. If you want to change the value associated with a specific key, you can do so by referring to the item's key name in the following way:"
   ]
  },
  {
   "cell_type": "code",
   "execution_count": 6,
   "metadata": {},
   "outputs": [
    {
     "name": "stdout",
     "output_type": "stream",
     "text": [
      "lock\n",
      "{'zamek': 'lock', 'woda': 'water', 'gleba': 'soil'}\n"
     ]
    }
   ],
   "source": [
    "pol_eng_dictionary = {\n",
    "    \"zamek\": \"castle\",\n",
    "    \"woda\": \"water\",\n",
    "    \"gleba\": \"soil\"\n",
    "    }\n",
    "\n",
    "pol_eng_dictionary[\"zamek\"] = \"lock\"\n",
    "item = pol_eng_dictionary[\"zamek\"]    \n",
    "print(item)  # outputs: lock\n",
    "print(pol_eng_dictionary)  "
   ]
  },
  {
   "cell_type": "markdown",
   "metadata": {},
   "source": [
    "4. Para adicionar ou remover uma chave (e o valor associado), utilize a seguinte sintaxe:\n",
    "    \n",
    "    \n",
    "    4. To add or remove a key (and the associated value), use the following syntax:\n"
   ]
  },
  {
   "cell_type": "code",
   "execution_count": 7,
   "metadata": {},
   "outputs": [
    {
     "name": "stdout",
     "output_type": "stream",
     "text": [
      "{'Adam': 3456783958}\n",
      "{}\n"
     ]
    }
   ],
   "source": [
    "phonebook = {}    # an empty dictionary\n",
    "\n",
    "phonebook[\"Adam\"] = 3456783958    # create/add a key-value pair\n",
    "print(phonebook)    # outputs: {'Adam': 3456783958}\n",
    "\n",
    "del phonebook[\"Adam\"]\n",
    "print(phonebook)    # outputs: {}"
   ]
  },
  {
   "cell_type": "markdown",
   "metadata": {},
   "source": [
    "Também pode inserir um item num dicionário utilizando o método update() , e remover o último elemento usando o método popitem() , por exemplo:\n",
    "    \n",
    "    You can also insert an item to a dictionary by using the update() method, and remove the last element by using the popitem() method, e.g.:"
   ]
  },
  {
   "cell_type": "code",
   "execution_count": 8,
   "metadata": {},
   "outputs": [
    {
     "name": "stdout",
     "output_type": "stream",
     "text": [
      "{'kwiat': 'flower', 'gleba': 'soil'}\n",
      "{'kwiat': 'flower'}\n"
     ]
    }
   ],
   "source": [
    "pol_eng_dictionary = {\"kwiat\": \"flower\"}\n",
    "\n",
    "pol_eng_dictionary.update({\"gleba\": \"soil\"})\n",
    "print(pol_eng_dictionary)    # outputs: {'kwiat': 'flower', 'gleba': 'soil'}\n",
    "\n",
    "pol_eng_dictionary.popitem()\n",
    "print(pol_eng_dictionary)    # outputs: {'kwiat': 'flower'}"
   ]
  },
  {
   "cell_type": "markdown",
   "metadata": {},
   "source": [
    "5. Pode utilizar o loop for para percorrer um dicionário, por exemplo:\n",
    "    \n",
    "    \n",
    "    5. You can use the for loop to loop through a dictionary, e.g.:"
   ]
  },
  {
   "cell_type": "code",
   "execution_count": 9,
   "metadata": {},
   "outputs": [
    {
     "name": "stdout",
     "output_type": "stream",
     "text": [
      "zamek\n",
      "woda\n",
      "gleba\n"
     ]
    }
   ],
   "source": [
    "pol_eng_dictionary = {\n",
    "    \"zamek\": \"castle\",\n",
    "    \"woda\": \"water\",\n",
    "    \"gleba\": \"soil\"\n",
    "    }\n",
    "\n",
    "for item in pol_eng_dictionary:\n",
    "    print(item) \n",
    "\n",
    "# outputs: zamek\n",
    "#          woda\n",
    "#          gleba"
   ]
  },
  {
   "cell_type": "markdown",
   "metadata": {},
   "source": [
    "6. Se quiser percorrer as chaves e valores de um dicionário, pode usar o método items() , por exemplo:\n",
    "\n",
    "    \n",
    "    6. If you want to loop through a dictionary's keys and values, you can use the items() method, e.g.:"
   ]
  },
  {
   "cell_type": "code",
   "execution_count": 10,
   "metadata": {},
   "outputs": [
    {
     "name": "stdout",
     "output_type": "stream",
     "text": [
      "Pol/Eng -> zamek : castle\n",
      "Pol/Eng -> woda : water\n",
      "Pol/Eng -> gleba : soil\n"
     ]
    }
   ],
   "source": [
    "pol_eng_dictionary = {\n",
    "    \"zamek\": \"castle\",\n",
    "    \"woda\": \"water\",\n",
    "    \"gleba\": \"soil\"\n",
    "    }\n",
    "\n",
    "for key, value in pol_eng_dictionary.items():\n",
    "    print(\"Pol/Eng ->\", key, \":\", value)"
   ]
  },
  {
   "cell_type": "markdown",
   "metadata": {},
   "source": [
    "7. Para verificar se uma determinada chave existe num dicionário, pode utilizar a in keyword:\n",
    "    \n",
    "    \n",
    "    7. To check if a given key exists in a dictionary, you can use the in keyword:"
   ]
  },
  {
   "cell_type": "code",
   "execution_count": 11,
   "metadata": {},
   "outputs": [
    {
     "name": "stdout",
     "output_type": "stream",
     "text": [
      "Yes\n"
     ]
    }
   ],
   "source": [
    "pol_eng_dictionary = {\n",
    "    \"zamek\": \"castle\",\n",
    "    \"woda\": \"water\",\n",
    "    \"gleba\": \"soil\"\n",
    "    }\n",
    "\n",
    "if \"zamek\" in pol_eng_dictionary:\n",
    "    print(\"Yes\")\n",
    "else:\n",
    "    print(\"No\")"
   ]
  },
  {
   "cell_type": "markdown",
   "metadata": {},
   "source": [
    "8. Pode utilizar a keyword del para remover um item específico, ou apagar um dicionário. Para remover todos os itens do dicionário, é necessário utilizar o clear() método:\n",
    "    \n",
    "    \n",
    "    8. You can use the del keyword to remove a specific item, or delete a dictionary. To remove all the dictionary's items, you need to use the clear() method:"
   ]
  },
  {
   "cell_type": "code",
   "execution_count": 14,
   "metadata": {},
   "outputs": [
    {
     "name": "stdout",
     "output_type": "stream",
     "text": [
      "3\n",
      "2\n",
      "0\n"
     ]
    }
   ],
   "source": [
    "pol_eng_dictionary = {\n",
    "    \"zamek\": \"castle\",\n",
    "    \"woda\": \"water\",\n",
    "    \"gleba\": \"soil\"\n",
    "    }\n",
    "\n",
    "print(len(pol_eng_dictionary))    # outputs: 3\n",
    "del pol_eng_dictionary[\"zamek\"]    # remove an item\n",
    "print(len(pol_eng_dictionary))    # outputs: 2\n",
    "\n",
    "pol_eng_dictionary.clear()   # removes all the items\n",
    "print(len(pol_eng_dictionary))    # outputs: 0\n",
    "\n",
    "del pol_eng_dictionary    # removes the dictionary"
   ]
  },
  {
   "cell_type": "code",
   "execution_count": 16,
   "metadata": {},
   "outputs": [
    {
     "name": "stdout",
     "output_type": "stream",
     "text": [
      "0\n"
     ]
    },
    {
     "ename": "NameError",
     "evalue": "name 'pol_eng_dictionary' is not defined",
     "output_type": "error",
     "traceback": [
      "\u001b[1;31m---------------------------------------------------------------------------\u001b[0m",
      "\u001b[1;31mNameError\u001b[0m                                 Traceback (most recent call last)",
      "\u001b[1;32m<ipython-input-16-408e310e2e90>\u001b[0m in \u001b[0;36m<module>\u001b[1;34m\u001b[0m\n\u001b[0;32m      9\u001b[0m \u001b[1;33m\u001b[0m\u001b[0m\n\u001b[0;32m     10\u001b[0m \u001b[1;32mdel\u001b[0m \u001b[0mpol_eng_dictionary\u001b[0m    \u001b[1;31m# removes the dictionary\u001b[0m\u001b[1;33m\u001b[0m\u001b[1;33m\u001b[0m\u001b[0m\n\u001b[1;32m---> 11\u001b[1;33m \u001b[0mprint\u001b[0m\u001b[1;33m(\u001b[0m\u001b[0mlen\u001b[0m\u001b[1;33m(\u001b[0m\u001b[0mpol_eng_dictionary\u001b[0m\u001b[1;33m)\u001b[0m\u001b[1;33m)\u001b[0m    \u001b[1;31m# outputs: 0\u001b[0m\u001b[1;33m\u001b[0m\u001b[1;33m\u001b[0m\u001b[0m\n\u001b[0m",
      "\u001b[1;31mNameError\u001b[0m: name 'pol_eng_dictionary' is not defined"
     ]
    }
   ],
   "source": [
    "pol_eng_dictionary = {\n",
    "    \"zamek\": \"castle\",\n",
    "    \"woda\": \"water\",\n",
    "    \"gleba\": \"soil\"\n",
    "    }\n",
    "\n",
    "pol_eng_dictionary.clear()   # removes all the items\n",
    "print(len(pol_eng_dictionary))    # outputs: 0\n",
    "\n",
    "del pol_eng_dictionary    # removes the dictionary\n",
    "print(len(pol_eng_dictionary))    # outputs: 0"
   ]
  },
  {
   "cell_type": "markdown",
   "metadata": {},
   "source": [
    "9. Para copiar um dicionário, use o copy() método:\n",
    "    \n",
    "    \n",
    "    9. To copy a dictionary, use the copy() method:"
   ]
  },
  {
   "cell_type": "code",
   "execution_count": 19,
   "metadata": {},
   "outputs": [
    {
     "name": "stdout",
     "output_type": "stream",
     "text": [
      "{'zamek': 'castle', 'woda': 'water', 'gleba': 'soil'}\n",
      "{'zamek': 'castle', 'woda': 'water', 'gleba': 'soil'}\n"
     ]
    }
   ],
   "source": [
    "pol_eng_dictionary = {\n",
    "    \"zamek\": \"castle\",\n",
    "    \"woda\": \"water\",\n",
    "    \"gleba\": \"soil\"\n",
    "    }\n",
    "\n",
    "copy_dictionary = pol_eng_dictionary.copy()\n",
    "print(pol_eng_dictionary)\n",
    "print(copy_dictionary)"
   ]
  },
  {
   "cell_type": "code",
   "execution_count": null,
   "metadata": {},
   "outputs": [],
   "source": []
  }
 ],
 "metadata": {
  "kernelspec": {
   "display_name": "Python 3",
   "language": "python",
   "name": "python3"
  },
  "language_info": {
   "codemirror_mode": {
    "name": "ipython",
    "version": 3
   },
   "file_extension": ".py",
   "mimetype": "text/x-python",
   "name": "python",
   "nbconvert_exporter": "python",
   "pygments_lexer": "ipython3",
   "version": "3.7.6"
  }
 },
 "nbformat": 4,
 "nbformat_minor": 4
}
