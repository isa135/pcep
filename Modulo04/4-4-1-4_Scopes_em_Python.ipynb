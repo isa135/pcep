{
 "cells": [
  {
   "cell_type": "markdown",
   "metadata": {},
   "source": [
    "Como a função interage com os seus argumentos\n",
    "    \n",
    "    How the function interacts with its arguments\n",
    "\n",
    "Vamos agora descobrir como a função interage com os seus argumentos.\n",
    "    \n",
    "    Now let's find out how the function interacts with its arguments.\n",
    "\n",
    "O código no editor deve ensinar-lhe algo. Como se pode ver, a função altera o valor do seu parâmetro. A alteração afeta o argumento?\n",
    "    \n",
    "    The code in the editor should teach you something. As you can see, the function changes the value of its parameter. Does the change affect the argument?\n",
    "\n",
    "Execute o programa e verifique.\n",
    "    \n",
    "    Run the program and check."
   ]
  },
  {
   "cell_type": "code",
   "execution_count": 1,
   "metadata": {},
   "outputs": [
    {
     "name": "stdout",
     "output_type": "stream",
     "text": [
      "I got 1\n",
      "I have 2\n",
      "1\n"
     ]
    }
   ],
   "source": [
    "def my_function(n):\n",
    "    print(\"I got\", n)\n",
    "    n += 1\n",
    "    print(\"I have\", n)\n",
    "\n",
    "var = 1\n",
    "my_function(var)\n",
    "print(var)"
   ]
  },
  {
   "cell_type": "markdown",
   "metadata": {},
   "source": [
    "A conclusão é óbvia - a alteração do valor do parâmetro não se propaga fora da função (em qualquer caso, não quando a variável é uma escalar, como no exemplo).\n",
    "    \n",
    "    The conclusion is obvious - changing the parameter's value doesn't propagate outside the function (in any case, not when the variable is a scalar, like in the example).\n",
    "\n",
    "Isto também significa que uma função recebe o valor do argumento, não o argumento em si. Isto é verdade para escalares.\n",
    "    \n",
    "    This also means that a function receives the argument's value, not the argument itself. This is true for scalars.\n",
    "\n",
    "Vale a pena verificar como funciona com listas (lembra-se das peculiaridades de atribuir slices de listas versus atribuir listas como um todo?).\n",
    "    \n",
    "    Is it worth checking how it works with lists (do you recall the peculiarities of assigning list slices versus assigning lists as a whole?).\n",
    "\n",
    "O exemplo a seguir irá lançar alguma luz sobre a questão:\n",
    "    \n",
    "    The following example will shed some light on the issue:"
   ]
  },
  {
   "cell_type": "code",
   "execution_count": 2,
   "metadata": {},
   "outputs": [
    {
     "name": "stdout",
     "output_type": "stream",
     "text": [
      "Print #1: [2, 3]\n",
      "Print #2: [2, 3]\n",
      "Print #3: [0, 1]\n",
      "Print #4: [2, 3]\n",
      "Print #5: [2, 3]\n"
     ]
    }
   ],
   "source": [
    "def my_function(my_list_1):\n",
    "    print(\"Print #1:\", my_list_1)\n",
    "    print(\"Print #2:\", my_list_2)\n",
    "    my_list_1 = [0, 1]\n",
    "    print(\"Print #3:\", my_list_1)\n",
    "    print(\"Print #4:\", my_list_2)\n",
    "\n",
    "my_list_2 = [2, 3]\n",
    "my_function(my_list_2)\n",
    "print(\"Print #5:\", my_list_2)\n"
   ]
  },
  {
   "cell_type": "markdown",
   "metadata": {},
   "source": [
    "Parece que a regra anterior ainda funciona.\n",
    "    \n",
    "    It seems that the former rule still works.\n",
    "\n",
    "Finalmente, pode ver a diferença no exemplo abaixo:\n",
    "    \n",
    "    Finally, can you see the difference in the example below:"
   ]
  },
  {
   "cell_type": "code",
   "execution_count": 3,
   "metadata": {},
   "outputs": [
    {
     "name": "stdout",
     "output_type": "stream",
     "text": [
      "Print #1: [2, 3]\n",
      "Print #2: [2, 3]\n",
      "Print #3: [3]\n",
      "Print #4: [3]\n",
      "Print #5: [3]\n"
     ]
    }
   ],
   "source": [
    "def my_function(my_list_1):\n",
    "    print(\"Print #1:\", my_list_1)\n",
    "    print(\"Print #2:\", my_list_2)\n",
    "    del my_list_1[0]  # Pay attention to this line.\n",
    "    print(\"Print #3:\", my_list_1)\n",
    "    print(\"Print #4:\", my_list_2)\n",
    "\n",
    "my_list_2 = [2, 3]\n",
    "my_function(my_list_2)\n",
    "print(\"Print #5:\", my_list_2)"
   ]
  },
  {
   "cell_type": "markdown",
   "metadata": {},
   "source": [
    "Não alteramos o valor do parâmetro my_list_1 (we already know it will not affect the argument), but instead modify the list identified by it.\n",
    "    \n",
    "    We don't change the value of the parameter my_list_1 (we already know it will not affect the argument), but instead modify the list identified by it.\n",
    "\n",
    "O output pode ser surpreendente. Execute o código e verifique:\n",
    "    \n",
    "    The output may be surprising. Run the code and check:\n",
    "\n",
    "Consegue explicá-lo?\n",
    "    \n",
    "    Can you explain it?\n",
    "\n",
    "Vamos tentar:\n",
    "\n",
    "    Let's try:\n",
    "    \n",
    "•\tse o argumento for uma lista, então alterar o valor do parâmetro correspondente não afeta a lista (lembre-se: as variáveis que contêm listas são armazenadas de uma forma diferente dos escalares),\n",
    "\n",
    "    •\tif the argument is a list, then changing the value of the corresponding parameter doesn't affect the list (remember: variables containing lists are stored in a different way than scalars),\n",
    "\n",
    "•\tmas se alterar uma lista identificada pelo parâmetro (nota: a lista, não o parâmetro!), a lista irá refletir a alteração.\n",
    "\n",
    "    •\tbut if you change a list identified by the parameter (note: the list, not the parameter!), the list will reflect the change.\n",
    "\n",
    "É tempo de escrever algumas funções de exemplo. Fará na próxima sessão.\n",
    "    \n",
    "    It's time to write some example functions. You'll do that in the next section."
   ]
  },
  {
   "cell_type": "code",
   "execution_count": null,
   "metadata": {},
   "outputs": [],
   "source": []
  }
 ],
 "metadata": {
  "kernelspec": {
   "display_name": "Python 3",
   "language": "python",
   "name": "python3"
  },
  "language_info": {
   "codemirror_mode": {
    "name": "ipython",
    "version": 3
   },
   "file_extension": ".py",
   "mimetype": "text/x-python",
   "name": "python",
   "nbconvert_exporter": "python",
   "pygments_lexer": "ipython3",
   "version": "3.7.6"
  }
 },
 "nbformat": 4,
 "nbformat_minor": 4
}
