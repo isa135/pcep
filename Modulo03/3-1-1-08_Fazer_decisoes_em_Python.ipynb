{
 "cells": [
  {
   "cell_type": "markdown",
   "metadata": {},
   "source": [
    "##### Análise de amostras de código\n",
    "\n",
    "    Analyzing code samples"
   ]
  },
  {
   "cell_type": "markdown",
   "metadata": {},
   "source": [
    "Agora vamos mostrar-lhe alguns programas simples mas completos. Não os explicaremos em detalhe, porque consideramos os comentários (e os nomes das variáveis) dentro do código guias suficientes.\n",
    "\n",
    "    Now we're going to show you some simple yet complete programs. We won't explain them in detail, because we consider the comments (and the variable names) inside the code to be sufficient guides."
   ]
  },
  {
   "cell_type": "markdown",
   "metadata": {},
   "source": [
    "Todos os programas resolvem o mesmo problema - eles encontram o maior de vários números e imprimem-no.\n",
    "\n",
    "    All the programs solve the same problem - they find the largest of several numbers and print it out."
   ]
  },
  {
   "cell_type": "markdown",
   "metadata": {},
   "source": [
    "Exemplo 1: / Example 1:\n",
    "        \n",
    "Vamos começar com o caso mais simples - como identificar o maior de dois números:\n",
    "    \n",
    "    We'll start with the simplest case - how to identify the larger of two numbers:"
   ]
  },
  {
   "cell_type": "code",
   "execution_count": 2,
   "metadata": {},
   "outputs": [
    {
     "name": "stdout",
     "output_type": "stream",
     "text": [
      "Enter the first number: 2\n",
      "Enter the second number: 3\n",
      "The larger number is: 3\n"
     ]
    }
   ],
   "source": [
    "# Read two numbers\n",
    "number1 = int(input(\"Enter the first number: \"))\n",
    "number2 = int(input(\"Enter the second number: \"))\n",
    "\n",
    "# Choose the larger number\n",
    "if number1 > number2:\n",
    "    larger_number = number1\n",
    "else:\n",
    "    larger_number = number2\n",
    "    \n",
    "# Print the result\n",
    "print(\"The larger number is:\", larger_number)"
   ]
  },
  {
   "cell_type": "markdown",
   "metadata": {},
   "source": [
    "O snippet acima deve ser claro - ele lê dois valores inteiros, compara-os e descobre qual é o maior.\n",
    "\n",
    "    The above snippet should be clear - it reads two integer values, compares them, and finds which is the larger."
   ]
  },
  {
   "cell_type": "markdown",
   "metadata": {},
   "source": [
    "Exemplo 2: / Example 2:\n",
    "\n",
    "Agora vamos mostrar-lhe um facto intrigante. O Python tem uma característica interessante, veja o código abaixo:\n",
    "    \n",
    "    Now we're going to show you one intriguing fact. Python has an interesting feature, look at the code below:"
   ]
  },
  {
   "cell_type": "code",
   "execution_count": 3,
   "metadata": {},
   "outputs": [
    {
     "name": "stdout",
     "output_type": "stream",
     "text": [
      "Enter the first number: 3\n",
      "Enter the second number: 2\n",
      "The larger number is: 3\n"
     ]
    }
   ],
   "source": [
    "# Read two numbers\n",
    "number1 = int(input(\"Enter the first number: \"))\n",
    "number2 = int(input(\"Enter the second number: \"))\n",
    "\n",
    "# Choose the larger number\n",
    "if number1 > number2: larger_number = number1\n",
    "else: larger_number = number2\n",
    "\n",
    "# Print the result\n",
    "print(\"The larger number is:\", larger_number)"
   ]
  },
  {
   "cell_type": "markdown",
   "metadata": {},
   "source": [
    "Nota: se algum dos ramos if-elif-else contiver apenas uma instrução, pode codificá-la de uma forma mais abrangente (não precisa de fazer uma linha indentada após a keyword, mas apenas continuar a linha após os dois pontos).\n",
    "\n",
    "    Note: if any of the if-elif-else branches contains just one instruction, you may code it in a more comprehensive form (you don't need to make an indented line after the keyword, but just continue the line after the colon)."
   ]
  },
  {
   "cell_type": "markdown",
   "metadata": {},
   "source": [
    "Este estilo, contudo, pode ser enganador, e não o vamos utilizar nos nossos futuros programas, mas vale definitivamente a pena saber se quiser ler e compreender os programas de outra pessoa.\n",
    "    \n",
    "    This style, however, may be misleading, and we're not going to use it in our future programs, but it's definitely worth knowing if you want to read and understand someone else's programs."
   ]
  },
  {
   "cell_type": "markdown",
   "metadata": {},
   "source": [
    "Não há outras diferenças no código.\n",
    "    \n",
    "    There are no other differences in the code."
   ]
  },
  {
   "cell_type": "markdown",
   "metadata": {},
   "source": [
    "Exemplo 3: / Example 3:\n",
    "\n",
    "É altura de complicar o código - vamos encontrar o maior de três números. Será que vai ampliar o código? Um pouco.\n",
    "       \n",
    "    It's time to complicate the code - let's find the largest of three numbers. Will it enlarge the code? A bit.\n",
    "\n",
    "Assumimos que o primeiro valor é o maior. Em seguida, verificamos essa hipótese com os dois valores restantes.\n",
    "    \n",
    "    We assume that the first value is the largest. Then we verify this hypothesis with the two remaining values."
   ]
  },
  {
   "cell_type": "markdown",
   "metadata": {},
   "source": [
    "Veja o código abaixo: _Look at the code below:_"
   ]
  },
  {
   "cell_type": "code",
   "execution_count": 5,
   "metadata": {},
   "outputs": [
    {
     "name": "stdout",
     "output_type": "stream",
     "text": [
      "Enter the first number: 5\n",
      "Enter the second number: 6\n",
      "Enter the third number: 4\n",
      "The largest number is: 6\n"
     ]
    }
   ],
   "source": [
    "# Read three numbers\n",
    "number1 = int(input(\"Enter the first number: \"))\n",
    "number2 = int(input(\"Enter the second number: \"))\n",
    "number3 = int(input(\"Enter the third number: \"))\n",
    "\n",
    "# We temporarily assume that the first number\n",
    "# is the largest one.\n",
    "# We will verify this soon.\n",
    "largest_number = number1\n",
    "\n",
    "# We check if the second number is larger than current largest_number\n",
    "# and update largest_number if needed.\n",
    "if number2 > largest_number:\n",
    "    largest_number = number2\n",
    "\n",
    "# We check if the third number is larger than current largest_number\n",
    "# and update largest_number if needed.\n",
    "if number3 > largest_number:\n",
    "    largest_number = number3\n",
    "\n",
    "# Print the result\n",
    "print(\"The largest number is:\", largest_number)"
   ]
  },
  {
   "cell_type": "markdown",
   "metadata": {},
   "source": [
    "Este método é significativamente mais simples do que tentar encontrar o maior número ao mesmo tempo, comparando todos os pares de números possíveis (ou seja, o primeiro com o segundo, o segundo com o terceiro, o terceiro com o primeiro). Tente reconstruir o código por si mesmo.\n",
    "\n",
    "    This method is significantly simpler than trying to find the largest number all at once, by comparing all possible pairs of numbers (i.e., first with second, second with third, third with first). Try to rebuild the code for yourself.\n"
   ]
  }
 ],
 "metadata": {
  "kernelspec": {
   "display_name": "Python 3",
   "language": "python",
   "name": "python3"
  },
  "language_info": {
   "codemirror_mode": {
    "name": "ipython",
    "version": 3
   },
   "file_extension": ".py",
   "mimetype": "text/x-python",
   "name": "python",
   "nbconvert_exporter": "python",
   "pygments_lexer": "ipython3",
   "version": "3.7.6"
  }
 },
 "nbformat": 4,
 "nbformat_minor": 4
}
