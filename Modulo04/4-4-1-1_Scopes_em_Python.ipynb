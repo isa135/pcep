{
 "cells": [
  {
   "cell_type": "markdown",
   "metadata": {},
   "source": [
    "##### Funções e scopes\n",
    "\n",
    "    Functions and scopes\n",
    "\n",
    "Vamos começar com uma definição:\n",
    "    \n",
    "    Let's start with a definition:\n",
    "\n",
    "O scope de um nome (por exemplo, um nome de variável) é a parte de um código onde o nome é devidamente reconhecido.\n",
    "    \n",
    "    The scope of a name (e.g., a variable name) is the part of a code where the name is properly recognizable.\n",
    "\n",
    "Por exemplo, o scope do parâmetro de uma função é a própria função. O parâmetro é inacessível fora da função.\n",
    "    \n",
    "    For example, the scope of a function's parameter is the function itself. The parameter is inaccessible outside the function.\n",
    "\n",
    "Vamos verificar. Veja o código no editor. O que acontecerá quando o executar?\n",
    "    \n",
    "    Let's check it. Look at the code in the editor. What will happen when you run it?"
   ]
  },
  {
   "cell_type": "code",
   "execution_count": 1,
   "metadata": {},
   "outputs": [
    {
     "ename": "NameError",
     "evalue": "name 'x' is not defined",
     "output_type": "error",
     "traceback": [
      "\u001b[1;31m---------------------------------------------------------------------------\u001b[0m",
      "\u001b[1;31mNameError\u001b[0m                                 Traceback (most recent call last)",
      "\u001b[1;32m<ipython-input-1-4ad1aaa052ed>\u001b[0m in \u001b[0;36m<module>\u001b[1;34m\u001b[0m\n\u001b[0;32m      3\u001b[0m \u001b[1;33m\u001b[0m\u001b[0m\n\u001b[0;32m      4\u001b[0m \u001b[0mscope_test\u001b[0m\u001b[1;33m(\u001b[0m\u001b[1;33m)\u001b[0m\u001b[1;33m\u001b[0m\u001b[1;33m\u001b[0m\u001b[0m\n\u001b[1;32m----> 5\u001b[1;33m \u001b[0mprint\u001b[0m\u001b[1;33m(\u001b[0m\u001b[0mx\u001b[0m\u001b[1;33m)\u001b[0m\u001b[1;33m\u001b[0m\u001b[1;33m\u001b[0m\u001b[0m\n\u001b[0m",
      "\u001b[1;31mNameError\u001b[0m: name 'x' is not defined"
     ]
    }
   ],
   "source": [
    "def scope_test():\n",
    "    x = 123\n",
    "\n",
    "scope_test()\n",
    "print(x)"
   ]
  },
  {
   "attachments": {
    "image.png": {
     "image/png": "[encoded data removed]"
    }
   },
   "cell_type": "markdown",
   "metadata": {},
   "source": [
    "O programa falhará quando executado. A mensagem de erro lerá:\n",
    "    \n",
    "    The program will fail when run. The error message will read:\n",
    "\n",
    "![image.png](attachment:image.png)\n",
    "\n",
    "Isto é de se esperar.\n",
    "    \n",
    "    This is to be expected.\n",
    "\n",
    "Vamos realizar consigo algumas experiências para lhe mostrar como o Python constrói os scopes, e como pode usar os seus hábitos em seu benefício.\n",
    "    \n",
    "    We're going to conduct some experiments with you to show you how Python constructs scopes, and how you can use its habits to your benefit."
   ]
  },
  {
   "cell_type": "code",
   "execution_count": null,
   "metadata": {},
   "outputs": [],
   "source": []
  }
 ],
 "metadata": {
  "kernelspec": {
   "display_name": "Python 3",
   "language": "python",
   "name": "python3"
  },
  "language_info": {
   "codemirror_mode": {
    "name": "ipython",
    "version": 3
   },
   "file_extension": ".py",
   "mimetype": "text/x-python",
   "name": "python",
   "nbconvert_exporter": "python",
   "pygments_lexer": "ipython3",
   "version": "3.7.6"
  }
 },
 "nbformat": 4,
 "nbformat_minor": 4
}
