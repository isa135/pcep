{
 "cells": [
  {
   "cell_type": "code",
   "execution_count": null,
   "metadata": {},
   "outputs": [],
   "source": [
    "LAB\n",
    "Tempo estimado\n",
    "15-20 minutos\n",
    "Nível de dificuldade\n",
    "Médio\n",
    "Objetivos\n",
    "•\tfamiliarizar o aluno com noções e algoritmos clássicos;\n",
    "•\tmelhorar as habilidades do aluno na definição e utilização de funções.\n",
    "Cenário\n",
    "Um número natural é primo se for maior que 1 e não tiver divisores além de 1 e dele próprio.\n",
    "Complicado? De modo algum. Por exemplo, 8 não é um número primo, uma vez que se pode dividi-lo por 2 e 4 (não podemos utilizar divisores iguais a 1 e 8, uma vez que a definição o proíbe).\n",
    "Por outro lado, 7 é um número primo, uma vez que não conseguimos encontrar quaisquer divisores legais para ele.\n",
    "\n",
    "A sua tarefa é escrever uma função para verificar se um número é primo ou não.\n",
    "A função:\n",
    "•\té chamada is_prime;\n",
    "•\ttoma um argumento (o valor a verificar)\n",
    "•\tdevolve True se o argumento for um número primo, e False caso contrário.\n",
    "Dica: tente dividir o argumento por todos os valores subsequentes (começando por 2) e verifique os restos - se for zero, o seu número não pode ser um primo; pense cuidadosamente sobre quando deve parar o processo.\n",
    "Se precisar de conhecer a raiz quadrada de qualquer valor, pode utilizar o operador ** . Lembre-se: a raiz quadrada de x é o mesmo que x0.5\n",
    "Complete o código no editor.\n",
    "Execute o seu código e verifique se o seu output é o mesmo que o nosso.\n",
    "Output esperado\n",
    "2 3 5 7 11 13 17 19\n",
    "\n",
    "LAB\n",
    "Estimated time\n",
    "15-20 minutes\n",
    "Level of difficulty\n",
    "Medium\n",
    "Objectives\n",
    "•\tfamiliarizing the student with classic notions and algorithms;\n",
    "•\timproving the student's skills in defining and using functions.\n",
    "Scenario\n",
    "A natural number is prime if it is greater than 1 and has no divisors other than 1 and itself.\n",
    "Complicated? Not at all. For example, 8 isn't a prime number, as you can divide it by 2 and 4 (we can't use divisors equal to 1 and 8, as the definition prohibits this).\n",
    "On the other hand, 7 is a prime number, as we can't find any legal divisors for it.\n",
    "\n",
    "\n",
    "Your task is to write a function checking whether a number is prime or not.\n",
    "The function:\n",
    "•\tis called is_prime;\n",
    "•\ttakes one argument (the value to check)\n",
    "•\treturns True if the argument is a prime number, and False otherwise.\n",
    "Hint: try to divide the argument by all subsequent values (starting from 2) and check the remainder - if it's zero, your number cannot be a prime; think carefully about when you should stop the process.\n",
    "If you need to know the square root of any value, you can utilize the ** operator. Remember: the square root of x is the same as x0.5\n",
    "Complete the code in the editor.\n",
    "Run your code and check whether your output is the same as ours.\n",
    "Expected output\n",
    "2 3 5 7 11 13 17 19\n"
   ]
  },
  {
   "cell_type": "code",
   "execution_count": null,
   "metadata": {},
   "outputs": [],
   "source": [
    "def is_prime(num):\n",
    "#\n",
    "# Write your code here.\n",
    "#\n",
    "\n",
    "for i in range(1, 20):\n",
    "\tif is_prime(i + 1):\n",
    "\t\t\tprint(i + 1, end=\" \")\n",
    "print()\n"
   ]
  },
  {
   "cell_type": "code",
   "execution_count": null,
   "metadata": {},
   "outputs": [],
   "source": []
  }
 ],
 "metadata": {
  "kernelspec": {
   "display_name": "Python 3",
   "language": "python",
   "name": "python3"
  },
  "language_info": {
   "codemirror_mode": {
    "name": "ipython",
    "version": 3
   },
   "file_extension": ".py",
   "mimetype": "text/x-python",
   "name": "python",
   "nbconvert_exporter": "python",
   "pygments_lexer": "ipython3",
   "version": "3.7.6"
  }
 },
 "nbformat": 4,
 "nbformat_minor": 4
}
