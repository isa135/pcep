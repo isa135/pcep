{
 "cells": [
  {
   "cell_type": "markdown",
   "metadata": {},
   "source": [
    "LAB\n",
    "\n",
    "\n",
    "Tempo estimado\n",
    "20-30 minutos\n",
    "Nível de dificuldade\n",
    "Médio\n",
    "Objetivos\n",
    "Familiarizar o aluno a:\n",
    "•\ta utilização do loop while ;\n",
    "•\tencontrar a correta implementação de regras definidas verbalmente;\n",
    "•\trefletir situações da vida real em código informático.\n",
    "Cenário\n",
    "Leia esta história: um rapaz e o seu pai, um programador de computador, estão a brincar com blocos de madeira. Eles estão a construir uma pirâmide.\n",
    "A sua pirâmide é um pouco estranha, pois na realidade é uma parede em forma de pirâmide - é plana. A pirâmide é empilhada de acordo com um princípio simples: cada camada inferior contém mais um bloco do que a camada superior.\n",
    "A figura ilustra a regra utilizada pelos construtores:\n",
    " \n",
    "IMAGEM\n",
    "\n",
    "A sua tarefa é escrever um programa que leia o número de blocos que os construtores têm, e que produza a altura da pirâmide que pode ser construída utilizando estes blocos.\n",
    "Nota: a altura é medida pelo número de camadas completamente preenchidas - se os construtores não tiverem um número suficiente de blocos e não conseguirem completar a camada seguinte, terminam o seu trabalho imediatamente.\n",
    "Teste o seu código utilizando os dados por nós fornecidos.\n",
    "\n",
    "\n",
    "Dados de teste\n",
    "\n",
    "\n",
    "Input de amostra: 6\n",
    "Output esperado: The height of the pyramid: 3\n",
    "________________________________________\n",
    "Input de amostra: 20\n",
    "Output esperado: The height of the pyramid: 5\n",
    "________________________________________\n",
    "Input de amostra: 1000\n",
    "Output esperado: The height of the pyramid: 44\n",
    "________________________________________\n",
    "Input de amostra: 2\n",
    "Output esperado: The height of the pyramid: 1"
   ]
  },
  {
   "attachments": {
    "image.png": {
     "image/png": "[encoded data removed]"
    }
   },
   "cell_type": "markdown",
   "metadata": {},
   "source": [
    "![image.png](attachment:image.png)"
   ]
  },
  {
   "cell_type": "code",
   "execution_count": null,
   "metadata": {},
   "outputs": [],
   "source": [
    "LAB\n",
    "\n",
    "\n",
    "Estimated time\n",
    "20-30 minutes\n",
    "Level of difficulty\n",
    "Medium\n",
    "Objectives\n",
    "Familiarize the student with:\n",
    "•\tusing the while loop;\n",
    "•\tfinding the proper implementation of verbally defined rules;\n",
    "•\treflecting real-life situations in computer code.\n",
    "Scenario\n",
    "Listen to this story: a boy and his father, a computer programmer, are playing with wooden blocks. They are building a pyramid.\n",
    "Their pyramid is a bit weird, as it is actually a pyramid-shaped wall - it's flat. The pyramid is stacked according to one simple principle: each lower layer contains one block more than the layer above.\n",
    "The figure illustrates the rule used by the builders:\n",
    " \n",
    "IMAGEM\n",
    "\n",
    "Your task is to write a program which reads the number of blocks the builders have, and outputs the height of the pyramid that can be built using these blocks.\n",
    "Note: the height is measured by the number of fully completed layers - if the builders don't have a sufficient number of blocks and cannot complete the next layer, they finish their work immediately.\n",
    "Test your code using the data we've provided.\n",
    "\n",
    "\n",
    "Test Data\n",
    "\n",
    "\n",
    "Sample input: 6\n",
    "Expected output: The height of the pyramid: 3\n",
    "________________________________________\n",
    "Sample input: 20\n",
    "Expected output: The height of the pyramid: 5\n",
    "________________________________________\n",
    "Sample input: 1000\n",
    "Expected output: The height of the pyramid: 44\n",
    "________________________________________\n",
    "Sample input: 2\n",
    "Expected output: The height of the pyramid: 1\n"
   ]
  },
  {
   "cell_type": "code",
   "execution_count": 1,
   "metadata": {},
   "outputs": [
    {
     "name": "stdout",
     "output_type": "stream",
     "text": [
      "Enter the number of blocks: 3\n"
     ]
    },
    {
     "ename": "NameError",
     "evalue": "name 'height' is not defined",
     "output_type": "error",
     "traceback": [
      "\u001b[1;31m---------------------------------------------------------------------------\u001b[0m",
      "\u001b[1;31mNameError\u001b[0m                                 Traceback (most recent call last)",
      "\u001b[1;32m<ipython-input-1-07ad1b4fc19b>\u001b[0m in \u001b[0;36m<module>\u001b[1;34m\u001b[0m\n\u001b[0;32m      5\u001b[0m \u001b[1;31m#\u001b[0m\u001b[1;33m\u001b[0m\u001b[1;33m\u001b[0m\u001b[1;33m\u001b[0m\u001b[0m\n\u001b[0;32m      6\u001b[0m \u001b[1;33m\u001b[0m\u001b[0m\n\u001b[1;32m----> 7\u001b[1;33m \u001b[0mprint\u001b[0m\u001b[1;33m(\u001b[0m\u001b[1;34m\"The height of the pyramid:\"\u001b[0m\u001b[1;33m,\u001b[0m \u001b[0mheight\u001b[0m\u001b[1;33m)\u001b[0m\u001b[1;33m\u001b[0m\u001b[1;33m\u001b[0m\u001b[0m\n\u001b[0m",
      "\u001b[1;31mNameError\u001b[0m: name 'height' is not defined"
     ]
    }
   ],
   "source": [
    "blocks = int(input(\"Enter the number of blocks: \"))\n",
    "\n",
    "#\n",
    "# Write your code here.\n",
    "#\t\n",
    "\n",
    "print(\"The height of the pyramid:\", height)\n"
   ]
  },
  {
   "cell_type": "code",
   "execution_count": null,
   "metadata": {},
   "outputs": [],
   "source": []
  }
 ],
 "metadata": {
  "kernelspec": {
   "display_name": "Python 3",
   "language": "python",
   "name": "python3"
  },
  "language_info": {
   "codemirror_mode": {
    "name": "ipython",
    "version": 3
   },
   "file_extension": ".py",
   "mimetype": "text/x-python",
   "name": "python",
   "nbconvert_exporter": "python",
   "pygments_lexer": "ipython3",
   "version": "3.7.6"
  }
 },
 "nbformat": 4,
 "nbformat_minor": 4
}
