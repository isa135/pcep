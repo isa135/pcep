{
 "cells": [
  {
   "attachments": {
    "image.png": {
     "image/png": "[encoded data removed]"
    }
   },
   "cell_type": "markdown",
   "metadata": {},
   "source": [
    "Listas em listas: arrays bidimensionais\n",
    "    \n",
    "    Lists in lists: two-dimensional arrays\n",
    "\n",
    "Vamos também assumir que um símbolo pré-definido chamado EMPTY designa um campo vazio no tabuleiro de xadrez.\n",
    "    \n",
    "    Let's also assume that a predefined symbol named EMPTY designates an empty field on the chessboard.\n",
    "\n",
    "Assim, se quisermos criar uma lista de listas representando todo o tabuleiro de xadrez, isso pode ser feito da seguinte forma:\n",
    "    \n",
    "    So, if we want to create a list of lists representing the whole chessboard, it may be done in the following way:\n",
    "    \n",
    "![image.png](attachment:image.png)"
   ]
  },
  {
   "cell_type": "code",
   "execution_count": 2,
   "metadata": {},
   "outputs": [
    {
     "name": "stdout",
     "output_type": "stream",
     "text": [
      "[['-', '-', '-', '-', '-', '-', '-', '-'], ['-', '-', '-', '-', '-', '-', '-', '-'], ['-', '-', '-', '-', '-', '-', '-', '-'], ['-', '-', '-', '-', '-', '-', '-', '-'], ['-', '-', '-', '-', '-', '-', '-', '-'], ['-', '-', '-', '-', '-', '-', '-', '-'], ['-', '-', '-', '-', '-', '-', '-', '-'], ['-', '-', '-', '-', '-', '-', '-', '-']]\n"
     ]
    }
   ],
   "source": [
    "board = []\n",
    "EMPTY = \"-\"\n",
    "\n",
    "for i in range(8):\n",
    "    row = [EMPTY for i in range(8)]\n",
    "    board.append(row)\n",
    "    \n",
    "print(board)"
   ]
  },
  {
   "cell_type": "markdown",
   "metadata": {},
   "source": [
    "Nota:\n",
    "\n",
    "•\ta parte interior do loop cria uma linha composta por oito elementos (cada um deles igual a EMPTY) e anexa-o à lista board ;\n",
    "\n",
    "    •\tthe inner part of the loop creates a row consisting of eight elements (each of them equal to EMPTY) and appends it to the board list;\n",
    "    \n",
    "•\ta parte externa repete-o oito vezes;\n",
    "    \n",
    "    •\tthe outer part repeats it eight times;\n",
    "    \n",
    "•\tno total, a lista board consiste em 64 elementos (todos iguais a EMPTY)\n",
    "\n",
    "    •\tin total, the board list consists of 64 elements (all equal to EMPTY)\n",
    "    \n",
    "Este modelo imita perfeitamente o verdadeiro tabuleiro de xadrez, que é de fato uma lista de oito elementos, sendo todos eles filas únicas. Vamos resumir as nossas observações:\n",
    "    \n",
    "    This model perfectly mimics the real chessboard, which is in fact an eight-element list of elements, all being single rows. Let's summarize our observations:\n",
    "\n",
    "•\tos elementos das filas são campos, oito deles por fila;\n",
    "\n",
    "    •\tthe elements of the rows are fields, eight of them per row;\n",
    "    \n",
    "•\tos elementos do tabuleiro de xadrez são linhas, oito delas por tabuleiro de xadrez.\n",
    "\n",
    "    •\tthe elements of the chessboard are rows, eight of them per chessboard.\n",
    "    \n",
    "A variável board é agora um array bidimensional. Também é chamada, por analogia aos termos algébricos, uma matriz.\n",
    "    \n",
    "    The board variable is now a two-dimensional array. It's also called, by analogy to algebraic terms, a matrix.\n",
    "    \n",
    "Como as compreensões de lista podem ser nested, podemos encurtar a criação do tabuleiro da seguinte forma:\n",
    "    \n",
    "    As list comprehensions can be nested, we can shorten the board creation in the following way:"
   ]
  },
  {
   "cell_type": "code",
   "execution_count": 4,
   "metadata": {},
   "outputs": [
    {
     "name": "stdout",
     "output_type": "stream",
     "text": [
      "[['-', '-', '-', '-', '-', '-', '-', '-'], ['-', '-', '-', '-', '-', '-', '-', '-'], ['-', '-', '-', '-', '-', '-', '-', '-'], ['-', '-', '-', '-', '-', '-', '-', '-'], ['-', '-', '-', '-', '-', '-', '-', '-'], ['-', '-', '-', '-', '-', '-', '-', '-'], ['-', '-', '-', '-', '-', '-', '-', '-'], ['-', '-', '-', '-', '-', '-', '-', '-']]\n"
     ]
    }
   ],
   "source": [
    "board = [[EMPTY for i in range(8)] for j in range(8)]\n",
    "print(board)"
   ]
  },
  {
   "cell_type": "markdown",
   "metadata": {},
   "source": [
    "A parte interior cria uma fila, e a parte exterior constrói uma lista de filas.\n",
    "    \n",
    "    The inner part creates a row, and the outer part builds a list of rows.\n"
   ]
  },
  {
   "cell_type": "code",
   "execution_count": null,
   "metadata": {},
   "outputs": [],
   "source": []
  }
 ],
 "metadata": {
  "kernelspec": {
   "display_name": "Python 3",
   "language": "python",
   "name": "python3"
  },
  "language_info": {
   "codemirror_mode": {
    "name": "ipython",
    "version": 3
   },
   "file_extension": ".py",
   "mimetype": "text/x-python",
   "name": "python",
   "nbconvert_exporter": "python",
   "pygments_lexer": "ipython3",
   "version": "3.7.6"
  }
 },
 "nbformat": 4,
 "nbformat_minor": 4
}
