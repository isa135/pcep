{
 "cells": [
  {
   "cell_type": "markdown",
   "metadata": {},
   "source": [
    "##### Tuples e dicionários podem trabalhar em conjunto\n",
    "\n",
    "    Tuples and dictionaries can work together\n",
    "\n",
    "Preparámos um exemplo simples, mostrando como tuples e dicionários podem trabalhar em conjunto.\n",
    "    \n",
    "    We've prepared a simple example, showing how tuples and dictionaries can work together.\n",
    "\n",
    "Vamos imaginar o seguinte problema:\n",
    "    \n",
    "    Let's imagine the following problem:\n",
    "    \n",
    "•\té necessário um programa para avaliar as notas médias dos alunos;\n",
    "    \n",
    "    •\tyou need a program to evaluate the students' average scores;\n",
    "    \n",
    "•\to programa deve pedir o nome do aluno, seguido da sua pontuação única;\n",
    "    \n",
    "    •\tthe program should ask for the student's name, followed by her/his single score;\n",
    "    \n",
    "•\tOs nomes podem ser indicados em qualquer ordem;\n",
    "\n",
    "    •\tthe names may be entered in any order;\n",
    "    \n",
    "•\ta introdução de um nome vazio termina a introdução dos dados (nota 1: a introdução de uma pontuação vazia levantará a exceção ValueError, mas não se preocupe com isso agora, verá como lidar com tais casos quando falarmos de exceções na segunda parte da série de cursos Python Essentials)\n",
    "    \n",
    "    •\tentering an empty name finishes the inputting of the data (note 1: entering an empty score will raise the ValueError exception, but don't worry about that now, you'll see how to handle such cases when we talk about exceptions in the second part of the Python Essentials course series)\n",
    "\n",
    "•\tuma lista de todos os nomes, juntamente com a pontuação média avaliada, deve então ser emitida.\n",
    "\n",
    "    •\ta list of all names, together with the evaluated average score, should be then emitted.\n",
    "    \n",
    "Veja o código no editor. Esta é a forma de o fazer.\n",
    "    \n",
    "    Look at the code in the editor. This how to do it."
   ]
  },
  {
   "cell_type": "code",
   "execution_count": 4,
   "metadata": {},
   "outputs": [
    {
     "name": "stdout",
     "output_type": "stream",
     "text": [
      "Enter the student's name: Isa\n",
      "Enter the student's score (0-10): 8\n",
      "Enter the student's name: Isa\n",
      "Enter the student's score (0-10): 10\n",
      "Enter the student's name: Isa\n",
      "Enter the student's score (0-10): 5\n",
      "Enter the student's name: \n",
      "Isa : 7.666666666666667\n"
     ]
    }
   ],
   "source": [
    "school_class = {}\n",
    "\n",
    "while True:\n",
    "    name = input(\"Enter the student's name: \")\n",
    "    if name == '':\n",
    "        break\n",
    "    \n",
    "    score = int(input(\"Enter the student's score (0-10): \"))\n",
    "    if score not in range(0, 11):\n",
    "\t    break\n",
    "    \n",
    "    if name in school_class:\n",
    "        school_class[name] += (score,)\n",
    "    else:\n",
    "        school_class[name] = (score,)\n",
    "        \n",
    "for name in sorted(school_class.keys()):\n",
    "    adding = 0\n",
    "    counter = 0\n",
    "    for score in school_class[name]:\n",
    "        adding += score\n",
    "        counter += 1\n",
    "    print(name, \":\", adding / counter)\n"
   ]
  },
  {
   "attachments": {
    "image.png": {
     "image/png": "[encoded data removed]"
    }
   },
   "cell_type": "markdown",
   "metadata": {},
   "source": [
    "Agora, vamos analisá-lo linha a linha:\n",
    "    \n",
    "    Now, let's analyze it line by line:\n",
    "    \n",
    "•\tlinha 1: criar um dicionário vazio para os dados introduzidos; o nome do aluno é usado como chave, enquanto todas as notas associadas são armazenadas num tuple (o tuple pode ser um valor de dicionário - isso não é um problema)\n",
    "\n",
    "    •\tline 1: create an empty dictionary for the input data; the student's name is used as a key, while all the associated scores are stored in a tuple (the tuple may be a dictionary value - that's not a problem at all)\n",
    "    \n",
    "•\tlinha 3: entrar num loop \"infinito\" (não se preocupe, vai quebrar-se no momento certo)\n",
    "\n",
    "    •\tline 3: enter an \"infinite\" loop (don't worry, it'll break at the right moment)\n",
    "    \n",
    "•\tlinha 4: ler o nome do aluno aqui;\n",
    "\n",
    "    •\tline 4: read the student's name here;\n",
    "    \n",
    "•\tlinha 5-6: se o nome for uma string vazia (), leave the loop;\n",
    "\n",
    "    •\tline 5-6: if the name is an empty string (), leave the loop;\n",
    "    \n",
    "•\tlinha 8: pedir uma das pontuações do aluno (um inteiro do intervalo 0-10)\n",
    "\n",
    "    •\tline 8: ask for one of the student's scores (an integer from the range 0-10)\n",
    "    \n",
    "•\tlinha 9-10: se a pontuação introduzida não estiver dentro do intervalo de 0 a 10, deixar o loop;\n",
    "\n",
    "    •\tline 9-10: if the score entered is not within the range from 0 to 10, leave the loop;\n",
    "    \n",
    "•\tlinha 12-13: se o nome do aluno já estiver no dicionário, alongar o tuple associado com a nova pontuação (note o operador +=)\n",
    "\n",
    "    •\tline 12-13: if the student's name is already in the dictionary, lengthen the associated tuple with the new score (note the += operator)\n",
    "    \n",
    "•\tlinha 14-15: se este for um novo aluno (desconhecido do dicionário), criar uma nova entrada - o seu valor é um tuple de um elemento contendo a pontuação introduzida;\n",
    "    \n",
    "    •\tline 14-15: if this is a new student (unknown to the dictionary), create a new entry - its value is a one-element tuple containing the entered score;\n",
    "    \n",
    "•\tlinha 17: iterar através dos nomes dos alunos ordenados;\n",
    "    \n",
    "    •\tline 17: iterate through the sorted students' names;\n",
    "    \n",
    "•\tlinha 18-19: inicializar os dados necessários para avaliar a média (soma e contador)\n",
    "    \n",
    "    •\tline 18-19: initialize the data needed to evaluate the average (sum and counter)\n",
    "    \n",
    "•\tlinha 20-22: iteramos através do tuple, tomando todas as pontuações subsequentes e atualizando a soma, juntamente com o contador;\n",
    "\n",
    "    •\tline 20-22: we iterate through the tuple, taking all the subsequent scores and updating the sum, together with the counter;\n",
    "    \n",
    "•\tlinha 23: avaliar e imprimir o nome e a pontuação média do aluno.\n",
    "\n",
    "    •\tline 23: evaluate and print the student's name and average score.\n",
    "\n",
    "Este é um registo de uma conversa que tivemos com o nosso programa:\n",
    "    \n",
    "    This is a record of a conversation we had with our program:\n",
    "\n",
    "![image.png](attachment:image.png)\n"
   ]
  },
  {
   "cell_type": "code",
   "execution_count": null,
   "metadata": {},
   "outputs": [],
   "source": []
  }
 ],
 "metadata": {
  "kernelspec": {
   "display_name": "Python 3",
   "language": "python",
   "name": "python3"
  },
  "language_info": {
   "codemirror_mode": {
    "name": "ipython",
    "version": 3
   },
   "file_extension": ".py",
   "mimetype": "text/x-python",
   "name": "python",
   "nbconvert_exporter": "python",
   "pygments_lexer": "ipython3",
   "version": "3.7.6"
  }
 },
 "nbformat": 4,
 "nbformat_minor": 4
}
