{
 "cells": [
  {
   "cell_type": "markdown",
   "metadata": {},
   "source": [
    "LAB\n",
    "\n",
    "Tempo estimado: 10-15 minutos\n",
    "\n",
    "Nível de dificuldade: Fácil\n",
    "Objetivos\n",
    "\n",
    "Familiarizar o aluno a:\n",
    "\n",
    "•\tindexação de lista;\n",
    "\n",
    "•\tutilizar os operadores in e not in .\n",
    "\n",
    "    Familiarize the student with:\n",
    "    \n",
    "    •\tlist indexing;\n",
    "\n",
    "    •\tutilizing the in and not in operators.\n",
    "\n",
    "Cenário\n",
    "\n",
    "Imagine uma lista - não muito longa, não muito complicada, apenas uma simples lista contendo alguns números inteiros. Alguns desses números podem ser repetidos, e esta é a pista. Não queremos repetições. Queremos que sejam removidas.\n",
    "    \n",
    "    Imagine a list - not very long, not very complicated, just a simple list containing some integer numbers. Some of these numbers may be repeated, and this is the clue. We don't want any repetitions. We want them to be removed.\n",
    "\n",
    "A sua tarefa é escrever um programa que remova todas as repetições de números da lista. O objetivo é ter uma lista na qual todos os números não aparecem mais de uma vez.\n",
    "    \n",
    "    Your task is to write a program which removes all the number repetitions from the list. The goal is to have a list in which all the numbers appear not more than once.\n",
    "\n",
    "Nota: suponha que a source list está codificada dentro do código - não tem de a introduzir a partir do teclado. É claro que pode melhorar o código e adicionar uma parte que pode realizar uma conversa com o utilizador e obter todos os dados a partir dele.\n",
    "    \n",
    "    Note: assume that the source list is hard-coded inside the code - you don't have to enter it from the keyboard. Of course, you can improve the code and add a part that can carry out a conversation with the user and obtain all the data from her/him.\n",
    "\n",
    "Dica: encorajamo-lo a criar uma nova lista como área de trabalho temporária - não precisa de atualizar a lista in situ.\n",
    "    \n",
    "    Hint: we encourage you to create a new list as a temporary work area - you don't need to update the list in situ.\n",
    "\n",
    "Não fornecemos dados de teste, pois isso seria demasiado fácil. Pode usar o nosso esqueleto em vez disso.\n",
    "    \n",
    "    We've provided no test data, as that would be too easy. You can use our skeleton instead."
   ]
  },
  {
   "cell_type": "code",
   "execution_count": null,
   "metadata": {},
   "outputs": [],
   "source": [
    "my_list = [1, 2, 4, 4, 1, 4, 2, 6, 2, 9]\n",
    "#\n",
    "# Write your code here.\n",
    "#\n",
    "print(\"The list with unique elements only:\")\n",
    "print(my_list)\n"
   ]
  }
 ],
 "metadata": {
  "kernelspec": {
   "display_name": "Python 3",
   "language": "python",
   "name": "python3"
  },
  "language_info": {
   "codemirror_mode": {
    "name": "ipython",
    "version": 3
   },
   "file_extension": ".py",
   "mimetype": "text/x-python",
   "name": "python",
   "nbconvert_exporter": "python",
   "pygments_lexer": "ipython3",
   "version": "3.7.6"
  }
 },
 "nbformat": 4,
 "nbformat_minor": 4
}
