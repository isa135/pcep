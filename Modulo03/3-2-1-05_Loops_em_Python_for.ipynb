{
 "cells": [
  {
   "cell_type": "markdown",
   "metadata": {},
   "source": [
    "##### Mais sobre o loop for e a range() função com três argumentos\n",
    "    \n",
    "    More about the for loop and the range() function with three arguments\n",
    "\n",
    "A função range() também pode aceitar três argumentos - dê uma vista de olhos ao código no editor.\n",
    "    \n",
    "    The range() function may also accept three arguments - take a look at the code in the editor.\n",
    "\n",
    "O terceiro argumento é um incremento - é um valor acrescentado para controlar a variável em cada volta do loop (como se pode suspeitar, o valor por defeito do incremento é 1).\n",
    "    \n",
    "    The third argument is an increment - it's a value added to control the variable at every loop turn (as you may suspect, the default value of the increment is 1).\n",
    "\n",
    "Consegue dizer-nos quantas linhas irão aparecer no console, e que valores irão conter?\n",
    "    \n",
    "    Can you tell us how many lines will appear in the console and what values they will contain?\n",
    "\n",
    "Execute o programa para saber se estava certo.\n",
    "    \n",
    "    Run the program to find out if you were right."
   ]
  },
  {
   "cell_type": "code",
   "execution_count": 1,
   "metadata": {},
   "outputs": [
    {
     "name": "stdout",
     "output_type": "stream",
     "text": [
      "The value of i is currently 2\n",
      "The value of i is currently 5\n"
     ]
    }
   ],
   "source": [
    "for i in range(2, 8, 3):\n",
    "    print(\"The value of i is currently\", i)"
   ]
  },
  {
   "attachments": {
    "image.png": {
     "image/png": "[encoded data removed]"
    }
   },
   "cell_type": "markdown",
   "metadata": {},
   "source": [
    "Deve ser capaz de ver as seguintes linhas na janela da consola:\n",
    "    \n",
    "    You should be able to see the following lines in the console window:\n",
    "    \n",
    "![image.png](attachment:image.png)"
   ]
  },
  {
   "cell_type": "markdown",
   "metadata": {},
   "source": [
    "Sabe porquê? O primeiro argumento passado para a função range() diz-nos qual o número inicial da sequência (logo, 2 no output). O segundo argumento informa à função onde parar a sequência (a função gera números até ao número indicado pelo segundo argumento, mas não o inclui). Finalmente, o terceiro argumento indica a etapa, que na realidade significa a diferença entre cada número na sequência de números gerados pela função.\n",
    "    \n",
    "    Do you know why? The first argument passed to the range() function tells us what the starting number of the sequence is (hence 2 in the output). The second argument tells the function where to stop the sequence (the function generates numbers up to the number indicated by the second argument, but does not include it). Finally, the third argument indicates the step, which actually means the difference between each number in the sequence of numbers generated by the function.\n",
    "\n",
    "2 (número inicial) → 5 (2 incremento de 3 é igual a 5 - o número está dentro do intervalo de 2 a 8) → 8 (5 incremento de 3 é igual a 8 - o número não está dentro do intervalo de 2 a 8, porque o parâmetro stop não está incluído na sequência de números gerados pela função.)\n",
    "    \n",
    "    2 (starting number) → 5 (2 increment by 3 equals 5 - the number is within the range from 2 to 8) → 8 (5 increment by 3 equals 8 - the number is not within the range from 2 to 8, because the stop parameter is not included in the sequence of numbers generated by the function.)\n",
    "\n",
    "Nota: se o conjunto gerado pela função range() está vazio, o loop não irá executar de todo o seu corpo.\n",
    "    \n",
    "    Note: if the set generated by the range() function is empty, the loop won't execute its body at all.\n",
    "\n",
    "Tal como aqui - não haverá output:\n",
    "    \n",
    "    Just like here - there will be no output:"
   ]
  },
  {
   "cell_type": "code",
   "execution_count": 2,
   "metadata": {},
   "outputs": [],
   "source": [
    "for i in range(1, 1):\n",
    "    print(\"The value of i is currently\", i)"
   ]
  },
  {
   "cell_type": "markdown",
   "metadata": {},
   "source": [
    "Nota: o conjunto gerado pelo range() tem de estar ordenado por ordem crescente. Não há como forçar o range() a criar um conjunto de uma forma diferente quando a função range() aceita exatamente dois argumentos. Isto significa que o segundo argumento de range()deve ser maior que o primeiro.\n",
    "    \n",
    "    Note: the set generated by the range() has to be sorted in ascending order. There's no way to force the range() to create a set in a different form when the range() function accepts exactly two arguments. This means that the range()'s second argument must be greater than the first.\n",
    "\n",
    "Logo, também não haverá output aqui:\n",
    "    \n",
    "    Thus, there will be no output here, either:"
   ]
  },
  {
   "cell_type": "code",
   "execution_count": 3,
   "metadata": {},
   "outputs": [],
   "source": [
    "for i in range(2, 1):\n",
    "    print(\"The value of i is currently\", i)"
   ]
  },
  {
   "cell_type": "markdown",
   "metadata": {},
   "source": [
    "Vamos dar uma vista de olhos num programa curto, cuja tarefa é escrever algumas das primeiras potências de dois:\n",
    "    \n",
    "    Let's have a look at a short program whose task is to write some of the first powers of two:"
   ]
  },
  {
   "cell_type": "code",
   "execution_count": 4,
   "metadata": {},
   "outputs": [
    {
     "name": "stdout",
     "output_type": "stream",
     "text": [
      "2 to the power of 0 is 1\n",
      "2 to the power of 1 is 2\n",
      "2 to the power of 2 is 4\n",
      "2 to the power of 3 is 8\n",
      "2 to the power of 4 is 16\n",
      "2 to the power of 5 is 32\n",
      "2 to the power of 6 is 64\n",
      "2 to the power of 7 is 128\n",
      "2 to the power of 8 is 256\n",
      "2 to the power of 9 is 512\n",
      "2 to the power of 10 is 1024\n",
      "2 to the power of 11 is 2048\n",
      "2 to the power of 12 is 4096\n",
      "2 to the power of 13 is 8192\n",
      "2 to the power of 14 is 16384\n",
      "2 to the power of 15 is 32768\n"
     ]
    }
   ],
   "source": [
    "power = 1\n",
    "for expo in range(16):\n",
    "    print(\"2 to the power of\", expo, \"is\", power)\n",
    "    power *= 2"
   ]
  },
  {
   "attachments": {
    "image.png": {
     "image/png": "[encoded data removed]"
    }
   },
   "cell_type": "markdown",
   "metadata": {},
   "source": [
    "A expo variável é usada como uma variável de controlo para o loop, e indica o valor atual do expoente. A exponenciação em si é substituída pela multiplicação por dois. \n",
    "Uma vez que ![image.png](attachment:image.png) \n",
    "é igual a 1, então 2 x; 1 é igual a 21, 2 x; 21 é igual a 22, e assim por diante. Qual é o maior expoente para o qual o nosso programa ainda imprime o resultado?"
   ]
  },
  {
   "attachments": {
    "image.png": {
     "image/png": "[encoded data removed]"
    }
   },
   "cell_type": "markdown",
   "metadata": {},
   "source": [
    "![image.png](attachment:image.png)"
   ]
  },
  {
   "cell_type": "markdown",
   "metadata": {},
   "source": [
    "Execute o código e verifique se o output corresponde às suas expetativas.\n",
    "    \n",
    "    Run the code and check if the output matches your expectations."
   ]
  },
  {
   "cell_type": "code",
   "execution_count": null,
   "metadata": {},
   "outputs": [],
   "source": []
  }
 ],
 "metadata": {
  "kernelspec": {
   "display_name": "Python 3",
   "language": "python",
   "name": "python3"
  },
  "language_info": {
   "codemirror_mode": {
    "name": "ipython",
    "version": 3
   },
   "file_extension": ".py",
   "mimetype": "text/x-python",
   "name": "python",
   "nbconvert_exporter": "python",
   "pygments_lexer": "ipython3",
   "version": "3.7.6"
  }
 },
 "nbformat": 4,
 "nbformat_minor": 4
}
