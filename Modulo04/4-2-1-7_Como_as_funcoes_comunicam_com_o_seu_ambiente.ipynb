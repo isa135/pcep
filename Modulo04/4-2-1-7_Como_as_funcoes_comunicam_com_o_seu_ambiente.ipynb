{
 "cells": [
  {
   "cell_type": "markdown",
   "metadata": {},
   "source": [
    "Funções parametrizadas - mais detalhes\n",
    "    \n",
    "    Parametrized functions - more details\n",
    "\n",
    "Acontece por vezes que os valores de um determinado parâmetro são utilizados com mais frequência do que outros. Tais argumentos podem ter os seus valores padrão (predefinidos) tomados em consideração quando os seus argumentos correspondentes tiverem sido omitidos.\n",
    "    \n",
    "    It happens at times that a particular parameter's values are in use more often than others. Such arguments may have their default (predefined) values taken into consideration when their corresponding arguments have been omitted.\n",
    "\n",
    "Dizem que o apelido inglês mais popular é Smith. Vamos tentar ter isto em conta.\n",
    "    \n",
    "    They say that the most popular English last name is Smith. Let's try to take this into account.\n",
    "\n",
    "O valor padrão do parâmetro é definido usando uma sintaxe clara e pictórica:\n",
    "    \n",
    "    The default parameter's value is set using clear and pictorial syntax:"
   ]
  },
  {
   "cell_type": "code",
   "execution_count": 1,
   "metadata": {},
   "outputs": [],
   "source": [
    "def introduction(first_name, last_name=\"Smith\"):\n",
    "    print(\"Hello, my name is\", first_name, last_name)\n",
    "\n",
    "# Call the function here.\n"
   ]
  },
  {
   "cell_type": "markdown",
   "metadata": {},
   "source": [
    "Só tem de estender o nome do parâmetro com o sinal = , seguido pelo valor padrão.\n",
    "    \n",
    "    You only have to extend the parameter's name with the = sign, followed by the default value.\n",
    "\n",
    "Vamos invocar a função como de costume:\n",
    "    \n",
    "    Let's invoke the function as usual:"
   ]
  },
  {
   "cell_type": "code",
   "execution_count": 2,
   "metadata": {},
   "outputs": [
    {
     "name": "stdout",
     "output_type": "stream",
     "text": [
      "Hello, my name is James Doe\n"
     ]
    }
   ],
   "source": [
    "introduction(\"James\", \"Doe\")"
   ]
  },
  {
   "cell_type": "markdown",
   "metadata": {},
   "source": [
    "Consegue adivinhar o output do programa? Execute-o e verifique se estava certo.\n",
    "    \n",
    "    Can you guess the output of the program? Run it and check if you were right.\n",
    "\n",
    "Então? Tudo parece igual, mas quando se invoca a função de uma forma que à primeira vista parece um pouco suspeita, como esta:\n",
    "    \n",
    "    And? Everything looks the same, but when you invoke the function in a way that looks a bit suspicious at first sight, like this:"
   ]
  },
  {
   "cell_type": "code",
   "execution_count": 3,
   "metadata": {},
   "outputs": [
    {
     "name": "stdout",
     "output_type": "stream",
     "text": [
      "Hello, my name is Henry Smith\n"
     ]
    }
   ],
   "source": [
    "introduction(\"Henry\")"
   ]
  },
  {
   "cell_type": "markdown",
   "metadata": {},
   "source": [
    "ou esta:\n",
    "    \n",
    "    or this:"
   ]
  },
  {
   "cell_type": "code",
   "execution_count": 6,
   "metadata": {},
   "outputs": [
    {
     "name": "stdout",
     "output_type": "stream",
     "text": [
      "Hello, my name is William Smith\n"
     ]
    }
   ],
   "source": [
    "introduction(first_name=\"William\")"
   ]
  },
  {
   "attachments": {
    "image.png": {
     "image/png": "[encoded data removed]"
    }
   },
   "cell_type": "markdown",
   "metadata": {},
   "source": [
    "não haverá nenhum erro, ambas as invocações serão bem sucedidas, e a consola mostrará o seguinte output:\n",
    "    \n",
    "    there will be no error, and both invocations will succeed, while the console will show the following output:\n",
    "\n",
    "![image.png](attachment:image.png)\n",
    "\n",
    "Teste-o.\n",
    "    \n",
    "    Test it.\n",
    "\n",
    "Pode ir mais além se for útil. Ambos os parâmetros têm agora os seus valores padrão, veja o código em baixo:\n",
    "\n",
    "    You can go further if it's useful. Both parameters have their default values now, look at the code below:"
   ]
  },
  {
   "cell_type": "code",
   "execution_count": 7,
   "metadata": {},
   "outputs": [],
   "source": [
    "def introduction(first_name=\"John\", last_name=\"Smith\"):\n",
    "    print(\"Hello, my name is\", first_name, last_name)"
   ]
  },
  {
   "cell_type": "markdown",
   "metadata": {},
   "source": [
    "Isto faz com que a seguinte invocação seja absolutamente válida:\n",
    "    \n",
    "    This makes the following invocation absolutely valid:"
   ]
  },
  {
   "cell_type": "code",
   "execution_count": 8,
   "metadata": {},
   "outputs": [
    {
     "name": "stdout",
     "output_type": "stream",
     "text": [
      "Hello, my name is John Smith\n"
     ]
    }
   ],
   "source": [
    "introduction()"
   ]
  },
  {
   "attachments": {
    "image.png": {
     "image/png": "[encoded data removed]"
    }
   },
   "cell_type": "markdown",
   "metadata": {},
   "source": [
    "E este é o output esperado:\n",
    "    \n",
    "    And this is the expected output:\n",
    "\n",
    "![image.png](attachment:image.png)\n",
    "\n",
    "Se utilizar um argumento de keyword, o restante tomará o valor padrão:\n",
    "    \n",
    "    If you use one keyword argument, the remaining one will take the default value:"
   ]
  },
  {
   "cell_type": "code",
   "execution_count": 9,
   "metadata": {},
   "outputs": [
    {
     "name": "stdout",
     "output_type": "stream",
     "text": [
      "Hello, my name is John Hopkins\n"
     ]
    }
   ],
   "source": [
    "introduction(last_name=\"Hopkins\")"
   ]
  },
  {
   "cell_type": "markdown",
   "metadata": {},
   "source": [
    "Teste-o.\n",
    "    \n",
    "    Test it.\n",
    "\n",
    "Parabéns - acabou de aprender as formas básicas de comunicar com funções.\n",
    "    \n",
    "    Congratulations - you have just learned the basic ways of communicating with functions."
   ]
  },
  {
   "cell_type": "code",
   "execution_count": null,
   "metadata": {},
   "outputs": [],
   "source": []
  }
 ],
 "metadata": {
  "kernelspec": {
   "display_name": "Python 3",
   "language": "python",
   "name": "python3"
  },
  "language_info": {
   "codemirror_mode": {
    "name": "ipython",
    "version": 3
   },
   "file_extension": ".py",
   "mimetype": "text/x-python",
   "name": "python",
   "nbconvert_exporter": "python",
   "pygments_lexer": "ipython3",
   "version": "3.7.6"
  }
 },
 "nbformat": 4,
 "nbformat_minor": 4
}
