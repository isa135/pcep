{
 "cells": [
  {
   "cell_type": "markdown",
   "metadata": {},
   "source": [
    "##### Listas em ação\n",
    "    \n",
    "    Lists in action\n",
    "\n",
    "Deixemos as listas de lado por um breve momento e vejamos uma questão intrigante.\n",
    "    \n",
    "    Let's leave lists aside for a short moment and look at one intriguing issue.\n",
    "\n",
    "Imagine que precisa de reorganizar os elementos de uma lista, ou seja, inverter a ordem dos elementos: o primeiro e o quinto, bem como o segundo e o quarto elementos serão trocados. O terceiro permanecerá intocado.\n",
    "    \n",
    "    Imagine that you need to rearrange the elements of a list, i.e., reverse the order of the elements: the first and the fifth as well as the second and fourth elements will be swapped. The third one will remain untouched.\n",
    "\n",
    "Pergunta: como se pode trocar os valores de duas variáveis?\n",
    "    \n",
    "    Question: how can you swap the values of two variables?\n",
    "\n",
    "Veja o snippet:\n",
    "    \n",
    "    Take a look at the snippet:"
   ]
  },
  {
   "cell_type": "code",
   "execution_count": 3,
   "metadata": {},
   "outputs": [
    {
     "name": "stdout",
     "output_type": "stream",
     "text": [
      "1\n",
      "1\n"
     ]
    }
   ],
   "source": [
    "variable_1 = 1\n",
    "variable_2 = 2\n",
    "\n",
    "variable_2 = variable_1\n",
    "variable_1 = variable_2\n",
    "\n",
    "print(variable_1)\n",
    "print(variable_2)"
   ]
  },
  {
   "cell_type": "markdown",
   "metadata": {},
   "source": [
    "Se fizer algo como isto, perderá o valor previamente armazenado em variable_2. Alterar a ordem das atribuições não ajudará. É necessária uma terceira variável que sirva como armazenamento auxiliar.\n",
    "    \n",
    "    If you do something like this, you would lose the value previously stored in variable_2. Changing the order of the assignments will not help. You need a third variable that serves as an auxiliary storage.\n",
    "    \n",
    "É assim que se pode fazer:\n",
    "    \n",
    "    This is how you can do it:"
   ]
  },
  {
   "cell_type": "code",
   "execution_count": 5,
   "metadata": {},
   "outputs": [
    {
     "name": "stdout",
     "output_type": "stream",
     "text": [
      "2\n",
      "1\n",
      "1\n"
     ]
    }
   ],
   "source": [
    "variable_1 = 1\n",
    "variable_2 = 2\n",
    "\n",
    "auxiliary = variable_1\n",
    "variable_1 = variable_2\n",
    "variable_2 = auxiliary\n",
    "\n",
    "print(variable_1)\n",
    "print(variable_2)\n",
    "print(auxiliary)"
   ]
  },
  {
   "cell_type": "markdown",
   "metadata": {},
   "source": [
    "O Python oferece uma forma mais conveniente de fazer a troca - veja:\n",
    "    \n",
    "    Python offers a more convenient way of doing the swap - take a look:"
   ]
  },
  {
   "cell_type": "code",
   "execution_count": 6,
   "metadata": {},
   "outputs": [
    {
     "name": "stdout",
     "output_type": "stream",
     "text": [
      "2\n",
      "1\n"
     ]
    }
   ],
   "source": [
    "variable_1 = 1\n",
    "variable_2 = 2\n",
    "\n",
    "variable_1, variable_2 = variable_2, variable_1\n",
    "\n",
    "print(variable_1)\n",
    "print(variable_2)"
   ]
  },
  {
   "cell_type": "markdown",
   "metadata": {},
   "source": [
    "Claro, eficaz e elegante - não é?\n",
    "    \n",
    "    Clear, effective and elegant - isn't it?"
   ]
  },
  {
   "cell_type": "code",
   "execution_count": null,
   "metadata": {},
   "outputs": [],
   "source": []
  }
 ],
 "metadata": {
  "kernelspec": {
   "display_name": "Python 3",
   "language": "python",
   "name": "python3"
  },
  "language_info": {
   "codemirror_mode": {
    "name": "ipython",
    "version": 3
   },
   "file_extension": ".py",
   "mimetype": "text/x-python",
   "name": "python",
   "nbconvert_exporter": "python",
   "pygments_lexer": "ipython3",
   "version": "3.7.6"
  }
 },
 "nbformat": 4,
 "nbformat_minor": 4
}
