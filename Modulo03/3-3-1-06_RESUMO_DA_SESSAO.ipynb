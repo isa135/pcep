{
 "cells": [
  {
   "attachments": {
    "image.png": {
     "image/png": "[encoded data removed]"
    }
   },
   "cell_type": "markdown",
   "metadata": {},
   "source": [
    "##### Key takeaways\n",
    "\n",
    "1. O Python suporta os seguintes operadores lógicos:\n",
    "\n",
    "    \n",
    "    1. Python supports the following logical operators:\n",
    "\n",
    "•\tand → se ambos os operandos forem verdadeiros, a condição é verdadeira, por exemplo, (True and True) é True,\n",
    "\n",
    "    •\tand → if both operands are true, the condition is true, e.g., (True and True) is True,\n",
    "\n",
    "•\tor → se algum dos operandos for verdadeiro, a condição é verdadeira, por exemplo, (True or False) é True,\n",
    "\n",
    "    •\tor → if any of the operands are true, the condition is true, e.g., (True or False) is True,\n",
    "\n",
    "•\tnot → retorna falso se o resultado for verdadeiro, e retorna verdadeiro se o resultado for falso, por exemplo, not True é False.\n",
    "\n",
    "    •\tnot → returns false if the result is true, and returns true if the result is false, e.g., not True is False.\n",
    "\n",
    "2. Pode utilizar operadores bitwise para manipular bits únicos de dados. Os seguintes dados de amostra:\n",
    "\n",
    "    \n",
    "    2. You can use bitwise operators to manipulate single bits of data. The following sample data:\n",
    "\n",
    "![image.png](attachment:image.png)"
   ]
  },
  {
   "attachments": {
    "image.png": {
     "image/png": "[encoded data removed]"
    }
   },
   "cell_type": "markdown",
   "metadata": {},
   "source": [
    "serão utilizados para ilustrar o significado de operadores bitwise em Python. Analise os exemplos em baixo:\n",
    "\n",
    "•\t& faz um bitwise and, por exemplo, x & y = 0, que é 0000 0000 em binário,\n",
    "\n",
    "•\t| faz um bitwise ou, por exemplo, x | y = 31, que é 0001 1111 em binário,\n",
    "\n",
    "•\t˜  faz um bitwise não, por exemplo, ˜ x = 240*, que é 1111 0000 em binário,\n",
    "\n",
    "•\t^ faz um bitwise xor, por exemplo, x ^ y = 31, que é 0001 1111 em binário,\n",
    "\n",
    "•\t>> faz um bitwise right shift, por exemplo, y >> 1 = 8, que é 0000 1000 em binário,\n",
    "\n",
    "•\t<< faz um bitwise left shift, por exemplo, y << 3 = , que é 1000 0000 em binário,\n",
    "\n",
    "    will be used to illustrate the meaning of bitwise operators in Python. Analyze the examples below:\n",
    "\n",
    "![image.png](attachment:image.png)\n",
    "\n",
    "* -16 (decimal do complemento assinado de 2) — leia mais sobre a Two's complement operation (operação de complemento de dois).\n",
    "    \n",
    "    \n",
    "    * -16 (decimal from signed 2's complement) -- read more about the Two's complement operation.\n"
   ]
  },
  {
   "cell_type": "markdown",
   "metadata": {},
   "source": [
    "https://en.wikipedia.org/wiki/Two%27s_complement"
   ]
  },
  {
   "cell_type": "code",
   "execution_count": null,
   "metadata": {},
   "outputs": [],
   "source": [
    "Exercício 1 / Exercise 1\n",
    "    \n",
    "    Qual é o output do seguinte snippet? What is the output of the following snippet?"
   ]
  },
  {
   "cell_type": "code",
   "execution_count": 2,
   "metadata": {},
   "outputs": [
    {
     "name": "stdout",
     "output_type": "stream",
     "text": [
      "False\n"
     ]
    }
   ],
   "source": [
    "x = 1\n",
    "y = 0\n",
    "\n",
    "z = ((x == y) and (x == y)) or not(x == y)\n",
    "print(not(z))"
   ]
  },
  {
   "cell_type": "markdown",
   "metadata": {},
   "source": [
    "Exercício 2 / Exercise 2\n",
    "    \n",
    "    Qual é o output do seguinte snippet? What is the output of the following snippet?"
   ]
  },
  {
   "cell_type": "code",
   "execution_count": 7,
   "metadata": {},
   "outputs": [
    {
     "name": "stdout",
     "output_type": "stream",
     "text": [
      "0\n",
      "5\n",
      "-5\n",
      "1\n",
      "1\n",
      "16\n"
     ]
    }
   ],
   "source": [
    "x = 4\n",
    "y = 1\n",
    "\n",
    "a = x & y\n",
    "\n",
    "print(a)\n",
    "\n",
    "b = x | y\n",
    "\n",
    "print(b)\n",
    "\n",
    "c = ~x  # tricky!\n",
    "\n",
    "print(c)\n",
    "\n",
    "d = x ^ 5\n",
    "\n",
    "print(d)\n",
    "\n",
    "e = x >> 2\n",
    "\n",
    "print(e)\n",
    "\n",
    "f = x << 2\n",
    "\n",
    "print(f)"
   ]
  },
  {
   "cell_type": "code",
   "execution_count": null,
   "metadata": {},
   "outputs": [],
   "source": []
  }
 ],
 "metadata": {
  "kernelspec": {
   "display_name": "Python 3",
   "language": "python",
   "name": "python3"
  },
  "language_info": {
   "codemirror_mode": {
    "name": "ipython",
    "version": 3
   },
   "file_extension": ".py",
   "mimetype": "text/x-python",
   "name": "python",
   "nbconvert_exporter": "python",
   "pygments_lexer": "ipython3",
   "version": "3.7.6"
  }
 },
 "nbformat": 4,
 "nbformat_minor": 4
}
