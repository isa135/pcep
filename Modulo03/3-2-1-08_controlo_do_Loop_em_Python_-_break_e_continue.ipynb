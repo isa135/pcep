{
 "cells": [
  {
   "cell_type": "markdown",
   "metadata": {},
   "source": [
    "##### Os loops break e declarações continue : mais exemplos\n",
    "    \n",
    "    The break and continue statements: more examples\n",
    "\n",
    "Voltemos ao nosso programa que reconhece o maior entre os números introduzidos. Iremos convertê-lo duas vezes, utilizando as instruções break e continue .\n",
    "    \n",
    "    Let's return to our program that recognizes the largest among the entered numbers. We'll convert it twice, using the break and continue instructions.\n",
    "\n",
    "Analise o código, e julgue se e como utilizaria qualquer um deles.\n",
    "    \n",
    "    Analyze the code, and judge whether and how you would use either of them.\n",
    "\n",
    "A variante break vai aqui:\n",
    "    \n",
    "    The break variant goes here:"
   ]
  },
  {
   "cell_type": "code",
   "execution_count": 1,
   "metadata": {},
   "outputs": [
    {
     "name": "stdout",
     "output_type": "stream",
     "text": [
      "Enter a number or type -1 to end program: 50\n",
      "Enter a number or type -1 to end program: 1\n",
      "Enter a number or type -1 to end program: 30\n",
      "Enter a number or type -1 to end program: 5\n",
      "Enter a number or type -1 to end program: -1\n",
      "The largest number is 50\n"
     ]
    }
   ],
   "source": [
    "largest_number = -99999999\n",
    "counter = 0\n",
    "\n",
    "while True:\n",
    "    number = int(input(\"Enter a number or type -1 to end program: \"))\n",
    "    if number == -1:\n",
    "        break\n",
    "    counter += 1\n",
    "    if number > largest_number:\n",
    "        largest_number = number\n",
    "\n",
    "if counter != 0:\n",
    "    print(\"The largest number is\", largest_number)\n",
    "else:\n",
    "    print(\"You haven't entered any number.\")"
   ]
  },
  {
   "cell_type": "markdown",
   "metadata": {},
   "source": [
    "Execute-a, teste-a e experimente com ela.\n",
    "\n",
    "    Run it, test it, and experiment with it.\n",
    "\n",
    "E agora a variante continue :\n",
    "    \n",
    "    And now the continue variant:"
   ]
  },
  {
   "cell_type": "code",
   "execution_count": 2,
   "metadata": {},
   "outputs": [
    {
     "name": "stdout",
     "output_type": "stream",
     "text": [
      "Enter a number or type -1 to end program: 1\n",
      "Enter a number or type -1 to end program: 2\n",
      "Enter a number or type -1 to end program: 3\n",
      "Enter a number or type -1 to end program: -1\n",
      "The largest number is 3\n"
     ]
    }
   ],
   "source": [
    "largest_number = -99999999\n",
    "counter = 0\n",
    "\n",
    "number = int(input(\"Enter a number or type -1 to end program: \"))\n",
    "\n",
    "while number != -1:\n",
    "    if number == -1:\n",
    "        continue\n",
    "    counter += 1\n",
    "\n",
    "    if number > largest_number:\n",
    "        largest_number = number\n",
    "    number = int(input(\"Enter a number or type -1 to end program: \"))\n",
    "\n",
    "if counter:\n",
    "    print(\"The largest number is\", largest_number)\n",
    "else:\n",
    "    print(\"You haven't entered any number.\")"
   ]
  },
  {
   "cell_type": "markdown",
   "metadata": {},
   "source": [
    "Olhe cuidadosamente, o utilizador introduz o primeiro número antes de o programa entrar no loop while . O número subsequente é inserido quando o programa já está em loop.\n",
    "    \n",
    "    Look carefully, the user enters the first number before the program enters the while loop. The subsequent number is entered when the program is already in the loop.\n",
    "\n",
    "Novamente - execute o programa, teste-o e experimente com ele.\n",
    "    \n",
    "    Again - run the program, test it, and experiment with it.\n"
   ]
  },
  {
   "cell_type": "code",
   "execution_count": null,
   "metadata": {},
   "outputs": [],
   "source": []
  }
 ],
 "metadata": {
  "kernelspec": {
   "display_name": "Python 3",
   "language": "python",
   "name": "python3"
  },
  "language_info": {
   "codemirror_mode": {
    "name": "ipython",
    "version": 3
   },
   "file_extension": ".py",
   "mimetype": "text/x-python",
   "name": "python",
   "nbconvert_exporter": "python",
   "pygments_lexer": "ipython3",
   "version": "3.7.6"
  }
 },
 "nbformat": 4,
 "nbformat_minor": 4
}
