{
 "cells": [
  {
   "cell_type": "code",
   "execution_count": null,
   "metadata": {},
   "outputs": [],
   "source": [
    "LAB\n",
    "Tempo estimado\n",
    "10-20 minutos\n",
    "Nível de dificuldade\n",
    "Fácil\n",
    "Objetivos\n",
    "Familiarizar o aluno a:\n",
    "•\ta utilização do loop break em loops;\n",
    "•\trefletir situações da vida real em código informático.\n",
    "Cenário\n",
    "O comando break é utilizada para sair/terminar um loop.\n",
    "Crie um programa que use um loop while e pede continuamente ao utilizador para introduzir uma palavra, a menos que o utilizador introduza \"chupacabra\" como a palavra secreta de saída, caso em que a mensagem \"You've successfully left the loop.\" deve ser impressa para o ecrã, e o loop deve terminar.\n",
    "Não imprima nenhuma das palavras introduzidas pelo utilizador. Utilize o conceito de execução condicional e a break declaração.\n",
    "LAB\n",
    "Estimated time\n",
    "10-20 minutes\n",
    "Level of difficulty\n",
    "Easy\n",
    "Objectives\n",
    "Familiarize the student with:\n",
    "•\tusing the break statement in loops;\n",
    "•\treflecting real-life situations in computer code.\n",
    "Scenario\n",
    "The break statement is used to exit/terminate a loop.\n",
    "Design a program that uses a while loop and continuously asks the user to enter a word unless the user enters \"chupacabra\" as the secret exit word, in which case the message \"You've successfully left the loop.\" should be printed to the screen, and the loop should terminate.\n",
    "Don't print any of the words entered by the user. Use the concept of conditional execution and the break statement.\n"
   ]
  }
 ],
 "metadata": {
  "kernelspec": {
   "display_name": "Python 3",
   "language": "python",
   "name": "python3"
  },
  "language_info": {
   "codemirror_mode": {
    "name": "ipython",
    "version": 3
   },
   "file_extension": ".py",
   "mimetype": "text/x-python",
   "name": "python",
   "nbconvert_exporter": "python",
   "pygments_lexer": "ipython3",
   "version": "3.7.6"
  }
 },
 "nbformat": 4,
 "nbformat_minor": 4
}
