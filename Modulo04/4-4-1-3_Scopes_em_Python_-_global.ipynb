{
 "cells": [
  {
   "cell_type": "markdown",
   "metadata": {},
   "source": [
    "##### Funções e scopes: a keyword global .\n",
    "    \n",
    "    Functions and scopes: the global keyword\n",
    "\n",
    "Esperamos que agora tenha chegado à seguinte pergunta: isto significa que uma função não é capaz de modificar uma variável definida fora dela? Isso criaria muito desconforto.\n",
    "    \n",
    "    Hopefully, you should now have arrived at the following question: does this mean that a function is not able to modify a variable defined outside it? This would create a lot of discomfort.\n",
    "\n",
    "Felizmente, a resposta é não.\n",
    "    \n",
    "    Fortunately, the answer is no.\n",
    "\n",
    "Existe um método especial Python que pode alargar o scope de uma variável de forma a incluir os corpos das funções (mesmo que se pretenda não só ler os valores, mas também modificá-los).\n",
    "    \n",
    "    There's a special Python method which can extend a variable's scope in a way which includes the functions' bodies (even if you want not only to read the values, but also to modify them).\n",
    "\n",
    "Tal efeito é causado por uma keyword chamada global:\n",
    "    \n",
    "    Such an effect is caused by a keyword named global:"
   ]
  },
  {
   "attachments": {
    "image.png": {
     "image/png": "[encoded data removed]"
    }
   },
   "cell_type": "markdown",
   "metadata": {},
   "source": [
    "![image.png](attachment:image.png)"
   ]
  },
  {
   "cell_type": "markdown",
   "metadata": {},
   "source": [
    "Utilizar esta keyword dentro de uma função com o nome (ou nomes separados por vírgulas) de uma variável, força o Python a abster-se de criar uma nova variável dentro da função - a que é acessível a partir do exterior será utilizada em vez disso.\n",
    "    \n",
    "    Using this keyword inside a function with the name (or names separated with commas) of a variable(s), forces Python to refrain from creating a new variable inside the function - the one accessible from outside will be used instead.\n",
    "\n",
    "Por outras palavras, este nome torna-se global (tem um scope global, e não importa se é o assunto de leitura ou atribuição).\n",
    "    \n",
    "    In other words, this name becomes global (it has a global scope, and it doesn't matter whether it's the subject of read or assign).\n",
    "\n",
    "Veja o código no editor.\n",
    "\n",
    "    Look at the code in the editor."
   ]
  },
  {
   "cell_type": "code",
   "execution_count": 1,
   "metadata": {},
   "outputs": [
    {
     "name": "stdout",
     "output_type": "stream",
     "text": [
      "Do I know that variable? 2\n",
      "2\n"
     ]
    }
   ],
   "source": [
    "def my_function():\n",
    "    global var\n",
    "    var = 2\n",
    "    print(\"Do I know that variable?\", var)\n",
    "\n",
    "\n",
    "var = 1\n",
    "my_function()\n",
    "print(var)\n"
   ]
  },
  {
   "cell_type": "markdown",
   "metadata": {},
   "source": [
    "Adicionamos global à função.\n",
    "    \n",
    "    We've added global to the function.\n",
    "\n",
    "O código agora faz o output:\n",
    "    \n",
    "    The code now outputs:\n",
    "\n",
    "Isto deve ser prova suficiente para mostrar que a keyword global faz o que promete.\n",
    "    \n",
    "    This should be sufficient evidence to show that the global keyword does what it promises."
   ]
  }
 ],
 "metadata": {
  "kernelspec": {
   "display_name": "Python 3",
   "language": "python",
   "name": "python3"
  },
  "language_info": {
   "codemirror_mode": {
    "name": "ipython",
    "version": 3
   },
   "file_extension": ".py",
   "mimetype": "text/x-python",
   "name": "python",
   "nbconvert_exporter": "python",
   "pygments_lexer": "ipython3",
   "version": "3.7.6"
  }
 },
 "nbformat": 4,
 "nbformat_minor": 4
}
