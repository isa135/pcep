{
 "cells": [
  {
   "cell_type": "markdown",
   "metadata": {},
   "source": [
    "##### Algumas funções simples: avaliação do IMC (em inglês, BMI) e conversão de unidades imperiais em unidades métricas\n",
    "    \n",
    "    Some simple functions: evaluating BMI and converting imperial units to metric units\n",
    "\n",
    "Veja o código no editor. Há duas coisas a que temos de prestar atenção.\n",
    "    \n",
    "    Look at the code in the editor. There are two things we need to pay attention to."
   ]
  },
  {
   "cell_type": "code",
   "execution_count": 1,
   "metadata": {},
   "outputs": [
    {
     "name": "stdout",
     "output_type": "stream",
     "text": [
      "None\n"
     ]
    }
   ],
   "source": [
    "def bmi(weight, height):\n",
    "    if height < 1.0 or height > 2.5 or \\\n",
    "    weight < 20 or weight > 200:\n",
    "        return None\n",
    "\n",
    "    return weight / height ** 2\n",
    "\n",
    "\n",
    "print(bmi(352.5, 1.65))\n"
   ]
  },
  {
   "cell_type": "markdown",
   "metadata": {},
   "source": [
    "Primeiro, a invocação de teste assegura que a proteção funciona corretamente - o output é:\n",
    "    \n",
    "    First, the test invocation ensures that the protection works properly - the output is:\n",
    "\n",
    "None\n",
    "\n",
    "Em segundo lugar, dê uma vista de olhos na forma como o símbolo da barra invertida (\\) é usado. Se o utilizar em código Python e terminar uma linha com ele, dirá ao Python para continuar a linha de código na próxima linha de código.\n",
    "    \n",
    "    Second, take a look at the way the backslash (\\) symbol is used. If you use it in Python code and end a line with it, it will tell Python to continue the line of code in the next line of code.\n",
    "\n",
    "Pode ser particularmente útil quando se tem de lidar com longas linhas de código e se gostaria de melhorar a legibilidade do código.\n",
    "    \n",
    "    It can be particularly useful when you have to deal with long lines of code and you'd like to improve code readability.\n",
    "\n",
    "Está bem, mas há algo que omitimos com demasiada facilidade - as medidas imperiais. Esta função não é muito útil para pessoas acostumadas a libras, pés e polegadas.\n",
    "    \n",
    "    Okay, but there's something we omitted too easily - the imperial measurements. This function is not too useful for people accustomed to pounds, feet and inches.\n",
    "\n",
    "O que pode ser feito por elas?\n",
    "    \n",
    "    What can be done for them?\n",
    "\n",
    "Podemos escrever duas funções simples para converter unidades imperiais em unidades métricas. Vamos começar com as libras.\n",
    "    \n",
    "    We can write two simple functions to convert imperial units to metric ones. Let's start with pounds.\n",
    "    \n",
    "É um facto bem conhecido que 1 lb = 0.45359237 kg. Utilizaremos isto na nossa nova função.\n",
    "    \n",
    "    It is a well-known fact that 1 lb = 0.45359237 kg. We'll use this in our new function.\n",
    "\n",
    "Esta é a nossa função auxiliar, chamada lb_to_kg:\n",
    "    \n",
    "    This is our helper function, named lb_to_kg:"
   ]
  },
  {
   "cell_type": "code",
   "execution_count": 2,
   "metadata": {},
   "outputs": [
    {
     "name": "stdout",
     "output_type": "stream",
     "text": [
      "0.45359237\n"
     ]
    }
   ],
   "source": [
    "def lb_to_kg(lb):\n",
    "    return lb * 0.45359237\n",
    "print(lb_to_kg(1))"
   ]
  },
  {
   "cell_type": "markdown",
   "metadata": {},
   "source": [
    "E agora é altura para os pés e polegadas: 1 ft = 0.3048 m, e 1 in = 2.54 cm = 0.0254 m.\n",
    "    \n",
    "    And now it's time for feet and inches: 1 ft = 0.3048 m, and 1 in = 2.54 cm = 0.0254 m.\n",
    "\n",
    "A função que escrevemos é chamada ft_and_inch_to_m:\n",
    "    \n",
    "    The function we've written is named ft_and_inch_to_m:"
   ]
  },
  {
   "cell_type": "code",
   "execution_count": 3,
   "metadata": {},
   "outputs": [
    {
     "name": "stdout",
     "output_type": "stream",
     "text": [
      "0.3302\n"
     ]
    }
   ],
   "source": [
    "def ft_and_inch_to_m(ft, inch):\n",
    "    return ft * 0.3048 + inch * 0.0254\n",
    "print(ft_and_inch_to_m(1, 1))"
   ]
  },
  {
   "cell_type": "markdown",
   "metadata": {},
   "source": [
    "Parece como o esperado.\n",
    "    \n",
    "    It looks as expected.\n",
    "\n",
    "Nota: queríamos nomear o segundo parâmetro apenas in, não inch, mas não podíamos. Sabe porquê?\n",
    "    \n",
    "    Note: we wanted to name the second parameter just in, not inch, but we couldn't. Do you know why?\n",
    "    \n",
    "in é uma keyword Python - não pode ser usada como um nome.\n",
    "    \n",
    "    in is a Python keyword - it cannot be used as a name.\n",
    "\n",
    "Vamos converter seis pés em metros:\n",
    "    \n",
    "    Let's convert six feet into meters:"
   ]
  },
  {
   "cell_type": "code",
   "execution_count": 4,
   "metadata": {},
   "outputs": [
    {
     "name": "stdout",
     "output_type": "stream",
     "text": [
      "1.8288000000000002\n"
     ]
    }
   ],
   "source": [
    "print(ft_and_inch_to_m(6, 0))"
   ]
  },
  {
   "cell_type": "markdown",
   "metadata": {},
   "source": [
    "É bem possível que por vezes se queira usar apenas os pés sem polegadas. O Python vai ajudá-lo? Claro que vai.\n",
    "    \n",
    "    It's quite possible that sometimes you may want to use just feet without inches. Will Python help you? Of course it will.\n",
    "\n",
    "Modificamos um pouco o código:\n",
    "    \n",
    "    We've modified the code a bit:"
   ]
  },
  {
   "cell_type": "code",
   "execution_count": 5,
   "metadata": {},
   "outputs": [
    {
     "name": "stdout",
     "output_type": "stream",
     "text": [
      "1.8288000000000002\n"
     ]
    }
   ],
   "source": [
    "def ft_and_inch_to_m(ft, inch = 0.0):\n",
    "    return ft * 0.3048 + inch * 0.0254\n",
    "print(ft_and_inch_to_m(6))"
   ]
  },
  {
   "cell_type": "markdown",
   "metadata": {},
   "source": [
    "Agora o parâmetro inch tem o seu valor padrão igual a 0.0.\n",
    "    \n",
    "    Now the inch parameter has its default value equal to 0.0.\n",
    "\n",
    "O código produz o seguinte output - isto é o que é esperado:\n",
    "    \n",
    "    The code produces the following output - this is what is expected:\n",
    "\n",
    "1.8288000000000002\n",
    "\n",
    "Finalmente, o código é capaz de responder à pergunta: qual é o IMC de uma pessoa com 1,75 m de altura e pesando 176 lbs?\n",
    "    \n",
    "    Finally, the code is able to answer the question: what is the BMI of a person 5'7\" tall and weighing 176 lbs?\n",
    "\n",
    "Este é o código que construímos:\n",
    "    \n",
    "    This is the code we have built:"
   ]
  },
  {
   "cell_type": "code",
   "execution_count": 6,
   "metadata": {},
   "outputs": [
    {
     "name": "stdout",
     "output_type": "stream",
     "text": [
      "27.565214082533313\n"
     ]
    }
   ],
   "source": [
    "def ft_and_inch_to_m(ft, inch = 0.0):\n",
    "    return ft * 0.3048 + inch * 0.0254\n",
    "def lb_to_kg(lb):\n",
    "    return lb * 0.45359237\n",
    "def bmi(weight, height):\n",
    "    if height < 1.0 or height > 2.5 or weight < 20 or weight > 200:\n",
    "        return None\n",
    "    return weight / height ** 2\n",
    "print(bmi(weight = lb_to_kg(176), height = ft_and_inch_to_m(5, 7)))"
   ]
  },
  {
   "cell_type": "markdown",
   "metadata": {},
   "source": [
    "Execute o código e teste-o.\n",
    "\n",
    "    Run the code and test it."
   ]
  },
  {
   "cell_type": "code",
   "execution_count": null,
   "metadata": {},
   "outputs": [],
   "source": []
  }
 ],
 "metadata": {
  "kernelspec": {
   "display_name": "Python 3",
   "language": "python",
   "name": "python3"
  },
  "language_info": {
   "codemirror_mode": {
    "name": "ipython",
    "version": 3
   },
   "file_extension": ".py",
   "mimetype": "text/x-python",
   "name": "python",
   "nbconvert_exporter": "python",
   "pygments_lexer": "ipython3",
   "version": "3.7.6"
  }
 },
 "nbformat": 4,
 "nbformat_minor": 4
}
