{
 "cells": [
  {
   "cell_type": "markdown",
   "metadata": {},
   "source": [
    "### 3.1.1.7 Tomar decisões em Python"
   ]
  },
  {
   "cell_type": "markdown",
   "metadata": {},
   "source": [
    "A declaração if-else : execução mais condicional\n",
    "    \n",
    "    The if-else statement: more conditional execution"
   ]
  },
  {
   "cell_type": "markdown",
   "metadata": {},
   "source": [
    "Ao utilizar esta forma de declaração condicional, podemos descrever os nossos planos da seguinte forma:\n",
    "\n",
    "    By using this form of conditional statement, we can describe our plans as follows:"
   ]
  },
  {
   "cell_type": "markdown",
   "metadata": {},
   "source": [
    "if the_weather_is_good:\n",
    "    \n",
    "    go_for_a_walk()\n",
    "\n",
    "else:\n",
    "    \n",
    "    go_to_a_theater()\n",
    "\n",
    "have_lunch()"
   ]
  },
  {
   "cell_type": "markdown",
   "metadata": {},
   "source": [
    "Se o tempo estiver bom, vamos dar uma volta. Caso contrário, iremos a uma peça de teatro. Não importa se o tempo estiver bom ou mau, almoçaremos depois (depois do passeio ou depois de irmos ao teatro).\n",
    "\n",
    "    If the weather is good, we'll go for a walk. Otherwise, we'll go to a theatre. No matter if the weather is good or bad, we'll have lunch afterwards (after the walk or after going to the theatre)."
   ]
  },
  {
   "cell_type": "markdown",
   "metadata": {},
   "source": [
    "Tudo o que dissemos sobre a indentação funciona da mesma forma dentro do ramo else:\n",
    "    \n",
    "    Everything we've said about indentation works in the same manner inside the else branch:"
   ]
  },
  {
   "cell_type": "markdown",
   "metadata": {},
   "source": [
    "if the_weather_is_good:\n",
    "\n",
    "    go_for_a_walk()\n",
    "    \n",
    "    have_fun()\n",
    "\n",
    "else:\n",
    "\n",
    "    go_to_a_theater()\n",
    "    \n",
    "    enjoy_the_movie()\n",
    "\n",
    "have_lunch()"
   ]
  },
  {
   "cell_type": "markdown",
   "metadata": {},
   "source": [
    "##### Declarações if-else nested\n",
    "    \n",
    "    Nested if-else statements"
   ]
  },
  {
   "cell_type": "markdown",
   "metadata": {},
   "source": [
    "Agora vamos discutir dois casos especiais da declaração condicional.\n",
    "    \n",
    "    Now let's discuss two special cases of the conditional statement."
   ]
  },
  {
   "cell_type": "markdown",
   "metadata": {},
   "source": [
    "Primeiro, considere o caso em que a instrução colocada após a if é outra if.\n",
    "\n",
    "    First, consider the case where the instruction placed after the if is another if."
   ]
  },
  {
   "cell_type": "markdown",
   "metadata": {},
   "source": [
    "Leia o que temos planeado para este domingo. Se o tempo estiver bom, vamos dar uma volta. Se encontrarmos um bom restaurante, almoçaremos lá. Caso contrário, comemos uma sandes. Se o tempo estiver mau, vamos ao teatro. Se não houver bilhetes, iremos às compras no centro comercial mais próximo.\n",
    "\n",
    "    Read what we have planned for this Sunday. If the weather is fine, we'll go for a walk. If we find a nice restaurant, we'll have lunch there. Otherwise, we'll eat a sandwich. If the weather is poor, we'll go to the theater. If there are no tickets, we'll go shopping in the nearest mall."
   ]
  },
  {
   "cell_type": "markdown",
   "metadata": {},
   "source": [
    "Vamos escrever o mesmo em Python. Considere cuidadosamente o código aqui:\n",
    "    \n",
    "    Let's write the same in Python. Consider carefully the code here:"
   ]
  },
  {
   "cell_type": "markdown",
   "metadata": {},
   "source": [
    "if the_weather_is_good:\n",
    "\n",
    "    if nice_restaurant_is_found:\n",
    "\n",
    "        have_lunch()\n",
    "\n",
    "    else:\n",
    "\n",
    "        eat_a_sandwich()\n",
    "\n",
    "else:\n",
    "\n",
    "    if tickets_are_available:\n",
    "\n",
    "        go_to_the_theater()\n",
    "    \n",
    "    else:\n",
    "        \n",
    "        go_shopping()"
   ]
  },
  {
   "cell_type": "markdown",
   "metadata": {},
   "source": [
    "Aqui estão dois pontos importantes:\n",
    "    \n",
    "    Here are two important points:\n",
    "    \n",
    "•\teste uso da declaração if é conhecido como nesting; lembre-se que cada else refere-se ao if que se situa ao mesmo nível de indentação; é preciso saber isto para determinar como os ifs e elses se emparelham;\n",
    "    \n",
    "    •\tthis use of the if statement is known as nesting; remember that every else refers to the if which lies at the same indentation level; you need to know this to determine how the ifs and elses pair up;\n",
    "    \n",
    "•\tconsidere como a indentação melhora a legibilidade, e torna o código mais fácil de compreender e rastrear.\n",
    "\n",
    "    •\tconsider how the indentation improves readability, and makes the code easier to understand and trace.\n"
   ]
  },
  {
   "cell_type": "markdown",
   "metadata": {},
   "source": [
    "##### A declaração elif . \n",
    "\n",
    "    The elif statement"
   ]
  },
  {
   "cell_type": "markdown",
   "metadata": {},
   "source": [
    "O segundo caso especial introduz outra nova keyword de Python: elif. Como provavelmente suspeitará, é uma forma mais curta de else if.\n",
    "    \n",
    "    The second special case introduces another new Python keyword: elif. As you probably suspect, it's a shorter form of else if."
   ]
  },
  {
   "cell_type": "markdown",
   "metadata": {},
   "source": [
    "elif é usado para verificar mais do que uma condição, e para parar quando a primeira afirmação que é verdadeira é encontrada.\n",
    "    \n",
    "    elif is used to check more than just one condition, and to stop when the first statement which is true is found."
   ]
  },
  {
   "cell_type": "markdown",
   "metadata": {},
   "source": [
    "O nosso próximo exemplo assemelha-se a nesting, mas as semelhanças são muito ligeiras. Mais uma vez, vamos mudar os nossos planos e expressá-los como se segue: Se o tempo estiver bom, iremos dar um passeio, caso contrário, se conseguirmos bilhetes, iremos ao teatro, caso contrário, se houver mesas livres no restaurante, iremos almoçar; se tudo o resto falhar, regressaremos a casa e jogaremos xadrez.\n",
    "    \n",
    "    Our next example resembles nesting, but the similarities are very slight. Again, we'll change our plans and express them as follows: If the weather is fine, we'll go for a walk, otherwise if we get tickets, we'll go to the theater, otherwise if there are free tables at the restaurant, we'll go for lunch; if all else fails, we'll return home and play chess."
   ]
  },
  {
   "cell_type": "markdown",
   "metadata": {},
   "source": [
    "Já reparou quantas vezes utilizámos as palavras caso contrário? Esta é a fase em que a keyword elif desempenha o seu papel.\n",
    "\n",
    "    Have you noticed how many times we've used the word otherwise? This is the stage where the elif keyword plays its role."
   ]
  },
  {
   "cell_type": "markdown",
   "metadata": {},
   "source": [
    "Vamos escrever o mesmo cenário usando Python:\n",
    "    \n",
    "    Let's write the same scenario using Python:"
   ]
  },
  {
   "cell_type": "markdown",
   "metadata": {},
   "source": [
    "if the_weather_is_good:\n",
    "\n",
    "    go_for_a_walk()\n",
    "    \n",
    "elif tickets_are_available:\n",
    "\n",
    "    go_to_the_theater()\n",
    "    \n",
    "elif table_is_available:\n",
    "\n",
    "    go_for_lunch()\n",
    "    \n",
    "else:\n",
    "\n",
    "    play_chess_at_home()"
   ]
  },
  {
   "cell_type": "markdown",
   "metadata": {},
   "source": [
    "A forma de reunir as declarações subsequentes if-elif-else é por vezes chamada de cascade (cascata).\n",
    "\n",
    "    The way to assemble subsequent if-elif-else statements is sometimes called a cascade."
   ]
  },
  {
   "cell_type": "markdown",
   "metadata": {},
   "source": [
    "Repare novamente como a indentação melhora a legibilidade do código.\n",
    "    \n",
    "    Notice again how the indentation improves the readability of the code."
   ]
  },
  {
   "cell_type": "markdown",
   "metadata": {},
   "source": [
    "Neste caso, deve ser dada alguma atenção adicional:\n",
    "\n",
    "    •\tnão deve usar else sem um precedente if;\n",
    "\n",
    "    •\telse é sempre o último ramo da cascade, independentemente de ter utilizado elif ou não;\n",
    "\n",
    "    •\telse é uma parte opcional da cascade, e pode ser omitida;\n",
    "\n",
    "    •\tse houver um else ramo na cascade, apenas um de todos os ramos é executado;\n",
    "\n",
    "    •\tse não houver nenhum else ramo, é possível que nenhuma das ramificações disponíveis seja executada.\n"
   ]
  },
  {
   "cell_type": "markdown",
   "metadata": {},
   "source": [
    "Some additional attention has to be paid in this case:\n",
    "\n",
    "    •\tyou mustn't use else without a preceding if;\n",
    "\n",
    "    •\telse is always the last branch of the cascade, regardless of whether you've used elif or not;\n",
    "\n",
    "    •\telse is an optional part of the cascade, and may be omitted;\n",
    "\n",
    "    •\tif there is an else branch in the cascade, only one of all the branches is executed;\n",
    "\n",
    "    •\tif there is no else branch, it's possible that none of the available branches is executed."
   ]
  },
  {
   "cell_type": "markdown",
   "metadata": {},
   "source": [
    "Isto pode parecer um pouco confuso, mas esperemos que alguns exemplos simples ajudem a lançar mais luz.\n",
    "    \n",
    "    This may sound a little puzzling, but hopefully some simple examples will help shed more light."
   ]
  }
 ],
 "metadata": {
  "kernelspec": {
   "display_name": "Python 3",
   "language": "python",
   "name": "python3"
  },
  "language_info": {
   "codemirror_mode": {
    "name": "ipython",
    "version": 3
   },
   "file_extension": ".py",
   "mimetype": "text/x-python",
   "name": "python",
   "nbconvert_exporter": "python",
   "pygments_lexer": "ipython3",
   "version": "3.7.6"
  }
 },
 "nbformat": 4,
 "nbformat_minor": 4
}
