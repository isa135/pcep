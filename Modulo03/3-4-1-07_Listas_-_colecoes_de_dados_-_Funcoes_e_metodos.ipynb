{
 "cells": [
  {
   "cell_type": "markdown",
   "metadata": {},
   "source": [
    "##### Funções vs. Métodos\n",
    "\n",
    "    Functions vs. methods\n",
    "\n",
    "Um método é um tipo específico de função - comporta-se como uma função e parece uma função, mas difere na forma como atua, e no seu estilo de invocação.\n",
    "    \n",
    "    A method is a specific kind of function - it behaves like a function and looks like a function, but differs in the way in which it acts, and in its invocation style.\n",
    "\n",
    "Uma função não pertence a nenhum dado - recebe dados, pode criar novos dados e (geralmente) produz um resultado.\n",
    "    \n",
    "    A function doesn't belong to any data - it gets data, it may create new data and it (generally) produces a result.\n",
    "\n",
    "Um método faz todas estas coisas, mas também é capaz de alterar o estado de uma entidade selecionada.\n",
    "    \n",
    "    A method does all these things, but is also able to change the state of a selected entity.\n",
    "\n",
    "Um método é propriedade dos dados para os quais trabalha, enquanto uma função é propriedade de todo o código.\n",
    "    \n",
    "    A method is owned by the data it works for, while a function is owned by the whole code.\n",
    "\n",
    "Isto também significa que a invocação de um método requer alguma especificação dos dados a partir dos quais o método é invocado.\n",
    "    \n",
    "    This also means that invoking a method requires some specification of the data from which the method is invoked.\n",
    "\n",
    "Pode parecer intrigante aqui, mas lidaremos com isso em profundidade quando nos aprofundarmos na programação orientada ao objeto.\n",
    "    \n",
    "    It may sound puzzling here, but we'll deal with it in depth when we delve into object-oriented programming.\n",
    "\n",
    "Em geral, uma invocação de função típica pode parecer-se com isto:\n",
    "    \n",
    "    In general, a typical function invocation may look like this:\n",
    "\n",
    "#### result = function(arg)\n",
    "\n",
    "A função toma um argumento, faz algo, e devolve um resultado.\n",
    "    \n",
    "    The function takes an argument, does something, and returns a result.\n",
    "\n",
    "Um método típico de invocação é geralmente semelhante a este:\n",
    "    \n",
    "    A typical method invocation usually looks like this:\n",
    "\n",
    "#### result = data.method(arg)\n",
    "\n",
    "Nota: o nome do método é precedido do nome dos dados que possuem o método. Em seguida, adiciona-se um ponto, seguido do nome do método, e um par de parêntesis que encerra os argumentos.\n",
    "    \n",
    "    Note: the name of the method is preceded by the name of the data which owns the method. Next, you add a dot, followed by the method name, and a pair of parenthesis enclosing the arguments.\n",
    "    \n",
    "O método comportar-se-á como uma função, mas pode fazer algo mais - pode alterar o estado interno dos dados a partir dos quais foi invocado.\n",
    "    \n",
    "    The method will behave like a function, but can do something more - it can change the internal state of the data from which it has been invoked.\n",
    "\n",
    "Pode perguntar: porque estamos a falar de métodos e não de listas?\n",
    "    \n",
    "    You may ask: why are we talking about methods, not about lists?\n",
    "    \n",
    "Esta é uma questão essencial neste momento, pois vamos mostrar-lhe como adicionar novos elementos a uma lista existente. Isto pode ser feito com métodos pertencentes a todas as listas, e não por funções.\n",
    "    \n",
    "    This is an essential issue right now, as we're going to show you how to add new elements to an existing list. This can be done with methods owned by all the lists, not by functions.\n"
   ]
  },
  {
   "cell_type": "code",
   "execution_count": null,
   "metadata": {},
   "outputs": [],
   "source": []
  }
 ],
 "metadata": {
  "kernelspec": {
   "display_name": "Python 3",
   "language": "python",
   "name": "python3"
  },
  "language_info": {
   "codemirror_mode": {
    "name": "ipython",
    "version": 3
   },
   "file_extension": ".py",
   "mimetype": "text/x-python",
   "name": "python",
   "nbconvert_exporter": "python",
   "pygments_lexer": "ipython3",
   "version": "3.7.6"
  }
 },
 "nbformat": 4,
 "nbformat_minor": 4
}
