{
 "cells": [
  {
   "cell_type": "markdown",
   "metadata": {},
   "source": [
    "##### Slices poderosas\n",
    "    \n",
    "    Powerful slices\n",
    "\n",
    "Felizmente, a solução está ao seu alcance - o seu nome é slice.\n",
    "    \n",
    "    Fortunately, the solution is at your fingertips - its name is the slice.\n",
    "\n",
    "Uma slice é um elemento da sintaxe Python que lhe permite fazer uma cópia completamente nova de uma lista ou partes de uma lista.\n",
    "    \n",
    "    A slice is an element of Python syntax that allows you to make a brand new copy of a list, or parts of a list.\n",
    "\n",
    "Na verdade, a slice copia o conteúdo da lista, não o seu nome.\n",
    "    \n",
    "    It actually copies the list's contents, not the list's name.\n",
    "\n",
    "Isto é exatamente o que necessita. Dê uma vista de olhos no snippet em baixo:\n",
    "    \n",
    "    This is exactly what you need. Take a look at the snippet below:"
   ]
  },
  {
   "cell_type": "code",
   "execution_count": 1,
   "metadata": {},
   "outputs": [
    {
     "name": "stdout",
     "output_type": "stream",
     "text": [
      "[1]\n"
     ]
    }
   ],
   "source": [
    "list_1 = [1]\n",
    "list_2 = list_1[:]\n",
    "list_1[0] = 2\n",
    "print(list_2)"
   ]
  },
  {
   "cell_type": "markdown",
   "metadata": {},
   "source": [
    "O seu output é [1].\n",
    "\n",
    "Esta parte inconspícua do código descrito como [:] é capaz de produzir uma lista completamente nova.\n",
    "    \n",
    "    This inconspicuous part of the code described as [:] is able to produce a brand new list.\n",
    "\n",
    "Uma das formas mais gerais da slice tem o seguinte aspeto:\n",
    "    \n",
    "    One of the most general forms of the slice looks as follows:\n",
    "\n",
    "my_list[start:end]\n",
    "\n",
    "Como pode ver, assemelha-se à indexação, mas os dois pontos no interior fazem uma grande diferença.\n",
    "    \n",
    "    As you can see, it resembles indexing, but the colon inside makes a big difference.\n",
    "\n",
    "Uma slice desta forma faz uma nova lista (alvo), retirando elementos da source list - os elementos dos índices desde o início até end - 1.\n",
    "    \n",
    "    A slice of this form makes a new (target) list, taking elements from the source list - the elements of the indices from start to end - 1.\n",
    "    \n",
    "Nota: não para end mas para end - 1. Um elemento com um índice igual a end é o primeiro elemento que não participa no slicing.\n",
    "    \n",
    "    Note: not to end but to end - 1. An element with an index equal to end is the first element which does not take part in the slicing.\n",
    "\n",
    "É possível utilizar valores negativos tanto para o início como para o fim (tal como na indexação).\n",
    "    \n",
    "    Using negative values for both start and end is possible (just like in indexing).\n",
    "\n",
    "Veja o snippet:\n",
    "    \n",
    "    Take a look at the snippet:"
   ]
  },
  {
   "cell_type": "code",
   "execution_count": 2,
   "metadata": {},
   "outputs": [
    {
     "name": "stdout",
     "output_type": "stream",
     "text": [
      "[8, 6]\n"
     ]
    }
   ],
   "source": [
    "my_list = [10, 8, 6, 4, 2]\n",
    "new_list = my_list[1:3]\n",
    "print(new_list)"
   ]
  },
  {
   "cell_type": "markdown",
   "metadata": {},
   "source": [
    "A new_list lista terá end - start (3 - 1 = 2) elementos - aqueles com índices iguais a 1 e 2 (mas não 3).\n",
    "    \n",
    "    The new_list list will have end - start (3 - 1 = 2) elements - the ones with indices equal to 1 and 2 (but not 3).\n",
    "\n",
    "O output do snippet é: [8, 6]\n",
    "    \n",
    "    The snippet's output is: [8, 6]"
   ]
  },
  {
   "cell_type": "code",
   "execution_count": 3,
   "metadata": {},
   "outputs": [
    {
     "name": "stdout",
     "output_type": "stream",
     "text": [
      "[1]\n",
      "[8, 6]\n"
     ]
    }
   ],
   "source": [
    "# Copying the entire list.\n",
    "list_1 = [1]\n",
    "list_2 = list_1[:]\n",
    "list_1[0] = 2\n",
    "print(list_2)\n",
    "\n",
    "# Copying some part of the list.\n",
    "my_list = [10, 8, 6, 4, 2]\n",
    "new_list = my_list[1:3]\n",
    "print(new_list)\n"
   ]
  },
  {
   "cell_type": "code",
   "execution_count": null,
   "metadata": {},
   "outputs": [],
   "source": []
  }
 ],
 "metadata": {
  "kernelspec": {
   "display_name": "Python 3",
   "language": "python",
   "name": "python3"
  },
  "language_info": {
   "codemirror_mode": {
    "name": "ipython",
    "version": 3
   },
   "file_extension": ".py",
   "mimetype": "text/x-python",
   "name": "python",
   "nbconvert_exporter": "python",
   "pygments_lexer": "ipython3",
   "version": "3.7.6"
  }
 },
 "nbformat": 4,
 "nbformat_minor": 4
}
