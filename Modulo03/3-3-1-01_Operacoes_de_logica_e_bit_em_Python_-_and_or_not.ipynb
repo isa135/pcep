{
 "cells": [
  {
   "attachments": {
    "image.png": {
     "image/png": "[encoded data removed]"
    }
   },
   "cell_type": "markdown",
   "metadata": {},
   "source": [
    "###### Lógica de computador\n",
    "\n",
    "    Computer logic\n",
    "\n",
    "Já reparou que as condições que utilizámos até agora têm sido muito simples, para não dizer bastante primitivas? As condições que utilizamos na vida real são muito mais complexas. Vejamos esta frase:\n",
    "    \n",
    "    Have you noticed that the conditions we've used so far have been very simple, not to say, quite primitive? The conditions we use in real life are much more complex. Let's look at this sentence:\n",
    "\n",
    "Se tivermos algum tempo livre, e o tempo estiver bom, vamos dar um passeio.\n",
    "    \n",
    "    If we have some free time, and the weather is good, we will go for a walk.\n",
    "\n",
    "Utilizámos a conjunção and, o que significa que ir dar um passeio depende do cumprimento simultâneo destas duas condições. Na linguagem da lógica, tal ligação de condições é chamada uma conjunção. E agora outro exemplo:\n",
    "    \n",
    "    We've used the conjunction and, which means that going for a walk depends on the simultaneous fulfilment of these two conditions. In the language of logic, such a connection of conditions is called a conjunction. And now another example:\n",
    "\n",
    "Se estiveres no centro comercial ou eu estiver no centro comercial, um de nós vai comprar um presente para a mãe.\n",
    "    \n",
    "    If you are in the mall or I am in the mall, one of us will buy a gift for Mom.\n",
    "\n",
    "A aparência da palavra or significa que a compra depende de pelo menos uma destas condições. Em lógica, tal composto é chamado uma disjunção.\n",
    "    \n",
    "    The appearance of the word or means that the purchase depends on at least one of these conditions. In logic, such a compound is called a disjunction.\n",
    "\n",
    "É evidente que o Python deve ter operadores para construir conjunções e disjunções. Sem eles, o poder expressivo da linguagem ficaria substancialmente enfraquecido. Eles são chamados operadores lógicos.\n",
    "    \n",
    "    It's clear that Python must have operators to build conjunctions and disjunctions. Without them, the expressive power of the language would be substantially weakened. They're called logical operators.\n",
    "\n",
    "### and\n",
    "    \n",
    "Um operador de conjunção lógica em Python é a palavra and. É um operador binário com uma prioridade que é inferior à expressa pelos operadores de comparação. Permite-nos codificar condições complexas sem o uso de parêntesis como esta:\n",
    "    \n",
    "    One logical conjunction operator in Python is the word and. It's a binary operator with a priority that is lower than the one expressed by the comparison operators. It allows us to code complex conditions without the use of parentheses like this one:\n",
    "\n",
    "![image.png](attachment:image.png)"
   ]
  },
  {
   "cell_type": "markdown",
   "metadata": {},
   "source": [
    "O resultado fornecido pelo operador and pode ser determinado com base na tabela da verdade.\n",
    "    \n",
    "    The result provided by the and operator can be determined on the basis of the truth table.\n",
    "\n",
    "Se considerarmos a conjunção de A e B, o conjunto de valores possíveis de argumentos e valores correspondentes da conjunção parece ser o seguinte:\n",
    "    \n",
    "    If we consider the conjunction of A and B, the set of possible values of arguments and corresponding values of the conjunction looks as follows:\n"
   ]
  },
  {
   "attachments": {
    "image.png": {
     "image/png": "[encoded data removed]"
    }
   },
   "cell_type": "markdown",
   "metadata": {},
   "source": [
    "![image.png](attachment:image.png)"
   ]
  },
  {
   "attachments": {
    "image.png": {
     "image/png": "[encoded data removed]"
    }
   },
   "cell_type": "markdown",
   "metadata": {},
   "source": [
    "### or\n",
    "\n",
    "Um operador de disjunção é a palavra or. É um operador binário com uma prioridade inferior a and ( assim como + comparado com *). A sua tabela de verdade é a seguinte:\n",
    "    \n",
    "    A disjunction operator is the word or. It's a binary operator with a lower priority than and (just like + compared to *). Its truth table is as follows:\n",
    "\n",
    "![image.png](attachment:image.png)"
   ]
  },
  {
   "attachments": {
    "image.png": {
     "image/png": "[encoded data removed]"
    }
   },
   "cell_type": "markdown",
   "metadata": {},
   "source": [
    "### not\n",
    "\n",
    "Além disso, há outro operador que pode ser aplicado para construir condições. É um operador unário que executa uma negação lógica. O seu funcionamento é simples: transforma a verdade em falsidade e a falsidade em verdade.\n",
    "    \n",
    "    In addition, there's another operator that can be applied for constructing conditions. It's a unary operator performing a logical negation. Its operation is simple: it turns truth into falsehood and falsehood into truth.\n",
    "\n",
    "Este operador é escrito como a palavra not, e a sua prioridade é muito alta: a mesma que o unário + e -. A sua tabela de verdade é simples:\n",
    "    \n",
    "    This operator is written as the word not, and its priority is very high: the same as the unary + and -. Its truth table is simple:\n",
    "\n",
    "![image.png](attachment:image.png)"
   ]
  },
  {
   "cell_type": "code",
   "execution_count": null,
   "metadata": {},
   "outputs": [],
   "source": []
  }
 ],
 "metadata": {
  "kernelspec": {
   "display_name": "Python 3",
   "language": "python",
   "name": "python3"
  },
  "language_info": {
   "codemirror_mode": {
    "name": "ipython",
    "version": 3
   },
   "file_extension": ".py",
   "mimetype": "text/x-python",
   "name": "python",
   "nbconvert_exporter": "python",
   "pygments_lexer": "ipython3",
   "version": "3.7.6"
  }
 },
 "nbformat": 4,
 "nbformat_minor": 4
}
