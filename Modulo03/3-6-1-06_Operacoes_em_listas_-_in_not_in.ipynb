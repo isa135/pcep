{
 "cells": [
  {
   "attachments": {
    "image.png": {
     "image/png": "[encoded data removed]"
    }
   },
   "cell_type": "markdown",
   "metadata": {},
   "source": [
    "##### Os loops in e not in operadores\n",
    "\n",
    "    The in and not in operators\n",
    "\n",
    "O Python oferece dois operadores muito poderosos, capazes de olhar através da lista a fim de verificar se um valor específico está ou não armazenado dentro da lista\n",
    "    \n",
    "    Python offers two very powerful operators, able to look through the list in order to check whether a specific value is stored inside the list or not.\n",
    "\n",
    "Estes operadores são:\n",
    "    \n",
    "    These operators are:\n",
    "\n",
    "![image.png](attachment:image.png)\n",
    "\n",
    "O primeiro deles (in) verifica se um dado elemento (o seu argumento da esquerda) está atualmente armazenado algures dentro da lista (o argumento da direita) - o operador devolve True neste caso.\n",
    "    \n",
    "    The first of them (in) checks if a given element (its left argument) is currently stored somewhere inside the list (the right argument) - the operator returns True in this case.\n",
    "\n",
    "O segundo (not in) verifica se um dado elemento (o seu argumento da esquerda) está ausente numa lista - o operador devolve True neste caso.\n",
    "    \n",
    "    The second (not in) checks if a given element (its left argument) is absent in a list - the operator returns True in this case.\n",
    "\n",
    "Veja o código no editor. O snippet mostra ambos os operadores em ação. Consegue adivinhar o seu output? Execute o programa para verificar se estava certo.\n",
    "\n",
    "    Look at the code in the editor. The snippet shows both operators in action. Can you guess its output? Run the program to check if you were right."
   ]
  },
  {
   "cell_type": "code",
   "execution_count": 1,
   "metadata": {},
   "outputs": [
    {
     "name": "stdout",
     "output_type": "stream",
     "text": [
      "False\n",
      "True\n",
      "True\n"
     ]
    }
   ],
   "source": [
    "my_list = [0, 3, 12, 8, 2]\n",
    "\n",
    "print(5 in my_list)\n",
    "print(5 not in my_list)\n",
    "print(12 in my_list)\n"
   ]
  },
  {
   "cell_type": "code",
   "execution_count": null,
   "metadata": {},
   "outputs": [],
   "source": []
  }
 ],
 "metadata": {
  "kernelspec": {
   "display_name": "Python 3",
   "language": "python",
   "name": "python3"
  },
  "language_info": {
   "codemirror_mode": {
    "name": "ipython",
    "version": 3
   },
   "file_extension": ".py",
   "mimetype": "text/x-python",
   "name": "python",
   "nbconvert_exporter": "python",
   "pygments_lexer": "ipython3",
   "version": "3.7.6"
  }
 },
 "nbformat": 4,
 "nbformat_minor": 4
}
