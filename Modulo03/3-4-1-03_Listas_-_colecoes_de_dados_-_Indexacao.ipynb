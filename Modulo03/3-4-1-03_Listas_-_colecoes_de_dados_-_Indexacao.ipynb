{
 "cells": [
  {
   "cell_type": "markdown",
   "metadata": {},
   "source": [
    "##### Aceder ao conteúdo da lista\n",
    "    \n",
    "    Accessing list content\n",
    "    \n",
    "Cada um dos elementos da lista pode ser acedido separadamente. Por exemplo, pode ser impresso:\n",
    "    \n",
    "    Each of the list's elements may be accessed separately. For example, it can be printed:"
   ]
  },
  {
   "cell_type": "code",
   "execution_count": 2,
   "metadata": {},
   "outputs": [
    {
     "name": "stdout",
     "output_type": "stream",
     "text": [
      "Original list content: [10, 5, 7, 2, 1]\n",
      "\n",
      "Previous list content: [111, 5, 7, 2, 1]\n",
      "Previous list content: [111, 1, 7, 2, 1]\n",
      "\n",
      "List length: 5\n"
     ]
    }
   ],
   "source": [
    "numbers = [10, 5, 7, 2, 1]\n",
    "print(\"Original list content:\", numbers)  # Printing original list content.\n",
    "\n",
    "numbers[0] = 111\n",
    "print(\"\\nPrevious list content:\", numbers)  # Printing previous list content.\n",
    "\n",
    "numbers[1] = numbers[4]  # Copying value of the fifth element to the second.\n",
    "print(\"Previous list content:\", numbers)  # Printing previous list content.\n",
    "\n",
    "print(\"\\nList length:\", len(numbers))  # Printing the list's length.\n"
   ]
  },
  {
   "cell_type": "code",
   "execution_count": 3,
   "metadata": {},
   "outputs": [
    {
     "name": "stdout",
     "output_type": "stream",
     "text": [
      "111\n"
     ]
    }
   ],
   "source": [
    "print(numbers[0]) # Accessing the list's first element."
   ]
  },
  {
   "cell_type": "markdown",
   "metadata": {},
   "source": [
    "Assumindo que todas as operações anteriores tenham sido concluídas com sucesso, o snippet enviará 111 para a consola.\n",
    "    \n",
    "    Assuming that all of the previous operations have been completed successfully, the snippet will send 111 to the console.\n",
    "\n",
    "Como pode ver no editor, a lista também pode ser impressa como um todo - tal como aqui:\n",
    "    \n",
    "    As you can see in the editor, the list may also be printed as a whole - just like here:"
   ]
  },
  {
   "cell_type": "markdown",
   "metadata": {},
   "source": [
    "Como provavelmente já notou antes, o Python decora o output de uma forma que sugere que todos os valores apresentados formam uma lista. O output do exemplo acima é o seguinte:\n",
    "    \n",
    "    As you've probably noticed before, Python decorates the output in a way that suggests that all the presented values form a list. The output from the example snippet above looks like this:\n"
   ]
  },
  {
   "cell_type": "code",
   "execution_count": 5,
   "metadata": {},
   "outputs": [
    {
     "name": "stdout",
     "output_type": "stream",
     "text": [
      "[111, 1, 7, 2, 1]\n"
     ]
    }
   ],
   "source": [
    "print(numbers)  # Printing the whole list."
   ]
  },
  {
   "cell_type": "markdown",
   "metadata": {},
   "source": [
    "##### O método len() .\n",
    "    \n",
    "    The len() function\n",
    "\n",
    "O comprimento de uma lista pode variar durante a execução. Novos elementos podem ser acrescentados à lista, enquanto outros podem ser retirados da mesma. Isto significa que a lista é uma entidade muito dinâmica.\n",
    "    \n",
    "    The length of a list may vary during execution. New elements may be added to the list, while others may be removed from it. This means that the list is a very dynamic entity.\n",
    "    \n",
    "Se quiser verificar o comprimento atual da lista, pode usar uma função chamada len() (o seu nome vem de length (comprimento)).\n",
    "    \n",
    "    If you want to check the list's current length, you can use a function named len() (its name comes from length).\n",
    "    \n",
    "A função toma o nome da lista como argumento, e devolve o número de elementos atualmente armazenados dentro da lista (por outras palavras - o comprimento da lista).\n",
    "    \n",
    "    The function takes the list's name as an argument, and returns the number of elements currently stored inside the list (in other words - the list's length).\n",
    "    \n",
    "Veja a última linha de código no editor, execute o programa e verifique que valor irá imprimir para a consola. Consegue adivinhar?\n",
    "    \n",
    "    Look at the last line of code in the editor, run the program and check what value it will print to the console. Can you guess?\n"
   ]
  },
  {
   "cell_type": "code",
   "execution_count": 6,
   "metadata": {},
   "outputs": [
    {
     "name": "stdout",
     "output_type": "stream",
     "text": [
      "Original list content: [10, 5, 7, 2, 1]\n",
      "\n",
      "Previous list content: [111, 5, 7, 2, 1]\n",
      "Previous list content: [111, 1, 7, 2, 1]\n",
      "\n",
      "List length: 5\n"
     ]
    }
   ],
   "source": [
    "numbers = [10, 5, 7, 2, 1]\n",
    "print(\"Original list content:\", numbers)  # Printing original list content.\n",
    "\n",
    "numbers[0] = 111\n",
    "print(\"\\nPrevious list content:\", numbers)  # Printing previous list content.\n",
    "\n",
    "numbers[1] = numbers[4]  # Copying value of the fifth element to the second.\n",
    "print(\"Previous list content:\", numbers)  # Printing previous list content.\n",
    "\n",
    "print(\"\\nList length:\", len(numbers))  # Printing the list's length.\n"
   ]
  },
  {
   "cell_type": "code",
   "execution_count": null,
   "metadata": {},
   "outputs": [],
   "source": []
  }
 ],
 "metadata": {
  "kernelspec": {
   "display_name": "Python 3",
   "language": "python",
   "name": "python3"
  },
  "language_info": {
   "codemirror_mode": {
    "name": "ipython",
    "version": 3
   },
   "file_extension": ".py",
   "mimetype": "text/x-python",
   "name": "python",
   "nbconvert_exporter": "python",
   "pygments_lexer": "ipython3",
   "version": "3.7.6"
  }
 },
 "nbformat": 4,
 "nbformat_minor": 4
}
