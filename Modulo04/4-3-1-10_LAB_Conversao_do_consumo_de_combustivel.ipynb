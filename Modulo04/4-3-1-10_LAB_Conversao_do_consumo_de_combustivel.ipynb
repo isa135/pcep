{
 "cells": [
  {
   "cell_type": "code",
   "execution_count": null,
   "metadata": {},
   "outputs": [],
   "source": [
    "LAB\n",
    "Tempo estimado\n",
    "10-15 minutos\n",
    "Nível de dificuldade\n",
    "Fácil\n",
    "Objetivos\n",
    "•\tmelhorar as competências do aluno na definição, utilização e teste de funções.\n",
    "Cenário\n",
    "O consumo de combustível de um carro pode ser expresso de várias maneiras. Por exemplo, na Europa, é mostrado como a quantidade de combustível consumido por 100 quilómetros.\n",
    "Nos EUA, é mostrado como o número de milhas percorridas por um carro utilizando um galão de combustível.\n",
    "A sua tarefa é escrever um par de funções convertendo l/100 km em mpg, e vice-versa.\n",
    "As funções:\n",
    "•\tsão nomeadas liters_100km_to_miles_gallon e miles_gallon_to_liters_100km respetivamente;\n",
    "•\ttome um argumento (o valor correspondente aos seus nomes)\n",
    "Complete o código no editor.\n",
    "Execute o seu código e verifique se o seu output é o mesmo que o nosso.\n",
    "Aqui estão algumas informações para o ajudar:\n",
    "•\t1 milha americana = 1609,344 metros;\n",
    "•\t1 galão americano = 3,785411784 litros.\n",
    "\n",
    "Output esperado\n",
    "\n",
    "60.31143162393162\n",
    "31.36194444444444\n",
    "23.52145833333333\n",
    "3.9007393587617467\n",
    "7.490910297239916\n",
    "10.009131205673757\n",
    "\n",
    "LAB\n",
    "Estimated time\n",
    "10-15 minutes\n",
    "Level of difficulty\n",
    "Easy\n",
    "Objectives\n",
    "•\timproving the student's skills in defining, using and testing functions.\n",
    "Scenario\n",
    "A car's fuel consumption may be expressed in many different ways. For example, in Europe, it is shown as the amount of fuel consumed per 100 kilometers.\n",
    "In the USA, it is shown as the number of miles traveled by a car using one gallon of fuel.\n",
    "Your task is to write a pair of functions converting l/100km into mpg, and vice versa.\n",
    "The functions:\n",
    "•\tare named liters_100km_to_miles_gallon and miles_gallon_to_liters_100km respectively;\n",
    "•\ttake one argument (the value corresponding to their names)\n",
    "Complete the code in the editor.\n",
    "Run your code and check whether your output is the same as ours.\n",
    "Here is some information to help you:\n",
    "•\t1 American mile = 1609.344 metres;\n",
    "•\t1 American gallon = 3.785411784 litres.\n",
    "\n",
    "Expected output\n",
    "60.31143162393162\n",
    "31.36194444444444\n",
    "23.52145833333333\n",
    "3.9007393587617467\n",
    "7.490910297239916\n",
    "10.009131205673757\n"
   ]
  },
  {
   "cell_type": "code",
   "execution_count": 1,
   "metadata": {},
   "outputs": [
    {
     "ename": "IndentationError",
     "evalue": "expected an indented block (<ipython-input-1-1fb4aa5b375e>, line 6)",
     "output_type": "error",
     "traceback": [
      "\u001b[1;36m  File \u001b[1;32m\"<ipython-input-1-1fb4aa5b375e>\"\u001b[1;36m, line \u001b[1;32m6\u001b[0m\n\u001b[1;33m    def miles_gallon_to_liters_100km(miles):\u001b[0m\n\u001b[1;37m      ^\u001b[0m\n\u001b[1;31mIndentationError\u001b[0m\u001b[1;31m:\u001b[0m expected an indented block\n"
     ]
    }
   ],
   "source": [
    "def liters_100km_to_miles_gallon(liters):\n",
    "#\n",
    "# Write your code here.\n",
    "#\n",
    "\n",
    "def miles_gallon_to_liters_100km(miles):\n",
    "#\n",
    "# Write your code here\n",
    "#\n",
    "\n",
    "print(liters_100km_to_miles_gallon(3.9))\n",
    "print(liters_100km_to_miles_gallon(7.5))\n",
    "print(liters_100km_to_miles_gallon(10.))\n",
    "print(miles_gallon_to_liters_100km(60.3))\n",
    "print(miles_gallon_to_liters_100km(31.4))\n",
    "print(miles_gallon_to_liters_100km(23.5))\n"
   ]
  },
  {
   "cell_type": "code",
   "execution_count": null,
   "metadata": {},
   "outputs": [],
   "source": []
  }
 ],
 "metadata": {
  "kernelspec": {
   "display_name": "Python 3",
   "language": "python",
   "name": "python3"
  },
  "language_info": {
   "codemirror_mode": {
    "name": "ipython",
    "version": 3
   },
   "file_extension": ".py",
   "mimetype": "text/x-python",
   "name": "python",
   "nbconvert_exporter": "python",
   "pygments_lexer": "ipython3",
   "version": "3.7.6"
  }
 },
 "nbformat": 4,
 "nbformat_minor": 4
}
