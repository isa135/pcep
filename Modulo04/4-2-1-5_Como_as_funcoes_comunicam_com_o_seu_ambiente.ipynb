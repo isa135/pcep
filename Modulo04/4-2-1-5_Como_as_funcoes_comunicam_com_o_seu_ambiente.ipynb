{
 "cells": [
  {
   "cell_type": "markdown",
   "metadata": {},
   "source": [
    "##### Passagem de argumentos de keyword\n",
    "    \n",
    "    Keyword argument passing\n",
    "\n",
    "O Python oferece outra convenção para passar argumentos, onde o significado do argumento é ditado pelo seu nome, não pela sua posição - chama-se keyword argument passing.\n",
    "    \n",
    "    Python offers another convention for passing arguments, where the meaning of the argument is dictated by its name, not by its position - it's called keyword argument passing.\n",
    "\n",
    "Veja o snippet:\n",
    "    \n",
    "    Take a look at the snippet:"
   ]
  },
  {
   "cell_type": "code",
   "execution_count": 1,
   "metadata": {},
   "outputs": [
    {
     "name": "stdout",
     "output_type": "stream",
     "text": [
      "Hello, my name is James Bond\n",
      "Hello, my name is Luke Skywalker\n"
     ]
    }
   ],
   "source": [
    "def introduction(first_name, last_name):\n",
    "    print(\"Hello, my name is\", first_name, last_name)\n",
    "\n",
    "introduction(first_name = \"James\", last_name = \"Bond\")\n",
    "introduction(last_name = \"Skywalker\", first_name = \"Luke\")\n"
   ]
  },
  {
   "cell_type": "markdown",
   "metadata": {},
   "source": [
    "O conceito é claro - os valores passados para os parâmetros são precedidos pelos nomes dos parâmetros alvo, seguidos do sinal = .\n",
    "    \n",
    "    The concept is clear - the values passed to the parameters are preceded by the target parameters' names, followed by the = sign.\n",
    "\n",
    "A posição não importa aqui - o valor de cada argumento conhece o seu destino com base no nome utilizado.\n",
    "    \n",
    "    The position doesn't matter here - each argument's value knows its destination on the basis of the name used.\n",
    "\n",
    "Deverá ser capaz de prever o output. Execute o código para verificar se estava certo.\n",
    "    \n",
    "    You should be able to predict the output. Run the code to check if you were right.\n",
    "\n",
    "É claro que não se deve usar um nome de parâmetro inexistente.\n",
    "    \n",
    "    Of course, you mustn't use a non-existent parameter name.\n",
    "\n",
    "O snippet seguinte causará um erro de runtime:\n",
    "    \n",
    "    The following snippet will cause a runtime error:\n"
   ]
  },
  {
   "cell_type": "code",
   "execution_count": 2,
   "metadata": {},
   "outputs": [
    {
     "ename": "TypeError",
     "evalue": "introduction() got an unexpected keyword argument 'surname'",
     "output_type": "error",
     "traceback": [
      "\u001b[1;31m---------------------------------------------------------------------------\u001b[0m",
      "\u001b[1;31mTypeError\u001b[0m                                 Traceback (most recent call last)",
      "\u001b[1;32m<ipython-input-2-589c2c3e56c7>\u001b[0m in \u001b[0;36m<module>\u001b[1;34m\u001b[0m\n\u001b[0;32m      2\u001b[0m     \u001b[0mprint\u001b[0m\u001b[1;33m(\u001b[0m\u001b[1;34m\"Hello, my name is\"\u001b[0m\u001b[1;33m,\u001b[0m \u001b[0mfirst_name\u001b[0m\u001b[1;33m,\u001b[0m \u001b[0mlast_name\u001b[0m\u001b[1;33m)\u001b[0m\u001b[1;33m\u001b[0m\u001b[1;33m\u001b[0m\u001b[0m\n\u001b[0;32m      3\u001b[0m \u001b[1;33m\u001b[0m\u001b[0m\n\u001b[1;32m----> 4\u001b[1;33m \u001b[0mintroduction\u001b[0m\u001b[1;33m(\u001b[0m\u001b[0msurname\u001b[0m\u001b[1;33m=\u001b[0m\u001b[1;34m\"Skywalker\"\u001b[0m\u001b[1;33m,\u001b[0m \u001b[0mfirst_name\u001b[0m\u001b[1;33m=\u001b[0m\u001b[1;34m\"Luke\"\u001b[0m\u001b[1;33m)\u001b[0m\u001b[1;33m\u001b[0m\u001b[1;33m\u001b[0m\u001b[0m\n\u001b[0m",
      "\u001b[1;31mTypeError\u001b[0m: introduction() got an unexpected keyword argument 'surname'"
     ]
    }
   ],
   "source": [
    "def introduction(first_name, last_name):\n",
    "    print(\"Hello, my name is\", first_name, last_name)\n",
    "\n",
    "introduction(surname=\"Skywalker\", first_name=\"Luke\")"
   ]
  },
  {
   "attachments": {
    "image.png": {
     "image/png": "[encoded data removed]"
    }
   },
   "cell_type": "markdown",
   "metadata": {},
   "source": [
    "Isto é o que Python lhe dirá:\n",
    "    \n",
    "    This is what Python will tell you:\n",
    "    \n",
    "![image.png](attachment:image.png)\n",
    "\n",
    "Experimente você mesmo.\n",
    "    \n",
    "    Try it out yourself.\n"
   ]
  },
  {
   "cell_type": "code",
   "execution_count": null,
   "metadata": {},
   "outputs": [],
   "source": []
  }
 ],
 "metadata": {
  "kernelspec": {
   "display_name": "Python 3",
   "language": "python",
   "name": "python3"
  },
  "language_info": {
   "codemirror_mode": {
    "name": "ipython",
    "version": 3
   },
   "file_extension": ".py",
   "mimetype": "text/x-python",
   "name": "python",
   "nbconvert_exporter": "python",
   "pygments_lexer": "ipython3",
   "version": "3.7.6"
  }
 },
 "nbformat": 4,
 "nbformat_minor": 4
}
