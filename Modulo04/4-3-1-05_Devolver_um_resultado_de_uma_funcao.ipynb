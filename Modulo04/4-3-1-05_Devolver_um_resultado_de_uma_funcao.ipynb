{
 "cells": [
  {
   "cell_type": "markdown",
   "metadata": {},
   "source": [
    "##### Efeitos e resultados: listas e funções – continuação\n",
    "\n",
    "    Effects and results: lists and functions - continued\n",
    "\n",
    "A segunda questão é: pode uma lista ser um resultado de uma função?\n",
    "    \n",
    "    The second question is: may a list be a function result?\n",
    "\n",
    "Sim, claro! Qualquer entidade reconhecível por Python pode ser um resultado de uma função.\n",
    "    \n",
    "    Yes, of course! Any entity recognizable by Python can be a function result.\n",
    "\n",
    "Veja o código no editor. O output do programa será assim:\n",
    "    \n",
    "    Look at the code in the editor. The program's output will be like this:"
   ]
  },
  {
   "cell_type": "code",
   "execution_count": 1,
   "metadata": {},
   "outputs": [
    {
     "name": "stdout",
     "output_type": "stream",
     "text": [
      "[4, 3, 2, 1, 0]\n"
     ]
    }
   ],
   "source": [
    "def strange_list_fun(n):\n",
    "    strange_list = []\n",
    "    \n",
    "    for i in range(0, n):\n",
    "        strange_list.insert(0, i)\n",
    "    \n",
    "    return strange_list\n",
    "\n",
    "print(strange_list_fun(5))\n"
   ]
  },
  {
   "cell_type": "markdown",
   "metadata": {},
   "source": [
    "Agora pode escrever funções com e sem resultados.\n",
    "\n",
    "    Now you can write functions with and without results.\n",
    "\n",
    "Vamos mergulhar um pouco mais fundo nas questões ligadas às variáveis das funções. Isto é essencial para a criação de funções eficazes e seguras.\n",
    "    \n",
    "    Let's dive a little deeper into the issues connected with variables in functions. This is essential for creating effective and safe functions.\n"
   ]
  },
  {
   "cell_type": "code",
   "execution_count": null,
   "metadata": {},
   "outputs": [],
   "source": []
  }
 ],
 "metadata": {
  "kernelspec": {
   "display_name": "Python 3",
   "language": "python",
   "name": "python3"
  },
  "language_info": {
   "codemirror_mode": {
    "name": "ipython",
    "version": 3
   },
   "file_extension": ".py",
   "mimetype": "text/x-python",
   "name": "python",
   "nbconvert_exporter": "python",
   "pygments_lexer": "ipython3",
   "version": "3.7.6"
  }
 },
 "nbformat": 4,
 "nbformat_minor": 4
}
