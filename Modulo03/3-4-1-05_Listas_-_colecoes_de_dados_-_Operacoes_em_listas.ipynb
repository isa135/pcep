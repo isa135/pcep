{
 "cells": [
  {
   "cell_type": "code",
   "execution_count": 2,
   "metadata": {},
   "outputs": [],
   "source": [
    "numbers = [111, 7, 2, 1]"
   ]
  },
  {
   "cell_type": "markdown",
   "metadata": {},
   "source": [
    "Índices negativos são legais\n",
    "    \n",
    "    Negative indices are legal\n",
    "\n",
    "Pode parecer estranho, mas os índices negativos são legais, e podem ser muito úteis.\n",
    "    \n",
    "    It may look strange, but negative indices are legal, and can be very useful.\n",
    "\n",
    "Um elemento com um index igual a -1 é o último na lista.\n",
    "    \n",
    "    An element with an index equal to -1 is the last one in the list."
   ]
  },
  {
   "cell_type": "code",
   "execution_count": 4,
   "metadata": {},
   "outputs": [
    {
     "name": "stdout",
     "output_type": "stream",
     "text": [
      "1\n"
     ]
    }
   ],
   "source": [
    "print(numbers[-1])"
   ]
  },
  {
   "cell_type": "markdown",
   "metadata": {},
   "source": [
    "O snippet de exemplo terá como output 1. Execute o programa e verifique.\n",
    "    \n",
    "    The example snippet will output 1. Run the program and check.\n",
    "\n",
    "Da mesma forma, o elemento com um index igual a -2 é o penúltimo na lista.\n",
    "\n",
    "    Similarly, the element with an index equal to -2 is the one before last in the list."
   ]
  },
  {
   "cell_type": "code",
   "execution_count": 5,
   "metadata": {},
   "outputs": [
    {
     "name": "stdout",
     "output_type": "stream",
     "text": [
      "2\n"
     ]
    }
   ],
   "source": [
    "print(numbers[-2])"
   ]
  },
  {
   "cell_type": "markdown",
   "metadata": {},
   "source": [
    "O snippet de exemplo terá como output 2.\n",
    "    \n",
    "    The example snippet will output 2.\n",
    "\n",
    "O último elemento acessível da nossa lista é numbers[-4] (o primeiro) - não tente ir mais longe!\n",
    "    \n",
    "    The last accessible element in our list is numbers[-4] (the first one) - don't try to go any further!\n"
   ]
  },
  {
   "cell_type": "code",
   "execution_count": 6,
   "metadata": {},
   "outputs": [
    {
     "name": "stdout",
     "output_type": "stream",
     "text": [
      "1\n",
      "111\n"
     ]
    }
   ],
   "source": [
    "numbers = [111, 7, 2, 1]\n",
    "print(numbers[-1])\n",
    "print(numbers[-4])\n"
   ]
  },
  {
   "cell_type": "code",
   "execution_count": null,
   "metadata": {},
   "outputs": [],
   "source": []
  }
 ],
 "metadata": {
  "kernelspec": {
   "display_name": "Python 3",
   "language": "python",
   "name": "python3"
  },
  "language_info": {
   "codemirror_mode": {
    "name": "ipython",
    "version": 3
   },
   "file_extension": ".py",
   "mimetype": "text/x-python",
   "name": "python",
   "nbconvert_exporter": "python",
   "pygments_lexer": "ipython3",
   "version": "3.7.6"
  }
 },
 "nbformat": 4,
 "nbformat_minor": 4
}
