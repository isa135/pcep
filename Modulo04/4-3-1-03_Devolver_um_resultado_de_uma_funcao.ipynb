{
 "cells": [
  {
   "cell_type": "markdown",
   "metadata": {},
   "source": [
    "##### Algumas palavras sobre None: continuação\n",
    "    \n",
    "    A few words about None: continued\n",
    "\n",
    "Veja o código no editor.\n",
    "    \n",
    "    Take a look at the code in the editor.\n",
    "\n",
    "É óbvio que a função strangeFunction devolve True quando o seu argumento é par.\n",
    "    \n",
    "    It's obvious that the strangeFunction function returns True when its argument is even.\n",
    "\n",
    "O que devolve de outra forma?\n",
    "    \n",
    "    What does it return otherwise?\n",
    "\n",
    "Podemos utilizar o seguinte código para o verificar:\n",
    "\n",
    "    We can use the following code to check it:"
   ]
  },
  {
   "cell_type": "code",
   "execution_count": 1,
   "metadata": {},
   "outputs": [],
   "source": [
    "def strange_function(n):\n",
    "    if(n % 2 == 0):\n",
    "        return True"
   ]
  },
  {
   "cell_type": "code",
   "execution_count": 2,
   "metadata": {},
   "outputs": [
    {
     "name": "stdout",
     "output_type": "stream",
     "text": [
      "True\n",
      "None\n"
     ]
    }
   ],
   "source": [
    "print(strange_function(2))\n",
    "print(strange_function(1))"
   ]
  },
  {
   "cell_type": "markdown",
   "metadata": {},
   "source": [
    "Não fique surpreendido da próxima vez que vir None como resultado de uma função - pode ser o sintoma de um erro subtil dentro da função.\n",
    "    \n",
    "    Don't be surprised next time you see None as a function result - it may be the symptom of a subtle mistake inside the function."
   ]
  },
  {
   "cell_type": "code",
   "execution_count": null,
   "metadata": {},
   "outputs": [],
   "source": []
  }
 ],
 "metadata": {
  "kernelspec": {
   "display_name": "Python 3",
   "language": "python",
   "name": "python3"
  },
  "language_info": {
   "codemirror_mode": {
    "name": "ipython",
    "version": 3
   },
   "file_extension": ".py",
   "mimetype": "text/x-python",
   "name": "python",
   "nbconvert_exporter": "python",
   "pygments_lexer": "ipython3",
   "version": "3.7.6"
  }
 },
 "nbformat": 4,
 "nbformat_minor": 4
}
