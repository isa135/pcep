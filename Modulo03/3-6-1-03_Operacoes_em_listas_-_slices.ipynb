{
 "cells": [
  {
   "cell_type": "markdown",
   "metadata": {},
   "source": [
    "##### Slices - índices negativos\n",
    "    \n",
    "    Slices - negative indices\n",
    "\n",
    "Veja o snippet em baixo:\n",
    "    \n",
    "    Look at the snippet below:\n",
    "\n",
    "my_list[start:end]\n",
    "\n",
    "Para repetir:\n",
    "    \n",
    "    To repeat:\n",
    "\n",
    "•\tstart é o index do primeiro elemento incluído no slice;\n",
    "\n",
    "    •\tstart is the index of the first element included in the slice;\n",
    "    \n",
    "•\tend é o index do primeiro elemento não incluído no slice.\n",
    "\n",
    "    •\tend is the index of the first element not included in the slice.\n",
    "    \n",
    "É assim que os índices negativos funcionam com o slice:\n",
    "    \n",
    "    This is how negative indices work with the slice:"
   ]
  },
  {
   "cell_type": "code",
   "execution_count": 1,
   "metadata": {},
   "outputs": [
    {
     "name": "stdout",
     "output_type": "stream",
     "text": [
      "[8, 6, 4]\n"
     ]
    }
   ],
   "source": [
    "my_list = [10, 8, 6, 4, 2]\n",
    "new_list = my_list[1:-1]\n",
    "print(new_list)"
   ]
  },
  {
   "cell_type": "markdown",
   "metadata": {},
   "source": [
    "O output do snippet é:\n",
    "    \n",
    "    The snippet's output is:\n",
    "\n",
    "[8, 6, 4]\n",
    "\n",
    "Se o start especifica um elemento que se encontra mais longe do que o descrito pelo end (do ponto de vista inicial da lista), o slice estará vazio:\n",
    "    \n",
    "    If the start specifies an element lying further than the one described by the end (from the list's beginning point of view), the slice will be empty:"
   ]
  },
  {
   "cell_type": "code",
   "execution_count": 2,
   "metadata": {},
   "outputs": [
    {
     "name": "stdout",
     "output_type": "stream",
     "text": [
      "[]\n"
     ]
    }
   ],
   "source": [
    "my_list = [10, 8, 6, 4, 2]\n",
    "new_list = my_list[-1:1]\n",
    "print(new_list)"
   ]
  },
  {
   "cell_type": "markdown",
   "metadata": {},
   "source": [
    "O output do snippet é:\n",
    "    \n",
    "    The snippet's output is:\n",
    "\n",
    "[]"
   ]
  },
  {
   "cell_type": "code",
   "execution_count": null,
   "metadata": {},
   "outputs": [],
   "source": []
  }
 ],
 "metadata": {
  "kernelspec": {
   "display_name": "Python 3",
   "language": "python",
   "name": "python3"
  },
  "language_info": {
   "codemirror_mode": {
    "name": "ipython",
    "version": 3
   },
   "file_extension": ".py",
   "mimetype": "text/x-python",
   "name": "python",
   "nbconvert_exporter": "python",
   "pygments_lexer": "ipython3",
   "version": "3.7.6"
  }
 },
 "nbformat": 4,
 "nbformat_minor": 4
}
