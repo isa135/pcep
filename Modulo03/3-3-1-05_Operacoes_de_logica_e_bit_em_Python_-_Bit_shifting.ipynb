{
 "cells": [
  {
   "attachments": {
    "image.png": {
     "image/png": "[encoded data removed]"
    }
   },
   "cell_type": "markdown",
   "metadata": {},
   "source": [
    "##### Shifting binário à esquerda e shifting binário à direita\n",
    "\n",
    "    Binary left shift and binary right shift\n",
    "\n",
    "O Python oferece mais uma operação relacionada a bits individuais: shifting (deslocamento). Isto é aplicado apenas a valores inteiros, e não se deve utilizar floats como argumentos.\n",
    "    \n",
    "    Python offers yet another operation relating to single bits: shifting. This is applied only to integer values, and you mustn't use floats as arguments for it.\n",
    "    \n",
    "Você já aplica esta operação com alguma frequência, e bastante inconscientemente. De que forma multiplica qualquer número por dez? Dê uma vista de olhos:\n",
    "    \n",
    "    You already apply this operation very often and quite unconsciously. How do you multiply any number by ten? Take a look:\n",
    "\n",
    "12345 × 10 = 123450\n",
    "\n",
    "Como se pode ver, multiplicar por dez é, de facto, um shifting de todos os dígitos para a esquerda, preenchendo a lacuna resultante com zero.\n",
    "    \n",
    "    As you can see, multiplying by ten is in fact a shift of all the digits to the left and filling the resulting gap with zero.\n",
    "    \n",
    "Divisão por dez? Dê uma vista de olhos:\n",
    "    \n",
    "    Division by ten? Take a look:\n",
    "\n",
    "12340 ÷ 10 = 1234\n",
    "\n",
    "Dividir por dez não é mais do que um shifting dos dígitos para a direita\n",
    "    \n",
    "    Dividing by ten is nothing but shifting the digits to the right.\n",
    "\n",
    "O mesmo tipo de operação é realizado pelo computador, mas com uma diferença: como dois é a base para números binários (não 10), o shifting de um valor um bit para a esquerda corresponde assim a multiplicá-lo por dois; respetivamente, o shifting um bit para a direita é o mesmo que dividí-lo por dois (repare que o bit mais à direita é perdido).\n",
    "    \n",
    "    The same kind of operation is performed by the computer, but with one difference: as two is the base for binary numbers (not 10), shifting a value one bit to the left thus corresponds to multiplying it by two; respectively, shifting one bit to the right is like dividing by two (notice that the rightmost bit is lost).\n",
    "    \n",
    "Os operadores shift em Python são um par de dígrafos: << e >>, sugerindo claramente em que direção a mudança irá ocorrer.\n",
    "    \n",
    "    The shift operators in Python are a pair of digraphs: << and >>, clearly suggesting in which direction the shift will act.\n",
    "    \n",
    "![image.png](attachment:image.png)\n",
    "\n",
    "O argumento à esquerda destes operadores é um valor inteiro cujos bits são deslocados. O argumento à direita determina o tamanho do shifting.\n",
    "    \n",
    "    The left argument of these operators is an integer value whose bits are shifted. The right argument determines the size of the shift.\n",
    "    \n",
    "Isto demonstra que esta operação não é certamente comutativa.\n",
    "    \n",
    "    It shows that this operation is certainly not commutative.\n",
    "    \n",
    "A prioridade destes operadores é muito alta. Verá na tabela de prioridades atualizada, que lhe mostraremos no final desta secção.\n",
    "    \n",
    "    The priority of these operators is very high. You'll see them in the updated table of priorities, which we'll show you at the end of this section.\n",
    "    \n",
    "Dê uma vista de olhos nas mudanças na janela do editor.\n",
    "    \n",
    "    Take a look at the shifts in the editor window.\n",
    "\n",
    "A invocação print() final produz o seguinte output:\n",
    "    \n",
    "    The final print() invocation produces the following output:\n"
   ]
  },
  {
   "cell_type": "code",
   "execution_count": 1,
   "metadata": {},
   "outputs": [
    {
     "name": "stdout",
     "output_type": "stream",
     "text": [
      "17 68 8\n"
     ]
    }
   ],
   "source": [
    "var = 17\n",
    "var_right = var >> 1\n",
    "var_left = var << 2\n",
    "print(var, var_left, var_right)\n"
   ]
  },
  {
   "attachments": {
    "image.png": {
     "image/png": "[encoded data removed]"
    }
   },
   "cell_type": "markdown",
   "metadata": {},
   "source": [
    "Nota:\n",
    "\n",
    "•\t17 >> 1 → 17 // 2 (17 divido por baixo por 2 à potência de 1) → 8 (shifting para a direita por um bit é o mesmo que a divisão inteira por dois)\n",
    "\n",
    "    •\t17 >> 1 → 17 // 2 (17 floor-divided by 2 to the power of 1) → 8 (shifting to the right by one bit is the same as integer division by two)\n",
    "\n",
    "•\t17 << 2 → 17 * 4 17 multiplicado por 2 à potência de 2) → 68 (shifting para a esquerda por dois bits é o mesmo que a multiplicação de inteiros por quatro)\n",
    "\n",
    "    •\t17 << 2 → 17 * 4 (17 multiplied by 2 to the power of 2) → 68 (shifting to the left by two bits is the same as integer multiplication by four)\n",
    "\n",
    "![image.png](attachment:image.png)\n",
    "\n",
    "E aqui está a tabela de prioridades atualizada, contendo todos os operadores introduzidos até agora:\n",
    "    \n",
    "    And here is the updated priority table, containing all the operators introduced so far:\n"
   ]
  },
  {
   "attachments": {
    "image.png": {
     "image/png": "[encoded data removed]"
    }
   },
   "cell_type": "markdown",
   "metadata": {},
   "source": [
    "![image.png](attachment:image.png)"
   ]
  }
 ],
 "metadata": {
  "kernelspec": {
   "display_name": "Python 3",
   "language": "python",
   "name": "python3"
  },
  "language_info": {
   "codemirror_mode": {
    "name": "ipython",
    "version": 3
   },
   "file_extension": ".py",
   "mimetype": "text/x-python",
   "name": "python",
   "nbconvert_exporter": "python",
   "pygments_lexer": "ipython3",
   "version": "3.7.6"
  }
 },
 "nbformat": 4,
 "nbformat_minor": 4
}
