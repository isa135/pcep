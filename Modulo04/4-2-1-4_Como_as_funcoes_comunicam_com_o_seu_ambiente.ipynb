{
 "cells": [
  {
   "cell_type": "markdown",
   "metadata": {},
   "source": [
    "##### Passagem de parâmetros posicionais\n",
    "    \n",
    "    Positional parameter passing\n",
    "\n",
    "Uma técnica que atribui o iésimo (primeiro, segundo, e assim por diante) argumento ao iésimo (primeiro, segundo, e assim por diante) parâmetro de função é chamada passagem de parâmetro posicional, enquanto os argumentos passados desta forma são denominados argumentos posicionais.\n",
    "    \n",
    "    A technique which assigns the ith (first, second, and so on) argument to the ith (first, second, and so on) function parameter is called positional parameter passing, while arguments passed in this way are named positional arguments.\n",
    "\n",
    "Já o usou, mas o Python pode oferecer muito mais. Vamos agora falar-lhe sobre isso.\n",
    "\n",
    "    You've used it already, but Python can offer a lot more. We're going to tell you about it now."
   ]
  },
  {
   "cell_type": "code",
   "execution_count": 1,
   "metadata": {},
   "outputs": [
    {
     "name": "stdout",
     "output_type": "stream",
     "text": [
      "1 2 3\n"
     ]
    }
   ],
   "source": [
    "def my_function(a, b, c):\n",
    "    print(a, b, c)\n",
    "\n",
    "my_function(1, 2, 3)"
   ]
  },
  {
   "cell_type": "markdown",
   "metadata": {},
   "source": [
    "Nota: a passagem de parâmetros posicionais é intuitivamente utilizada pelas pessoas em muitas ocasiões sociais. Por exemplo, pode ser geralmente aceite que quando nos apresentamos mencionemos o(s) nosso(s) nome(s) próprio(s) antes do nosso apelido, por exemplo, \"O meu nome é Miguel Matos\".\n",
    "    \n",
    "    Note: positional parameter passing is intuitively used by people in many social occasions. For example, it may be generally accepted that when we introduce ourselves we mention our first name(s) before our last name, e.g., \"My name's John Doe.\"\n",
    "    \n",
    "A propósito, os húngaros fazem-no pela ordem inversa.\n",
    "\n",
    "    Incidentally, Hungarians do it in reverse order.\n",
    "\n",
    "Vamos implementar esse costume social em Python. A seguinte função será responsável pela introdução de alguém:\n",
    "    \n",
    "    Let's implement that social custom in Python. The following function will be responsible for introducing somebody:"
   ]
  },
  {
   "cell_type": "code",
   "execution_count": 2,
   "metadata": {},
   "outputs": [
    {
     "name": "stdout",
     "output_type": "stream",
     "text": [
      "Hello, my name is Luke Skywalker\n",
      "Hello, my name is Jesse Quick\n",
      "Hello, my name is Clark Kent\n"
     ]
    }
   ],
   "source": [
    "def introduction(first_name, last_name):\n",
    "    print(\"Hello, my name is\", first_name, last_name)\n",
    "\n",
    "introduction(\"Luke\", \"Skywalker\")\n",
    "introduction(\"Jesse\", \"Quick\")\n",
    "introduction(\"Clark\", \"Kent\")"
   ]
  },
  {
   "cell_type": "markdown",
   "metadata": {},
   "source": [
    "Consegue adivinhar o output? Execute o código e descubra se estava certo.\n",
    "    \n",
    "    Can you guess the output? Run the code and find out if you were right.\n",
    "\n",
    "Agora imagine que a mesma função está a ser utilizada na Hungria. Nesse caso, o código ficaria assim:\n",
    "    \n",
    "    Now imagine that the same function is being used in Hungary. In this case, the code would look like this:"
   ]
  },
  {
   "cell_type": "code",
   "execution_count": 3,
   "metadata": {},
   "outputs": [
    {
     "name": "stdout",
     "output_type": "stream",
     "text": [
      "Hello, my name is Skywalker Luke\n",
      "Hello, my name is Quick Jesse\n",
      "Hello, my name is Kent Clark\n"
     ]
    }
   ],
   "source": [
    "def introduction(first_name, last_name):\n",
    "    print(\"Hello, my name is\", first_name, last_name)\n",
    "\n",
    "introduction(\"Skywalker\", \"Luke\")\n",
    "introduction(\"Quick\", \"Jesse\")\n",
    "introduction(\"Kent\", \"Clark\")"
   ]
  },
  {
   "cell_type": "markdown",
   "metadata": {},
   "source": [
    "O output terá um aspeto diferente. Consegue adivinhá-lo?\n",
    "    \n",
    "    The output will look different. Can you guess it?\n",
    "\n",
    "Execute o código para ver se também estava certo aqui. Está surpreendido?\n",
    "    \n",
    "    Run the code to see if you were right here, too. Are you surprised?\n",
    "\n",
    "Pode tornar a função mais independente da cultura?\n",
    "    \n",
    "    Can you make the function more culture-independent?"
   ]
  },
  {
   "cell_type": "code",
   "execution_count": null,
   "metadata": {},
   "outputs": [],
   "source": []
  }
 ],
 "metadata": {
  "kernelspec": {
   "display_name": "Python 3",
   "language": "python",
   "name": "python3"
  },
  "language_info": {
   "codemirror_mode": {
    "name": "ipython",
    "version": 3
   },
   "file_extension": ".py",
   "mimetype": "text/x-python",
   "name": "python",
   "nbconvert_exporter": "python",
   "pygments_lexer": "ipython3",
   "version": "3.7.6"
  }
 },
 "nbformat": 4,
 "nbformat_minor": 4
}
