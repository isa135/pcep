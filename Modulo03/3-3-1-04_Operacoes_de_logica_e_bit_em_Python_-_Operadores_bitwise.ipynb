{
 "cells": [
  {
   "cell_type": "markdown",
   "metadata": {},
   "source": [
    "##### Como lidamos com bits individuais?\n",
    "    \n",
    "    How do we deal with single bits?\n",
    "\n",
    "Vamos agora mostrar-lhe aquilo para que pode utilizar os operadores bitwise. Imagine que é um programador obrigado a escrever uma parte importante de um sistema operativo. Foi informado de que tem permissão para usar uma variável atribuída da seguinte maneira:\n",
    "    \n",
    "    We'll now show you what you can use bitwise operators for. Imagine that you're a developer obliged to write an important piece of an operating system. You've been told that you're allowed to use a variable assigned in the following way:"
   ]
  },
  {
   "cell_type": "code",
   "execution_count": 1,
   "metadata": {},
   "outputs": [],
   "source": [
    "flag_register = 0x1234"
   ]
  },
  {
   "attachments": {
    "image.png": {
     "image/png": "[encoded data removed]"
    }
   },
   "cell_type": "markdown",
   "metadata": {},
   "source": [
    "A variável armazena as informações sobre vários aspectos da operação do sistema. Cada bit da variável armazena um valor yes/no. Também lhe foi dito que apenas um destes bits é seu - o terceiro (lembre-se que os bits são numerados a partir do zero, e o bit número zero é o mais baixo, enquanto o mais alto é o número 31). Os bits restantes não podem ser alterados, porque se destinam a armazenar outros dados. Aqui está o seu bit marcado pela letra x:\n",
    "    \n",
    "    The variable stores the information about various aspects of system operation. Each bit of the variable stores one yes/no value. You've also been told that only one of these bits is yours - the third (remember that bits are numbered from zero, and bit number zero is the lowest one, while the highest is number 31). The remaining bits are not allowed to change, because they're intended to store other data. Here's your bit marked with the letter x:\n",
    "    \n",
    "![image.png](attachment:image.png)"
   ]
  },
  {
   "attachments": {
    "image.png": {
     "image/png": "[encoded data removed]"
    }
   },
   "cell_type": "markdown",
   "metadata": {},
   "source": [
    "Pode ser confrontado com as seguintes tarefas:\n",
    "    \n",
    "    You may be faced with the following tasks:\n",
    "\n",
    "1. Verifique o estado do seu bit - quer descobrir o valor do seu bit; comparar a variável inteira com zero não fará nada, porque os bits restantes podem ter valores completamente imprevisíveis, mas pode usar a seguinte propriedade de conjunção:\n",
    "    \n",
    "    \n",
    "    1. Check the state of your bit - you want to find out the value of your bit; comparing the whole variable to zero will not do anything, because the remaining bits can have completely unpredictable values, but you can use the following conjunction property:\n",
    "    \n",
    "![image.png](attachment:image.png)"
   ]
  },
  {
   "cell_type": "markdown",
   "metadata": {},
   "source": [
    "Se aplicar a & operação à flag_register variável juntamente com a seguinte imagem de bit:\n",
    "    \n",
    "    If you apply the & operation to the flag_register variable along with the following bit image:\n",
    "    \n",
    "00000000000000000000000000001000"
   ]
  },
  {
   "attachments": {
    "image.png": {
     "image/png": "[encoded data removed]"
    }
   },
   "cell_type": "markdown",
   "metadata": {},
   "source": [
    "(observe o 1 na posição do seu bit) como resultado, obtém uma das seguintes strings de bit:\n",
    "\n",
    "    (note the 1 at your bit's position) as the result, you obtain one of the following bit strings:\n",
    "\n",
    "![image.png](attachment:image.png)"
   ]
  },
  {
   "attachments": {
    "image.png": {
     "image/png": "[encoded data removed]"
    }
   },
   "cell_type": "markdown",
   "metadata": {},
   "source": [
    "Tal sequência de zeros e uns, cuja tarefa é agarrar o valor ou alterar os bits selecionados, é chamada de bit mask.\n",
    "    \n",
    "    Such a sequence of zeros and ones, whose task is to grab the value or to change the selected bits, is called a bit mask.\n",
    "\n",
    "Vamos criar uma bit mask para detetar o estado do seu bit. Deve apontar para o terceiro bit. Esse bit tem o peso de ![image.png](attachment:image.png). Uma mask adequada poderia ser criada através da seguinte declaração:\n",
    "    \n",
    "    Let's build a bit mask to detect the state of your bit. It should point to the third bit. That bit has the weight of 23 = 8. A suitable mask could be created by the following declaration:"
   ]
  },
  {
   "cell_type": "code",
   "execution_count": 3,
   "metadata": {},
   "outputs": [],
   "source": [
    "the_mask = 8"
   ]
  },
  {
   "attachments": {
    "image.png": {
     "image/png": "[encoded data removed]"
    }
   },
   "cell_type": "markdown",
   "metadata": {},
   "source": [
    "Também pode fazer uma sequência de instruções dependendo do estado do seu bit i aqui está:\n",
    "\n",
    "    You can also make a sequence of instructions depending on the state of your bit i here it is:\n",
    "\n",
    "![image.png](attachment:image.png)"
   ]
  },
  {
   "attachments": {
    "image.png": {
     "image/png": "[encoded data removed]"
    }
   },
   "cell_type": "markdown",
   "metadata": {},
   "source": [
    "2. Redefina o seu bit - atribua um zero ao bit enquanto todos os outros bits devem permanecer inalterados; utilizemos a mesma propriedade de conjunção como antes, mas utilizemos uma mask ligeiramente diferente - exatamente como em baixo:\n",
    "\n",
    "    \n",
    "    2. Reset your bit - you assign a zero to the bit while all the other bits must remain unchanged; let's use the same property of the conjunction as before, but let's use a slightly different mask - exactly as below:\n",
    "\n",
    "![image.png](attachment:image.png)"
   ]
  },
  {
   "attachments": {
    "image.png": {
     "image/png": "[encoded data removed]"
    }
   },
   "cell_type": "markdown",
   "metadata": {},
   "source": [
    "Observe que a mask foi criada como resultado da negação de todos os bits de the_mask variável. Redefinir o bit é simples, e parece-se com isto (escolha o que mais gostar):\n",
    "    \n",
    "    Note that the mask was created as a result of the negation of all the bits of the_mask variable. Resetting the bit is simple, and looks like this (choose the one you like more):\n",
    "\n",
    "![image.png](attachment:image.png)"
   ]
  },
  {
   "attachments": {
    "image.png": {
     "image/png": "[encoded data removed]"
    }
   },
   "cell_type": "markdown",
   "metadata": {},
   "source": [
    "3. Defina o seu bit - atribua um 1 ao seu bit, enquanto todos os bits restantes devem permanecer inalterados; use a seguinte propriedade de disjunção:\n",
    "    \n",
    "    3. Set your bit - you assign a 1 to your bit, while all the remaining bits must remain unchanged; use the following disjunction property:\n",
    "\n",
    "![image.png](attachment:image.png)"
   ]
  },
  {
   "attachments": {
    "image.png": {
     "image/png": "[encoded data removed]"
    }
   },
   "cell_type": "markdown",
   "metadata": {},
   "source": [
    "Agora está pronto para definir o seu bit com uma das seguintes instruções:\n",
    "    \n",
    "    You're now ready to set your bit with one of the following instructions:\n",
    "\n",
    "![image.png](attachment:image.png)"
   ]
  },
  {
   "attachments": {
    "image.png": {
     "image/png": "[encoded data removed]"
    }
   },
   "cell_type": "markdown",
   "metadata": {},
   "source": [
    "4. Negue o seu bit - substitua um 1 com um 0 e um 0 com um 1. Pode utilizar uma propriedade interessante do xor operador:\n",
    "\n",
    "    \n",
    "    4. Negate your bit - you replace a 1 with a 0 and a 0 with a 1. You can use an interesting property of the xor operator:\n",
    "\n",
    "![image.png](attachment:image.png)"
   ]
  },
  {
   "attachments": {
    "image.png": {
     "image/png": "[encoded data removed]"
    }
   },
   "cell_type": "markdown",
   "metadata": {},
   "source": [
    "e negue o seu bit com as seguintes instruções:\n",
    "    \n",
    "    and negate your bit with the following instructions:\n",
    "\n",
    "![image.png](attachment:image.png)"
   ]
  },
  {
   "cell_type": "code",
   "execution_count": null,
   "metadata": {},
   "outputs": [],
   "source": []
  }
 ],
 "metadata": {
  "kernelspec": {
   "display_name": "Python 3",
   "language": "python",
   "name": "python3"
  },
  "language_info": {
   "codemirror_mode": {
    "name": "ipython",
    "version": 3
   },
   "file_extension": ".py",
   "mimetype": "text/x-python",
   "name": "python",
   "nbconvert_exporter": "python",
   "pygments_lexer": "ipython3",
   "version": "3.7.6"
  }
 },
 "nbformat": 4,
 "nbformat_minor": 4
}
