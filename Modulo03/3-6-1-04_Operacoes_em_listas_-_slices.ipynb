{
 "cells": [
  {
   "cell_type": "markdown",
   "metadata": {},
   "source": [
    "##### Slices: continuação\n",
    " \n",
    "    Slices: continued\n",
    "\n",
    "Se omitir o start no seu slice, assume-se que pretende obter um slice começando pelo elemento com index 0.\n",
    "    \n",
    "    If you omit the start in your slice, it is assumed that you want to get a slice beginning at the element with index 0.\n",
    "\n",
    "Por outras palavras, o slice desta forma:\n",
    "    \n",
    "    In other words, the slice of this form:\n",
    "\n",
    "my_list[:end]\n",
    "\n",
    "é um equivalente mais compacto de:\n",
    "    \n",
    "    is a more compact equivalent of:\n",
    "\n",
    "my_list[0:end]\n",
    "\n",
    "Veja o snippet em baixo:\n",
    "    \n",
    "    Look at the snippet below:"
   ]
  },
  {
   "cell_type": "code",
   "execution_count": 1,
   "metadata": {},
   "outputs": [
    {
     "name": "stdout",
     "output_type": "stream",
     "text": [
      "[10, 8, 6]\n"
     ]
    }
   ],
   "source": [
    "my_list = [10, 8, 6, 4, 2]\n",
    "new_list = my_list[:3]\n",
    "print(new_list)"
   ]
  },
  {
   "cell_type": "markdown",
   "metadata": {},
   "source": [
    "É por isso que o seu output é: [10, 8, 6].\n",
    "    \n",
    "    This is why its output is: [10, 8, 6].\n",
    "\n",
    "Da mesma forma, se omitir o end no seu slice, presume-se que deseja que o slice termine no elemento com o index len(my_list).\n",
    "    \n",
    "    Similarly, if you omit the end in your slice, it is assumed that you want the slice to end at the element with the index len(my_list).\n",
    "\n",
    "Por outras palavras, o slice desta forma:\n",
    "    \n",
    "    In other words, the slice of this form:\n",
    "\n",
    "my_list[start:]\n",
    "\n",
    "é um equivalente mais compacto de:\n",
    "    \n",
    "    is a more compact equivalent of:\n",
    "\n",
    "my_list[start:len(my_list)]\n",
    "    \n",
    "Veja o snippet seguinte:\n",
    "    \n",
    "    Look at the following snippet:"
   ]
  },
  {
   "cell_type": "code",
   "execution_count": 2,
   "metadata": {},
   "outputs": [
    {
     "name": "stdout",
     "output_type": "stream",
     "text": [
      "[4, 2]\n"
     ]
    }
   ],
   "source": [
    "my_list = [10, 8, 6, 4, 2]\n",
    "new_list = my_list[3:]\n",
    "print(new_list)"
   ]
  },
  {
   "cell_type": "markdown",
   "metadata": {},
   "source": [
    "O seu output é, portanto: [4, 2].\n",
    "    \n",
    "    Its output is therefore: [4, 2]."
   ]
  },
  {
   "cell_type": "code",
   "execution_count": null,
   "metadata": {},
   "outputs": [],
   "source": []
  }
 ],
 "metadata": {
  "kernelspec": {
   "display_name": "Python 3",
   "language": "python",
   "name": "python3"
  },
  "language_info": {
   "codemirror_mode": {
    "name": "ipython",
    "version": 3
   },
   "file_extension": ".py",
   "mimetype": "text/x-python",
   "name": "python",
   "nbconvert_exporter": "python",
   "pygments_lexer": "ipython3",
   "version": "3.7.6"
  }
 },
 "nbformat": 4,
 "nbformat_minor": 4
}
