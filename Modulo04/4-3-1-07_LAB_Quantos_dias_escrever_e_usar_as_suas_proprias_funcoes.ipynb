{
 "cells": [
  {
   "cell_type": "code",
   "execution_count": null,
   "metadata": {},
   "outputs": [],
   "source": [
    "LAB\n",
    "Tempo estimado\n",
    "15-20 minutos\n",
    "Nível de dificuldade\n",
    "Médio\n",
    "Pré-requisitos\n",
    "LAB 4.3.1.6\n",
    "Objetivos\n",
    "Familiarizar o aluno a:\n",
    "•\tprojetar e escrever funções parametrizadas;\n",
    "•\tutilizar a return declaração;\n",
    "•\tutilizar as próprias funções do aluno.\n",
    "Cenário\n",
    "A sua tarefa é escrever e testar uma função que toma dois argumentos (um ano e um mês) e devolve o número de dias para o par mês/ano dado (enquanto apenas fevereiro é sensível ao valor year , a sua função deve ser universal).\n",
    "A parte inicial da função está pronta. Agora, convença a função a devolver None se os seus argumentos não fizerem sentido.\n",
    "É claro que pode (e deve) usar a função previamente escrita e testada (LAB 4.3.1.6). Pode ser muito útil. Encorajamo-lo a utilizar uma lista preenchida com a duração dos meses. Pode criá-la dentro da função - este truque irá encurtar significativamente o código.\n",
    "Preparámos um código de teste. Expanda-o para incluir mais casos de teste.\n",
    "\n",
    "LAB\n",
    "Estimated time\n",
    "15-20 minutes\n",
    "Level of difficulty\n",
    "Medium\n",
    "Prerequisites\n",
    "LAB 4.3.1.6\n",
    "Objectives\n",
    "Familiarize the student with:\n",
    "•\tprojecting and writing parameterized functions;\n",
    "•\tutilizing the return statement;\n",
    "•\tutilizing the student's own functions.\n",
    "Scenario\n",
    "Your task is to write and test a function which takes two arguments (a year and a month) and returns the number of days for the given month/year pair (while only February is sensitive to the year value, your function should be universal).\n",
    "The initial part of the function is ready. Now, convince the function to return None if its arguments don't make sense.\n",
    "Of course, you can (and should) use the previously written and tested function (LAB 4.3.1.6). It may be very helpful. We encourage you to use a list filled with the months' lengths. You can create it inside the function - this trick will significantly shorten the code.\n",
    "We've prepared a testing code. Expand it to include more test cases.\n"
   ]
  },
  {
   "cell_type": "code",
   "execution_count": null,
   "metadata": {},
   "outputs": [],
   "source": [
    "def is_year_leap(year):\n",
    "#\n",
    "# Your code from LAB 4.3.1.6.\n",
    "#\n",
    "\n",
    "def days_in_month(year, month):\n",
    "#\n",
    "# Write your new code here.\n",
    "#\n",
    "\n",
    "test_years = [1900, 2000, 2016, 1987]\n",
    "test_months = [2, 2, 1, 11]\n",
    "test_results = [28, 29, 31, 30]\n",
    "for i in range(len(test_years)):\n",
    "\tyr = test_years[i]\n",
    "\tmo = test_months[i]\n",
    "\tprint(yr, mo, \"->\", end=\"\")\n",
    "\tresult = days_in_month(yr, mo)\n",
    "\tif result == test_results[i]:\n",
    "\t\tprint(\"OK\")\n",
    "\telse:\n",
    "\t\tprint(\"Failed\")\n"
   ]
  }
 ],
 "metadata": {
  "kernelspec": {
   "display_name": "Python 3",
   "language": "python",
   "name": "python3"
  },
  "language_info": {
   "codemirror_mode": {
    "name": "ipython",
    "version": 3
   },
   "file_extension": ".py",
   "mimetype": "text/x-python",
   "name": "python",
   "nbconvert_exporter": "python",
   "pygments_lexer": "ipython3",
   "version": "3.7.6"
  }
 },
 "nbformat": 4,
 "nbformat_minor": 4
}
