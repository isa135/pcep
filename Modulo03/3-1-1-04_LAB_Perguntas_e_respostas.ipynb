{
 "cells": [
  {
   "cell_type": "markdown",
   "metadata": {},
   "source": [
    "LAB\n",
    "\n",
    "Tempo estimado: 5-10 minutos\n",
    "\n",
    "Nível de dificuldade: Muito fácil\n",
    "\n",
    "Objetivos\n",
    "familiarizar-se com a função input() ;\n",
    "familiarizar-se com os operadores de comparação em Python.\n",
    "Cenário\n",
    "Usando um dos operadores de comparação em Python, escreva um programa simples de duas linhas que toma o parâmetro n como input, que é um inteiro, e imprime False Se n for menor que 100, e True Se n for maior ou igual que 100.\n",
    "\n",
    "Não crie blocos if nenhuns (vamos falar deles muito em breve). Teste o seu código utilizando os dados que lhe fornecemos.\n",
    "\n",
    "Dados de teste\n",
    "\n",
    "Input de amostra: 55\n",
    "\n",
    "Output esperado: False\n",
    "\n",
    "Input de amostra: 99\n",
    "\n",
    "Output esperado: False\n",
    "\n",
    "Input de amostra: 100\n",
    "\n",
    "Output esperado: True\n",
    "\n",
    "Input de amostra: 101\n",
    "\n",
    "Output esperado: True\n",
    "\n",
    "Input de amostra: -5\n",
    "\n",
    "Output esperado: False\n",
    "\n",
    "Input de amostra: +123\n",
    "\n",
    "Output esperado: True"
   ]
  },
  {
   "cell_type": "code",
   "execution_count": null,
   "metadata": {},
   "outputs": [],
   "source": []
  }
 ],
 "metadata": {
  "kernelspec": {
   "display_name": "Python 3",
   "language": "python",
   "name": "python3"
  },
  "language_info": {
   "codemirror_mode": {
    "name": "ipython",
    "version": 3
   },
   "file_extension": ".py",
   "mimetype": "text/x-python",
   "name": "python",
   "nbconvert_exporter": "python",
   "pygments_lexer": "ipython3",
   "version": "3.7.6"
  }
 },
 "nbformat": 4,
 "nbformat_minor": 4
}
