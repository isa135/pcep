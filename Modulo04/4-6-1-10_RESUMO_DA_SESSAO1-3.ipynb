{
 "cells": [
  {
   "cell_type": "markdown",
   "metadata": {},
   "source": [
    "##### Key takeaways: tuples\n",
    "\n",
    "1. Os tuples são coleções de dados ordenados e imutáveis. Podem ser imaginados como listas imutáveis. São escritos entre parêntesis curvos:\n",
    "    \n",
    "    \n",
    "    1. Tuples are ordered and unchangeable (immutable) collections of data. They can be thought of as immutable lists. They are written in round brackets:"
   ]
  },
  {
   "cell_type": "code",
   "execution_count": 2,
   "metadata": {},
   "outputs": [
    {
     "name": "stdout",
     "output_type": "stream",
     "text": [
      "(1, 2, True, 'a string', (3, 4), [5, 6], None)\n",
      "[1, 2, True, 'a string', (3, 4), [5, 6], None]\n"
     ]
    }
   ],
   "source": [
    "my_tuple = (1, 2, True, \"a string\", (3, 4), [5, 6], None)\n",
    "print(my_tuple)\n",
    "\n",
    "my_list = [1, 2, True, \"a string\", (3, 4), [5, 6], None]\n",
    "print(my_list)"
   ]
  },
  {
   "cell_type": "markdown",
   "metadata": {},
   "source": [
    "Cada elemento tuple pode ser de um tipo diferente (ou seja, inteiros, strings, booleanos, etc.). Além disso, os tuples podem conter outros tuples ou listas (e o inverso).\n",
    "    \n",
    "    Each tuple element may be of a different type (i.e., integers, strings, booleans, etc.). What is more, tuples can contain other tuples or lists (and the other way round).\n",
    "    \n",
    "2. Pode-se criar um tuple vazio como este:\n",
    "    \n",
    "    \n",
    "    2. You can create an empty tuple like this:"
   ]
  },
  {
   "cell_type": "code",
   "execution_count": 3,
   "metadata": {},
   "outputs": [
    {
     "name": "stdout",
     "output_type": "stream",
     "text": [
      "<class 'tuple'>\n"
     ]
    }
   ],
   "source": [
    "empty_tuple = ()\n",
    "print(type(empty_tuple))    # outputs: <class 'tuple'>"
   ]
  },
  {
   "cell_type": "markdown",
   "metadata": {},
   "source": [
    "3. Um tuple de um elemento pode ser criado da seguinte forma:\n",
    "    \n",
    "    \n",
    "    3. A one-element tuple may be created as follows:"
   ]
  },
  {
   "cell_type": "code",
   "execution_count": 4,
   "metadata": {},
   "outputs": [],
   "source": [
    "one_elem_tuple_1 = (\"one\", )    # Brackets and a comma.\n",
    "one_elem_tuple_2 = \"one\",       # No brackets, just a comma."
   ]
  },
  {
   "cell_type": "markdown",
   "metadata": {},
   "source": [
    "Se remover a vírgula, dirá ao Python para criar uma variável e não um tuple:\n",
    "    \n",
    "    If you remove the comma, you will tell Python to create a variable, not a tuple:"
   ]
  },
  {
   "cell_type": "code",
   "execution_count": 5,
   "metadata": {},
   "outputs": [
    {
     "name": "stdout",
     "output_type": "stream",
     "text": [
      "<class 'tuple'>\n",
      "<class 'int'>\n"
     ]
    }
   ],
   "source": [
    "my_tuple_1 = 1, \n",
    "print(type(my_tuple_1))    # outputs: <class 'tuple'>\n",
    "\n",
    "my_tuple_2 = 1             # This is not a tuple.\n",
    "print(type(my_tuple_2))    # outputs: <class 'int'>"
   ]
  },
  {
   "cell_type": "markdown",
   "metadata": {},
   "source": [
    "4. Pode aceder aos elementos do tuple através da indexação:\n",
    "\n",
    "    \n",
    "    4. You can access tuple elements by indexing them:"
   ]
  },
  {
   "cell_type": "code",
   "execution_count": 6,
   "metadata": {},
   "outputs": [
    {
     "name": "stdout",
     "output_type": "stream",
     "text": [
      "[3, 4]\n"
     ]
    }
   ],
   "source": [
    "my_tuple = (1, 2.0, \"string\", [3, 4], (5, ), True)\n",
    "print(my_tuple[3])    # outputs: [3, 4]"
   ]
  },
  {
   "cell_type": "markdown",
   "metadata": {},
   "source": [
    "5. Os tuples são imutáveis, o que significa que não se pode alterar os seus elementos (não se pode anexar tuples, ou modificar, ou remover elementos tuple). O snippet a seguir causará uma exceção:\n",
    "    \n",
    "    \n",
    "    5. Tuples are immutable, which means you cannot change their elements (you cannot append tuples, or modify, or remove tuple elements). The following snippet will cause an exception:"
   ]
  },
  {
   "cell_type": "code",
   "execution_count": 7,
   "metadata": {},
   "outputs": [
    {
     "ename": "TypeError",
     "evalue": "'tuple' object does not support item assignment",
     "output_type": "error",
     "traceback": [
      "\u001b[1;31m---------------------------------------------------------------------------\u001b[0m",
      "\u001b[1;31mTypeError\u001b[0m                                 Traceback (most recent call last)",
      "\u001b[1;32m<ipython-input-7-6b4c33073832>\u001b[0m in \u001b[0;36m<module>\u001b[1;34m\u001b[0m\n\u001b[0;32m      1\u001b[0m \u001b[0mmy_tuple\u001b[0m \u001b[1;33m=\u001b[0m \u001b[1;33m(\u001b[0m\u001b[1;36m1\u001b[0m\u001b[1;33m,\u001b[0m \u001b[1;36m2.0\u001b[0m\u001b[1;33m,\u001b[0m \u001b[1;34m\"string\"\u001b[0m\u001b[1;33m,\u001b[0m \u001b[1;33m[\u001b[0m\u001b[1;36m3\u001b[0m\u001b[1;33m,\u001b[0m \u001b[1;36m4\u001b[0m\u001b[1;33m]\u001b[0m\u001b[1;33m,\u001b[0m \u001b[1;33m(\u001b[0m\u001b[1;36m5\u001b[0m\u001b[1;33m,\u001b[0m \u001b[1;33m)\u001b[0m\u001b[1;33m,\u001b[0m \u001b[1;32mTrue\u001b[0m\u001b[1;33m)\u001b[0m\u001b[1;33m\u001b[0m\u001b[1;33m\u001b[0m\u001b[0m\n\u001b[1;32m----> 2\u001b[1;33m \u001b[0mmy_tuple\u001b[0m\u001b[1;33m[\u001b[0m\u001b[1;36m2\u001b[0m\u001b[1;33m]\u001b[0m \u001b[1;33m=\u001b[0m \u001b[1;34m\"guitar\"\u001b[0m    \u001b[1;31m# The TypeError exception will be raised.\u001b[0m\u001b[1;33m\u001b[0m\u001b[1;33m\u001b[0m\u001b[0m\n\u001b[0m",
      "\u001b[1;31mTypeError\u001b[0m: 'tuple' object does not support item assignment"
     ]
    }
   ],
   "source": [
    "my_tuple = (1, 2.0, \"string\", [3, 4], (5, ), True)\n",
    "my_tuple[2] = \"guitar\"    # The TypeError exception will be raised."
   ]
  },
  {
   "cell_type": "markdown",
   "metadata": {},
   "source": [
    "No entanto, é possível apagar um tuple como um todo:\n",
    "    \n",
    "    However, you can delete a tuple as a whole:"
   ]
  },
  {
   "cell_type": "code",
   "execution_count": 8,
   "metadata": {},
   "outputs": [
    {
     "ename": "NameError",
     "evalue": "name 'my_tuple' is not defined",
     "output_type": "error",
     "traceback": [
      "\u001b[1;31m---------------------------------------------------------------------------\u001b[0m",
      "\u001b[1;31mNameError\u001b[0m                                 Traceback (most recent call last)",
      "\u001b[1;32m<ipython-input-8-f37f7cb38bac>\u001b[0m in \u001b[0;36m<module>\u001b[1;34m\u001b[0m\n\u001b[0;32m      1\u001b[0m \u001b[0mmy_tuple\u001b[0m \u001b[1;33m=\u001b[0m \u001b[1;36m1\u001b[0m\u001b[1;33m,\u001b[0m \u001b[1;36m2\u001b[0m\u001b[1;33m,\u001b[0m \u001b[1;36m3\u001b[0m\u001b[1;33m,\u001b[0m\u001b[1;33m\u001b[0m\u001b[1;33m\u001b[0m\u001b[0m\n\u001b[0;32m      2\u001b[0m \u001b[1;32mdel\u001b[0m \u001b[0mmy_tuple\u001b[0m\u001b[1;33m\u001b[0m\u001b[1;33m\u001b[0m\u001b[0m\n\u001b[1;32m----> 3\u001b[1;33m \u001b[0mprint\u001b[0m\u001b[1;33m(\u001b[0m\u001b[0mmy_tuple\u001b[0m\u001b[1;33m)\u001b[0m    \u001b[1;31m# NameError: name 'my_tuple' is not defined\u001b[0m\u001b[1;33m\u001b[0m\u001b[1;33m\u001b[0m\u001b[0m\n\u001b[0m",
      "\u001b[1;31mNameError\u001b[0m: name 'my_tuple' is not defined"
     ]
    }
   ],
   "source": [
    "my_tuple = 1, 2, 3, \n",
    "del my_tuple\n",
    "print(my_tuple)    # NameError: name 'my_tuple' is not defined"
   ]
  },
  {
   "cell_type": "markdown",
   "metadata": {},
   "source": [
    "6. Pode fazer um loop através dos elementos de um tuple (Exemplo 1), verificar se um elemento específico está (ou não) presente num tuple (Exemplo 2), utilizar a função len() para verificar quantos elementos existem num tuple (Exemplo 3), ou mesmo juntar/multiplicar tuples (Exemplo 4):\n",
    "    \n",
    "    \n",
    "    6. You can loop through a tuple elements (Example 1), check if a specific element is (not)present in a tuple (Example 2), use the len() function to check how many elements there are in a tuple (Example 3), or even join/multiply tuples (Example 4):"
   ]
  },
  {
   "cell_type": "code",
   "execution_count": 9,
   "metadata": {},
   "outputs": [
    {
     "name": "stdout",
     "output_type": "stream",
     "text": [
      "1\n",
      "2\n",
      "3\n"
     ]
    }
   ],
   "source": [
    "# Example 1\n",
    "tuple_1 = (1, 2, 3)\n",
    "for elem in tuple_1:\n",
    "    print(elem)"
   ]
  },
  {
   "cell_type": "code",
   "execution_count": 10,
   "metadata": {},
   "outputs": [
    {
     "name": "stdout",
     "output_type": "stream",
     "text": [
      "False\n",
      "True\n"
     ]
    }
   ],
   "source": [
    "# Example 2\n",
    "tuple_2 = (1, 2, 3, 4)\n",
    "print(5 in tuple_2)\n",
    "print(5 not in tuple_2)"
   ]
  },
  {
   "cell_type": "code",
   "execution_count": 11,
   "metadata": {},
   "outputs": [
    {
     "name": "stdout",
     "output_type": "stream",
     "text": [
      "4\n"
     ]
    }
   ],
   "source": [
    "# Example 3\n",
    "tuple_3 = (1, 2, 3, 5)\n",
    "print(len(tuple_3))"
   ]
  },
  {
   "cell_type": "code",
   "execution_count": 12,
   "metadata": {},
   "outputs": [
    {
     "name": "stdout",
     "output_type": "stream",
     "text": [
      "(1, 2, 3, 1, 2, 3, 4)\n",
      "(1, 2, 3, 5, 1, 2, 3, 5)\n"
     ]
    }
   ],
   "source": [
    "# Example 4\n",
    "tuple_4 = tuple_1 + tuple_2\n",
    "tuple_5 = tuple_3 * 2\n",
    "\n",
    "print(tuple_4)\n",
    "print(tuple_5)"
   ]
  },
  {
   "cell_type": "markdown",
   "metadata": {},
   "source": [
    "###### EXTRA\n",
    "\n",
    "Também pode criar um tuple usando uma função Python incorporada chamada tuple(). Isto é particularmente útil quando se pretende converter um certo iterável (por exemplo, uma lista, range, string, etc.) num tuple:\n",
    "    \n",
    "    You can also create a tuple using a Python built-in function called tuple(). This is particularly useful when you want to convert a certain iterable (e.g., a list, range, string, etc.) to a tuple:"
   ]
  },
  {
   "cell_type": "code",
   "execution_count": 13,
   "metadata": {},
   "outputs": [
    {
     "name": "stdout",
     "output_type": "stream",
     "text": [
      "(1, 2, 'string')\n",
      "[2, 4, 6]\n",
      "<class 'list'>\n",
      "(2, 4, 6)\n",
      "<class 'tuple'>\n"
     ]
    }
   ],
   "source": [
    "my_tuple = tuple((1, 2, \"string\"))\n",
    "print(my_tuple)\n",
    "\n",
    "my_list = [2, 4, 6]\n",
    "print(my_list)    # outputs: [2, 4, 6]\n",
    "print(type(my_list))    # outputs: <class 'list'>\n",
    "tup = tuple(my_list)\n",
    "print(tup)    # outputs: (2, 4, 6)\n",
    "print(type(tup))    # outputs: <class 'tuple'>"
   ]
  },
  {
   "cell_type": "markdown",
   "metadata": {},
   "source": [
    "Da mesma forma, quando se pretende converter um iterável numa lista, pode-se usar uma função Python integrada chamada list():\n",
    "    \n",
    "    By the same fashion, when you want to convert an iterable to a list, you can use a Python built-in function called list():"
   ]
  },
  {
   "cell_type": "code",
   "execution_count": 14,
   "metadata": {},
   "outputs": [
    {
     "name": "stdout",
     "output_type": "stream",
     "text": [
      "<class 'list'>\n"
     ]
    }
   ],
   "source": [
    "tup = 1, 2, 3, \n",
    "my_list = list(tup)\n",
    "print(type(my_list))    # outputs: <class 'list'>\n"
   ]
  },
  {
   "cell_type": "code",
   "execution_count": null,
   "metadata": {},
   "outputs": [],
   "source": []
  }
 ],
 "metadata": {
  "kernelspec": {
   "display_name": "Python 3",
   "language": "python",
   "name": "python3"
  },
  "language_info": {
   "codemirror_mode": {
    "name": "ipython",
    "version": 3
   },
   "file_extension": ".py",
   "mimetype": "text/x-python",
   "name": "python",
   "nbconvert_exporter": "python",
   "pygments_lexer": "ipython3",
   "version": "3.7.6"
  }
 },
 "nbformat": 4,
 "nbformat_minor": 4
}
