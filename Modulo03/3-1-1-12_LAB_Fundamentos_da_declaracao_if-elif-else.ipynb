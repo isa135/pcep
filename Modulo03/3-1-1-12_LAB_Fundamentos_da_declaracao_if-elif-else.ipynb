{
 "cells": [
  {
   "cell_type": "code",
   "execution_count": null,
   "metadata": {},
   "outputs": [],
   "source": [
    "LAB\n",
    "\n",
    "Tempo estimado\n",
    "10-25 minutos\n",
    "\n",
    "Nível de dificuldade\n",
    "Fácil/Médio\n",
    "\n",
    "Objetivos\n",
    "Familiarizar o aluno a:\n",
    "\n",
    "a utilização do loop if-elif-else ;\n",
    "encontrar a correta implementação de regras definidas verbalmente;\n",
    "testar código utilizando input e output de amostra.\n",
    "Cenário\n",
    "Como certamente sabe, devido a algumas razões astronómicas, os anos podem ser bissextos ou comuns. Os primeiros têm 366 dias de duração, enquanto os segundos têm 365 dias de duração.\n",
    "\n",
    "Desde a introdução do calendário gregoriano (em 1582), a seguinte regra é utilizada para determinar o tipo de ano:\n",
    "\n",
    "se o número do ano não for divisível por quatro, é um ano comum;\n",
    "caso contrário, se o número do ano não for divisível por 100, é um ano bissexto;\n",
    "caso contrário, se o número do ano não for divisível por 400, é um ano comum;\n",
    "caso contrário, é um ano bissexto.\n",
    "Veja o código no editor - lê apenas um número de ano, e precisa de ser completado com as instruções de implementação do teste que acabámos de descrever.\n",
    "\n",
    "O código deve fazer output de uma de duas mensagens possíveis, que são Leap year ou Common year, dependendo do valor inserido.\n",
    "\n",
    "Seria bom verificar se o ano introduzido cai na era Gregoriana, e faz output de um aviso caso contrário: Not within the Gregorian calendar period. Dica: use os operadores != e % .\n",
    "\n",
    "Teste o seu código utilizando os dados por nós fornecidos.\n",
    "\n",
    "Dados de teste\n",
    "Input de amostra: 2000\n",
    "\n",
    "Output esperado: Leap year\n",
    "\n",
    "Input de amostra: 2015\n",
    "\n",
    "Output esperado: Common year\n",
    "\n",
    "Input de amostra: 1999\n",
    "\n",
    "Output esperado: Common year\n",
    "\n",
    "Input de amostra: 1996\n",
    "\n",
    "Output esperado: Leap year\n",
    "\n",
    "Input de amostra: 1580\n",
    "\n",
    "Output esperado: Not within the Gregorian calendar period\n",
    "\n"
   ]
  },
  {
   "cell_type": "code",
   "execution_count": null,
   "metadata": {},
   "outputs": [],
   "source": [
    "year = int(input(\"Enter a year: \"))\n",
    "\n",
    "#\n",
    "# Write your code here.\n",
    "#\t\n"
   ]
  }
 ],
 "metadata": {
  "kernelspec": {
   "display_name": "Python 3",
   "language": "python",
   "name": "python3"
  },
  "language_info": {
   "codemirror_mode": {
    "name": "ipython",
    "version": 3
   },
   "file_extension": ".py",
   "mimetype": "text/x-python",
   "name": "python",
   "nbconvert_exporter": "python",
   "pygments_lexer": "ipython3",
   "version": "3.7.6"
  }
 },
 "nbformat": 4,
 "nbformat_minor": 4
}
