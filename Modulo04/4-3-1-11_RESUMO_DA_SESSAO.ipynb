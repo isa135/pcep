{
 "cells": [
  {
   "cell_type": "markdown",
   "metadata": {},
   "source": [
    "##### Key takeaways\n",
    "    \n",
    "1. Pode utilizar a keyword return para dizer a uma função para devolver algum valor. A declaração return sai da função, por exemplo:\n",
    "    \n",
    "    \n",
    "    1. You can use the return keyword to tell a function to return some value. The return statement exits the function, e.g.:"
   ]
  },
  {
   "cell_type": "code",
   "execution_count": 2,
   "metadata": {},
   "outputs": [
    {
     "name": "stdout",
     "output_type": "stream",
     "text": [
      "12\n",
      "None\n"
     ]
    }
   ],
   "source": [
    "def multiply(a, b):\n",
    "    return a * b\n",
    "\n",
    "print(multiply(3, 4))    # outputs: 12\n",
    "\n",
    "def multiply(a, b):\n",
    "    return\n",
    "\n",
    "print(multiply(3, 4))    # outputs: None\n"
   ]
  },
  {
   "cell_type": "markdown",
   "metadata": {},
   "source": [
    "2. O resultado de uma função pode ser facilmente atribuído a uma variável, por exemplo:\n",
    "    \n",
    "    \n",
    "    2. The result of a function can be easily assigned to a variable, e.g.:"
   ]
  },
  {
   "cell_type": "code",
   "execution_count": 3,
   "metadata": {},
   "outputs": [
    {
     "name": "stdout",
     "output_type": "stream",
     "text": [
      "Happy Birthday!\n"
     ]
    }
   ],
   "source": [
    "def wishes():\n",
    "    return \"Happy Birthday!\"\n",
    "\n",
    "w = wishes()\n",
    "\n",
    "print(w)    # outputs: Happy Birthday!"
   ]
  },
  {
   "cell_type": "markdown",
   "metadata": {},
   "source": [
    "Veja a diferença no output dos dois exemplos a seguir:\n",
    "    \n",
    "    Look at the difference in output in the following two examples:"
   ]
  },
  {
   "cell_type": "code",
   "execution_count": 4,
   "metadata": {},
   "outputs": [
    {
     "name": "stdout",
     "output_type": "stream",
     "text": [
      "My Wishes\n"
     ]
    },
    {
     "data": {
      "text/plain": [
       "'Happy Birthday'"
      ]
     },
     "execution_count": 4,
     "metadata": {},
     "output_type": "execute_result"
    }
   ],
   "source": [
    "# Example 1\n",
    "def wishes():\n",
    "    print(\"My Wishes\")\n",
    "    return \"Happy Birthday\"\n",
    "\n",
    "wishes()    # outputs: My Wishes"
   ]
  },
  {
   "cell_type": "code",
   "execution_count": 5,
   "metadata": {},
   "outputs": [
    {
     "name": "stdout",
     "output_type": "stream",
     "text": [
      "My Wishes\n",
      "Happy Birthday\n"
     ]
    }
   ],
   "source": [
    "# Example 2\n",
    "def wishes():\n",
    "    print(\"My Wishes\")\n",
    "    return \"Happy Birthday\"\n",
    "\n",
    "print(wishes())\n",
    "\n",
    "# outputs: My Wishes\n",
    "#          Happy Birthday"
   ]
  },
  {
   "cell_type": "markdown",
   "metadata": {},
   "source": [
    "3. Pode utilizar uma lista como argumento de uma função, por exemplo:\n",
    "\n",
    "    \n",
    "    3. You can use a list as a function's argument, e.g.:"
   ]
  },
  {
   "cell_type": "code",
   "execution_count": 6,
   "metadata": {},
   "outputs": [
    {
     "name": "stdout",
     "output_type": "stream",
     "text": [
      "Hi, Adam\n",
      "Hi, John\n",
      "Hi, Lucy\n"
     ]
    }
   ],
   "source": [
    "def hi_everybody(my_list):\n",
    "    for name in my_list:\n",
    "        print(\"Hi,\", name)\n",
    "\n",
    "hi_everybody([\"Adam\", \"John\", \"Lucy\"])"
   ]
  },
  {
   "cell_type": "markdown",
   "metadata": {},
   "source": [
    "4. Uma lista também pode ser o resultado de uma função, por exemplo:\n",
    "    \n",
    "    \n",
    "    4. A list can be a function result, too, e.g.:"
   ]
  },
  {
   "cell_type": "code",
   "execution_count": 7,
   "metadata": {},
   "outputs": [
    {
     "name": "stdout",
     "output_type": "stream",
     "text": [
      "[0, 1, 2, 3, 4]\n"
     ]
    }
   ],
   "source": [
    "def create_list(n):\n",
    "    my_list = []\n",
    "    for i in range(n):\n",
    "        my_list.append(i)\n",
    "    return my_list\n",
    "\n",
    "print(create_list(5))"
   ]
  },
  {
   "cell_type": "code",
   "execution_count": 9,
   "metadata": {},
   "outputs": [
    {
     "name": "stdout",
     "output_type": "stream",
     "text": [
      "None\n"
     ]
    }
   ],
   "source": [
    "# Exercício 1\n",
    "# Qual é o output do seguinte snippet?\n",
    "# What is the output of the following snippet?\n",
    "def hi():\n",
    "    return\n",
    "    print(\"Hi!\")\n",
    "\n",
    "teste = hi()\n",
    "print(teste)"
   ]
  },
  {
   "attachments": {
    "image.png": {
     "image/png": "[encoded data removed]"
    }
   },
   "cell_type": "markdown",
   "metadata": {},
   "source": [
    "![image.png](attachment:image.png)"
   ]
  },
  {
   "cell_type": "code",
   "execution_count": 10,
   "metadata": {},
   "outputs": [
    {
     "name": "stdout",
     "output_type": "stream",
     "text": [
      "True\n",
      "False\n",
      "None\n"
     ]
    }
   ],
   "source": [
    "# Exercício 2\n",
    "# Qual é o output do seguinte snippet?\n",
    "# What is the output of the following snippet?\n",
    "def is_int(data):\n",
    "    if type(data) == int:\n",
    "        return True\n",
    "    elif type(data) == float:\n",
    "        return False\n",
    "\n",
    "print(is_int(5))\n",
    "print(is_int(5.0))\n",
    "print(is_int(\"5\"))"
   ]
  },
  {
   "cell_type": "code",
   "execution_count": 11,
   "metadata": {},
   "outputs": [
    {
     "name": "stdout",
     "output_type": "stream",
     "text": [
      "[0, 2, 4, 6, 8, 10]\n"
     ]
    }
   ],
   "source": [
    "# Exercício 3\n",
    "# Qual é o output do seguinte snippet?\n",
    "# What is the output of the following snippet?\n",
    "def even_num_lst(ran):\n",
    "    lst = []\n",
    "    for num in range(ran):\n",
    "        if num % 2 == 0:\n",
    "            lst.append(num)\n",
    "    return lst\n",
    "\n",
    "print(even_num_lst(11))"
   ]
  },
  {
   "cell_type": "code",
   "execution_count": 12,
   "metadata": {},
   "outputs": [
    {
     "name": "stdout",
     "output_type": "stream",
     "text": [
      "[1, 4, 9, 16, 25]\n"
     ]
    }
   ],
   "source": [
    "# Exercício 4\n",
    "# Qual é o output do seguinte snippet?\n",
    "# What is the output of the following snippet?\n",
    "def list_updater(lst):\n",
    "    upd_list = []\n",
    "    for elem in lst:\n",
    "        elem **= 2\n",
    "        upd_list.append(elem)\n",
    "    return upd_list\n",
    "\n",
    "foo = [1, 2, 3, 4, 5]\n",
    "print(list_updater(foo))"
   ]
  },
  {
   "cell_type": "code",
   "execution_count": null,
   "metadata": {},
   "outputs": [],
   "source": []
  }
 ],
 "metadata": {
  "kernelspec": {
   "display_name": "Python 3",
   "language": "python",
   "name": "python3"
  },
  "language_info": {
   "codemirror_mode": {
    "name": "ipython",
    "version": 3
   },
   "file_extension": ".py",
   "mimetype": "text/x-python",
   "name": "python",
   "nbconvert_exporter": "python",
   "pygments_lexer": "ipython3",
   "version": "3.7.6"
  }
 },
 "nbformat": 4,
 "nbformat_minor": 4
}
