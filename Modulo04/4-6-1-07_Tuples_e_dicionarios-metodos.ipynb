{
 "cells": [
  {
   "cell_type": "markdown",
   "metadata": {},
   "source": [
    "##### Como usar um dicionário: Os métodos items() e values() .\n",
    "    \n",
    "    How to use a dictionary: The items() and values() methods\n",
    "\n",
    "Outra forma é baseada na utilização de um método de dicionário chamado items(). O método devolve tuples (este é o primeiro exemplo onde os tuples são algo mais do que apenas um exemplo de si mesmos) onde cada tuple é um par key-value.\n",
    "    \n",
    "    Another way is based on using a dictionary's method named items(). The method returns tuples (this is the first example where tuples are something more than just an example of themselves) where each tuple is a key-value pair.\n",
    "    \n",
    "É assim que funciona:\n",
    "    \n",
    "    This is how it works:"
   ]
  },
  {
   "cell_type": "code",
   "execution_count": 1,
   "metadata": {},
   "outputs": [
    {
     "name": "stdout",
     "output_type": "stream",
     "text": [
      "cat -> chat\n",
      "dog -> chien\n",
      "horse -> cheval\n"
     ]
    }
   ],
   "source": [
    "dictionary = {\"cat\": \"chat\", \"dog\": \"chien\", \"horse\": \"cheval\"}\n",
    "\n",
    "for english, french in dictionary.items():\n",
    "    print(english, \"->\", french)\n"
   ]
  },
  {
   "cell_type": "markdown",
   "metadata": {},
   "source": [
    "Note-se a forma como o tuple foi utilizado como uma for variável de loop.\n",
    "    \n",
    "    Note the way in which the tuple has been used as a for loop variable.\n",
    "\n",
    "Há também um método chamado values(), que funciona de forma semelhante a keys(), mas devolve valores.\n",
    "    \n",
    "    There is also a method named values(), which works similarly to keys(), but returns values.\n",
    "\n",
    "Aqui está um exemplo simples:\n",
    "    \n",
    "    Here is a simple example:"
   ]
  },
  {
   "cell_type": "code",
   "execution_count": 2,
   "metadata": {},
   "outputs": [
    {
     "name": "stdout",
     "output_type": "stream",
     "text": [
      "chat\n",
      "chien\n",
      "cheval\n"
     ]
    }
   ],
   "source": [
    "dictionary = {\"cat\": \"chat\", \"dog\": \"chien\", \"horse\": \"cheval\"}\n",
    "\n",
    "for french in dictionary.values():\n",
    "    print(french)"
   ]
  },
  {
   "cell_type": "markdown",
   "metadata": {},
   "source": [
    "Como o dicionário não consegue encontrar automaticamente uma chave para um determinado valor, o papel deste método é bastante limitado.\n",
    "    \n",
    "    As the dictionary is not able to automatically find a key for a given value, the role of this method is rather limited."
   ]
  },
  {
   "cell_type": "code",
   "execution_count": null,
   "metadata": {},
   "outputs": [],
   "source": []
  }
 ],
 "metadata": {
  "kernelspec": {
   "display_name": "Python 3",
   "language": "python",
   "name": "python3"
  },
  "language_info": {
   "codemirror_mode": {
    "name": "ipython",
    "version": 3
   },
   "file_extension": ".py",
   "mimetype": "text/x-python",
   "name": "python",
   "nbconvert_exporter": "python",
   "pygments_lexer": "ipython3",
   "version": "3.7.6"
  }
 },
 "nbformat": 4,
 "nbformat_minor": 4
}
