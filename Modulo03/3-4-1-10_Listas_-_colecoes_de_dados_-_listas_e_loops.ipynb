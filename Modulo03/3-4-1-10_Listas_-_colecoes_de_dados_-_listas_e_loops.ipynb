{
 "cells": [
  {
   "cell_type": "code",
   "execution_count": null,
   "metadata": {},
   "outputs": [],
   "source": []
  },
  {
   "cell_type": "markdown",
   "metadata": {},
   "source": [
    "#####Utilização de listas\n",
    "    \n",
    "    Making use of lists\n",
    "\n",
    "O loop for tem uma variante muito especial que pode processar listas muito eficazmente - vejamos isso.\n",
    "    \n",
    "    The for loop has a very special variant that can process lists very effectively - let's take a look at that.\n",
    "\n",
    "Vamos supor que deseja calcular a soma de todos os valores armazenados na lista my_list .\n",
    "    \n",
    "    Let's assume that you want to calculate the sum of all the values stored in the my_list list.\n",
    "    \n",
    "É necessária uma variável cuja soma será armazenada e à qual será inicialmente atribuído um valor de 0 - o seu nome será total. (Nota: não vamos nomeá-la sum visto o Python usar o mesmo nome para uma das suas funções internas - sum(). Utilizar o mesmo nome seria geralmente considerado uma má prática). Em seguida, acrescenta-lhe todos os elementos da lista utilizando o loop for . Veja o snippet no editor.\n",
    "    \n",
    "    You need a variable whose sum will be stored and initially assigned a value of 0 - its name will be total. (Note: we're not going to name it sum as Python uses the same name for one of its built-in functions - sum(). Using the same name would generally be considered a bad practice.) Then you add to it all the elements of the list using the for loop. Take a look at the snippet in the editor.\n",
    "    \n",
    "Vamos comentar este exemplo:\n",
    "\n",
    "    Let's comment on this example:\n",
    "    \n",
    "•\tà lista é atribuída uma sequência de cinco valores inteiros;\n",
    "\n",
    "    •\tthe list is assigned a sequence of five integer values;\n",
    "    \n",
    "•\ta variável i toma os valores 0, 1, 2, 3, e 4, e depois indexa a lista, selecionando os elementos seguintes: o primeiro, o segundo, o terceiro, o quarto e o quinto;\n",
    "\n",
    "    •\tthe i variable takes the values 0, 1, 2, 3, and 4, and then it indexes the list, selecting the subsequent elements: the first, second, third, fourth and fifth;\n",
    "    \n",
    "•\tcada um destes elementos é adicionado em conjunto pelo operador += à variável total , dando o resultado final no fim do loop;\n",
    "\n",
    "    •\teach of these elements is added together by the += operator to the total variable, giving the final result at the end of the loop;\n",
    "    \n",
    "•\tobserve a forma como a função len() foi utilizada - torna o código independente de quaisquer possíveis alterações no conteúdo da lista.\n",
    "    \n",
    "    •\tnote the way in which the len() function has been employed - it makes the code independent of any possible changes in the list's content.\n",
    "    \n",
    "##### A segunda face do loop for .\n",
    "    \n",
    "    The second face of the for loop\n",
    "\n",
    "Mas o loop for pode fazer muito mais. Pode ocultar todas as ações ligadas à indexação da lista, e entregar todos os elementos da lista de uma forma prática.\n",
    "    \n",
    "    But the for loop can do much more. It can hide all the actions connected to the list's indexing, and deliver all the list's elements in a handy way.\n",
    "\n",
    "Este snippet modificado mostra como isto funciona:\n",
    "    \n",
    "    This modified snippet shows how it works:"
   ]
  },
  {
   "cell_type": "code",
   "execution_count": 1,
   "metadata": {},
   "outputs": [
    {
     "name": "stdout",
     "output_type": "stream",
     "text": [
      "27\n"
     ]
    }
   ],
   "source": [
    "my_list = [10, 1, 8, 3, 5]\n",
    "total = 0\n",
    "\n",
    "for i in my_list:\n",
    "    total += i\n",
    "\n",
    "print(total)"
   ]
  },
  {
   "cell_type": "markdown",
   "metadata": {},
   "source": [
    "O que acontece aqui?\n",
    "    \n",
    "    What happens here?\n",
    "    \n",
    "•\ta instrução for especifica a variável usada para navegar na lista (i aqui) seguida pela keyword in e pelo nome da lista que está a ser processada (my_list aqui)\n",
    "\n",
    "    •\tthe for instruction specifies the variable used to browse the list (i here) followed by the in keyword and the name of the list being processed (my_list here)\n",
    "    \n",
    "•\tà variável i são atribuídos os valores de todos os elementos da lista subsequente, e o processo ocorre tantas vezes quantos os elementos da lista;\n",
    "\n",
    "    •\tthe i variable is assigned the values of all the subsequent list's elements, and the process occurs as many times as there are elements in the list;\n",
    "    \n",
    "•\tisto significa que se utiliza a variável i como uma cópia dos valores dos elementos, e não se precisa de utilizar índices;\n",
    "\n",
    "    •\tthis means that you use the i variable as a copy of the elements' values, and you don't need to use indices;\n",
    "\n",
    "•\ta função len() também não é necessária aqui.\n",
    "\n",
    "    •\tthe len() function is not needed here, either.\n"
   ]
  },
  {
   "cell_type": "code",
   "execution_count": 1,
   "metadata": {},
   "outputs": [
    {
     "name": "stdout",
     "output_type": "stream",
     "text": [
      "27\n"
     ]
    }
   ],
   "source": [
    "my_list = [10, 1, 8, 3, 5]\n",
    "total = 0\n",
    "\n",
    "for i in range(len(my_list)):\n",
    "    total += my_list[i]\n",
    "\n",
    "print(total)\n"
   ]
  },
  {
   "cell_type": "code",
   "execution_count": null,
   "metadata": {},
   "outputs": [],
   "source": []
  }
 ],
 "metadata": {
  "kernelspec": {
   "display_name": "Python 3",
   "language": "python",
   "name": "python3"
  },
  "language_info": {
   "codemirror_mode": {
    "name": "ipython",
    "version": 3
   },
   "file_extension": ".py",
   "mimetype": "text/x-python",
   "name": "python",
   "nbconvert_exporter": "python",
   "pygments_lexer": "ipython3",
   "version": "3.7.6"
  }
 },
 "nbformat": 4,
 "nbformat_minor": 4
}
