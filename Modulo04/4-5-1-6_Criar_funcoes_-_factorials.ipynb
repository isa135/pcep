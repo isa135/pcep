{
 "cells": [
  {
   "attachments": {
    "image.png": {
     "image/png": "[encoded data removed]"
    }
   },
   "cell_type": "markdown",
   "metadata": {},
   "source": [
    "##### Algumas funções simples: factorials\n",
    "    \n",
    "    Some simple functions: factorials\n",
    "\n",
    "Outra função que estamos prestes a escrever é a factorials. Lembra-se de como um fatorial é definido?\n",
    "    \n",
    "    Another function we're about to write is factorials. Do you remember how a factorial is defined?\n",
    "    \n",
    "![image.png](attachment:image.png)\n",
    "\n",
    "É marcado com um ponto de exclamação, e é igual ao produto de todos os números naturais de um até ao seu argumento.\n",
    "    \n",
    "    It's marked with an exclamation mark, and is equal to the product of all natural numbers from one up to its argument.\n",
    "\n",
    "Vamos escrever o nosso código. Vamos criar uma função e chamá-la factorial_function. Aqui está o código:\n",
    "    \n",
    "    Let's write our code. We'll create a function and call it factorial_function. Here is the code:"
   ]
  },
  {
   "cell_type": "code",
   "execution_count": 1,
   "metadata": {},
   "outputs": [
    {
     "name": "stdout",
     "output_type": "stream",
     "text": [
      "1 1\n",
      "2 2\n",
      "3 6\n",
      "4 24\n",
      "5 120\n"
     ]
    }
   ],
   "source": [
    "def factorial_function(n):\n",
    "    if n < 0:\n",
    "        return None\n",
    "    if n < 2:\n",
    "        return 1\n",
    "    \n",
    "    product = 1\n",
    "    for i in range(2, n + 1):\n",
    "        product *= i\n",
    "    return product\n",
    "for n in range(1, 6):  # testing\n",
    "    print(n, factorial_function(n))"
   ]
  },
  {
   "cell_type": "markdown",
   "metadata": {},
   "source": [
    "Observe como espelhamos passo a passo a definição matemática, e como usamos o loop for para encontrar o produto.\n",
    "    \n",
    "    Notice how we mirror step by step the mathematical definition, and how we use the for loop to find the product.\n",
    "\n",
    "Adicionamos um código de teste simples, e estes são os resultados que obtemos:\n",
    "    \n",
    "    We add a simple testing code, and these are the results we get:"
   ]
  },
  {
   "cell_type": "code",
   "execution_count": null,
   "metadata": {},
   "outputs": [],
   "source": []
  }
 ],
 "metadata": {
  "kernelspec": {
   "display_name": "Python 3",
   "language": "python",
   "name": "python3"
  },
  "language_info": {
   "codemirror_mode": {
    "name": "ipython",
    "version": 3
   },
   "file_extension": ".py",
   "mimetype": "text/x-python",
   "name": "python",
   "nbconvert_exporter": "python",
   "pygments_lexer": "ipython3",
   "version": "3.7.6"
  }
 },
 "nbformat": 4,
 "nbformat_minor": 4
}
