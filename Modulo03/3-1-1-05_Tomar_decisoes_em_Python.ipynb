{
 "cells": [
  {
   "cell_type": "markdown",
   "metadata": {},
   "source": [
    "#### Condições e execução condicional\n",
    "    \n",
    "    Conditions and conditional execution"
   ]
  },
  {
   "cell_type": "markdown",
   "metadata": {},
   "source": [
    "Já sabe como fazer perguntas ao Python, mas ainda não sabe como fazer um uso razoável das respostas. Tem de ter um mecanismo que lhe permita fazer algo se uma condição for cumprida, e não o fazer se não o for.\n",
    "\n",
    "    You already know how to ask Python questions, but you still don't know how to make reasonable use of the answers. You have to have a mechanism which will allow you to do something if a condition is met, and not do it if it isn't."
   ]
  },
  {
   "cell_type": "markdown",
   "metadata": {},
   "source": [
    "É como na vida real: faz-se ou não certas coisas quando uma condição específica é cumprida ou não, por exemplo, vai-se passear se o tempo estiver bom, ou fica-se em casa se estiver a chover e a fazer frio.\n",
    "\n",
    "    It's just like in real life: you do certain things or you don't when a specific condition is met or not, e.g., you go for a walk if the weather is good, or stay home if it's wet and cold."
   ]
  },
  {
   "cell_type": "markdown",
   "metadata": {},
   "source": [
    "Para tomar tais decisões, o Python oferece uma instrução especial. Devido à sua natureza e à sua aplicação, chama-se instrução condicional (ou declaração condicional).\n",
    "    \n",
    "    To make such decisions, Python offers a special instruction. Due to its nature and its application, it's called a conditional instruction (or conditional statement)."
   ]
  },
  {
   "cell_type": "markdown",
   "metadata": {},
   "source": [
    "Existem várias variantes da mesma. Vamos começar com a mais simples, aumentando a dificuldade lentamente.\n",
    "\n",
    "    There are several variants of it. We'll start with the simplest, increasing the difficulty slowly."
   ]
  },
  {
   "cell_type": "markdown",
   "metadata": {},
   "source": [
    "A primeira forma de uma declaração condicional, que pode ver abaixo, é escrita de forma muito informal mas figurativa:\n",
    "\n",
    "    The first form of a conditional statement, which you can see below is written very informally but figuratively:"
   ]
  },
  {
   "cell_type": "markdown",
   "metadata": {},
   "source": [
    "if true_or_not:\n",
    "\n",
    "    do_this_if_true"
   ]
  },
  {
   "cell_type": "markdown",
   "metadata": {},
   "source": [
    "Esta declaração condicional consiste nos seguintes elementos, estritamente necessários, apenas nesta e nesta ordem:\n",
    "    \n",
    "    This conditional statement consists of the following, strictly necessary, elements in this and this order only:\n",
    "\n",
    "•\ta keyword if ;\n",
    "    \n",
    "    •\tthe if keyword;\n",
    "\n",
    "•\tum ou mais espaços em branco;\n",
    "\n",
    "    •\tone or more white spaces;\n",
    "\n",
    "•\tuma expressão (uma pergunta ou uma resposta) cujo valor será interpretado unicamente em termos de True (quando o seu valor é diferente de zero) e False (quando é igual a zero);\n",
    "\n",
    "    •\tan expression (a question or an answer) whose value will be interpreted solely in terms of True (when its value is non-zero) and False (when it is equal to zero);\n",
    "\n",
    "•\tum dois pontos seguido de uma newline;\n",
    "\n",
    "    •\ta colon followed by a newline;\n",
    "\n",
    "•\tuma instrução indentada ou conjunto de instruções (pelo menos uma instrução é absolutamente necessária); a indentação pode ser conseguida de duas maneiras - inserindo um determinado número de espaços (a recomendação é utilizar quatro espaços de indentação), ou utilizando o caratere tab; nota: se houver mais de uma instrução na parte indentada, a indentação deve ser a mesma em todas as linhas; mesmo que possa parecer a mesma se usar tabs misturados com espaços, é importante fazer todas as indentações exatamente iguais - o Python 3 não permite a mistura de espaços e tabs para indentação.\n",
    "    \n",
    "    •\tan indented instruction or set of instructions (at least one instruction is absolutely required); the indentation may be achieved in two ways - by inserting a particular number of spaces (the recommendation is to use four spaces of indentation), or by using the tab character; note: if there is more than one instruction in the indented part, the indentation should be the same in all lines; even though it may look the same if you use tabs mixed with spaces, it's important to make all indentations exactly the same - Python 3 does not allow mixing spaces and tabs for indentation.\n"
   ]
  },
  {
   "cell_type": "markdown",
   "metadata": {},
   "source": [
    "Como funciona essa declaração?\n",
    "    \n",
    "    How does that statement work?\n",
    "\n",
    "•\tSe a expressão true_or_not representa a verdade (ou seja, o seu valor não é igual a zero), a(s) declaração(ões) indentada(s) será(ão) executada(s);\n",
    "\n",
    "    •\tIf the true_or_not expression represents the truth (i.e., its value is not equal to zero), the indented statement(s) will be executed;\n",
    "    \n",
    "•\tse a expressão true_or_not não representa a verdade (ou seja, o seu valor é igual a zero), a(s) declaração(ões) indentada(s) será(ão) omitida(s) (ignoradas), e a próxima instrução executada será a que se segue ao nível da indentação original.\n",
    "\n",
    "    •\tif the true_or_not expression does not represent the truth (i.e., its value is equal to zero), the indented statement(s) will be omitted (ignored), and the next executed instruction will be the one after the original indentation level."
   ]
  },
  {
   "cell_type": "markdown",
   "metadata": {},
   "source": [
    "Na vida real, expressamos frequentemente um desejo: se o tempo estiver bom, vamos dar um passeio depois, vamos almoçar\n",
    "    \n",
    "    In real life, we often express a desire: if the weather is good, we'll go for a walk then, we'll have lunch"
   ]
  },
  {
   "cell_type": "markdown",
   "metadata": {},
   "source": [
    "Como se pode ver, almoçar não é uma atividade condicional e não depende do tempo.\n",
    "    \n",
    "    As you can see, having lunch is not a conditional activity and doesn't depend on the weather."
   ]
  },
  {
   "cell_type": "markdown",
   "metadata": {},
   "source": [
    "Sabendo que condições influenciam o nosso comportamento, e assumindo que temos as funções sem parâmetros go_for_a_walk() e have_lunch(), podemos escrever o seguinte snippet:\n",
    "\n",
    "    Knowing what conditions influence our behavior, and assuming that we have the parameterless functions go_for_a_walk() and have_lunch(), we can write the following snippet:"
   ]
  },
  {
   "cell_type": "markdown",
   "metadata": {},
   "source": [
    "if the_weather_is_good:\n",
    "\n",
    "    go_for_a_walk()  \n",
    "    \n",
    "    have_lunch()"
   ]
  },
  {
   "cell_type": "markdown",
   "metadata": {},
   "source": [
    "Execução condicional: a declaração if .\n",
    "\n",
    "    Conditional execution: the if statement"
   ]
  },
  {
   "cell_type": "markdown",
   "metadata": {},
   "source": [
    "Se um certo programador de Python insonioso acabar por adormecer enquanto conta 120 ovelhas, e se este procedimento de indução do sono pudesse ser implementado como uma função especial chamada sleep_and_dream(), todo o código assumiria a seguinte forma:\n",
    "\n",
    "    If a certain sleepless Python developer falls asleep when he or she counts 120 sheep, and the sleep-inducing procedure may be implemented as a special function named sleep_and_dream(), the whole code takes the following shape:"
   ]
  },
  {
   "cell_type": "markdown",
   "metadata": {},
   "source": [
    "if sheep_counter >= 120: # Evaluate a test expression\n",
    "    \n",
    "    sleep_and_dream() # Execute if test expression is True"
   ]
  },
  {
   "cell_type": "markdown",
   "metadata": {},
   "source": [
    "Pode lê-lo como: se sheep_counter é maior que ou igual a 120, então, adormecer e sonhar (ou seja, executar a função sleep_and_dream .)\n",
    "    \n",
    "    You can read it as: if sheep_counter is greater than or equal to 120, then fall asleep and dream (i.e., execute the sleep_and_dream function.)"
   ]
  },
  {
   "cell_type": "markdown",
   "metadata": {},
   "source": [
    "Dissemos que as declarações executadas condicionalmente têm de ser indentadas. Isto cria uma estrutura muito legível, demonstrando claramente todos os caminhos de execução possíveis no código.\n",
    "    \n",
    "    We've said that conditionally executed statements have to be indented. This creates a very legible structure, clearly demonstrating all possible execution paths in the code."
   ]
  },
  {
   "cell_type": "markdown",
   "metadata": {},
   "source": [
    "Dê uma vista de olhos no seguinte código:\n",
    "    \n",
    "    Take a look at the following code:"
   ]
  },
  {
   "cell_type": "markdown",
   "metadata": {},
   "source": [
    "if sheep_counter >= 120:\n",
    "\n",
    "    make_a_bed()\n",
    "    take_a_shower()\n",
    "    sleep_and_dream()\n",
    "    \n",
    "feed_the_sheepdogs()"
   ]
  },
  {
   "cell_type": "markdown",
   "metadata": {},
   "source": [
    "Como pode ver, fazer a cama, tomar um banho, e adormecer e sonhar, são todos executados condicionalmente - quando se sheep_counter atinge o limite desejado.\n",
    "\n",
    "    As you can see, making a bed, taking a shower and falling asleep and dreaming are all executed conditionally - when sheep_counter reaches the desired limit."
   ]
  },
  {
   "cell_type": "markdown",
   "metadata": {},
   "source": [
    "Alimentar os cães de ovelha, no entanto, é sempre feito (ou seja, a função feed_the_sheepdogs() não é indentada e não pertence ao bloco if , o que significa que é sempre executada.)\n",
    "    \n",
    "    Feeding the sheepdogs, however, is always done (i.e., the feed_the_sheepdogs() function is not indented and does not belong to the if block, which means it is always executed.)"
   ]
  },
  {
   "cell_type": "markdown",
   "metadata": {},
   "source": [
    "Agora, vamos discutir outra variante da declaração condicional, que também lhe permite executar uma ação adicional quando a condição não for cumprida.\n",
    "\n",
    "    Now we're going to discuss another variant of the conditional statement, which also allows you to perform an additional action when the condition is not met."
   ]
  },
  {
   "cell_type": "markdown",
   "metadata": {},
   "source": [
    "Execução condicional: a declaração if-else .\n",
    "\n",
    "    Conditional execution: the if-else statement"
   ]
  },
  {
   "cell_type": "markdown",
   "metadata": {},
   "source": [
    "Começamos com uma frase simples, que diz: Se o tempo estiver bom, vamos dar um passeio.\n",
    "    \n",
    "    We started out with a simple phrase which read: If the weather is good, we will go for a walk."
   ]
  },
  {
   "cell_type": "markdown",
   "metadata": {},
   "source": [
    "Nota - não há uma palavra sobre o que irá acontecer se o tempo estiver mau. Nós apenas sabemos que não vamos para o exterior, mas o que poderíamos fazer em vez disso não é conhecido. Podemos querer planejar algo em caso de mau tempo, também.\n",
    "    \n",
    "    Note - there is not a word about what will happen if the weather is bad. We only know that we won't go outdoors, but what we could do instead is not known. We may want to plan something in case of bad weather, too."
   ]
  },
  {
   "cell_type": "markdown",
   "metadata": {},
   "source": [
    "Podemos dizer, por exemplo: Se o tempo estiver bom, vamos dar uma caminhada, caso contrário, vamos a um teatro.\n",
    "    \n",
    "    We can say, for example: If the weather is good, we will go for a walk, otherwise we will go to a theater."
   ]
  },
  {
   "cell_type": "markdown",
   "metadata": {},
   "source": [
    "Agora sabemos o que iremos fazer se as condições forem cumpridas, e sabemos o que iremos fazer se nem tudo correr à nossa maneira. Por outras palavras, temos um “Plano B”.\n",
    "\n",
    "    Now we know what we'll do if the conditions are met, and we know what we'll do if not everything goes our way. In other words, we have a \"Plan B\"."
   ]
  },
  {
   "cell_type": "markdown",
   "metadata": {},
   "source": [
    "O Python permite-nos expressar estes planos alternativos. Isto é feito com uma segunda forma, ligeiramente mais complexa, da declaração condicional, a declaração if-else:\n",
    "    \n",
    "    Python allows us to express such alternative plans. This is done with a second, slightly more complex form of the conditional statement, the if-else statement:"
   ]
  },
  {
   "cell_type": "markdown",
   "metadata": {},
   "source": [
    "if true_or_false_condition:\n",
    "    \n",
    "    perform_if_condition_true\n",
    "\n",
    "else:\n",
    "    \n",
    "    perform_if_condition_false"
   ]
  },
  {
   "cell_type": "markdown",
   "metadata": {},
   "source": [
    "Assim, há uma nova palavra: else - Esta é uma keyword.\n",
    "    \n",
    "    Thus, there is a new word: else - this is a keyword."
   ]
  },
  {
   "cell_type": "markdown",
   "metadata": {},
   "source": [
    "A parte do código que começa com else diz o que fazer se a condição especificada para o if não for cumprida (observe os dois pontos após a palavra).\n",
    "\n",
    "    The part of the code which begins with else says what to do if the condition specified for the if is not met (note the colon after the word)."
   ]
  },
  {
   "cell_type": "markdown",
   "metadata": {},
   "source": [
    "A execução if-else é feita da seguinte forma:\n",
    "    \n",
    "    The if-else execution goes as follows:\n",
    "\n",
    "•\tse a condição for avaliada como True (o seu valor não é igual a zero), a declaração perform_if_condition_true é executada, e a declaração condicional chega ao fim;\n",
    "        \n",
    "        •\tif the condition evaluates to True (its value is not equal to zero), the perform_if_condition_true statement is executed, and the conditional statement comes to an end;\n",
    "\n",
    "•\tse a condição for avaliada como False (o seu valor é igual a zero), a declaração perform_if_condition_false é executada, e a declaração condicional chega ao fim.\n",
    "\n",
    "        •\tif the condition evaluates to False (it is equal to zero), the perform_if_condition_false statement is executed, and the conditional statement comes to an end."
   ]
  },
  {
   "cell_type": "code",
   "execution_count": null,
   "metadata": {},
   "outputs": [],
   "source": []
  }
 ],
 "metadata": {
  "kernelspec": {
   "display_name": "Python 3",
   "language": "python",
   "name": "python3"
  },
  "language_info": {
   "codemirror_mode": {
    "name": "ipython",
    "version": 3
   },
   "file_extension": ".py",
   "mimetype": "text/x-python",
   "name": "python",
   "nbconvert_exporter": "python",
   "pygments_lexer": "ipython3",
   "version": "3.7.6"
  }
 },
 "nbformat": 4,
 "nbformat_minor": 4
}
