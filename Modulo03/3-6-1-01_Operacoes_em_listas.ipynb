{
 "cells": [
  {
   "cell_type": "markdown",
   "metadata": {},
   "source": [
    "##### A vida interna das listas\n",
    "    \n",
    "    The inner life of lists\n",
    "\n",
    "Agora queremos mostrar-lhe uma característica importante, e muito surpreendente, das listas, que as distingue fortemente das variáveis comuns.\n",
    "    \n",
    "    Now we want to show you one important, and very surprising, feature of lists, which strongly distinguishes them from ordinary variables.\n",
    "\n",
    "Queremos que o memorize - pode afetar os seus programas futuros, e causar graves problemas se esquecido ou negligenciado.\n",
    "    \n",
    "    We want you to memorize it - it may affect your future programs, and cause severe problems if forgotten or overlooked.\n",
    "    \n",
    "Veja o snippet no editor.\n",
    "    \n",
    "    Take a look at the snippet in the editor."
   ]
  },
  {
   "cell_type": "code",
   "execution_count": 1,
   "metadata": {},
   "outputs": [
    {
     "name": "stdout",
     "output_type": "stream",
     "text": [
      "[2]\n"
     ]
    }
   ],
   "source": [
    "list_1 = [1]\n",
    "list_2 = list_1\n",
    "list_1[0] = 2\n",
    "print(list_2)\n"
   ]
  },
  {
   "cell_type": "markdown",
   "metadata": {},
   "source": [
    "O programa:\n",
    "\n",
    "    The program:\n",
    "\n",
    "•\tcria uma lista de um elemento chamada list_1;\n",
    "\n",
    "    •\tcreates a one-element list named list_1;\n",
    "    \n",
    "•\tatribui-o a uma nova lista chamada list_2;\n",
    "\n",
    "    •\tassigns it to a new list named list_2;\n",
    "    \n",
    "•\taltera o único elemento de list_1;\n",
    "\n",
    "    •\tchanges the only element of list_1;\n",
    "    \n",
    "•\timprime list_2.\n",
    "\n",
    "    •\tprints out list_2.\n",
    "\n",
    "A parte surpreendente é o facto de que o programa fará o output: [2], não [1], que parece ser a solução óbvia.\n",
    "    \n",
    "    The surprising part is the fact that the program will output: [2], not [1], which seems to be the obvious solution.\n",
    "\n",
    "As listas (e muitas outras entidades complexas de Python) são armazenadas de formas diferentes das variáveis ordinárias (escalares).\n",
    "    \n",
    "    Lists (and many other complex Python entities) are stored in different ways than ordinary (scalar) variables.\n",
    "\n",
    "Pode-se dizer que:\n",
    "\n",
    "    You could say that:\n",
    "    \n",
    "•\to nome de uma variável ordinária é o nome do seu conteúdo;\n",
    "    \n",
    "    •\tthe name of an ordinary variable is the name of its content;\n",
    "    \n",
    "•\to nome de uma lista é o nome de um local de memória onde a lista é armazenada.\n",
    "    \n",
    "    •\tthe name of a list is the name of a memory location where the list is stored.\n",
    "\n",
    "Leia estas duas linhas mais uma vez - a diferença é essencial para compreender aquilo de que vamos falar a seguir.\n",
    "    \n",
    "    Read these two lines once more - the difference is essential for understanding what we are going to talk about next.\n",
    "\n",
    "A atribuição: list_2 = list_1 copia o nome do array, não o seu conteúdo. Com efeito, os dois nomes (list_1 e list_2) identificam o mesmo local na memória do computador. Modificar um deles afeta o outro, e vice-versa.\n",
    "\n",
    "The assignment: list_2 = list_1 copies the name of the array, not its contents. In effect, the two names (list_1 and list_2) identify the same location in the computer memory. Modifying one of them affects the other, and vice versa.\n",
    "\n",
    "Como se lida com isso?\n",
    "    \n",
    "    How do you cope with that?"
   ]
  },
  {
   "cell_type": "markdown",
   "metadata": {},
   "source": []
  }
 ],
 "metadata": {
  "kernelspec": {
   "display_name": "Python 3",
   "language": "python",
   "name": "python3"
  },
  "language_info": {
   "codemirror_mode": {
    "name": "ipython",
    "version": 3
   },
   "file_extension": ".py",
   "mimetype": "text/x-python",
   "name": "python",
   "nbconvert_exporter": "python",
   "pygments_lexer": "ipython3",
   "version": "3.7.6"
  }
 },
 "nbformat": 4,
 "nbformat_minor": 4
}
