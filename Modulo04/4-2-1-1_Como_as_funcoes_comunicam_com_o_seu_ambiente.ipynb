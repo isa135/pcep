{
 "cells": [
  {
   "attachments": {
    "image.png": {
     "image/png": "[encoded data removed]"
    }
   },
   "cell_type": "markdown",
   "metadata": {},
   "source": [
    "##### Funções parametrizadas\n",
    "    \n",
    "    Parameterized functions\n",
    "\n",
    "Todo o potencial da função é revelado quando esta pode ser equipada com uma interface capaz de aceitar dados fornecidos pelo invocador. Tais dados podem modificar o comportamento da função, tornando-a mais flexível e adaptável às condições em mudança.\n",
    "    \n",
    "    The function's full power reveals itself when it can be equipped with an interface that is able to accept data provided by the invoker. Such data can modify the function's behavior, making it more flexible and adaptable to changing conditions.\n",
    "\n",
    "Um parâmetro é na verdade uma variável, mas há dois fatores importantes que tornam os parâmetros diferentes e especiais:\n",
    "\n",
    "    A parameter is actually a variable, but there are two important factors that make parameters different and special:\n",
    "    \n",
    "•\tos parâmetros existem apenas dentro das funções em que foram definidos, e o único lugar onde o parâmetro pode ser definido é um espaço entre um par de parêntesis na declaração def ;\n",
    "    \n",
    "    •\tparameters exist only inside functions in which they have been defined, and the only place where the parameter can be defined is a space between a pair of parentheses in the def statement;\n",
    "    \n",
    "•\tatribuir um valor ao parâmetro é feito no momento da invocação da função, especificando o argumento correspondente.\n",
    "\n",
    "    •\tassigning a value to the parameter is done at the time of the function's invocation, by specifying the corresponding argument.\n",
    "\n",
    "![image.png](attachment:image.png)\n",
    "\n",
    "Não se esqueça:\n",
    "    \n",
    "    Don't forget:\n",
    "    \n",
    "•\tos parâmetros vivem dentro de funções (este é o seu ambiente natural)\n",
    "    \n",
    "    •\tparameters live inside functions (this is their natural environment)\n",
    "    \n",
    "•\tos argumentos existem fora de funções, e são portadores de valores passados para parâmetros correspondentes.\n",
    "\n",
    "    •\targuments exist outside functions, and are carriers of values passed to corresponding parameters.\n",
    "\n",
    "Existe uma fronteira clara e inequívoca entre estes dois mundos.\n",
    "    \n",
    "    There is a clear and unambiguous frontier between these two worlds.\n",
    "\n",
    "Vamos enriquecer a função acima com apenas um parâmetro - vamos usá-lo para mostrar ao utilizador o número de um valor que a função pede.\n",
    "    \n",
    "    Let's enrich the function above with just one parameter - we're going to use it to show the user the number of a value the fnction asks for.\n",
    "\n",
    "Temos de reconstruir a declaração def - é assim que se parece agora:\n",
    "    \n",
    "    We have to rebuild the def statement - this is how it looks now:"
   ]
  },
  {
   "attachments": {
    "image.png": {
     "image/png": "[encoded data removed]"
    }
   },
   "cell_type": "markdown",
   "metadata": {},
   "source": [
    "![image.png](attachment:image.png)\n",
    "\n",
    "\n",
    "A definição especifica que a nossa função opera apenas num parâmetro chamado number. Pode utilizá-lo como uma variável comum, mas apenas dentro da função - ele não é visível em qualquer outro lugar.\n",
    "    \n",
    "    The definition specifies that our function operates on just one parameter named number. You can use it as an ordinary variable, but only inside the function - it isn't visible anywhere else.\n",
    "    \n",
    "Vamos agora melhorar o corpo da função:\n",
    "    \n",
    "    Let's now improve the function's body:"
   ]
  },
  {
   "cell_type": "code",
   "execution_count": 1,
   "metadata": {},
   "outputs": [],
   "source": [
    "def message(number):\n",
    "    print(\"Enter a number:\", number)\n"
   ]
  },
  {
   "cell_type": "markdown",
   "metadata": {},
   "source": [
    "Fizemos uso do parâmetro. Nota: não atribuímos o parâmetro com qualquer valor. Está correto?\n",
    "    \n",
    "    We've made use of the parameter. Note: we haven't assigned the parameter with any value. Is it correct?\n",
    "\n",
    "Sim, está.\n",
    "\n",
    "    Yes, it is.\n",
    "\n",
    "Um valor para o parâmetro chegará a partir do ambiente da função.\n",
    "    \n",
    "    A value for the parameter will arrive from the function's environment.\n",
    "    \n",
    "Lembre-se: especificar um ou mais parâmetros na definição de uma função também é um requisito, e tem de o cumprir durante a invocação. Deve fornecer tantos argumentos quantos os parâmetros definidos.\n",
    "\n",
    "    Remember: specifying one or more parameters in a function's definition is also a requirement, and you have to fulfil it during invocation. You must provide as many arguments as there are defined parameters.\n",
    "\n",
    "Não o fazer causará um erro.\n",
    "    \n",
    "    Failure to do so will cause an error."
   ]
  },
  {
   "cell_type": "code",
   "execution_count": 3,
   "metadata": {},
   "outputs": [
    {
     "ename": "TypeError",
     "evalue": "message() missing 1 required positional argument: 'number'",
     "output_type": "error",
     "traceback": [
      "\u001b[1;31m---------------------------------------------------------------------------\u001b[0m",
      "\u001b[1;31mTypeError\u001b[0m                                 Traceback (most recent call last)",
      "\u001b[1;32m<ipython-input-3-c7233cf6135f>\u001b[0m in \u001b[0;36m<module>\u001b[1;34m\u001b[0m\n\u001b[1;32m----> 1\u001b[1;33m \u001b[0mmessage\u001b[0m\u001b[1;33m(\u001b[0m\u001b[1;33m)\u001b[0m\u001b[1;33m\u001b[0m\u001b[1;33m\u001b[0m\u001b[0m\n\u001b[0m",
      "\u001b[1;31mTypeError\u001b[0m: message() missing 1 required positional argument: 'number'"
     ]
    }
   ],
   "source": [
    "message()"
   ]
  },
  {
   "cell_type": "code",
   "execution_count": null,
   "metadata": {},
   "outputs": [],
   "source": []
  }
 ],
 "metadata": {
  "kernelspec": {
   "display_name": "Python 3",
   "language": "python",
   "name": "python3"
  },
  "language_info": {
   "codemirror_mode": {
    "name": "ipython",
    "version": 3
   },
   "file_extension": ".py",
   "mimetype": "text/x-python",
   "name": "python",
   "nbconvert_exporter": "python",
   "pygments_lexer": "ipython3",
   "version": "3.7.6"
  }
 },
 "nbformat": 4,
 "nbformat_minor": 4
}
