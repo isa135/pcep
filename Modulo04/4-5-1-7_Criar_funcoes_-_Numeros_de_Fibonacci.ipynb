{
 "cells": [
  {
   "attachments": {
    "image.png": {
     "image/png": "[encoded data removed]"
    }
   },
   "cell_type": "markdown",
   "metadata": {},
   "source": [
    "##### Algumas funções simples: números de Fibonacci\n",
    "\n",
    "    Some simple functions: Fibonacci numbers\n",
    "\n",
    "Está familiarizado com os números de Fibonacci?\n",
    "    \n",
    "    Are you familiar with Fibonacci numbers?\n",
    "\n",
    "São uma sequência de números inteiros construída usando uma regra muito simples:\n",
    "\n",
    "•\to primeiro elemento da sequência é igual a um (Fib1 = 1)\n",
    "\n",
    "•\to segundo também é igual a um (Fib2 = 1)\n",
    "\n",
    "•\tcada número subsequente é a soma dos dois números anteriores:\n",
    "\n",
    "(Fibi = Fibi-1 + Fibi-2)\n",
    "\n",
    "![image.png](attachment:image.png)\n",
    "\n",
    "Aqui estão alguns dos primeiros números de Fibonacci:\n",
    "\n",
    "    Here are some of the first Fibonacci numbers:"
   ]
  },
  {
   "attachments": {
    "image.png": {
     "image/png": "[encoded data removed]"
    }
   },
   "cell_type": "markdown",
   "metadata": {},
   "source": [
    "![image.png](attachment:image.png)"
   ]
  },
  {
   "cell_type": "markdown",
   "metadata": {},
   "source": [
    "O que pensa da implementação disto como uma função?\n",
    "    \n",
    "    What do you think about implementing this as a function?\n",
    "\n",
    "Vamos criar a nossa função fib e testá-la. Aqui está:\n",
    "    \n",
    "    Let's create our fib function and test it. Here it is:"
   ]
  },
  {
   "cell_type": "code",
   "execution_count": 1,
   "metadata": {},
   "outputs": [
    {
     "name": "stdout",
     "output_type": "stream",
     "text": [
      "1 -> 1\n",
      "2 -> 1\n",
      "3 -> 2\n",
      "4 -> 3\n",
      "5 -> 5\n",
      "6 -> 8\n",
      "7 -> 13\n",
      "8 -> 21\n",
      "9 -> 34\n"
     ]
    }
   ],
   "source": [
    "def fib(n):\n",
    "    if n < 1:\n",
    "        return None\n",
    "    if n < 3:\n",
    "        return 1\n",
    "    elem_1 = elem_2 = 1\n",
    "    the_sum = 0\n",
    "    for i in range(3, n + 1):\n",
    "        the_sum = elem_1 + elem_2\n",
    "        elem_1, elem_2 = elem_2, the_sum\n",
    "    return the_sum\n",
    "\n",
    "for n in range(1, 10):  # testing\n",
    "    print(n, \"->\", fib(n))"
   ]
  },
  {
   "cell_type": "markdown",
   "metadata": {},
   "source": [
    "Analise o corpo do loop for cuidadosamente, e descubra como movemos as elem_1 e elem_2 variáveis através dos números de Fibonacci subsequentes.\n",
    "    \n",
    "    Analyze the for loop body carefully, and find out how we move the elem_1 and elem_2 variables through the subsequent Fibonacci numbers."
   ]
  }
 ],
 "metadata": {
  "kernelspec": {
   "display_name": "Python 3",
   "language": "python",
   "name": "python3"
  },
  "language_info": {
   "codemirror_mode": {
    "name": "ipython",
    "version": 3
   },
   "file_extension": ".py",
   "mimetype": "text/x-python",
   "name": "python",
   "nbconvert_exporter": "python",
   "pygments_lexer": "ipython3",
   "version": "3.7.6"
  }
 },
 "nbformat": 4,
 "nbformat_minor": 4
}
