{
 "cells": [
  {
   "cell_type": "markdown",
   "metadata": {},
   "source": [
    "##### Adicionar elementos a uma lista: continuação\n",
    "    \n",
    "    Adding elements to a list: continued\n",
    "\n",
    "Pode iniciar a vida de uma lista tornando-a vazia (isto é feito com um par de parêntesis retos vazio) e depois adicionando-lhe novos elementos conforme necessário.\n",
    "    \n",
    "    You can start a list's life by making it empty (this is done with an empty pair of square brackets) and then adding new elements to it as needed.\n",
    "\n",
    "Veja o snippet no editor. Tente adivinhar o seu output após a execução do loop for . Execute o programa para verificar se estava certo.\n",
    "    \n",
    "    Take a look at the snippet in the editor. Try to guess its output after the for loop execution. Run the program to check if you were right."
   ]
  },
  {
   "cell_type": "code",
   "execution_count": 1,
   "metadata": {},
   "outputs": [
    {
     "name": "stdout",
     "output_type": "stream",
     "text": [
      "[1, 2, 3, 4, 5]\n"
     ]
    }
   ],
   "source": [
    "my_list = []  # Creating an empty list.\n",
    "\n",
    "for i in range(5):\n",
    "    my_list.append(i + 1)\n",
    "\n",
    "print(my_list)\n"
   ]
  },
  {
   "cell_type": "markdown",
   "metadata": {},
   "source": [
    "Será uma sequência de números inteiros consecutivos a partir de 1 (depois adiciona-se um a todos os valores anexados) até 5.\n",
    "    \n",
    "    It'll be a sequence of consecutive integer numbers from 1 (you then add one to all the appended values) to 5.\n",
    "\n",
    "Modificamos um pouco o snippet:\n",
    "    \n",
    "    We've modified the snippet a bit:"
   ]
  },
  {
   "cell_type": "code",
   "execution_count": 2,
   "metadata": {},
   "outputs": [
    {
     "name": "stdout",
     "output_type": "stream",
     "text": [
      "[5, 4, 3, 2, 1]\n"
     ]
    }
   ],
   "source": [
    "my_list = []  # Creating an empty list.\n",
    "\n",
    "for i in range(5):\n",
    "    my_list.insert(0, i + 1)\n",
    "\n",
    "print(my_list)"
   ]
  },
  {
   "cell_type": "markdown",
   "metadata": {},
   "source": [
    "O que acontecerá agora? Execute o programa e verifique se desta vez também estava certo.\n",
    "    \n",
    "    what will happen now? Run the program and check if this time you were right, too.\n",
    "\n",
    "Deve obter a mesma sequência, mas em ordem inversa (este é o mérito de usar o método insert() ).\n",
    "    \n",
    "    You should get the same sequence, but in reverse order (this is the merit of using the insert() method)."
   ]
  },
  {
   "cell_type": "code",
   "execution_count": null,
   "metadata": {},
   "outputs": [],
   "source": []
  }
 ],
 "metadata": {
  "kernelspec": {
   "display_name": "Python 3",
   "language": "python",
   "name": "python3"
  },
  "language_info": {
   "codemirror_mode": {
    "name": "ipython",
    "version": 3
   },
   "file_extension": ".py",
   "mimetype": "text/x-python",
   "name": "python",
   "nbconvert_exporter": "python",
   "pygments_lexer": "ipython3",
   "version": "3.7.6"
  }
 },
 "nbformat": 4,
 "nbformat_minor": 4
}
