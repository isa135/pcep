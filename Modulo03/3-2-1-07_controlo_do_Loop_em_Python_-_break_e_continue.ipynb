{
 "cells": [
  {
   "cell_type": "markdown",
   "metadata": {},
   "source": [
    "##### Os loops break e declarações continue .\n",
    "    \n",
    "    The break and continue statements\n",
    "\n",
    "Até agora, temos tratado o corpo do loop como uma sequência indivisível e inseparável de instruções que são executadas completamente a cada volta do loop. No entanto, como programador, poderá ser confrontado com as seguintes escolhas:\n",
    "\n",
    "    So far, we've treated the body of the loop as an indivisible and inseparable sequence of instructions that are performed completely at every turn of the loop. However, as developer, you could be faced with the following choices:\n",
    "\n",
    "•\tparece que é desnecessário continuar o loop como um todo; deve abster-se de continuar a execução do corpo do loop e continuar;\n",
    "\n",
    "    •\tit appears that it's unnecessary to continue the loop as a whole; you should refrain from further execution of the loop's body and go further;\n",
    "\n",
    "•\tparece que é necessário iniciar a próxima volta do loop sem completar a execução da volta atual.\n",
    "\n",
    "    •\tit appears that you need to start the next turn of the loop without completing the execution of the current turn.\n",
    "\n",
    "O Python fornece duas instruções especiais para a execução de ambas estas tarefas. Digamos, por uma questão de precisão, que a sua existência na linguagem não é necessária - um programador experiente é capaz de codificar qualquer algoritmo sem estas instruções. Tais adições, que não melhoram o poder expressivo da linguagem, mas apenas simplificam o trabalho do programador, são por vezes chamadas de doces sintáticos, ou açúcar sintático.\n",
    "\n",
    "    Python provides two special instructions for the implementation of both these tasks. Let's say for the sake of accuracy that their existence in the language is not necessary - an experienced programmer is able to code any algorithm without these instructions. Such additions, which don't improve the language's expressive power, but only simplify the developer's work, are sometimes called syntactic candy, or syntactic sugar.\n",
    "\n",
    "Estas duas instruções são:\n",
    "\n",
    "    These two instructions are:\n",
    "\n",
    "•\tbreak - sai imediatamente do loop, e termina incondicionalmente a operação do loop; o programa começa a executar a instrução mais próxima após o corpo do loop;\n",
    "\n",
    "    •\tbreak - exits the loop immediately, and unconditionally ends the loop's operation; the program begins to execute the nearest instruction after the loop's body;\n",
    "\n",
    "•\tcontinue - comporta-se como se o programa tivesse subitamente chegado ao fim do corpo; inicia-se a volta seguinte e a expressão da condição é testada imediatamente.\n",
    "\n",
    "    •\tcontinue - behaves as if the program has suddenly reached the end of the body; the next turn is started and the condition expression is tested immediately.\n",
    "\n",
    "Ambas as palavras são keywords.\n",
    "    \n",
    "    Both these words are keywords.\n",
    "\n",
    "Agora vamos mostrar-lhe dois exemplos simples para ilustrar como as duas instruções funcionam. Veja o código no editor. Execute o programa e analise o output. Modifique o código e experimente.\n",
    "\n",
    "    Now we'll show you two simple examples to illustrate how the two instructions work. Look at the code in the editor. Run the program and analyze the output. Modify the code and experiment.\n"
   ]
  },
  {
   "cell_type": "code",
   "execution_count": 1,
   "metadata": {},
   "outputs": [
    {
     "name": "stdout",
     "output_type": "stream",
     "text": [
      "The break instruction:\n",
      "Inside the loop. 1\n",
      "Inside the loop. 2\n",
      "Outside the loop.\n",
      "\n",
      "The continue instruction:\n",
      "Inside the loop. 1\n",
      "Inside the loop. 2\n",
      "Inside the loop. 4\n",
      "Inside the loop. 5\n",
      "Outside the loop.\n"
     ]
    }
   ],
   "source": [
    "# break - example\n",
    "\n",
    "print(\"The break instruction:\")\n",
    "for i in range(1, 6):\n",
    "    if i == 3:\n",
    "        break\n",
    "    print(\"Inside the loop.\", i)\n",
    "print(\"Outside the loop.\")\n",
    "\n",
    "\n",
    "# continue - example\n",
    "\n",
    "print(\"\\nThe continue instruction:\")\n",
    "for i in range(1, 6):\n",
    "    if i == 3:\n",
    "        continue\n",
    "    print(\"Inside the loop.\", i)\n",
    "print(\"Outside the loop.\")\n"
   ]
  },
  {
   "cell_type": "code",
   "execution_count": null,
   "metadata": {},
   "outputs": [],
   "source": []
  }
 ],
 "metadata": {
  "kernelspec": {
   "display_name": "Python 3",
   "language": "python",
   "name": "python3"
  },
  "language_info": {
   "codemirror_mode": {
    "name": "ipython",
    "version": 3
   },
   "file_extension": ".py",
   "mimetype": "text/x-python",
   "name": "python",
   "nbconvert_exporter": "python",
   "pygments_lexer": "ipython3",
   "version": "3.7.6"
  }
 },
 "nbformat": 4,
 "nbformat_minor": 4
}
