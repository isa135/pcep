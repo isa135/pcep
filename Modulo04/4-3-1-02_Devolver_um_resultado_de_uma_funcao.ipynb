{
 "cells": [
  {
   "cell_type": "markdown",
   "metadata": {},
   "source": [
    "##### Algumas palavras sobre None\n",
    "\n",
    "    A few words about None\n",
    "\n",
    "Deixe-nos apresentar-lhe um valor muito curioso (para sermos honestos, um valor nulo), chamado None.\n",
    "    \n",
    "    Let us introduce you to a very curious value (to be honest, a none value) named None.\n",
    "\n",
    "Os seus dados não representam nenhum valor razoável - na verdade, não é um valor de todo; portanto, não deve tomar parte em nenhuma expressão.\n",
    "    \n",
    "    Its data doesn't represent any reasonable value - actually, it's not a value at all; hence, it mustn't take part in any expressions.\n",
    "\n",
    "Por exemplo, um snippet como este:\n",
    "    \n",
    "    For example, a snippet like this:"
   ]
  },
  {
   "cell_type": "code",
   "execution_count": 1,
   "metadata": {},
   "outputs": [
    {
     "ename": "TypeError",
     "evalue": "unsupported operand type(s) for +: 'NoneType' and 'int'",
     "output_type": "error",
     "traceback": [
      "\u001b[1;31m---------------------------------------------------------------------------\u001b[0m",
      "\u001b[1;31mTypeError\u001b[0m                                 Traceback (most recent call last)",
      "\u001b[1;32m<ipython-input-1-14da67643a5a>\u001b[0m in \u001b[0;36m<module>\u001b[1;34m\u001b[0m\n\u001b[1;32m----> 1\u001b[1;33m \u001b[0mprint\u001b[0m\u001b[1;33m(\u001b[0m\u001b[1;32mNone\u001b[0m \u001b[1;33m+\u001b[0m \u001b[1;36m2\u001b[0m\u001b[1;33m)\u001b[0m\u001b[1;33m\u001b[0m\u001b[1;33m\u001b[0m\u001b[0m\n\u001b[0m",
      "\u001b[1;31mTypeError\u001b[0m: unsupported operand type(s) for +: 'NoneType' and 'int'"
     ]
    }
   ],
   "source": [
    "print(None + 2)"
   ]
  },
  {
   "attachments": {
    "image.png": {
     "image/png": "[encoded data removed]"
    }
   },
   "cell_type": "markdown",
   "metadata": {},
   "source": [
    "causará um erro de runtime, descrito pela seguinte mensagem de diagnóstico:\n",
    "    \n",
    "    will cause a runtime error, described by the following diagnostic message:\n",
    "\n",
    "![image.png](attachment:image.png)\n",
    "\n",
    "Nota: None é uma keyword.\n",
    "    \n",
    "    Note: None is a keyword.\n",
    "\n",
    "Existem apenas dois tipos de circunstâncias onde None pode ser utilizado em segurança:\n",
    "\n",
    "    There are only two kinds of circumstances when None can be safely used:\n",
    "    \n",
    "•\tquando o atribui a uma variável (ou o devolve como o resultado de uma função)\n",
    "\n",
    "    •\twhen you assign it to a variable (or return it as a function's result)\n",
    "    \n",
    "•\tquando o compara com uma variável para diagnosticar o seu estado interno.\n",
    "\n",
    "    •\twhen you compare it with a variable to diagnose its internal state.\n",
    "\n",
    "Tal como aqui:\n",
    "    \n",
    "    Just like here:"
   ]
  },
  {
   "cell_type": "code",
   "execution_count": 2,
   "metadata": {},
   "outputs": [
    {
     "name": "stdout",
     "output_type": "stream",
     "text": [
      "Sorry, you don't carry any value\n"
     ]
    }
   ],
   "source": [
    "value = None\n",
    "if value is None:\n",
    "    print(\"Sorry, you don't carry any value\")"
   ]
  },
  {
   "cell_type": "markdown",
   "metadata": {},
   "source": [
    "Não se esqueça disto: se uma função não devolver um determinado valor usando uma return cláusula de expressão, supõe-se que ela devolve implicitamente None.\n",
    "    \n",
    "    Don't forget this: if a function doesn't return a certain value using a return expression clause, it is assumed that it implicitly returns None.\n",
    "\n",
    "Vamos testá-lo.\n",
    "    \n",
    "    Let's test it."
   ]
  },
  {
   "cell_type": "code",
   "execution_count": null,
   "metadata": {},
   "outputs": [],
   "source": []
  }
 ],
 "metadata": {
  "kernelspec": {
   "display_name": "Python 3",
   "language": "python",
   "name": "python3"
  },
  "language_info": {
   "codemirror_mode": {
    "name": "ipython",
    "version": 3
   },
   "file_extension": ".py",
   "mimetype": "text/x-python",
   "name": "python",
   "nbconvert_exporter": "python",
   "pygments_lexer": "ipython3",
   "version": "3.7.6"
  }
 },
 "nbformat": 4,
 "nbformat_minor": 4
}
