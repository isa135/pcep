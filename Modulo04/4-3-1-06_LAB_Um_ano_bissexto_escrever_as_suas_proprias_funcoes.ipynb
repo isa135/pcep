{
 "cells": [
  {
   "cell_type": "markdown",
   "metadata": {},
   "source": [
    "LAB\n",
    "\n",
    "Tempo estimado: 10-15 minutos\n",
    "\n",
    "Nível de dificuldade: Fácil\n",
    "\n",
    "Objetivos\n",
    "\n",
    "Familiarizar o aluno a:\n",
    "\n",
    "    Familiarize the student with:\n",
    "\n",
    "•\tprojetar e escrever funções parametrizadas;\n",
    "\n",
    "    •\tprojecting and writing parameterized functions;\n",
    "\n",
    "•\tutilizar a return declaração;\n",
    "\n",
    "    •\tutilizing the return statement;\n",
    "\n",
    "•\ttestar as funções.\n",
    "\n",
    "    •\ttesting the functions.\n",
    "\n",
    "Cenário\n",
    "\n",
    "A sua tarefa é escrever e testar uma função que leva um argumento (um ano) e devolve True se o ano for um ano bissexto, ou False caso contrário.\n",
    "\n",
    "    Your task is to write and test a function which takes one argument (a year) and returns True if the year is a leap year, or False otherwise.\n",
    "\n",
    "A seed da função já está semeada no código esqueleto no editor.\n",
    "    \n",
    "    The seed of the function is already sown in the skeleton code in the editor.\n",
    "\n",
    "Nota: preparámos também um pequeno código de teste, que pode utilizar para testar a sua função.\n",
    "\n",
    "    Note: we've also prepared a short testing code, which you can use to test your function.\n",
    "    \n",
    "O código utiliza duas listas - uma com os dados do teste, e a outra com os resultados esperados. O código dir-lhe-á se algum dos seus resultados é inválido.\n",
    "\n",
    "    The code uses two lists - one with the test data, and the other containing the expected results. The code will tell you if any of your results are invalid.\n"
   ]
  },
  {
   "cell_type": "code",
   "execution_count": 1,
   "metadata": {},
   "outputs": [
    {
     "ename": "IndentationError",
     "evalue": "expected an indented block (<ipython-input-1-c898ee1316be>, line 6)",
     "output_type": "error",
     "traceback": [
      "\u001b[1;36m  File \u001b[1;32m\"<ipython-input-1-c898ee1316be>\"\u001b[1;36m, line \u001b[1;32m6\u001b[0m\n\u001b[1;33m    test_data = [1900, 2000, 2016, 1987]\u001b[0m\n\u001b[1;37m            ^\u001b[0m\n\u001b[1;31mIndentationError\u001b[0m\u001b[1;31m:\u001b[0m expected an indented block\n"
     ]
    }
   ],
   "source": [
    "def is_year_leap(year):\n",
    "#\n",
    "# put your code here\n",
    "#\n",
    "\n",
    "test_data = [1900, 2000, 2016, 1987]\n",
    "test_results = [False, True, True, False]\n",
    "for i in range(len(test_data)):\n",
    "\tyr = test_data[i]\n",
    "\tprint(yr,\"->\",end=\"\")\n",
    "\tresult = is_year_leap(yr)\n",
    "\tif result == test_results[i]:\n",
    "\t\tprint(\"OK\")\n",
    "\telse:\n",
    "\t\tprint(\"Failed\")\n"
   ]
  },
  {
   "cell_type": "code",
   "execution_count": null,
   "metadata": {},
   "outputs": [],
   "source": []
  }
 ],
 "metadata": {
  "kernelspec": {
   "display_name": "Python 3",
   "language": "python",
   "name": "python3"
  },
  "language_info": {
   "codemirror_mode": {
    "name": "ipython",
    "version": 3
   },
   "file_extension": ".py",
   "mimetype": "text/x-python",
   "name": "python",
   "nbconvert_exporter": "python",
   "pygments_lexer": "ipython3",
   "version": "3.7.6"
  }
 },
 "nbformat": 4,
 "nbformat_minor": 4
}
