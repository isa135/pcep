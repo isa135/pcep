{
 "cells": [
  {
   "cell_type": "markdown",
   "metadata": {},
   "source": [
    "##### Como usar um tuple: continuação\n",
    "\n",
    "    How to use a tuple: continued\n",
    "\n",
    "Que mais podem os tuples fazer por si?\n",
    "    \n",
    "    What else can tuples do for you?\n",
    "    \n",
    "•\ta função len() aceita tuples, e devolve o número de elementos contidos no seu interior;\n",
    "\n",
    "    •\tthe len() function accepts tuples, and returns the number of elements contained inside;\n",
    "    \n",
    "•\to operador + pode juntar tuples (já lhe mostrámos isto)\n",
    "\n",
    "    •\tthe + operator can join tuples together (we've shown you this already)\n",
    "\n",
    "•\to operador * pode multiplicar tuples, assim como listas;\n",
    "    \n",
    "    •\tthe * operator can multiply tuples, just like lists;\n",
    "    \n",
    "•\tos operadores in e not in trabalham da mesma maneira que nas listas.\n",
    "\n",
    "    •\tthe in and not in operators work in the same way as in lists."
   ]
  },
  {
   "cell_type": "code",
   "execution_count": 1,
   "metadata": {},
   "outputs": [
    {
     "name": "stdout",
     "output_type": "stream",
     "text": [
      "9\n",
      "(1, 10, 100, 1000, 10000)\n",
      "(1, 10, 100, 1, 10, 100, 1, 10, 100)\n",
      "True\n",
      "True\n"
     ]
    }
   ],
   "source": [
    "my_tuple = (1, 10, 100)\n",
    "\n",
    "t1 = my_tuple + (1000, 10000)\n",
    "t2 = my_tuple * 3\n",
    "\n",
    "print(len(t2))\n",
    "print(t1)\n",
    "print(t2)\n",
    "print(10 in my_tuple)\n",
    "print(-10 not in my_tuple)\n"
   ]
  },
  {
   "cell_type": "markdown",
   "metadata": {},
   "source": [
    "Uma das propriedades mais úteis da tuple é a sua capacidade de aparecer no lado esquerdo do operador de atribuição. Viu este fenómeno há algum tempo, quando foi necessário encontrar uma ferramenta elegante para trocar os valores de duas variáveis.\n",
    "    \n",
    "    One of the most useful tuple properties is their ability to appear on the left side of the assignment operator. You saw this phenomenon some time ago, when it was necessary to find an elegant tool to swap two variables' values.\n",
    "\n",
    "Dê uma vista de olhos no snippet abaixo:\n",
    "    \n",
    "    Take a look at the snippet below:"
   ]
  },
  {
   "cell_type": "code",
   "execution_count": 2,
   "metadata": {},
   "outputs": [
    {
     "name": "stdout",
     "output_type": "stream",
     "text": [
      "(2,) (3, 123) (1,)\n"
     ]
    }
   ],
   "source": [
    "var = 123\n",
    "\n",
    "t1 = (1, )\n",
    "t2 = (2, )\n",
    "t3 = (3, var)\n",
    "\n",
    "t1, t2, t3 = t2, t3, t1\n",
    "\n",
    "print(t1, t2, t3)"
   ]
  },
  {
   "cell_type": "markdown",
   "metadata": {},
   "source": [
    "Mostra três tuples que interagem - com efeito, os valores neles armazenados \"circulam\" - t1 torna-se t2, t2 torna-se t3, e t3 torna-se t1.\n",
    "    \n",
    "    It shows three tuples interacting - in effect, the values stored in them \"circulate\" - t1 becomes t2, t2 becomes t3, and t3 becomes t1.\n",
    "\n",
    "Nota: o exemplo apresenta mais um facto importante: os elementos de um tuple podem ser variáveis, e não apenas literais. Além disso, podem ser expressões se estiverem no lado direito do operador de atribuição.\n",
    "    \n",
    "    Note: the example presents one more important fact: a tuple's elements can be variables, not only literals. Moreover, they can be expressions if they're on the right side of the assignment operator."
   ]
  },
  {
   "cell_type": "code",
   "execution_count": null,
   "metadata": {},
   "outputs": [],
   "source": []
  }
 ],
 "metadata": {
  "kernelspec": {
   "display_name": "Python 3",
   "language": "python",
   "name": "python3"
  },
  "language_info": {
   "codemirror_mode": {
    "name": "ipython",
    "version": 3
   },
   "file_extension": ".py",
   "mimetype": "text/x-python",
   "name": "python",
   "nbconvert_exporter": "python",
   "pygments_lexer": "ipython3",
   "version": "3.7.6"
  }
 },
 "nbformat": 4,
 "nbformat_minor": 4
}
