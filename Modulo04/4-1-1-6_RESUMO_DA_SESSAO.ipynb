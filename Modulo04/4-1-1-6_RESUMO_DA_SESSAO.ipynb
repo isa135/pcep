{
 "cells": [
  {
   "attachments": {
    "image.png": {
     "image/png": "[encoded data removed]"
    }
   },
   "cell_type": "markdown",
   "metadata": {},
   "source": [
    "#### Key takeaways\n",
    "\n",
    "1. Uma função é um bloco de código que executa uma tarefa específica quando a função é chamada (invocada). Pode utilizar funções para tornar o seu código reutilizável, mais bem organizado e mais legível. As funções podem ter parâmetros e valores de retorno.\n",
    "    \n",
    "    \n",
    "    1. A function is a block of code that performs a specific task when the function is called (invoked). You can use functions to make your code reusable, better organized, and more readable. Functions can have parameters and return values.\n",
    "    \n",
    "2. Existem pelo menos quatro tipos básicos de funções em Python:\n",
    "\n",
    "    \n",
    "    2. There are at least four basic types of functions in Python:\n",
    "\n",
    "•\tfunções incorporadas que são parte integrante do Python (tais como a função print() ). Pode ver uma lista completa de funções Python incorporadas em https://docs.python.org/3/library/functions.html.\n",
    "\n",
    "    •\tbuilt-in functions which are an integral part of Python (such as the print() function). You can see a complete list of Python built-in functions at https://docs.python.org/3/library/functions.html.\n",
    "    \n",
    "•\tas que vêm de módulos pré-instalados (aprenderá sobre eles no curso Python Essentials 2)\n",
    "\n",
    "    •\tthe ones that come from pre-installed modules (you'll learn about them in the Python Essentials 2 course)\n",
    "    \n",
    "•\tfunções definidas pelo utilizador que são escritas por utilizadores para utilizadores - pode escrever as suas próprias funções e utilizá-las livremente no seu código,\n",
    "\n",
    "    •\tuser-defined functions which are written by users for users - you can write your own functions and use them freely in your code,\n",
    "    \n",
    "•\tas funções lambda (aprenderá sobre elas no curso Python Essentials 2.)\n",
    "\n",
    "    •\tthe lambda functions (you'll learn about them in the Python Essentials 2 course.)\n",
    "    \n",
    "3. Pode definir a sua própria função usando a keyword def e a seguinte sintaxe:\n",
    "    \n",
    "    \n",
    "    3. You can define your own function using the def keyword and the following syntax:\n",
    "    \n",
    "![image.png](attachment:image.png)\n",
    "\n",
    "Pode definir uma função que não aceita quaisquer argumentos, por exemplo:\n",
    "    \n",
    "    You can define a function which doesn't take any arguments, e.g.:"
   ]
  },
  {
   "cell_type": "code",
   "execution_count": 1,
   "metadata": {},
   "outputs": [
    {
     "name": "stdout",
     "output_type": "stream",
     "text": [
      "Hello\n"
     ]
    }
   ],
   "source": [
    "def message():    # defining a function\n",
    "    print(\"Hello\")    # body of the function\n",
    "\n",
    "message()    # calling the function"
   ]
  },
  {
   "cell_type": "markdown",
   "metadata": {},
   "source": [
    "Pode definir uma função que também aceita argumentos, tal como a função de um parámetro abaixo:\n",
    "    \n",
    "    You can define a function which takes arguments, too, just like the one-parameter function below:"
   ]
  },
  {
   "cell_type": "code",
   "execution_count": 2,
   "metadata": {},
   "outputs": [
    {
     "name": "stdout",
     "output_type": "stream",
     "text": [
      "Enter your name: Isa\n",
      "Hello, Isa\n"
     ]
    }
   ],
   "source": [
    "def hello(name):    # defining a function\n",
    "    print(\"Hello,\", name)    # body of the function\n",
    "\n",
    "name = input(\"Enter your name: \")\n",
    "\n",
    "hello(name)    # calling the function"
   ]
  },
  {
   "cell_type": "markdown",
   "metadata": {},
   "source": [
    "Na próxima secção, falaremos mais sobre as funções parametrizadas. Não se preocupe.\n",
    "    \n",
    "    We'll tell you more about parametrized functions in the next section. Don't worry."
   ]
  },
  {
   "cell_type": "code",
   "execution_count": 3,
   "metadata": {},
   "outputs": [],
   "source": [
    "# Exercício 1\n",
    "# A função input() é um exemplo de uma:\n",
    "    # The input() function is an example of a:\n",
    "# a) função definida pelo utilizador\n",
    "    # a) user-defined function\n",
    "# ***** b) função incorporada\n",
    "    # b) built-in function"
   ]
  },
  {
   "cell_type": "code",
   "execution_count": 4,
   "metadata": {},
   "outputs": [
    {
     "ename": "NameError",
     "evalue": "name 'hi' is not defined",
     "output_type": "error",
     "traceback": [
      "\u001b[1;31m---------------------------------------------------------------------------\u001b[0m",
      "\u001b[1;31mNameError\u001b[0m                                 Traceback (most recent call last)",
      "\u001b[1;32m<ipython-input-4-f21df165a8b0>\u001b[0m in \u001b[0;36m<module>\u001b[1;34m\u001b[0m\n\u001b[0;32m      3\u001b[0m     \u001b[1;31m# What happens when you try to invoke a function before you define it? Example:\u001b[0m\u001b[1;33m\u001b[0m\u001b[1;33m\u001b[0m\u001b[1;33m\u001b[0m\u001b[0m\n\u001b[0;32m      4\u001b[0m \u001b[1;33m\u001b[0m\u001b[0m\n\u001b[1;32m----> 5\u001b[1;33m \u001b[0mhi\u001b[0m\u001b[1;33m(\u001b[0m\u001b[1;33m)\u001b[0m\u001b[1;33m\u001b[0m\u001b[1;33m\u001b[0m\u001b[0m\n\u001b[0m\u001b[0;32m      6\u001b[0m \u001b[1;33m\u001b[0m\u001b[0m\n\u001b[0;32m      7\u001b[0m \u001b[1;32mdef\u001b[0m \u001b[0mhi\u001b[0m\u001b[1;33m(\u001b[0m\u001b[1;33m)\u001b[0m\u001b[1;33m:\u001b[0m\u001b[1;33m\u001b[0m\u001b[1;33m\u001b[0m\u001b[0m\n",
      "\u001b[1;31mNameError\u001b[0m: name 'hi' is not defined"
     ]
    }
   ],
   "source": [
    "# Exercício 2\n",
    "# O que acontece quando se tenta invocar uma função antes de a definir? Exemplo:\n",
    "    # What happens when you try to invoke a function before you define it? Example:\n",
    "\n",
    "hi()\n",
    "\n",
    "def hi():\n",
    "    print(\"hi!\")"
   ]
  },
  {
   "attachments": {
    "image.png": {
     "image/png": "[encoded data removed]"
    }
   },
   "cell_type": "markdown",
   "metadata": {},
   "source": [
    "![image.png](attachment:image.png)"
   ]
  },
  {
   "cell_type": "code",
   "execution_count": 5,
   "metadata": {},
   "outputs": [
    {
     "ename": "TypeError",
     "evalue": "hi() takes 0 positional arguments but 1 was given",
     "output_type": "error",
     "traceback": [
      "\u001b[1;31m---------------------------------------------------------------------------\u001b[0m",
      "\u001b[1;31mTypeError\u001b[0m                                 Traceback (most recent call last)",
      "\u001b[1;32m<ipython-input-5-f3bd1b5c6ce7>\u001b[0m in \u001b[0;36m<module>\u001b[1;34m\u001b[0m\n\u001b[0;32m      5\u001b[0m     \u001b[0mprint\u001b[0m\u001b[1;33m(\u001b[0m\u001b[1;34m\"hi\"\u001b[0m\u001b[1;33m)\u001b[0m\u001b[1;33m\u001b[0m\u001b[1;33m\u001b[0m\u001b[0m\n\u001b[0;32m      6\u001b[0m \u001b[1;33m\u001b[0m\u001b[0m\n\u001b[1;32m----> 7\u001b[1;33m \u001b[0mhi\u001b[0m\u001b[1;33m(\u001b[0m\u001b[1;36m5\u001b[0m\u001b[1;33m)\u001b[0m\u001b[1;33m\u001b[0m\u001b[1;33m\u001b[0m\u001b[0m\n\u001b[0m",
      "\u001b[1;31mTypeError\u001b[0m: hi() takes 0 positional arguments but 1 was given"
     ]
    }
   ],
   "source": [
    "# Exercise 3\n",
    "# What will happen when you run the code below?\n",
    "\n",
    "def hi():\n",
    "    print(\"hi\")\n",
    "\n",
    "hi(5)"
   ]
  },
  {
   "attachments": {
    "image.png": {
     "image/png": "[encoded data removed]"
    }
   },
   "cell_type": "markdown",
   "metadata": {},
   "source": [
    "![image.png](attachment:image.png)"
   ]
  },
  {
   "cell_type": "code",
   "execution_count": null,
   "metadata": {},
   "outputs": [],
   "source": []
  }
 ],
 "metadata": {
  "kernelspec": {
   "display_name": "Python 3",
   "language": "python",
   "name": "python3"
  },
  "language_info": {
   "codemirror_mode": {
    "name": "ipython",
    "version": 3
   },
   "file_extension": ".py",
   "mimetype": "text/x-python",
   "name": "python",
   "nbconvert_exporter": "python",
   "pygments_lexer": "ipython3",
   "version": "3.7.6"
  }
 },
 "nbformat": 4,
 "nbformat_minor": 4
}
