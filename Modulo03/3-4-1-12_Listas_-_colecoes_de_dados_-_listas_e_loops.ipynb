{
 "cells": [
  {
   "cell_type": "markdown",
   "metadata": {},
   "source": [
    "##### Listas em ação\n",
    "    \n",
    "    Lists in action\n",
    "\n",
    "Agora pode facilmente trocar os elementos da lista para inverter a sua ordem:\n",
    "    \n",
    "    Now you can easily swap the list's elements to reverse their order:"
   ]
  },
  {
   "cell_type": "code",
   "execution_count": 1,
   "metadata": {},
   "outputs": [
    {
     "name": "stdout",
     "output_type": "stream",
     "text": [
      "[5, 3, 8, 1, 10]\n"
     ]
    }
   ],
   "source": [
    "my_list = [10, 1, 8, 3, 5]\n",
    "\n",
    "my_list[0], my_list[4] = my_list[4], my_list[0]\n",
    "my_list[1], my_list[3] = my_list[3], my_list[1]\n",
    "\n",
    "print(my_list)"
   ]
  },
  {
   "cell_type": "markdown",
   "metadata": {},
   "source": [
    "Fica bem com cinco elementos.\n",
    "    \n",
    "    It looks fine with five elements.\n",
    "\n",
    "Será ainda aceitável com uma lista contendo 100 elementos? Não, não será.\n",
    "\n",
    "    Will it still be acceptable with a list containing 100 elements? No, it won't.\n",
    "\n",
    "Pode utilizar o loop for para fazer a mesma coisa automaticamente, independentemente do comprimento da lista? Sim, pode.\n",
    "    \n",
    "    Can you use the for loop to do the same thing automatically, irrespective of the list's length? Yes, you can.\n",
    "\n",
    "Foi assim que o fizemos:\n",
    "    \n",
    "    This is how we've done it:"
   ]
  },
  {
   "cell_type": "code",
   "execution_count": 2,
   "metadata": {},
   "outputs": [
    {
     "name": "stdout",
     "output_type": "stream",
     "text": [
      "[5, 3, 8, 1, 10]\n"
     ]
    }
   ],
   "source": [
    "my_list = [10, 1, 8, 3, 5]\n",
    "length = len(my_list)\n",
    "\n",
    "for i in range(length // 2):\n",
    "    my_list[i], my_list[length - i - 1] = my_list[length - i - 1], my_list[i]\n",
    "\n",
    "print(my_list)"
   ]
  },
  {
   "cell_type": "markdown",
   "metadata": {},
   "source": [
    "Nota:\n",
    "\n",
    "•\tnós atribuímos a variável length com o comprimento da lista atual (isto torna o nosso código um pouco mais claro e mais curto)\n",
    "\n",
    "    •\twe've assigned the length variable with the current list's length (this makes our code a bit clearer and shorter)\n",
    "\n",
    "•\tlançamos o loop for para correr através do seu corpo length // 2 vezes (isto funciona bem para listas com comprimentos pares e ímpares, porque quando a lista contém um número ímpar de elementos, o do meio permanece intocado)\n",
    "\n",
    "    •\twe've launched the for loop to run through its body length // 2 times (this works well for lists with both even and odd lengths, because when the list contains an odd number of elements, the middle one remains untouched)\n",
    "\n",
    "•\ttrocamos o i-ésimo elemento (desde o início da lista) com o que tem um index igual a (length - i - 1) (do final da lista); no nosso exemplo, para i igual a 0 o ramo (lenght - i - 1) dá 4; para i igual a 1, dá 3 - Isto é exatamente o que precisávamos.\n",
    "\n",
    "    •\twe've swapped the ith element (from the beginning of the list) with the one with an index equal to (length - i - 1) (from the end of the list); in our example, for i equal to 0 the (lenght - i - 1) gives 4; for i equal to 1, it gives 3 - this is exactly what we needed.\n",
    "    \n",
    "As listas são extremamente úteis, e irá encontrá-las com muita frequência.\n",
    "    \n",
    "    Lists are extremely useful, and you'll encounter them very often."
   ]
  }
 ],
 "metadata": {
  "kernelspec": {
   "display_name": "Python 3",
   "language": "python",
   "name": "python3"
  },
  "language_info": {
   "codemirror_mode": {
    "name": "ipython",
    "version": 3
   },
   "file_extension": ".py",
   "mimetype": "text/x-python",
   "name": "python",
   "nbconvert_exporter": "python",
   "pygments_lexer": "ipython3",
   "version": "3.7.6"
  }
 },
 "nbformat": 4,
 "nbformat_minor": 4
}
