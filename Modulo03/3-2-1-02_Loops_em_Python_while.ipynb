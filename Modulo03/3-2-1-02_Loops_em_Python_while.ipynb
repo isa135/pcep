{
 "cells": [
  {
   "cell_type": "markdown",
   "metadata": {},
   "source": [
    "##### Os loops loop while : mais exemplos\n",
    "\n",
    "    The while loop: more examples\n",
    "\n",
    "Vejamos outro exemplo empregando o loop while . Siga os comentários para descobrir a ideia e a solução.\n",
    "\n",
    "    Let's look at another example employing the while loop. Follow the comments to find out the idea and the solution."
   ]
  },
  {
   "cell_type": "code",
   "execution_count": 1,
   "metadata": {},
   "outputs": [
    {
     "name": "stdout",
     "output_type": "stream",
     "text": [
      "Enter a number or type 0 to stop: 6\n",
      "Enter a number or type 0 to stop: 5\n",
      "Enter a number or type 0 to stop: 4\n",
      "Enter a number or type 0 to stop: 0\n",
      "Odd numbers count: 1\n",
      "Even numbers count: 2\n"
     ]
    }
   ],
   "source": [
    "# A program that reads a sequence of numbers\n",
    "# and counts how many numbers are even and how many are odd.\n",
    "# The program terminates when zero is entered.\n",
    "\n",
    "odd_numbers = 0\n",
    "even_numbers = 0\n",
    "\n",
    "# Read the first number.\n",
    "number = int(input(\"Enter a number or type 0 to stop: \"))\n",
    "\n",
    "# 0 terminates execution.\n",
    "while number != 0:\n",
    "    # Check if the number is odd.\n",
    "    if number % 2 == 1:\n",
    "        # Increase the odd_numbers counter.\n",
    "        odd_numbers += 1\n",
    "    else:\n",
    "        # Increase the even_numbers counter.\n",
    "        even_numbers += 1\n",
    "    # Read the next number.\n",
    "    number = int(input(\"Enter a number or type 0 to stop: \"))\n",
    "\n",
    "# Print results.\n",
    "print(\"Odd numbers count:\", odd_numbers)\n",
    "print(\"Even numbers count:\", even_numbers)"
   ]
  },
  {
   "cell_type": "markdown",
   "metadata": {},
   "source": [
    "Certas expressões podem ser simplificadas sem alterar o comportamento do programa.\n",
    "\n",
    "    Certain expressions can be simplified without changing the program's behavior.\n",
    "\n",
    "Tente lembrar-se de como o Python interpreta a verdade de uma condição e observe que estas duas formas são equivalentes:\n",
    "\n",
    "    Try to recall how Python interprets the truth of a condition, and note that these two forms are equivalent:\n",
    "\n",
    "while number != 0: e while number:.\n",
    "\n",
    "A condição que verifica se um número é ímpar também pode ser codificada nestas formas equivalentes:\n",
    "    \n",
    "    The condition that checks if a number is odd can be coded in these equivalent forms, too:\n",
    "\n",
    "if number % 2 == 1: e if number % 2:.\n",
    "\n",
    "##### Usar uma variável counter para sair de um loop\n",
    "\n",
    "    Using a counter variable to exit a loop\n",
    "\n",
    "Veja o snippet abaixo:\n",
    "    \n",
    "    Look at the snippet below:"
   ]
  },
  {
   "cell_type": "code",
   "execution_count": 2,
   "metadata": {},
   "outputs": [
    {
     "name": "stdout",
     "output_type": "stream",
     "text": [
      "Inside the loop. 5\n",
      "Inside the loop. 4\n",
      "Inside the loop. 3\n",
      "Inside the loop. 2\n",
      "Inside the loop. 1\n",
      "Outside the loop. 0\n"
     ]
    }
   ],
   "source": [
    "counter = 5\n",
    "while counter != 0:\n",
    "    print(\"Inside the loop.\", counter)\n",
    "    counter -= 1\n",
    "print(\"Outside the loop.\", counter)"
   ]
  },
  {
   "cell_type": "markdown",
   "metadata": {},
   "source": [
    "Este código destina-se a imprimir a string \"Inside the loop.\" e o valor armazenado na variável counter durante um determinado loop exatamente cinco vezes. Uma vez que a condição não foi atendida (a variável counter atingiu 0), o loop é encerrado, e a mensagem \"Outside the loop.\" bem como o valor armazenado em counter é impresso.\n",
    "    \n",
    "    This code is intended to print the string \"Inside the loop.\" and the value stored in the counter variable during a given loop exactly five times. Once the condition has not been met (the counter variable has reached 0), the loop is exited, and the message \"Outside the loop.\" as well as the value stored in counter is printed.\n",
    "\n",
    "Mas há uma coisa que pode ser escrita de forma mais compacta - a condição do loop while .\n",
    "\n",
    "    But there's one thing that can be written more compactly - the condition of the while loop.\n",
    "\n",
    "Consegue ver a diferença?\n",
    "    \n",
    "    Can you see the difference?"
   ]
  },
  {
   "cell_type": "code",
   "execution_count": 3,
   "metadata": {},
   "outputs": [
    {
     "name": "stdout",
     "output_type": "stream",
     "text": [
      "Inside the loop. 5\n",
      "Inside the loop. 4\n",
      "Inside the loop. 3\n",
      "Inside the loop. 2\n",
      "Inside the loop. 1\n",
      "Outside the loop. 0\n"
     ]
    }
   ],
   "source": [
    "counter = 5\n",
    "while counter:\n",
    "    print(\"Inside the loop.\", counter)\n",
    "    counter -= 1\n",
    "print(\"Outside the loop.\", counter)"
   ]
  },
  {
   "cell_type": "markdown",
   "metadata": {},
   "source": [
    "É mais compacto do que anteriormente? Um pouco. É mais legível? Isso é discutível.\n",
    "\n",
    "    Is it more compact than previously? A bit. Is it more legible? That's disputable.\n",
    "\n",
    "**LEMBRE-SE / REMEMBER **\n",
    "\n",
    "Não se sinta obrigado a codificar os seus programas de uma forma que seja sempre a mais curta e a mais compacta. A legibilidade pode ser um fator mais importante. Mantenha o seu código preparado para um novo programador.\n",
    "    \n",
    "    Don't feel obliged to code your programs in a way that is always the shortest and the most compact. Readability may be a more important factor. Keep your code ready for a new programmer.\n"
   ]
  }
 ],
 "metadata": {
  "kernelspec": {
   "display_name": "Python 3",
   "language": "python",
   "name": "python3"
  },
  "language_info": {
   "codemirror_mode": {
    "name": "ipython",
    "version": 3
   },
   "file_extension": ".py",
   "mimetype": "text/x-python",
   "name": "python",
   "nbconvert_exporter": "python",
   "pygments_lexer": "ipython3",
   "version": "3.7.6"
  }
 },
 "nbformat": 4,
 "nbformat_minor": 4
}
