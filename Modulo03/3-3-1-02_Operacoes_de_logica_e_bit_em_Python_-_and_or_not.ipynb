{
 "cells": [
  {
   "cell_type": "markdown",
   "metadata": {},
   "source": [
    "##### Expressões lógicas \n",
    "    \n",
    "    Logical expressions"
   ]
  },
  {
   "cell_type": "markdown",
   "metadata": {},
   "source": [
    "Vamos criar uma variável chamada var e atribuir 1 a ela. As seguintes condições são equivalentes em pares:\n",
    "    \n",
    "    Let's create a variable named var and assign 1 to it. The following conditions are pairwise equivalent:"
   ]
  },
  {
   "cell_type": "code",
   "execution_count": 4,
   "metadata": {},
   "outputs": [],
   "source": [
    "var = 1"
   ]
  },
  {
   "cell_type": "markdown",
   "metadata": {},
   "source": [
    "##### Example 1:"
   ]
  },
  {
   "cell_type": "code",
   "execution_count": 5,
   "metadata": {},
   "outputs": [
    {
     "name": "stdout",
     "output_type": "stream",
     "text": [
      "True\n",
      "True\n"
     ]
    }
   ],
   "source": [
    "print(var > 0)\n",
    "print(not (var <= 0))"
   ]
  },
  {
   "cell_type": "code",
   "execution_count": 6,
   "metadata": {},
   "outputs": [],
   "source": [
    "##### Example 2:"
   ]
  },
  {
   "cell_type": "code",
   "execution_count": 7,
   "metadata": {},
   "outputs": [
    {
     "name": "stdout",
     "output_type": "stream",
     "text": [
      "True\n",
      "True\n"
     ]
    }
   ],
   "source": [
    "print(var != 0)\n",
    "print(not (var == 0))"
   ]
  },
  {
   "attachments": {
    "image.png": {
     "image/png": "[encoded data removed]"
    }
   },
   "cell_type": "markdown",
   "metadata": {},
   "source": [
    "Pode estar familiarizado com as leis de De Morgan. Dizem que:\n",
    "    \n",
    "    You may be familiar with De Morgan's laws. They say that:\n",
    "\n",
    "A negação de uma conjunção é a disjunção das negações.\n",
    "    \n",
    "    The negation of a conjunction is the disjunction of the negations.\n",
    "\n",
    "A negação de uma disjunção é a conjunção das negações.\n",
    "    \n",
    "    The negation of a disjunction is the conjunction of the negations.\n",
    "\n",
    "Vamos escrever a mesma coisa usando Python:\n",
    "    \n",
    "    Let's write the same thing using Python:\n",
    "    \n",
    "![image.png](attachment:image.png)\n",
    "\n",
    "Note-se como os parêntesis foram utilizados para codificar as expressões - colocámo-los lá para melhorar a legibilidade.\n",
    "    \n",
    "    Note how the parentheses have been used to code the expressions - we put them there to improve readability.\n",
    "\n",
    "Devemos acrescentar que nenhum destes operadores de dois argumentos pode ser utilizado sob a forma abreviada conhecida como op=. Vale a pena recordar esta exceção.\n",
    "\n",
    "    We should add that none of these two-argument operators can be used in the abbreviated form known as op=. This exception is worth remembering.\n",
    "\n",
    "##### Valores lógicos vs. bits únicos\n",
    "    \n",
    "    Logical values vs. single bits\n",
    "\n",
    "Os operadores lógicos tomam os seus argumentos como um todo, independentemente da quantidade de bits que contenham. Os operadores só estão conscientes do valor: zero (quando todos os bits são redefinidos) significa False; não zero (quando pelo menos um bit está definido) significa True.\n",
    "    \n",
    "    Logical operators take their arguments as a whole regardless of how many bits they contain. The operators are aware only of the value: zero (when all the bits are reset) means False; not zero (when at least one bit is set) means True.\n",
    "\n",
    "O resultado das suas operações é um destes valores: False ou True. Isto significa que este snippet irá atribuir o valor True à variável j se i não for zero; caso contrário, será False.\n",
    "\n",
    "    The result of their operations is one of these values: False or True. This means that this snippet will assign the value True to the j variable if i is not zero; otherwise, it will be False."
   ]
  },
  {
   "cell_type": "code",
   "execution_count": 9,
   "metadata": {},
   "outputs": [
    {
     "name": "stdout",
     "output_type": "stream",
     "text": [
      "1 True\n"
     ]
    }
   ],
   "source": [
    "i = 1\n",
    "j = not not i\n",
    "print(i, j)"
   ]
  },
  {
   "cell_type": "markdown",
   "metadata": {},
   "source": [
    "##### Operadores bitwise\n",
    "    \n",
    "    Bitwise operators\n",
    "\n",
    "No entanto, existem quatro operadores que lhe permitem manipular bits únicos de dados. São chamados operadores bitwise.\n",
    "    \n",
    "    However, there are four operators that allow you to manipulate single bits of data. They are called bitwise operators.\n",
    "\n",
    "Abrangem todas as operações que mencionámos anteriormente no contexto lógico, e um operador adicional. Este é o operador xor (como em exclusivo ou), e é denotado como ^ (acento circunflexo).\n",
    "    \n",
    "    They cover all the operations we mentioned before in the logical context, and one additional operator. This is the xor (as in exclusive or) operator, and is denoted as ^ (caret).\n",
    "\n",
    "Aqui estão todos eles:\n",
    "\n",
    "    Here are all of them:\n",
    "\n",
    "•\t& (e comercial) - conjunção bitwise;\n",
    "        \n",
    "    •\t& (ampersand) - bitwise conjunction;\n",
    "\n",
    "•\t| (barra) - disjunção bitwise;\n",
    "\n",
    "    •\t| (bar) - bitwise disjunction;\n",
    "\n",
    "•\t~ (til) - negação bitwise;\n",
    "\n",
    "    •\t~ (tilde) - bitwise negation;\n",
    "\n",
    "•\t^ (acento circunflexo) - bitwise exclusive ou (xor).\n",
    "\n",
    "    •\t^ (caret) - bitwise exclusive or (xor)\n"
   ]
  },
  {
   "attachments": {
    "image.png": {
     "image/png": "[encoded data removed]"
    }
   },
   "cell_type": "markdown",
   "metadata": {},
   "source": [
    "![image.png](attachment:image.png)"
   ]
  },
  {
   "attachments": {
    "image.png": {
     "image/png": "[encoded data removed]"
    }
   },
   "cell_type": "markdown",
   "metadata": {},
   "source": [
    "![image.png](attachment:image.png)"
   ]
  },
  {
   "cell_type": "markdown",
   "metadata": {},
   "source": [
    "Vamos facilitar as coisas:\n",
    "\n",
    "    Let's make it easier:\n",
    "\n",
    "•\t& requer exatamente dois 1 para fornecer 1 como resultado;\n",
    "\n",
    "    •\t& requires exactly two 1s to provide 1 as the result;\n",
    "\n",
    "•\t| requer pelo menos um 1 para fornecer 1 como resultado;\n",
    "\n",
    "    •\t| requires at least one 1 to provide 1 as the result;\n",
    "\n",
    "•\t^ requer exatamente um 1 para fornecer 1 como resultado.\n",
    "\n",
    "    •\t^ requires exactly one 1 to provide 1 as the result.\n",
    "\n",
    "Acrescentemos uma observação importante: os argumentos destes operadores devem ser inteiros; não devemos utilizar floats aqui.\n",
    "\n",
    "    Let us add an important remark: the arguments of these operators must be integers; we must not use floats here.\n",
    "\n",
    "A diferença no funcionamento dos operadores lógicos e de bit é importante: os operadores lógicos não penetram no nível de bits do seu argumento. Eles só estão interessados no valor inteiro final.\n",
    "    \n",
    "    The difference in the operation of the logical and bit operators is important: the logical operators do not penetrate into the bit level of its argument. They're only interested in the final integer value.\n",
    "\n",
    "Os operadores bitwise são mais rigorosos: lidam com cada bit separadamente. Se assumirmos que a variável inteira ocupa 64 bits (o que é comum nos sistemas informáticos modernos), podemos imaginar a operação bitwise como uma avaliação de 64 vezes do operador lógico para cada par de bits dos argumentos. Esta analogia é obviamente imperfeita, pois no mundo real todas estas 64 operações são realizadas ao mesmo tempo (simultaneamente).\n",
    "    \n",
    "    Bitwise operators are stricter: they deal with every bit separately. If we assume that the integer variable occupies 64 bits (which is common in modern computer systems), you can imagine the bitwise operation as a 64-fold evaluation of the logical operator for each pair of bits of the arguments. This analogy is obviously imperfect, as in the real world all these 64 operations are performed at the same time (simultaneously)."
   ]
  },
  {
   "cell_type": "code",
   "execution_count": null,
   "metadata": {},
   "outputs": [],
   "source": []
  }
 ],
 "metadata": {
  "kernelspec": {
   "display_name": "Python 3",
   "language": "python",
   "name": "python3"
  },
  "language_info": {
   "codemirror_mode": {
    "name": "ipython",
    "version": 3
   },
   "file_extension": ".py",
   "mimetype": "text/x-python",
   "name": "python",
   "nbconvert_exporter": "python",
   "pygments_lexer": "ipython3",
   "version": "3.7.6"
  }
 },
 "nbformat": 4,
 "nbformat_minor": 4
}
