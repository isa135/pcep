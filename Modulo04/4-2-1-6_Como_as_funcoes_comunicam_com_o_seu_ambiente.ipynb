{
 "cells": [
  {
   "cell_type": "markdown",
   "metadata": {},
   "source": [
    "Mistura de argumentos posicionais e de Keywords\n",
    "    \n",
    "    Mixing positional and keyword arguments\n",
    "\n",
    "Pode misturar ambos os tipos se quiser - há apenas uma regra inquebrável: tem de colocar argumentos posicionais antes de argumentos de keyword.\n",
    "    \n",
    "    You can mix both fashions if you want - there is only one unbreakable rule: you have to put positional arguments before keyword arguments.\n",
    "\n",
    "Se pensar por um momento, certamente adivinhará porquê.\n",
    "    \n",
    "    If you think for a moment, you'll certainly guess why.\n",
    "\n",
    "Para lhe mostrar como funciona, utilizaremos a seguinte função simples de três parâmetros:\n",
    "    \n",
    "    To show you how it works, we'll use the following simple three-parameter function:"
   ]
  },
  {
   "cell_type": "code",
   "execution_count": 1,
   "metadata": {},
   "outputs": [],
   "source": [
    "def adding(a, b, c):\n",
    "    print(a, \"+\", b, \"+\", c, \"=\", a + b + c)\n",
    "\n",
    "# Call the adding function here.\n"
   ]
  },
  {
   "cell_type": "markdown",
   "metadata": {},
   "source": [
    "O seu objetivo é avaliar e apresentar a soma de todos os seus argumentos.\n",
    "    \n",
    "    Its purpose is to evaluate and present the sum of all its arguments.\n",
    "\n",
    "A função, quando invocada da seguinte maneira:\n",
    "    \n",
    "    The function, when invoked in the following way:"
   ]
  },
  {
   "cell_type": "code",
   "execution_count": 2,
   "metadata": {},
   "outputs": [
    {
     "name": "stdout",
     "output_type": "stream",
     "text": [
      "1 + 2 + 3 = 6\n"
     ]
    }
   ],
   "source": [
    "adding(1, 2, 3)"
   ]
  },
  {
   "cell_type": "markdown",
   "metadata": {},
   "source": [
    "Foi - como se pode suspeitar - um puro exemplo de passagem de argumento posicional.\n",
    "    \n",
    "    It was - as you may suspect - a pure example of positional argument passing.\n",
    "\n",
    "É claro que se pode substituir tal invocação por uma variante de keyword pura, como esta:\n",
    "    \n",
    "    Of course, you can replace such an invocation with a purely keyword variant, like this:"
   ]
  },
  {
   "cell_type": "code",
   "execution_count": 3,
   "metadata": {},
   "outputs": [
    {
     "name": "stdout",
     "output_type": "stream",
     "text": [
      "2 + 3 + 1 = 6\n"
     ]
    }
   ],
   "source": [
    "adding(c = 1, a = 2, b = 3)"
   ]
  },
  {
   "cell_type": "markdown",
   "metadata": {},
   "source": [
    "Observe a ordem dos valores.\n",
    "    \n",
    "    Note the order of the values.\n",
    "\n",
    "Vamos tentar misturar ambos os estilos agora.\n",
    "    \n",
    "    Let's try to mix both styles now.\n",
    "\n",
    "Veja a invocação da função abaixo:\n",
    "    \n",
    "    Look at the function invocation below:"
   ]
  },
  {
   "cell_type": "code",
   "execution_count": 4,
   "metadata": {},
   "outputs": [
    {
     "name": "stdout",
     "output_type": "stream",
     "text": [
      "3 + 2 + 1 = 6\n"
     ]
    }
   ],
   "source": [
    "adding(3, c = 1, b = 2)"
   ]
  },
  {
   "cell_type": "markdown",
   "metadata": {},
   "source": [
    "Vamos analisá-la:\n",
    "    \n",
    "    Let's analyze it:\n",
    "\n",
    "•\to argumento (3) para o parâmetro a é passado usando a maneira posicional;\n",
    "    \n",
    "    •\tthe argument (3) for the a parameter is passed using the positional way;\n",
    "\n",
    "•\tos argumentos para c e b são especificados como keywords.\n",
    "\n",
    "    •\tthe arguments for c and b are specified as keyword ones.\n",
    "\n",
    "Tenha cuidado, e atenção aos erros. Se tentar passar mais do que um valor para um argumento, tudo o que obterá será um erro de runtime.\n",
    "    \n",
    "    Be careful, and beware of mistakes. If you try to pass more than one value to one argument, all you'll get is a runtime error.\n",
    "\n",
    "Olhe para a invocação em baixo - parece que tentámos fixar a duas vezes:\n",
    "    \n",
    "    Look at the invocation below - it seems that we've tried to set a twice:"
   ]
  },
  {
   "cell_type": "code",
   "execution_count": 5,
   "metadata": {},
   "outputs": [
    {
     "ename": "TypeError",
     "evalue": "adding() got multiple values for argument 'a'",
     "output_type": "error",
     "traceback": [
      "\u001b[1;31m---------------------------------------------------------------------------\u001b[0m",
      "\u001b[1;31mTypeError\u001b[0m                                 Traceback (most recent call last)",
      "\u001b[1;32m<ipython-input-5-21a8e7d19d07>\u001b[0m in \u001b[0;36m<module>\u001b[1;34m\u001b[0m\n\u001b[1;32m----> 1\u001b[1;33m \u001b[0madding\u001b[0m\u001b[1;33m(\u001b[0m\u001b[1;36m3\u001b[0m\u001b[1;33m,\u001b[0m \u001b[0ma\u001b[0m \u001b[1;33m=\u001b[0m \u001b[1;36m1\u001b[0m\u001b[1;33m,\u001b[0m \u001b[0mb\u001b[0m \u001b[1;33m=\u001b[0m \u001b[1;36m2\u001b[0m\u001b[1;33m)\u001b[0m\u001b[1;33m\u001b[0m\u001b[1;33m\u001b[0m\u001b[0m\n\u001b[0m",
      "\u001b[1;31mTypeError\u001b[0m: adding() got multiple values for argument 'a'"
     ]
    }
   ],
   "source": [
    "adding(3, a = 1, b = 2)"
   ]
  },
  {
   "attachments": {
    "image.png": {
     "image/png": "[encoded data removed]"
    }
   },
   "cell_type": "markdown",
   "metadata": {},
   "source": [
    "A resposta do Python:\n",
    "    \n",
    "    Python's response:\n",
    "\n",
    "![image.png](attachment:image.png)\n",
    "\n",
    "Olhe para o snippet abaixo. Um código como este está totalmente correto, mas não faz muito sentido:\n",
    "    \n",
    "    Look at the snipet below. A code like this is fully correct, but it doesn't make much sense:"
   ]
  },
  {
   "cell_type": "code",
   "execution_count": 6,
   "metadata": {},
   "outputs": [
    {
     "name": "stdout",
     "output_type": "stream",
     "text": [
      "4 + 3 + 2 = 9\n"
     ]
    }
   ],
   "source": [
    "adding(4, 3, c = 2)"
   ]
  },
  {
   "cell_type": "markdown",
   "metadata": {},
   "source": [
    "Tudo está correto, mas deixar apenas uma keyword parece um pouco estranho - o que acha?\n",
    "    \n",
    "    Everything is right, but leaving in just one keyword argument looks a bit weird - what do you think?"
   ]
  },
  {
   "cell_type": "code",
   "execution_count": null,
   "metadata": {},
   "outputs": [],
   "source": []
  }
 ],
 "metadata": {
  "kernelspec": {
   "display_name": "Python 3",
   "language": "python",
   "name": "python3"
  },
  "language_info": {
   "codemirror_mode": {
    "name": "ipython",
    "version": 3
   },
   "file_extension": ".py",
   "mimetype": "text/x-python",
   "name": "python",
   "nbconvert_exporter": "python",
   "pygments_lexer": "ipython3",
   "version": "3.7.6"
  }
 },
 "nbformat": 4,
 "nbformat_minor": 4
}
