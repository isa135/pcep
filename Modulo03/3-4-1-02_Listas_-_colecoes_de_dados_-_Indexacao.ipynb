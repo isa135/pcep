{
 "cells": [
  {
   "cell_type": "markdown",
   "metadata": {},
   "source": [
    "##### Indexar listas\n",
    "    \n",
    "    Indexing lists\n",
    "\n",
    "Como se altera o valor de um elemento escolhido na lista?\n",
    "    \n",
    "    How do you change the value of a chosen element in the list?\n",
    "\n",
    "Vamos atribuir um novo valor de 111 ao primeiro elemento na lista. Fazemo-lo assim:\n",
    "    \n",
    "    Let's assign a new value of 111 to the first element in the list. We do it this way:"
   ]
  },
  {
   "cell_type": "code",
   "execution_count": 1,
   "metadata": {},
   "outputs": [
    {
     "name": "stdout",
     "output_type": "stream",
     "text": [
      "Original list content: [10, 5, 7, 2, 1]\n",
      "New list content:  [111, 5, 7, 2, 1]\n"
     ]
    }
   ],
   "source": [
    "numbers = [10, 5, 7, 2, 1]\n",
    "print(\"Original list content:\", numbers)  # Printing original list content.\n",
    "\n",
    "numbers[0] = 111\n",
    "print(\"New list content: \", numbers)  # Current list content."
   ]
  },
  {
   "cell_type": "markdown",
   "metadata": {},
   "source": [
    "E agora queremos que o valor do quinto elemento seja copiado para o segundo elemento - consegue adivinhar como o fazer?\n",
    "    \n",
    "    And now we want the value of the fifth element to be copied to the second element - can you guess how to do it?\n",
    "\n"
   ]
  },
  {
   "cell_type": "code",
   "execution_count": 3,
   "metadata": {},
   "outputs": [
    {
     "name": "stdout",
     "output_type": "stream",
     "text": [
      "Original list content: [10, 5, 7, 2, 1]\n",
      "\n",
      "Previous list content: [111, 5, 7, 2, 1]\n",
      "New list content: [111, 1, 7, 2, 1]\n"
     ]
    }
   ],
   "source": [
    "numbers = [10, 5, 7, 2, 1]\n",
    "print(\"Original list content:\", numbers)  # Printing original list content.\n",
    "\n",
    "numbers[0] = 111\n",
    "print(\"\\nPrevious list content:\", numbers)  # Printing previous list content.\n",
    "\n",
    "numbers[1] = numbers[4]  # Copying value of the fifth element to the second.\n",
    "print(\"New list content:\", numbers)  # Printing current list content."
   ]
  },
  {
   "cell_type": "markdown",
   "metadata": {},
   "source": [
    "O valor dentro dos parêntesis que seleciona um elemento da lista é chamado um index, enquanto a operação de selecionar um elemento da lista é conhecida como indexing (indexação).\n",
    "    \n",
    "    The value inside the brackets which selects one element of the list is called an index, while the operation of selecting an element from the list is known as indexing.\n",
    "    \n",
    "Vamos utilizar a função print() para imprimir o conteúdo da lista cada vez que fazemos as alterações. Isto ajudar-nos-á a seguir cada passo com mais cuidado e a ver o que se passa após uma determinada modificação da lista.\n",
    "    \n",
    "    We're going to use the print() function to print the list content each time we make the changes. This will help us follow each step more carefully and see what's going on after a particular list modification.\n",
    "    \n",
    "Nota: todos os índices usados até agora são literais. Os seus valores são fixados em runtime, mas qualquer expressão também pode ser o index. Isto oferece muitas possibilidades.\n",
    "    \n",
    "    Note: all the indices used so far are literals. Their values are fixed at runtime, but any expression can be the index, too. This opens up lots of possibilities.\n"
   ]
  },
  {
   "cell_type": "code",
   "execution_count": 4,
   "metadata": {},
   "outputs": [
    {
     "name": "stdout",
     "output_type": "stream",
     "text": [
      "List content: [10, 5, 7, 2, 1]\n"
     ]
    }
   ],
   "source": [
    "numbers = [10, 5, 7, 2, 1]\n",
    "print(\"List content:\", numbers)  # Printing original list content.\n"
   ]
  },
  {
   "cell_type": "code",
   "execution_count": null,
   "metadata": {},
   "outputs": [],
   "source": []
  }
 ],
 "metadata": {
  "kernelspec": {
   "display_name": "Python 3",
   "language": "python",
   "name": "python3"
  },
  "language_info": {
   "codemirror_mode": {
    "name": "ipython",
    "version": 3
   },
   "file_extension": ".py",
   "mimetype": "text/x-python",
   "name": "python",
   "nbconvert_exporter": "python",
   "pygments_lexer": "ipython3",
   "version": "3.7.6"
  }
 },
 "nbformat": 4,
 "nbformat_minor": 4
}
