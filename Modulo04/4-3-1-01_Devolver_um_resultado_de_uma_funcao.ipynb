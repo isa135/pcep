{
 "cells": [
  {
   "cell_type": "markdown",
   "metadata": {},
   "source": [
    "##### Efeitos e resultados: a instrução return .\n",
    "    \n",
    "    Effects and results: the return instruction\n",
    "\n",
    "Todas as funções anteriormente apresentadas têm algum tipo de efeito - produzem algum texto e enviam-no para a consola.\n",
    "    \n",
    "    All the previously presented functions have some kind of effect - they produce some text and send it to the console.\n",
    "    \n",
    "Claro que as funções - tal como os seus irmãos matemáticos - podem ter resultados.\n",
    "    \n",
    "    Of course, functions - like their mathematical siblings - may have results.\n",
    "    \n",
    "Para fazer com que as funções devolvam um valor (mas não apenas para este fim) usa-se a instrução return .\n",
    "\n",
    "    To get functions to return a value (but not only for this purpose) you use the return instruction.\n",
    "    \n",
    "Esta palavra dá-lhe uma imagem completa das suas capacidades. Nota: é uma keyword Python.\n",
    "    \n",
    "    This word gives you a full picture of its capabilities. Note: it's a Python keyword.\n",
    "\n",
    "A instrução return tem duas variantes diferentes - vamos considerá-las separadamente.\n",
    "    \n",
    "    The return instruction has two different variants - let's consider them separately.\n",
    "    \n",
    "##### return sem uma expressão\n",
    "    \n",
    "    return without an expression\n",
    "\n",
    "A primeira consiste na própria keyword, sem nada a seguir.\n",
    "    \n",
    "    The first consists of the keyword itself, without anything following it.\n",
    "    \n",
    "Quando utilizada dentro de uma função, provoca a terminação imediata da execução da função, e uma devolução (em inglês, return) imediata (daí o nome) ao ponto de invocação.\n",
    "    \n",
    "    When used inside a function, it causes the immediate termination of the function's execution, and an instant return (hence the name) to the point of invocation.\n",
    "\n",
    "Nota: se uma função não se destina a produzir um resultado, utilizar a instrução return não é obrigatório - será executada implicitamente no final da função.\n",
    "    \n",
    "    Note: if a function is not intended to produce a result, using the return instruction is not obligatory - it will be executed implicitly at the end of the function.\n",
    "    \n",
    "De qualquer modo, pode utilizá-la para terminar as atividades de uma função a pedido, antes de o controlo chegar à última linha da função.\n",
    "    \n",
    "    Anyway, you can use it to terminate a function's activities on demand, before the control reaches the function's last line.\n",
    "\n",
    "Consideremos a seguinte função:\n",
    "    \n",
    "    Let's consider the following function:"
   ]
  },
  {
   "cell_type": "code",
   "execution_count": 1,
   "metadata": {},
   "outputs": [],
   "source": [
    "def happy_new_year(wishes = True):\n",
    "    print(\"Three...\")\n",
    "    print(\"Two...\")\n",
    "    print(\"One...\")\n",
    "    if not wishes:\n",
    "        return\n",
    "    \n",
    "    print(\"Happy New Year!\")"
   ]
  },
  {
   "cell_type": "markdown",
   "metadata": {},
   "source": [
    "Quando invocada sem argumentos:\n",
    "    \n",
    "    When invoked without any arguments:"
   ]
  },
  {
   "cell_type": "code",
   "execution_count": 4,
   "metadata": {},
   "outputs": [
    {
     "name": "stdout",
     "output_type": "stream",
     "text": [
      "Three...\n",
      "Two...\n",
      "One...\n",
      "Happy New Year!\n"
     ]
    }
   ],
   "source": [
    "happy_new_year()"
   ]
  },
  {
   "attachments": {
    "image.png": {
     "image/png": "[encoded data removed]"
    }
   },
   "cell_type": "markdown",
   "metadata": {},
   "source": [
    "A função causa um pequeno ruído - o output terá este aspeto:\n",
    "    \n",
    "    The function causes a little noise - the output will look like this:\n",
    "\n",
    "![image.png](attachment:image.png)\n",
    "\n",
    "Fornecer False como um argumento:\n",
    "    \n",
    "    Providing False as an argument:"
   ]
  },
  {
   "cell_type": "code",
   "execution_count": 5,
   "metadata": {},
   "outputs": [
    {
     "name": "stdout",
     "output_type": "stream",
     "text": [
      "Three...\n",
      "Two...\n",
      "One...\n"
     ]
    }
   ],
   "source": [
    "happy_new_year(False)"
   ]
  },
  {
   "attachments": {
    "image.png": {
     "image/png": "[encoded data removed]"
    }
   },
   "cell_type": "markdown",
   "metadata": {},
   "source": [
    "irá modificar o comportamento da função - a instrução return causará a sua terminação imediatamente antes dos wishes - este é o resultado atualizado:\n",
    "    \n",
    "    will modify the function's behavior - the return instruction will cause its termination just before the wishes - this is the updated output:\n",
    "    \n",
    "![image.png](attachment:image.png)\n",
    "\n",
    "##### return com uma expressão\n",
    "    \n",
    "    return with an expression\n",
    "\n",
    "A segunda variante return é estendida com uma expressão:\n",
    "    \n",
    "    The second return variant is extended with an expression:"
   ]
  },
  {
   "attachments": {
    "image.png": {
     "image/png": "[encoded data removed]"
    }
   },
   "cell_type": "markdown",
   "metadata": {},
   "source": [
    "![image.png](attachment:image.png)"
   ]
  },
  {
   "cell_type": "markdown",
   "metadata": {},
   "source": [
    "Há duas consequências da sua utilização:\n",
    "    \n",
    "    There are two consequences of using it:\n",
    "    \n",
    "•\tprovoca a terminação imediata da execução da função (nada de novo em comparação com a primeira variante)\n",
    "\n",
    "    •\tit causes the immediate termination of the function's execution (nothing new compared to the first variant)\n",
    "    \n",
    "•\talém disso, a função avaliará o valor da expressão e devolvê-la-á (daí o nome, mais uma vez) como resultado da função.\n",
    "\n",
    "    •\tmoreover, the function will evaluate the expression's value and will return (hence the name once again) it as the function's result.\n",
    "    \n",
    "Sim, nós já sabemos - este exemplo não é realmente sofisticado:\n",
    "    \n",
    "    Yes, we already know - this example isn't really sophisticated:"
   ]
  },
  {
   "cell_type": "code",
   "execution_count": 6,
   "metadata": {},
   "outputs": [
    {
     "name": "stdout",
     "output_type": "stream",
     "text": [
      "The boring_function has returned its result. It's: 123\n"
     ]
    }
   ],
   "source": [
    "def boring_function():\n",
    "    return 123\n",
    "\n",
    "x = boring_function()\n",
    "\n",
    "print(\"The boring_function has returned its result. It's:\", x)"
   ]
  },
  {
   "cell_type": "markdown",
   "metadata": {},
   "source": [
    "Vamos investigá-lo durante algum tempo.\n",
    "    \n",
    "    Let's investigate it for a while.\n",
    "\n",
    "Analise a figura abaixo: \n",
    "    \n",
    "    Analyze the figure below: "
   ]
  },
  {
   "attachments": {
    "image.png": {
     "image/png": "[encoded data removed]"
    }
   },
   "cell_type": "markdown",
   "metadata": {},
   "source": [
    "![image.png](attachment:image.png)"
   ]
  },
  {
   "cell_type": "markdown",
   "metadata": {},
   "source": [
    "A instrução return , enriquecida com a expressão (a expressão é muito simples aqui), \"transporta\" o valor da expressão para o local onde a função foi invocada.\n",
    "    \n",
    "    The return instruction, enriched with the expression (the expression is very simple here), \"transports\" the expression's value to the place where the function has been invoked.\n",
    "\n",
    "O resultado pode ser livremente utilizado aqui, por exemplo, para ser atribuído a uma variável.\n",
    "    \n",
    "    The result may be freely used here, e.g., to be assigned to a variable.\n",
    "    \n",
    "Também pode ser completamente ignorado e perdido sem deixar rasto.\n",
    "    \n",
    "    It may also be completely ignored and lost without a trace.\n",
    "\n",
    "Note, não estamos a ser muito educados aqui - a função devolve um valor, e ignoramo-lo (não o utilizamos de forma alguma):\n",
    "    \n",
    "    Note, we're not being too polite here - the function returns a value, and we ignore it (we don't use it in any way):"
   ]
  },
  {
   "cell_type": "code",
   "execution_count": 7,
   "metadata": {},
   "outputs": [
    {
     "name": "stdout",
     "output_type": "stream",
     "text": [
      "This lesson is interesting!\n",
      "'Boredom Mode' ON.\n",
      "This lesson is boring...\n"
     ]
    }
   ],
   "source": [
    "def boring_function():\n",
    "    print(\"'Boredom Mode' ON.\")\n",
    "    return 123\n",
    "\n",
    "print(\"This lesson is interesting!\")\n",
    "boring_function()\n",
    "print(\"This lesson is boring...\")"
   ]
  },
  {
   "attachments": {
    "image.png": {
     "image/png": "[encoded data removed]"
    }
   },
   "cell_type": "markdown",
   "metadata": {},
   "source": [
    "O programa produz o seguinte output:\n",
    "    \n",
    "    The program produces the following output:\n",
    "\n",
    "\n",
    "![image.png](attachment:image.png)\n",
    "\n",
    "É punível? De modo algum.\n",
    "    \n",
    "    Is it punishable? Not at all.\n",
    "\n",
    "A única desvantagem é que o resultado foi irremediavelmente perdido.\n",
    "    \n",
    "    The only disadvantage is that the result has been irretrievably lost.\n",
    "    \n",
    "Não se esqueça:\n",
    "\n",
    "    Don't forget:\n",
    "\n",
    "•\té-lhe sempre permitido ignorar o resultado da função, e ficar satisfeito com o efeito da função (se a função tiver algum)\n",
    "\n",
    "    •\tyou are always allowed to ignore the function's result, and be satisfied with the function's effect (if the function has any)\n",
    "    \n",
    "•\tse uma função se destina a devolver um resultado útil, deve conter a segunda variante da instrução return .\n",
    "\n",
    "    •\tif a function is intended to return a useful result, it must contain the second variant of the return instruction.\n",
    "\n",
    "Espere um minuto - isto significa que também há resultados inúteis? Sim - de certa forma.\n",
    "    \n",
    "    Wait a minute - does this mean that there are useless results, too? Yes - in some sense."
   ]
  }
 ],
 "metadata": {
  "kernelspec": {
   "display_name": "Python 3",
   "language": "python",
   "name": "python3"
  },
  "language_info": {
   "codemirror_mode": {
    "name": "ipython",
    "version": 3
   },
   "file_extension": ".py",
   "mimetype": "text/x-python",
   "name": "python",
   "nbconvert_exporter": "python",
   "pygments_lexer": "ipython3",
   "version": "3.7.6"
  }
 },
 "nbformat": 4,
 "nbformat_minor": 4
}
