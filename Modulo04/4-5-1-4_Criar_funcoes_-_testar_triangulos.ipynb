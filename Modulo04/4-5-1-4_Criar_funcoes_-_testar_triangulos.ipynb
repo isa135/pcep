{
 "cells": [
  {
   "attachments": {
    "image.png": {
     "image/png": "[encoded data removed]"
    }
   },
   "cell_type": "markdown",
   "metadata": {},
   "source": [
    "Algumas funções simples: triângulos e o teorema de Pitágoras\n",
    "    \n",
    "    Some simple functions: triangles and the Pythagorean theorem\n",
    "\n",
    "Veja o código no editor. Ele pede ao utilizador três valores. Em seguida, faz uso da função is_a_triangle . O código está pronto a ser executado.\n",
    "    \n",
    "    Look at the code in the editor. It asks the user for three values. Then it makes use of the is_a_triangle function. The code is ready to run.\n",
    "\n",
    "No segundo passo, tentaremos assegurar que um certo triângulo é um triângulo de ângulo reto.\n",
    "    \n",
    "    In the second step, we'll try to ensure that a certain triangle is a right-angle triangle.\n",
    "\n",
    "Precisamos de utilizar o teorema de Pitágoras:\n",
    "    \n",
    "    We will need to make use of the Pythagorean theorem:\n",
    "\n",
    "![image.png](attachment:image.png)\n",
    "\n",
    "Como reconhecer qual dos três lados é a hipotenusa?\n",
    "    \n",
    "    How do we recognize which of the three sides is the hypotenuse?\n",
    "\n",
    "A hipotenusa é o lado mais longo.\n",
    "    \n",
    "    The hypotenuse is the longest side.\n",
    "\n",
    "Aqui está o código:\n",
    "    \n",
    "    Here is the code:"
   ]
  },
  {
   "cell_type": "code",
   "execution_count": 2,
   "metadata": {},
   "outputs": [
    {
     "name": "stdout",
     "output_type": "stream",
     "text": [
      "True\n",
      "False\n"
     ]
    }
   ],
   "source": [
    "def is_a_triangle(a, b, c):\n",
    "    return a + b > c and b + c > a and c + a > b\n",
    "def is_a_right_triangle(a, b, c):\n",
    "    if not is_a_triangle(a, b, c):\n",
    "        return False\n",
    "    if c > a and c > b:\n",
    "        return c ** 2 == a ** 2 + b ** 2\n",
    "    if a > b and a > c:\n",
    "        return a ** 2 == b ** 2 + c ** 2\n",
    "print(is_a_right_triangle(5, 3, 4))\n",
    "print(is_a_right_triangle(1, 3, 4))"
   ]
  },
  {
   "cell_type": "markdown",
   "metadata": {},
   "source": [
    "Veja como testamos a relação entre a hipotenusa e os restantes lados - escolhemos o lado mais longo, e aplicamos o teorema de Pitágoras para verificar se tudo está certo. Isto requer três verificações no total.\n",
    "    \n",
    "    Look at how we test the relationship between the hypotenuse and the remaining sides - we choose the longest side, and apply the Pythagorean theorem to check if everything is right. This requires three checks in total.\n"
   ]
  },
  {
   "cell_type": "code",
   "execution_count": 1,
   "metadata": {},
   "outputs": [
    {
     "name": "stdout",
     "output_type": "stream",
     "text": [
      "Enter the first side's length: 2\n",
      "Enter the second side's length: 3\n",
      "Enter the third side's length: 4\n",
      "Yes, it can be a triangle.\n"
     ]
    }
   ],
   "source": [
    "def is_a_triangle(a, b, c):\n",
    "    return a + b > c and b + c > a and c + a > b\n",
    "\n",
    "\n",
    "a = float(input('Enter the first side\\'s length: '))\n",
    "b = float(input('Enter the second side\\'s length: '))\n",
    "c = float(input('Enter the third side\\'s length: '))\n",
    "\n",
    "if is_a_triangle(a, b, c):\n",
    "    print('Yes, it can be a triangle.')\n",
    "else:\n",
    "    print('No, it can\\'t be a triangle.')\n"
   ]
  }
 ],
 "metadata": {
  "kernelspec": {
   "display_name": "Python 3",
   "language": "python",
   "name": "python3"
  },
  "language_info": {
   "codemirror_mode": {
    "name": "ipython",
    "version": 3
   },
   "file_extension": ".py",
   "mimetype": "text/x-python",
   "name": "python",
   "nbconvert_exporter": "python",
   "pygments_lexer": "ipython3",
   "version": "3.7.6"
  }
 },
 "nbformat": 4,
 "nbformat_minor": 4
}
