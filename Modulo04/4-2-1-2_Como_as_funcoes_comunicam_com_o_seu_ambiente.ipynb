{
 "cells": [
  {
   "cell_type": "code",
   "execution_count": 2,
   "metadata": {},
   "outputs": [
    {
     "ename": "TypeError",
     "evalue": "message() missing 1 required positional argument: 'number'",
     "output_type": "error",
     "traceback": [
      "\u001b[1;31m---------------------------------------------------------------------------\u001b[0m",
      "\u001b[1;31mTypeError\u001b[0m                                 Traceback (most recent call last)",
      "\u001b[1;32m<ipython-input-2-c1595f32be4a>\u001b[0m in \u001b[0;36m<module>\u001b[1;34m\u001b[0m\n\u001b[0;32m      2\u001b[0m     \u001b[0mprint\u001b[0m\u001b[1;33m(\u001b[0m\u001b[1;34m\"Enter a number:\"\u001b[0m\u001b[1;33m,\u001b[0m \u001b[0mnumber\u001b[0m\u001b[1;33m)\u001b[0m\u001b[1;33m\u001b[0m\u001b[1;33m\u001b[0m\u001b[0m\n\u001b[0;32m      3\u001b[0m \u001b[1;33m\u001b[0m\u001b[0m\n\u001b[1;32m----> 4\u001b[1;33m \u001b[0mmessage\u001b[0m\u001b[1;33m(\u001b[0m\u001b[1;33m)\u001b[0m\u001b[1;33m\u001b[0m\u001b[1;33m\u001b[0m\u001b[0m\n\u001b[0m",
      "\u001b[1;31mTypeError\u001b[0m: message() missing 1 required positional argument: 'number'"
     ]
    }
   ],
   "source": [
    "def message(number):\n",
    "    print(\"Enter a number:\", number)\n",
    "\n",
    "message()\n"
   ]
  },
  {
   "attachments": {
    "image.png": {
     "image/png": "[encoded data removed]"
    }
   },
   "cell_type": "markdown",
   "metadata": {},
   "source": [
    "##### Funções parametrizadas: continuação\n",
    "    \n",
    "    Parametrized functions: continued\n",
    "\n",
    "Tente executar o código no editor.\n",
    "    \n",
    "    Try to run the code in the editor.\n",
    "\n",
    "Isto é o que verá na consola:\n",
    "    \n",
    "    This is what you'll see in the console:\n",
    "\n",
    "![image.png](attachment:image.png)\n",
    "\n",
    "Isto parece melhor, com certeza:\n",
    "    \n",
    "    This looks better, for sure:"
   ]
  },
  {
   "cell_type": "code",
   "execution_count": 3,
   "metadata": {},
   "outputs": [
    {
     "name": "stdout",
     "output_type": "stream",
     "text": [
      "Enter a number: 1\n"
     ]
    }
   ],
   "source": [
    "def message(number):\n",
    "    print(\"Enter a number:\", number)\n",
    "\n",
    "message(1)"
   ]
  },
  {
   "attachments": {
    "image.png": {
     "image/png": "[encoded data removed]"
    }
   },
   "cell_type": "markdown",
   "metadata": {},
   "source": [
    "Além disso, comporta-se melhor. O código irá produzir o seguinte output:\n",
    "    \n",
    "    Moreover, it behaves better. The code will produce the following output:\n",
    "\n",
    "![image.png](attachment:image.png)\n",
    "\n",
    "Vê como funciona? O valor do argumento utilizado durante a invocação (1) foi passado para a função, definindo o valor inicial do parâmetro chamado number.\n",
    "    \n",
    "    Can you see how it works? The value of the argument used during invocation (1) has been passed into the function, setting the initial value of the parameter named number.\n",
    "    \n",
    "Temos de o tornar sensível a uma circunstância importante.\n",
    "    \n",
    "    We have to make you sensitive to one important circumstance.\n",
    "\n",
    "É válido, e possível, ter uma variável com o mesmo nome que o parâmetro de uma função.\n",
    "    \n",
    "    It's legal, and possible, to have a variable named the same as a function's parameter.\n",
    "\n",
    "O snippet ilustra o fenómeno:\n",
    "    \n",
    "    The snippet illustrates the phenomenon:"
   ]
  },
  {
   "cell_type": "code",
   "execution_count": 4,
   "metadata": {},
   "outputs": [
    {
     "name": "stdout",
     "output_type": "stream",
     "text": [
      "Enter a number: 1\n",
      "1234\n"
     ]
    }
   ],
   "source": [
    "def message(number):\n",
    "    print(\"Enter a number:\", number)\n",
    "\n",
    "number = 1234\n",
    "message(1)\n",
    "print(number)"
   ]
  },
  {
   "attachments": {
    "image.png": {
     "image/png": "[encoded data removed]"
    }
   },
   "cell_type": "markdown",
   "metadata": {},
   "source": [
    "Uma situação como esta ativa um mecanismo chamado sombreamento:\n",
    "    \n",
    "    A situation like this activates a mechanism called shadowing:\n",
    "    \n",
    "•\tparâmetro x sombreia qualquer variável do mesmo nome, mas...\n",
    "    \n",
    "    •\tparameter x shadows any variable of the same name, but...\n",
    "    \n",
    "•\t... apenas dentro da função que define o parâmetro.\n",
    "\n",
    "    •\t... only inside the function defining the parameter.\n",
    "    \n",
    "O parâmetro chamado number é uma entidade completamente diferente da variável chamada number.\n",
    "    \n",
    "    The parameter named number is a completely different entity from the variable named number.\n",
    "    \n",
    "Isto significa que o snippet acima irá produzir o seguinte output:\n",
    "    \n",
    "    This means that the snippet above will produce the following output:\n",
    "\n",
    "![image.png](attachment:image.png)"
   ]
  },
  {
   "cell_type": "code",
   "execution_count": null,
   "metadata": {},
   "outputs": [],
   "source": []
  }
 ],
 "metadata": {
  "kernelspec": {
   "display_name": "Python 3",
   "language": "python",
   "name": "python3"
  },
  "language_info": {
   "codemirror_mode": {
    "name": "ipython",
    "version": 3
   },
   "file_extension": ".py",
   "mimetype": "text/x-python",
   "name": "python",
   "nbconvert_exporter": "python",
   "pygments_lexer": "ipython3",
   "version": "3.7.6"
  }
 },
 "nbformat": 4,
 "nbformat_minor": 4
}
