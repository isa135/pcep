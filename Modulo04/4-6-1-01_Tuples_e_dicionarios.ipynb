{
 "cells": [
  {
   "cell_type": "markdown",
   "metadata": {},
   "source": [
    "##### Tipos de sequência e mutabilidade\n",
    "\n",
    "    Sequence types and mutability\n",
    "\n",
    "Antes de começarmos a falar sobre tuples e dicionários, temos de introduzir dois conceitos importantes: tipos de sequência e mutabilidade.\n",
    "    \n",
    "    Before we start talking about tuples and dictionaries, we have to introduce two important concepts: sequence types and mutability.\n",
    "\n",
    "Um tipo de sequência é um tipo de dados em Python que é capaz de armazenar mais de um valor (ou menos de um, pois uma sequência pode estar vazia), e estes valores podem ser pesquisados sequencialmente (daí o nome), elemento a elemento.\n",
    "\n",
    "    A sequence type is a type of data in Python which is able to store more than one value (or less than one, as a sequence may be empty), and these values can be sequentially (hence the name) browsed, element by element.\n",
    "    \n",
    "Como o loop for é uma ferramenta especialmente concebida para iterar através de sequências, podemos expressar a definição como: uma sequência é um dado que pode ser analisado pelo loop for .\n",
    "    \n",
    "    As the for loop is a tool especially designed to iterate through sequences, we can express the definition as: a sequence is data which can be scanned by the for loop.\n",
    "    \n",
    "Até agora encontrou uma sequência Python - a lista. A lista é um exemplo clássico de uma sequência Python, embora existam outras sequências que vale a pena mencionar, e vamos agora apresentar-lhas.\n",
    "\n",
    "    You've encountered one Python sequence so far - the list. The list is a classic example of a Python sequence, although there are some other sequences worth mentioning, and we're going to present them to you now.\n",
    "\n",
    "A segunda noção - a mutabilidade - é uma propriedade de qualquer dado Python que descreve a sua disponibilidade para ser livremente alterado durante a execução do programa. Existem dois tipos de dados Python: mutáveis e imutáveis.\n",
    "\n",
    "    The second notion - mutability - is a property of any of Python's data that describes its readiness to be freely changed during program execution. There are two kinds of Python data: mutable and immutable.\n",
    "\n",
    "Os dados mutáveis podem ser atualizados livremente a qualquer momento - chamamos esta operação in situ.\n",
    "\n",
    "    Mutable data can be freely updated at any time - we call such an operation in situ.\n",
    "    \n",
    "In situ é uma frase em latim que se traduz literalmente para no local. Por exemplo, a instrução a seguir modifica os dados in situ:\n",
    "    \n",
    "    In situ is a Latin phrase that translates as literally in position. For example, the following instruction modifies the data in situ:\n",
    "\n",
    "list.append(1)\n",
    "\n",
    "Dados imutáveis não podem ser modificados desta maneira.\n",
    "    \n",
    "    Immutable data cannot be modified in this way.\n",
    "\n",
    "Imagine que uma lista só pode ser atribuída e lida. Não seria possível anexar-lhe um elemento, nem remover qualquer elemento da mesma. Isto significa que anexar um elemento ao fim da lista exigiria a recriação da lista a partir do zero.\n",
    "    \n",
    "    Imagine that a list can only be assigned and read over. You would be able neither to append an element to it, nor remove any element from it. This means that appending an element to the end of the list would require the recreation of the list from scratch.\n",
    "\n",
    "Teria de construir uma lista completamente nova, constituída por todos os elementos da lista já existente, mais o novo elemento.\n",
    "    \n",
    "    You would have to build a completely new list, consisting of the all elements of the already existing list, plus the new element.\n",
    "\n",
    "O tipo de dados de que lhe queremos falar agora é um tuple. Um tuple é um tipo de sequência imutável. Pode comportar-se como uma lista, mas não deve ser modificado in situ.\n",
    "\n",
    "    The data type we want to tell you about now is a tuple. A tuple is an immutable sequence type. It can behave like a list, but it mustn't be modified in situ.\n",
    "\n",
    "##### O que é um tuple?\n",
    "    \n",
    "    What is a tuple?\n",
    "A primeira e mais clara distinção entre listas e tuples é a sintaxe utilizada para as criar - os tuples preferem usar parêntesis curvos, enquanto as listas gostam de ver parêntesis retos, embora também seja possível criar um tuple a partir de um conjunto de valores separados por vírgulas.\n",
    "    \n",
    "    The first and the clearest distinction between lists and tuples is the syntax used to create them - tuples prefer to use parenthesis, whereas lists like to see brackets, although it's also possible to create a tuple just from a set of values separated by commas.\n",
    "\n",
    "Veja o exemplo:\n",
    "\n",
    "    Look at the example:"
   ]
  },
  {
   "cell_type": "code",
   "execution_count": 1,
   "metadata": {},
   "outputs": [],
   "source": [
    "tuple_1 = (1, 2, 4, 8)\n",
    "tuple_2 = 1., .5, .25, .125"
   ]
  },
  {
   "cell_type": "markdown",
   "metadata": {},
   "source": [
    "Existem dois tuples, ambos contendo quatro elementos.\n",
    "    \n",
    "    There are two tuples, both containing four elements.\n",
    "\n",
    "Vamos imprimi-los:\n",
    "    \n",
    "    Let's print them:"
   ]
  },
  {
   "cell_type": "code",
   "execution_count": 2,
   "metadata": {},
   "outputs": [
    {
     "name": "stdout",
     "output_type": "stream",
     "text": [
      "(1, 2, 4, 8)\n",
      "(1.0, 0.5, 0.25, 0.125)\n"
     ]
    }
   ],
   "source": [
    "print(tuple_1)\n",
    "print(tuple_2)"
   ]
  },
  {
   "cell_type": "markdown",
   "metadata": {},
   "source": [
    "Nota: cada elemento tuple pode ser de um tipo diferente (floating-point, inteiro, ou qualquer outro tipo de dados ainda não introduzidos).\n",
    "\n",
    "    Note: each tuple element may be of a different type (floating-point, integer, or any other not-as-yet-introduced kind of data).\n",
    "\n",
    "Como criar um tuple?\n",
    "    \n",
    "    How to create a tuple?\n",
    "\n",
    "É possível criar um tuple vazio - são necessários então parêntesis:\n",
    "    \n",
    "    It is possible to create an empty tuple - parentheses are required then:"
   ]
  },
  {
   "cell_type": "code",
   "execution_count": 3,
   "metadata": {},
   "outputs": [
    {
     "name": "stdout",
     "output_type": "stream",
     "text": [
      "()\n"
     ]
    }
   ],
   "source": [
    "empty_tuple = ()\n",
    "print(empty_tuple)"
   ]
  },
  {
   "cell_type": "markdown",
   "metadata": {},
   "source": [
    "Se quiser criar um tuple de um elemento, tem de ter em consideração o facto de que, devido a razões de sintaxe (um tuple tem de ser distinguível de um valor comum e único), tem de terminar o valor com uma vírgula:\n",
    "    \n",
    "    If you want to create a one-element tuple, you have to take into consideration the fact that, due to syntax reasons (a tuple has to be distinguishable from an ordinary, single value), you must end the value with a comma:"
   ]
  },
  {
   "cell_type": "code",
   "execution_count": 10,
   "metadata": {},
   "outputs": [
    {
     "name": "stdout",
     "output_type": "stream",
     "text": [
      "<class 'tuple'>\n",
      "(1.0,)\n"
     ]
    }
   ],
   "source": [
    "one_element_tuple_1 = (1, )\n",
    "one_element_tuple_2 = 1.,\n",
    "\n",
    "print(type(one_element_tuple_1))\n",
    "print(one_element_tuple_2)"
   ]
  },
  {
   "cell_type": "markdown",
   "metadata": {},
   "source": [
    "A remoção das vírgulas não estragará o programa em nenhum sentido sintático, mas em vez disso obterá duas variáveis únicas, não tuples.\n",
    "    \n",
    "    Removing the commas won't spoil the program in any syntactical sense, but you will instead get two single variables, not tuples.\n"
   ]
  },
  {
   "cell_type": "code",
   "execution_count": null,
   "metadata": {},
   "outputs": [],
   "source": []
  }
 ],
 "metadata": {
  "kernelspec": {
   "display_name": "Python 3",
   "language": "python",
   "name": "python3"
  },
  "language_info": {
   "codemirror_mode": {
    "name": "ipython",
    "version": 3
   },
   "file_extension": ".py",
   "mimetype": "text/x-python",
   "name": "python",
   "nbconvert_exporter": "python",
   "pygments_lexer": "ipython3",
   "version": "3.7.6"
  }
 },
 "nbformat": 4,
 "nbformat_minor": 4
}
