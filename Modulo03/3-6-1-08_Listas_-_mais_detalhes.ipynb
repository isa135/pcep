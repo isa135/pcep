{
 "cells": [
  {
   "cell_type": "markdown",
   "metadata": {},
   "source": [
    "##### Listas - alguns programas simples\n",
    "    \n",
    "    Lists - some simple programs\n",
    "\n",
    "Agora vamos encontrar a localização de um dado elemento dentro de uma lista:\n",
    "    \n",
    "    Now let's find the location of a given element inside a list:"
   ]
  },
  {
   "cell_type": "code",
   "execution_count": 1,
   "metadata": {},
   "outputs": [
    {
     "name": "stdout",
     "output_type": "stream",
     "text": [
      "Element found at index 4\n"
     ]
    }
   ],
   "source": [
    "my_list = [1, 2, 3, 4, 5, 6, 7, 8, 9, 10]\n",
    "to_find = 5\n",
    "found = False\n",
    "\n",
    "for i in range(len(my_list)):\n",
    "    found = my_list[i] == to_find\n",
    "    if found:\n",
    "        break\n",
    "\n",
    "if found:\n",
    "    print(\"Element found at index\", i)\n",
    "else:\n",
    "    print(\"absent\")"
   ]
  },
  {
   "cell_type": "markdown",
   "metadata": {},
   "source": [
    "Nota:\n",
    "\n",
    "•\to valor alvo é armazenado na variável to_find ;\n",
    "\n",
    "    •\tthe target value is stored in the to_find variable;\n",
    "    \n",
    "•\to estado atual da pesquisa é armazenado na variável found (True/False)\n",
    "\n",
    "    •\tthe current status of the search is stored in the found variable (True/False)\n",
    "\n",
    "•\tquando found se torna True, o loop for é saído.\n",
    "\n",
    "    •\twhen found becomes True, the for loop is exited.\n",
    "    \n",
    "Vamos supor que escolheu os seguintes números na lotaria: 3, 7, 11, 42, 34, 49.\n",
    "    \n",
    "    Let's assume that you've chosen the following numbers in the lottery: 3, 7, 11, 42, 34, 49.\n",
    "\n",
    "Os números que foram sorteados são: 5, 11, 9, 42, 3, 49.\n",
    "    \n",
    "    The numbers that have been drawn are: 5, 11, 9, 42, 3, 49.\n",
    "\n",
    "A questão é: em quantos números é que acertou?\n",
    "    \n",
    "    The question is: how many numbers have you hit?\n",
    "\n",
    "O programa dará a resposta:\n",
    "    \n",
    "    The program will give you the answer:"
   ]
  },
  {
   "cell_type": "code",
   "execution_count": 2,
   "metadata": {},
   "outputs": [
    {
     "name": "stdout",
     "output_type": "stream",
     "text": [
      "4\n"
     ]
    }
   ],
   "source": [
    "drawn = [5, 11, 9, 42, 3, 49]\n",
    "bets = [3, 7, 11, 42, 34, 49]\n",
    "hits = 0\n",
    "\n",
    "for number in bets:\n",
    "    if number in drawn:\n",
    "        hits += 1\n",
    "\n",
    "print(hits)"
   ]
  },
  {
   "cell_type": "markdown",
   "metadata": {},
   "source": [
    "Nota:\n",
    "\n",
    "•\ta keyword drawn armazena todos os números sorteados;\n",
    "\n",
    "    •\tthe drawn list stores all the drawn numbers;\n",
    "\n",
    "•\ta lista bets armazena as suas apostas;\n",
    "    \n",
    "    •\tthe bets list stores your bets;\n",
    "\n",
    "•\ta variável hits conta os seus êxitos.\n",
    "\n",
    "    •\tthe hits variable counts your hits.\n",
    "\n",
    "O output do programa é: 4.\n",
    "\n",
    "    The program output is: 4."
   ]
  },
  {
   "cell_type": "code",
   "execution_count": null,
   "metadata": {},
   "outputs": [],
   "source": []
  }
 ],
 "metadata": {
  "kernelspec": {
   "display_name": "Python 3",
   "language": "python",
   "name": "python3"
  },
  "language_info": {
   "codemirror_mode": {
    "name": "ipython",
    "version": 3
   },
   "file_extension": ".py",
   "mimetype": "text/x-python",
   "name": "python",
   "nbconvert_exporter": "python",
   "pygments_lexer": "ipython3",
   "version": "3.7.6"
  }
 },
 "nbformat": 4,
 "nbformat_minor": 4
}
