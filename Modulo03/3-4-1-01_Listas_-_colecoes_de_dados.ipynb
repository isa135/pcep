{
 "cells": [
  {
   "attachments": {
    "image.png": {
     "image/png": "[encoded data removed]"
    }
   },
   "cell_type": "markdown",
   "metadata": {},
   "source": [
    "##### Porque precisamos de listas?\n",
    "\n",
    "    Why do we need lists?\n",
    "\n",
    "Pode acontecer que tenha de ler, armazenar, processar e, finalmente, imprimir dezenas, talvez centenas, talvez até milhares de números. E então, o quê? É necessário criar uma variável em separado para cada valor? É necessário passar várias horas a escrever declarações como as abaixo?\n",
    "    \n",
    "    It may happen that you have to read, store, process, and finally, print dozens, maybe hundreds, perhaps even thousands of numbers. What then? Do you need to create a separate variable for each value? Will you have to spend long hours writing statements like the one below?\n",
    "    \n",
    "![image.png](attachment:image.png)"
   ]
  },
  {
   "cell_type": "markdown",
   "metadata": {},
   "source": [
    "Se pensa que esta não é uma tarefa complicada, então pegue num pedaço de papel e escreva um programa que:\n",
    "\n",
    "    If you don't think that this is a complicated task, then take a piece of paper and write a program that:\n",
    "\n",
    "•\tleia cinco números,\n",
    "\n",
    "    •\treads five numbers,\n",
    "\n",
    "•\tque os imprima por ordem do menor ao maior (este tipo de processamento chama-se triagem).\n",
    "\n",
    "    •\tprints them in order from the smallest to the largest (NB, this kind of processing is called sorting).\n",
    "\n",
    "Deve chegar à conclusão de que não tem sequer papel suficiente para completar a tarefa.\n",
    "    \n",
    "    You should find that you don't even have enough paper to complete the task.\n",
    "\n",
    "Até agora, aprendeu a declarar variáveis que são capazes de armazenar exatamente um determinado valor de cada vez. Tais variáveis são por vezes chamadas escalares, por analogia com a matemática. Todas as variáveis que utilizou até agora são, na verdade, escalares.\n",
    "    \n",
    "    So far, you've learned how to declare variables that are able to store exactly one given value at a time. Such variables are sometimes called scalars by analogy with mathematics. All the variables you've used so far are actually scalars.\n",
    "\n",
    "Pense no quão conveniente seria declarar uma variável que pudesse armazenar mais do que um valor. Por exemplo, cem, ou mil, ou até dez mil. Seria ainda uma e a mesma variável, mas muito ampla e espaçosa. Parece apelativa? Talvez, mas como lidaria com um recipiente cheio de valores diferentes? Como escolheria apenas aquele de que necessita?\n",
    "\n",
    "    Think of how convenient it would be to declare a variable that could store more than one value. For example, a hundred, or a thousand or even ten thousand. It would still be one and the same variable, but very wide and capacious. Sounds appealing? Perhaps, but how would it handle such a container full of different values? How would it choose just the one you need?\n",
    "\n",
    "E se pudesse simplesmente numerá-los? E depois dizer: dá-me o valor número 2; atribui o valor número 15; aumenta o valor número 10000.\n",
    "    \n",
    "    What if you could just number them? And then say: give me the value number 2; assign the value number 15; increase the value number 10000.\n",
    "\n",
    "Vamos mostrar-lhe como declarar tais variáveis multi-valores. Vamos fazer isto com o exemplo que acabámos de sugerir. Vamos escrever um programa que ordena uma sequência de números. Não seremos particularmente ambiciosos - vamos assumir que existem exatamente cinco números.\n",
    "    \n",
    "    We'll show you how to declare such multi-value variables. We'll do this with the example we just suggested. We'll write a program that sorts a sequence of numbers. We won't be particularly ambitious - we'll assume that there are exactly five numbers.\n",
    "\n",
    "Vamos criar uma variável chamada numbers; é atribuída não apenas com um número, mas é preenchida com uma lista constituída por cinco valores (nota: a lista começa com um parêntesis reto aberto e termina com um parêntesis reto fechado; o espaço entre os parêntesis é preenchido com cinco números separados por vírgulas).\n",
    "    \n",
    "    Let's create a variable called numbers; it's assigned with not just one number, but is filled with a list consisting of five values (note: the list starts with an open square bracket and ends with a closed square bracket; the space between the brackets is filled with five numbers separated by commas)."
   ]
  },
  {
   "cell_type": "code",
   "execution_count": 1,
   "metadata": {},
   "outputs": [],
   "source": [
    "numbers = [10, 5, 7, 2, 1]"
   ]
  },
  {
   "cell_type": "markdown",
   "metadata": {},
   "source": [
    "Digamos a mesma coisa usando terminologia adequada: numbers é uma lista constituída por cinco valores, todos eles números. Podemos também dizer que esta declaração cria uma lista de comprimento igual a cinco (visto existir cinco elementos no seu interior).\n",
    "    \n",
    "    Let's say the same thing using adequate terminology: numbers is a list consisting of five values, all of them numbers. We can also say that this statement creates a list of length equal to five (as in there are five elements inside it).\n",
    "\n",
    "Os elementos dentro de uma lista podem ter tipos diferentes. Alguns deles podem ser inteiros, outros floats, e outros ainda podem ser listas.\n",
    "    \n",
    "    The elements inside a list may have different types. Some of them may be integers, others floats, and yet others may be lists.\n",
    "\n",
    "O Python adotou uma convenção, afirmando que os elementos numa lista são sempre numerados a partir do zero. Isto significa que o artigo armazenado no início da lista terá o número zero. Uma vez que existem cinco elementos na nossa lista, ao último deles é atribuído o número quatro. Não esqueça isto.\n",
    "    \n",
    "    Python has adopted a convention stating that the elements in a list are always numbered starting from zero. This means that the item stored at the beginning of the list will have the number zero. Since there are five elements in our list, the last of them is assigned the number four. Don't forget this.\n",
    "\n",
    "Rapidamente se acostumará a isto, e tornar-se-á uma segunda natureza.\n",
    "    \n",
    "    You'll soon get used to it, and it'll become second nature.\n",
    "    \n",
    "Antes de avançarmos na nossa discussão, temos de referir o seguinte: a nossa lista é uma coleção de elementos, mas cada elemento é um escalar.\n",
    "    \n",
    "    Before we go any further in our discussion, we have to state the following: our list is a collection of elements, but each element is a scalar.\n"
   ]
  },
  {
   "cell_type": "code",
   "execution_count": null,
   "metadata": {},
   "outputs": [],
   "source": []
  }
 ],
 "metadata": {
  "kernelspec": {
   "display_name": "Python 3",
   "language": "python",
   "name": "python3"
  },
  "language_info": {
   "codemirror_mode": {
    "name": "ipython",
    "version": 3
   },
   "file_extension": ".py",
   "mimetype": "text/x-python",
   "name": "python",
   "nbconvert_exporter": "python",
   "pygments_lexer": "ipython3",
   "version": "3.7.6"
  }
 },
 "nbformat": 4,
 "nbformat_minor": 4
}
