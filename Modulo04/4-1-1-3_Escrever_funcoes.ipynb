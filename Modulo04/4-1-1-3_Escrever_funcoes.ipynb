{
 "cells": [
  {
   "cell_type": "markdown",
   "metadata": {},
   "source": [
    "##### A sua primeira função\n",
    "    \n",
    "    Your first function\n",
    "\n",
    "Veja o snippet no editor.\n",
    "    \n",
    "    Take a look at the snippet in the editor.\n",
    "\n",
    "É bastante simples, mas queremos apenas que seja um exemplo de transformação de uma parte repetida de um código numa função.\n",
    "    \n",
    "    It's rather simple, but we only want it to be an example of transforming a repeating part of a code into a function.\n",
    "    \n",
    "As mensagens enviadas para o console pela função print() são sempre as mesmas. Claro que não há nada de muito mau num código destes, mas tente imaginar o que teria de fazer se o seu chefe lhe pedisse para alterar a mensagem para a tornar mais educada, por exemplo, para a iniciar com a frase \"Please,\".\n",
    "    \n",
    "    The messages sent to the console by the print() function are always the same. Of course, there's nothing really bad in such a code, but try to imagine what you would have to do if your boss asked you to change the message to make it more polite, e.g., to start it with the phrase \"Please,\".\n",
    "    ]\n",
    "Parece que teria de passar algum tempo a alterar todas as ocorrências da mensagem (utilizaria uma área de transferência, claro, mas isso não facilitaria muito a sua vida). É óbvio que provavelmente cometeria alguns erros durante o processo de emenda, e você (e o seu chefe) ficariam um pouco frustrados.\n",
    "    \n",
    "    It seems that you'd have to spend some time changing all the occurrences of the message (you'd use a clipboard, of course, but it wouldn't make your life much easier). It's obvious that you'd probably make some mistakes during the amendment process, and you (and your boss) would get a bit frustrated.\n",
    "    \n",
    "É possível separar uma parte do código que pode ser repetida, nomeá-la e torná-la reutilizável? Significaria que uma mudança feita uma vez num só local seria propagada a todos os locais onde é utilizada.\n",
    "\n",
    "    Is it possible to separate such a repeatable part of the code, name it and make it reusable? It would mean that a change made once in one place would be propagated to all the places where it's used.\n",
    "    \n",
    "É claro que tal código só deve funcionar quando é explicitamente lançado.\n",
    "    \n",
    "    Of course, such a code should work only when it's explicitly launched.\n",
    "\n",
    "Sim, é possível. É exatamente para isto que servem as funções.\n",
    "    \n",
    "    Yes, it's possible. This is exactly what functions are for."
   ]
  },
  {
   "cell_type": "code",
   "execution_count": 1,
   "metadata": {},
   "outputs": [
    {
     "name": "stdout",
     "output_type": "stream",
     "text": [
      "Enter a value: \n",
      "2\n",
      "Enter a value: \n",
      "3\n",
      "Enter a value: \n",
      "4\n"
     ]
    }
   ],
   "source": [
    "print(\"Enter a value: \")\n",
    "a = int(input())\n",
    "\n",
    "print(\"Enter a value: \")\n",
    "b = int(input())\n",
    "\n",
    "print(\"Enter a value: \")\n",
    "c = int(input())\n"
   ]
  },
  {
   "cell_type": "code",
   "execution_count": null,
   "metadata": {},
   "outputs": [],
   "source": []
  }
 ],
 "metadata": {
  "kernelspec": {
   "display_name": "Python 3",
   "language": "python",
   "name": "python3"
  },
  "language_info": {
   "codemirror_mode": {
    "name": "ipython",
    "version": 3
   },
   "file_extension": ".py",
   "mimetype": "text/x-python",
   "name": "python",
   "nbconvert_exporter": "python",
   "pygments_lexer": "ipython3",
   "version": "3.7.6"
  }
 },
 "nbformat": 4,
 "nbformat_minor": 4
}
