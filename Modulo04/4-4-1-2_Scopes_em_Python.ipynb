{
 "cells": [
  {
   "cell_type": "markdown",
   "metadata": {},
   "source": [
    "##### Funções e scopes: continuação\n",
    "\n",
    "    Functions and scopes: continued\n",
    "\n",
    "Vamos começar por verificar se uma variável criada fora de qualquer função é ou não visível dentro das funções. Por outras palavras, o nome de uma variável propaga-se no corpo de uma função?\n",
    "    \n",
    "    Let's start by checking whether or not a variable created outside any function is visible inside the functions. In other words, does a variable's name propagate into a function's body?\n",
    "\n",
    "Veja o código no editor. A nossa cobaia está lá.\n",
    "    \n",
    "    Look at the code in the editor. Our guinea pig is there."
   ]
  },
  {
   "cell_type": "code",
   "execution_count": 1,
   "metadata": {},
   "outputs": [
    {
     "name": "stdout",
     "output_type": "stream",
     "text": [
      "Do I know that variable? 1\n",
      "1\n"
     ]
    }
   ],
   "source": [
    "def my_function():\n",
    "    print(\"Do I know that variable?\", var)\n",
    "\n",
    "\n",
    "var = 1\n",
    "my_function()\n",
    "print(var)\n"
   ]
  },
  {
   "cell_type": "markdown",
   "metadata": {},
   "source": [
    "A resposta é: uma variável existente fora de uma função tem um scope dentro dos corpos das funções.\n",
    "    \n",
    "    The answer is: a variable existing outside a function has a scope inside the functions' bodies.\n",
    "    \n",
    "Esta regra tem uma exceção muito importante. Vamos tentar encontrá-la.\n",
    "    \n",
    "    This rule has a very important exception. Let's try to find it.\n",
    "    \n",
    "Vamos fazer uma pequena alteração no código:\n",
    "    \n",
    "    Let's make a small change to the code:"
   ]
  },
  {
   "cell_type": "code",
   "execution_count": 2,
   "metadata": {},
   "outputs": [
    {
     "name": "stdout",
     "output_type": "stream",
     "text": [
      "Do I know that variable? 2\n",
      "1\n"
     ]
    }
   ],
   "source": [
    "def my_function():\n",
    "    var = 2\n",
    "    print(\"Do I know that variable?\", var)\n",
    "\n",
    "var = 1\n",
    "my_function()\n",
    "print(var)"
   ]
  },
  {
   "cell_type": "markdown",
   "metadata": {},
   "source": [
    "O resultado também mudou - o código produz um output ligeiramente diferente agora:\n",
    "    \n",
    "    The result has changed, too - the code produces a slightly different output now:\n",
    "\n",
    "O que aconteceu?\n",
    "\n",
    "    What's happened?\n",
    "    \n",
    "•\ta variável var criada dentro da função não é a mesmo que quando definida fora dela - parece que existem duas variáveis diferentes com o mesmo nome;\n",
    "\n",
    "    •\tthe var variable created inside the function is not the same as when defined outside it - it seems that there two different variables of the same name;\n",
    "\n",
    "•\talém disso, a variável da função sombreia a variável proveniente do mundo exterior.\n",
    "\n",
    "    •\tmoreover, the function's variable shadows the variable coming from the outside world.\n",
    "\n",
    "Podemos tornar a regra anterior mais precisa e adequada:\n",
    "    \n",
    "    We can make the previous rule more precise and adequate:\n",
    "\n",
    "Uma variável existente fora de uma função tem um scope dentro dos corpos das funções, excluindo aqueles que definem uma variável com o mesmo nome.\n",
    "    \n",
    "    A variable existing outside a function has a scope inside the functions' bodies, excluding those of them which define a variable of the same name.\n",
    "\n",
    "Isto também significa que o scope de uma variável existente fora de uma função só é suportado quando se obtém o seu valor (reading). Atribuir um valor força a criação da própria variável da função.\n",
    "    \n",
    "    It also means that the scope of a variable existing outside a function is supported only when getting its value (reading). Assigning a value forces the creation of the function's own variable.\n",
    "\n",
    "Certifique-se de que entende bem isto e realize as suas próprias experiências.\n",
    "    \n",
    "    Make sure you understand this well and carry out your own experiments."
   ]
  },
  {
   "cell_type": "code",
   "execution_count": null,
   "metadata": {},
   "outputs": [],
   "source": []
  },
  {
   "cell_type": "code",
   "execution_count": null,
   "metadata": {},
   "outputs": [],
   "source": []
  },
  {
   "cell_type": "code",
   "execution_count": null,
   "metadata": {},
   "outputs": [],
   "source": []
  },
  {
   "cell_type": "code",
   "execution_count": null,
   "metadata": {},
   "outputs": [],
   "source": []
  }
 ],
 "metadata": {
  "kernelspec": {
   "display_name": "Python 3",
   "language": "python",
   "name": "python3"
  },
  "language_info": {
   "codemirror_mode": {
    "name": "ipython",
    "version": 3
   },
   "file_extension": ".py",
   "mimetype": "text/x-python",
   "name": "python",
   "nbconvert_exporter": "python",
   "pygments_lexer": "ipython3",
   "version": "3.7.6"
  }
 },
 "nbformat": 4,
 "nbformat_minor": 4
}
